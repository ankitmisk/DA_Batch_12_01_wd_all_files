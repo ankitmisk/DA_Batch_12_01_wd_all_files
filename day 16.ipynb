{
 "cells": [
  {
   "cell_type": "code",
   "execution_count": 1,
   "id": "d964ba78",
   "metadata": {},
   "outputs": [],
   "source": [
    "# feature Engineering\n",
    "# / Feature Scalling"
   ]
  },
  {
   "cell_type": "code",
   "execution_count": 2,
   "id": "0a9d2b53",
   "metadata": {},
   "outputs": [],
   "source": [
    "# DA:- Data Preprocess:- EDA:_ Report;_\n",
    "# ML:- Prediction\n",
    "    \n",
    "# X data :- Features/ Independent data\n",
    "# Y data :- target variable:- Dependent data"
   ]
  },
  {
   "cell_type": "code",
   "execution_count": 3,
   "id": "356af8ea",
   "metadata": {},
   "outputs": [],
   "source": [
    "# Banglore House price predict"
   ]
  },
  {
   "cell_type": "code",
   "execution_count": 4,
   "id": "ab253dcd",
   "metadata": {},
   "outputs": [],
   "source": [
    "# X data:\n",
    "# Bedrooms:-\n",
    "# Bathrooms\n",
    "# Area in sqft\n",
    "# Locality/Floor\n",
    "# Furnished status\n",
    "# age in years\n",
    "\n",
    "# Y data: target\n",
    "# House/Flat Price\n"
   ]
  },
  {
   "cell_type": "code",
   "execution_count": 5,
   "id": "91e0703d",
   "metadata": {},
   "outputs": [],
   "source": [
    "# ML:- Numerical: data:- \n",
    "# textual Data:- # feature Engineering\n",
    "# Outliers detection:- False data points\n"
   ]
  },
  {
   "cell_type": "code",
   "execution_count": 6,
   "id": "3f3565f6",
   "metadata": {},
   "outputs": [],
   "source": [
    "# Textual Data:- Numerical data:- ML:- input\n",
    "# Not imp columns:- drop\n",
    "# Feature to feature corelation\n",
    "# Feature Scaling:- to reduce all features at same scale"
   ]
  },
  {
   "cell_type": "code",
   "execution_count": 7,
   "id": "032fc299",
   "metadata": {},
   "outputs": [
    {
     "data": {
      "text/plain": [
       "0.0004"
      ]
     },
     "execution_count": 7,
     "metadata": {},
     "output_type": "execute_result"
    }
   ],
   "source": [
    "0.02*0.02"
   ]
  },
  {
   "cell_type": "code",
   "execution_count": 8,
   "id": "0304cdc6",
   "metadata": {},
   "outputs": [
    {
     "data": {
      "text/plain": [
       "400000000000000000000000000000000000000"
      ]
     },
     "execution_count": 8,
     "metadata": {},
     "output_type": "execute_result"
    }
   ],
   "source": [
    "2000000000000000000 * 200000000000000000000"
   ]
  },
  {
   "cell_type": "code",
   "execution_count": 9,
   "id": "ac0e23fc",
   "metadata": {},
   "outputs": [],
   "source": [
    "# df.corr()"
   ]
  },
  {
   "cell_type": "code",
   "execution_count": null,
   "id": "ad28bde1",
   "metadata": {},
   "outputs": [],
   "source": []
  },
  {
   "cell_type": "code",
   "execution_count": 15,
   "id": "f717faf3",
   "metadata": {},
   "outputs": [
    {
     "data": {
      "text/html": [
       "<div>\n",
       "<style scoped>\n",
       "    .dataframe tbody tr th:only-of-type {\n",
       "        vertical-align: middle;\n",
       "    }\n",
       "\n",
       "    .dataframe tbody tr th {\n",
       "        vertical-align: top;\n",
       "    }\n",
       "\n",
       "    .dataframe thead th {\n",
       "        text-align: right;\n",
       "    }\n",
       "</style>\n",
       "<table border=\"1\" class=\"dataframe\">\n",
       "  <thead>\n",
       "    <tr style=\"text-align: right;\">\n",
       "      <th></th>\n",
       "      <th>City</th>\n",
       "      <th>Furnished_Status</th>\n",
       "      <th>Bedrooms</th>\n",
       "      <th>Price</th>\n",
       "    </tr>\n",
       "  </thead>\n",
       "  <tbody>\n",
       "    <tr>\n",
       "      <th>0</th>\n",
       "      <td>Noida</td>\n",
       "      <td>Semi</td>\n",
       "      <td>1</td>\n",
       "      <td>356688</td>\n",
       "    </tr>\n",
       "    <tr>\n",
       "      <th>1</th>\n",
       "      <td>Delhi</td>\n",
       "      <td>Fully</td>\n",
       "      <td>2</td>\n",
       "      <td>416276</td>\n",
       "    </tr>\n",
       "    <tr>\n",
       "      <th>2</th>\n",
       "      <td>Gurugram</td>\n",
       "      <td>Non</td>\n",
       "      <td>1</td>\n",
       "      <td>323204</td>\n",
       "    </tr>\n",
       "    <tr>\n",
       "      <th>3</th>\n",
       "      <td>Noida</td>\n",
       "      <td>Semi</td>\n",
       "      <td>2</td>\n",
       "      <td>489192</td>\n",
       "    </tr>\n",
       "    <tr>\n",
       "      <th>4</th>\n",
       "      <td>Jaipur</td>\n",
       "      <td>Non</td>\n",
       "      <td>3</td>\n",
       "      <td>358620</td>\n",
       "    </tr>\n",
       "  </tbody>\n",
       "</table>\n",
       "</div>"
      ],
      "text/plain": [
       "       City Furnished_Status  Bedrooms   Price\n",
       "0     Noida             Semi         1  356688\n",
       "1     Delhi            Fully         2  416276\n",
       "2  Gurugram              Non         1  323204\n",
       "3     Noida             Semi         2  489192\n",
       "4    Jaipur              Non         3  358620"
      ]
     },
     "execution_count": 15,
     "metadata": {},
     "output_type": "execute_result"
    }
   ],
   "source": [
    "import pandas as pd\n",
    "import numpy as np\n",
    "data = {'City':['Noida','Delhi','Gurugram','Noida','Jaipur'],\n",
    "       'Furnished_Status':['Semi','Fully','Non','Semi','Non'],\n",
    "        'Bedrooms':np.random.randint(1,4,5),\n",
    "       'Price':np.random.randint(300000,500000,5)}\n",
    "\n",
    "house = pd.DataFrame(data)\n",
    "house"
   ]
  },
  {
   "cell_type": "code",
   "execution_count": null,
   "id": "2ee5707c",
   "metadata": {},
   "outputs": [],
   "source": []
  },
  {
   "cell_type": "code",
   "execution_count": 13,
   "id": "b0cdcb40",
   "metadata": {},
   "outputs": [],
   "source": [
    "# Textual to numerical:- feature engineering:- \n",
    "# pd.get_dummies()\n",
    "# One Hot Encoding\n",
    "# Ordinal Encoder\n",
    "# Nominal Encoder\n",
    "# apply method"
   ]
  },
  {
   "cell_type": "code",
   "execution_count": null,
   "id": "911d32c6",
   "metadata": {},
   "outputs": [],
   "source": [
    "# variables in stats"
   ]
  },
  {
   "attachments": {
    "maxresdefault.jpg": {
     "image/jpeg": "[encoded data removed]"
    }
   },
   "cell_type": "markdown",
   "id": "cb1dbce6",
   "metadata": {},
   "source": [
    "![maxresdefault.jpg](attachment:maxresdefault.jpg)"
   ]
  },
  {
   "cell_type": "code",
   "execution_count": 16,
   "id": "03dba060",
   "metadata": {},
   "outputs": [
    {
     "data": {
      "text/html": [
       "<div>\n",
       "<style scoped>\n",
       "    .dataframe tbody tr th:only-of-type {\n",
       "        vertical-align: middle;\n",
       "    }\n",
       "\n",
       "    .dataframe tbody tr th {\n",
       "        vertical-align: top;\n",
       "    }\n",
       "\n",
       "    .dataframe thead th {\n",
       "        text-align: right;\n",
       "    }\n",
       "</style>\n",
       "<table border=\"1\" class=\"dataframe\">\n",
       "  <thead>\n",
       "    <tr style=\"text-align: right;\">\n",
       "      <th></th>\n",
       "      <th>City</th>\n",
       "      <th>Furnished_Status</th>\n",
       "      <th>Bedrooms</th>\n",
       "      <th>Price</th>\n",
       "    </tr>\n",
       "  </thead>\n",
       "  <tbody>\n",
       "    <tr>\n",
       "      <th>0</th>\n",
       "      <td>Noida</td>\n",
       "      <td>Semi</td>\n",
       "      <td>1</td>\n",
       "      <td>356688</td>\n",
       "    </tr>\n",
       "    <tr>\n",
       "      <th>1</th>\n",
       "      <td>Delhi</td>\n",
       "      <td>Fully</td>\n",
       "      <td>2</td>\n",
       "      <td>416276</td>\n",
       "    </tr>\n",
       "    <tr>\n",
       "      <th>2</th>\n",
       "      <td>Gurugram</td>\n",
       "      <td>Non</td>\n",
       "      <td>1</td>\n",
       "      <td>323204</td>\n",
       "    </tr>\n",
       "    <tr>\n",
       "      <th>3</th>\n",
       "      <td>Noida</td>\n",
       "      <td>Semi</td>\n",
       "      <td>2</td>\n",
       "      <td>489192</td>\n",
       "    </tr>\n",
       "    <tr>\n",
       "      <th>4</th>\n",
       "      <td>Jaipur</td>\n",
       "      <td>Non</td>\n",
       "      <td>3</td>\n",
       "      <td>358620</td>\n",
       "    </tr>\n",
       "  </tbody>\n",
       "</table>\n",
       "</div>"
      ],
      "text/plain": [
       "       City Furnished_Status  Bedrooms   Price\n",
       "0     Noida             Semi         1  356688\n",
       "1     Delhi            Fully         2  416276\n",
       "2  Gurugram              Non         1  323204\n",
       "3     Noida             Semi         2  489192\n",
       "4    Jaipur              Non         3  358620"
      ]
     },
     "execution_count": 16,
     "metadata": {},
     "output_type": "execute_result"
    }
   ],
   "source": [
    "house"
   ]
  },
  {
   "cell_type": "code",
   "execution_count": 19,
   "id": "cc7d33fe",
   "metadata": {},
   "outputs": [
    {
     "data": {
      "text/html": [
       "<div>\n",
       "<style scoped>\n",
       "    .dataframe tbody tr th:only-of-type {\n",
       "        vertical-align: middle;\n",
       "    }\n",
       "\n",
       "    .dataframe tbody tr th {\n",
       "        vertical-align: top;\n",
       "    }\n",
       "\n",
       "    .dataframe thead th {\n",
       "        text-align: right;\n",
       "    }\n",
       "</style>\n",
       "<table border=\"1\" class=\"dataframe\">\n",
       "  <thead>\n",
       "    <tr style=\"text-align: right;\">\n",
       "      <th></th>\n",
       "      <th>Delhi</th>\n",
       "      <th>Gurugram</th>\n",
       "      <th>Jaipur</th>\n",
       "      <th>Noida</th>\n",
       "    </tr>\n",
       "  </thead>\n",
       "  <tbody>\n",
       "    <tr>\n",
       "      <th>0</th>\n",
       "      <td>0</td>\n",
       "      <td>0</td>\n",
       "      <td>0</td>\n",
       "      <td>1</td>\n",
       "    </tr>\n",
       "    <tr>\n",
       "      <th>1</th>\n",
       "      <td>1</td>\n",
       "      <td>0</td>\n",
       "      <td>0</td>\n",
       "      <td>0</td>\n",
       "    </tr>\n",
       "    <tr>\n",
       "      <th>2</th>\n",
       "      <td>0</td>\n",
       "      <td>1</td>\n",
       "      <td>0</td>\n",
       "      <td>0</td>\n",
       "    </tr>\n",
       "    <tr>\n",
       "      <th>3</th>\n",
       "      <td>0</td>\n",
       "      <td>0</td>\n",
       "      <td>0</td>\n",
       "      <td>1</td>\n",
       "    </tr>\n",
       "    <tr>\n",
       "      <th>4</th>\n",
       "      <td>0</td>\n",
       "      <td>0</td>\n",
       "      <td>1</td>\n",
       "      <td>0</td>\n",
       "    </tr>\n",
       "  </tbody>\n",
       "</table>\n",
       "</div>"
      ],
      "text/plain": [
       "   Delhi  Gurugram  Jaipur  Noida\n",
       "0      0         0       0      1\n",
       "1      1         0       0      0\n",
       "2      0         1       0      0\n",
       "3      0         0       0      1\n",
       "4      0         0       1      0"
      ]
     },
     "execution_count": 19,
     "metadata": {},
     "output_type": "execute_result"
    }
   ],
   "source": [
    "pd.get_dummies(house['City'],dtype = int)"
   ]
  },
  {
   "cell_type": "code",
   "execution_count": 22,
   "id": "04915b50",
   "metadata": {},
   "outputs": [],
   "source": [
    "dummy_df = pd.get_dummies(house['City'],dtype = int,drop_first=True)"
   ]
  },
  {
   "cell_type": "code",
   "execution_count": 23,
   "id": "cafe755f",
   "metadata": {},
   "outputs": [
    {
     "data": {
      "text/plain": [
       "Index(['Gurugram', 'Jaipur', 'Noida'], dtype='object')"
      ]
     },
     "execution_count": 23,
     "metadata": {},
     "output_type": "execute_result"
    }
   ],
   "source": [
    "dummy_df.columns"
   ]
  },
  {
   "cell_type": "code",
   "execution_count": 24,
   "id": "82e8ad52",
   "metadata": {},
   "outputs": [],
   "source": [
    "house[dummy_df.columns] = dummy_df"
   ]
  },
  {
   "cell_type": "code",
   "execution_count": 25,
   "id": "5cf6dad0",
   "metadata": {},
   "outputs": [
    {
     "data": {
      "text/html": [
       "<div>\n",
       "<style scoped>\n",
       "    .dataframe tbody tr th:only-of-type {\n",
       "        vertical-align: middle;\n",
       "    }\n",
       "\n",
       "    .dataframe tbody tr th {\n",
       "        vertical-align: top;\n",
       "    }\n",
       "\n",
       "    .dataframe thead th {\n",
       "        text-align: right;\n",
       "    }\n",
       "</style>\n",
       "<table border=\"1\" class=\"dataframe\">\n",
       "  <thead>\n",
       "    <tr style=\"text-align: right;\">\n",
       "      <th></th>\n",
       "      <th>City</th>\n",
       "      <th>Furnished_Status</th>\n",
       "      <th>Bedrooms</th>\n",
       "      <th>Price</th>\n",
       "      <th>Gurugram</th>\n",
       "      <th>Jaipur</th>\n",
       "      <th>Noida</th>\n",
       "    </tr>\n",
       "  </thead>\n",
       "  <tbody>\n",
       "    <tr>\n",
       "      <th>0</th>\n",
       "      <td>Noida</td>\n",
       "      <td>Semi</td>\n",
       "      <td>1</td>\n",
       "      <td>356688</td>\n",
       "      <td>0</td>\n",
       "      <td>0</td>\n",
       "      <td>1</td>\n",
       "    </tr>\n",
       "    <tr>\n",
       "      <th>1</th>\n",
       "      <td>Delhi</td>\n",
       "      <td>Fully</td>\n",
       "      <td>2</td>\n",
       "      <td>416276</td>\n",
       "      <td>0</td>\n",
       "      <td>0</td>\n",
       "      <td>0</td>\n",
       "    </tr>\n",
       "    <tr>\n",
       "      <th>2</th>\n",
       "      <td>Gurugram</td>\n",
       "      <td>Non</td>\n",
       "      <td>1</td>\n",
       "      <td>323204</td>\n",
       "      <td>1</td>\n",
       "      <td>0</td>\n",
       "      <td>0</td>\n",
       "    </tr>\n",
       "    <tr>\n",
       "      <th>3</th>\n",
       "      <td>Noida</td>\n",
       "      <td>Semi</td>\n",
       "      <td>2</td>\n",
       "      <td>489192</td>\n",
       "      <td>0</td>\n",
       "      <td>0</td>\n",
       "      <td>1</td>\n",
       "    </tr>\n",
       "    <tr>\n",
       "      <th>4</th>\n",
       "      <td>Jaipur</td>\n",
       "      <td>Non</td>\n",
       "      <td>3</td>\n",
       "      <td>358620</td>\n",
       "      <td>0</td>\n",
       "      <td>1</td>\n",
       "      <td>0</td>\n",
       "    </tr>\n",
       "  </tbody>\n",
       "</table>\n",
       "</div>"
      ],
      "text/plain": [
       "       City Furnished_Status  Bedrooms   Price  Gurugram  Jaipur  Noida\n",
       "0     Noida             Semi         1  356688         0       0      1\n",
       "1     Delhi            Fully         2  416276         0       0      0\n",
       "2  Gurugram              Non         1  323204         1       0      0\n",
       "3     Noida             Semi         2  489192         0       0      1\n",
       "4    Jaipur              Non         3  358620         0       1      0"
      ]
     },
     "execution_count": 25,
     "metadata": {},
     "output_type": "execute_result"
    }
   ],
   "source": [
    "house"
   ]
  },
  {
   "cell_type": "code",
   "execution_count": 27,
   "id": "3e072dc5",
   "metadata": {},
   "outputs": [],
   "source": [
    "# pd.concat([house,dummy_df],axis=1)"
   ]
  },
  {
   "cell_type": "code",
   "execution_count": 31,
   "id": "8123e797",
   "metadata": {},
   "outputs": [],
   "source": [
    "house.drop('City',axis=1,inplace=True)"
   ]
  },
  {
   "cell_type": "code",
   "execution_count": 35,
   "id": "7acd96f3",
   "metadata": {},
   "outputs": [
    {
     "data": {
      "text/html": [
       "<div>\n",
       "<style scoped>\n",
       "    .dataframe tbody tr th:only-of-type {\n",
       "        vertical-align: middle;\n",
       "    }\n",
       "\n",
       "    .dataframe tbody tr th {\n",
       "        vertical-align: top;\n",
       "    }\n",
       "\n",
       "    .dataframe thead th {\n",
       "        text-align: right;\n",
       "    }\n",
       "</style>\n",
       "<table border=\"1\" class=\"dataframe\">\n",
       "  <thead>\n",
       "    <tr style=\"text-align: right;\">\n",
       "      <th></th>\n",
       "      <th>Non</th>\n",
       "      <th>Semi</th>\n",
       "    </tr>\n",
       "  </thead>\n",
       "  <tbody>\n",
       "    <tr>\n",
       "      <th>0</th>\n",
       "      <td>0</td>\n",
       "      <td>1</td>\n",
       "    </tr>\n",
       "    <tr>\n",
       "      <th>1</th>\n",
       "      <td>0</td>\n",
       "      <td>0</td>\n",
       "    </tr>\n",
       "    <tr>\n",
       "      <th>2</th>\n",
       "      <td>1</td>\n",
       "      <td>0</td>\n",
       "    </tr>\n",
       "    <tr>\n",
       "      <th>3</th>\n",
       "      <td>0</td>\n",
       "      <td>1</td>\n",
       "    </tr>\n",
       "    <tr>\n",
       "      <th>4</th>\n",
       "      <td>1</td>\n",
       "      <td>0</td>\n",
       "    </tr>\n",
       "  </tbody>\n",
       "</table>\n",
       "</div>"
      ],
      "text/plain": [
       "   Non  Semi\n",
       "0    0     1\n",
       "1    0     0\n",
       "2    1     0\n",
       "3    0     1\n",
       "4    1     0"
      ]
     },
     "execution_count": 35,
     "metadata": {},
     "output_type": "execute_result"
    }
   ],
   "source": [
    "pd.get_dummies(house['Furnished_Status'],dtype=int,drop_first=True)"
   ]
  },
  {
   "cell_type": "code",
   "execution_count": 37,
   "id": "80a29198",
   "metadata": {},
   "outputs": [],
   "source": [
    "house = pd.concat([pd.get_dummies(house['Furnished_Status'],dtype=int,drop_first=True),house],axis=1)"
   ]
  },
  {
   "cell_type": "code",
   "execution_count": 40,
   "id": "1c16a41f",
   "metadata": {},
   "outputs": [],
   "source": [
    "house.drop('Furnished_Status',axis=1,inplace=True)"
   ]
  },
  {
   "cell_type": "code",
   "execution_count": 41,
   "id": "bb6aed5b",
   "metadata": {},
   "outputs": [
    {
     "data": {
      "text/html": [
       "<div>\n",
       "<style scoped>\n",
       "    .dataframe tbody tr th:only-of-type {\n",
       "        vertical-align: middle;\n",
       "    }\n",
       "\n",
       "    .dataframe tbody tr th {\n",
       "        vertical-align: top;\n",
       "    }\n",
       "\n",
       "    .dataframe thead th {\n",
       "        text-align: right;\n",
       "    }\n",
       "</style>\n",
       "<table border=\"1\" class=\"dataframe\">\n",
       "  <thead>\n",
       "    <tr style=\"text-align: right;\">\n",
       "      <th></th>\n",
       "      <th>Non</th>\n",
       "      <th>Semi</th>\n",
       "      <th>Bedrooms</th>\n",
       "      <th>Price</th>\n",
       "      <th>Gurugram</th>\n",
       "      <th>Jaipur</th>\n",
       "      <th>Noida</th>\n",
       "    </tr>\n",
       "  </thead>\n",
       "  <tbody>\n",
       "    <tr>\n",
       "      <th>0</th>\n",
       "      <td>0</td>\n",
       "      <td>1</td>\n",
       "      <td>1</td>\n",
       "      <td>356688</td>\n",
       "      <td>0</td>\n",
       "      <td>0</td>\n",
       "      <td>1</td>\n",
       "    </tr>\n",
       "    <tr>\n",
       "      <th>1</th>\n",
       "      <td>0</td>\n",
       "      <td>0</td>\n",
       "      <td>2</td>\n",
       "      <td>416276</td>\n",
       "      <td>0</td>\n",
       "      <td>0</td>\n",
       "      <td>0</td>\n",
       "    </tr>\n",
       "    <tr>\n",
       "      <th>2</th>\n",
       "      <td>1</td>\n",
       "      <td>0</td>\n",
       "      <td>1</td>\n",
       "      <td>323204</td>\n",
       "      <td>1</td>\n",
       "      <td>0</td>\n",
       "      <td>0</td>\n",
       "    </tr>\n",
       "    <tr>\n",
       "      <th>3</th>\n",
       "      <td>0</td>\n",
       "      <td>1</td>\n",
       "      <td>2</td>\n",
       "      <td>489192</td>\n",
       "      <td>0</td>\n",
       "      <td>0</td>\n",
       "      <td>1</td>\n",
       "    </tr>\n",
       "    <tr>\n",
       "      <th>4</th>\n",
       "      <td>1</td>\n",
       "      <td>0</td>\n",
       "      <td>3</td>\n",
       "      <td>358620</td>\n",
       "      <td>0</td>\n",
       "      <td>1</td>\n",
       "      <td>0</td>\n",
       "    </tr>\n",
       "  </tbody>\n",
       "</table>\n",
       "</div>"
      ],
      "text/plain": [
       "   Non  Semi  Bedrooms   Price  Gurugram  Jaipur  Noida\n",
       "0    0     1         1  356688         0       0      1\n",
       "1    0     0         2  416276         0       0      0\n",
       "2    1     0         1  323204         1       0      0\n",
       "3    0     1         2  489192         0       0      1\n",
       "4    1     0         3  358620         0       1      0"
      ]
     },
     "execution_count": 41,
     "metadata": {},
     "output_type": "execute_result"
    }
   ],
   "source": [
    "house"
   ]
  },
  {
   "cell_type": "code",
   "execution_count": 42,
   "id": "b9ca8242",
   "metadata": {},
   "outputs": [
    {
     "data": {
      "text/html": [
       "<div>\n",
       "<style scoped>\n",
       "    .dataframe tbody tr th:only-of-type {\n",
       "        vertical-align: middle;\n",
       "    }\n",
       "\n",
       "    .dataframe tbody tr th {\n",
       "        vertical-align: top;\n",
       "    }\n",
       "\n",
       "    .dataframe thead th {\n",
       "        text-align: right;\n",
       "    }\n",
       "</style>\n",
       "<table border=\"1\" class=\"dataframe\">\n",
       "  <thead>\n",
       "    <tr style=\"text-align: right;\">\n",
       "      <th></th>\n",
       "      <th>Non</th>\n",
       "      <th>Semi</th>\n",
       "      <th>Bedrooms</th>\n",
       "      <th>Gurugram</th>\n",
       "      <th>Jaipur</th>\n",
       "      <th>Noida</th>\n",
       "    </tr>\n",
       "  </thead>\n",
       "  <tbody>\n",
       "    <tr>\n",
       "      <th>0</th>\n",
       "      <td>0</td>\n",
       "      <td>1</td>\n",
       "      <td>1</td>\n",
       "      <td>0</td>\n",
       "      <td>0</td>\n",
       "      <td>1</td>\n",
       "    </tr>\n",
       "    <tr>\n",
       "      <th>1</th>\n",
       "      <td>0</td>\n",
       "      <td>0</td>\n",
       "      <td>2</td>\n",
       "      <td>0</td>\n",
       "      <td>0</td>\n",
       "      <td>0</td>\n",
       "    </tr>\n",
       "    <tr>\n",
       "      <th>2</th>\n",
       "      <td>1</td>\n",
       "      <td>0</td>\n",
       "      <td>1</td>\n",
       "      <td>1</td>\n",
       "      <td>0</td>\n",
       "      <td>0</td>\n",
       "    </tr>\n",
       "    <tr>\n",
       "      <th>3</th>\n",
       "      <td>0</td>\n",
       "      <td>1</td>\n",
       "      <td>2</td>\n",
       "      <td>0</td>\n",
       "      <td>0</td>\n",
       "      <td>1</td>\n",
       "    </tr>\n",
       "    <tr>\n",
       "      <th>4</th>\n",
       "      <td>1</td>\n",
       "      <td>0</td>\n",
       "      <td>3</td>\n",
       "      <td>0</td>\n",
       "      <td>1</td>\n",
       "      <td>0</td>\n",
       "    </tr>\n",
       "  </tbody>\n",
       "</table>\n",
       "</div>"
      ],
      "text/plain": [
       "   Non  Semi  Bedrooms  Gurugram  Jaipur  Noida\n",
       "0    0     1         1         0       0      1\n",
       "1    0     0         2         0       0      0\n",
       "2    1     0         1         1       0      0\n",
       "3    0     1         2         0       0      1\n",
       "4    1     0         3         0       1      0"
      ]
     },
     "execution_count": 42,
     "metadata": {},
     "output_type": "execute_result"
    }
   ],
   "source": [
    "X = house.drop('Price',axis=1)\n",
    "X"
   ]
  },
  {
   "cell_type": "code",
   "execution_count": 43,
   "id": "60004bdc",
   "metadata": {},
   "outputs": [
    {
     "data": {
      "text/plain": [
       "0    356688\n",
       "1    416276\n",
       "2    323204\n",
       "3    489192\n",
       "4    358620\n",
       "Name: Price, dtype: int32"
      ]
     },
     "execution_count": 43,
     "metadata": {},
     "output_type": "execute_result"
    }
   ],
   "source": [
    "y = house['Price']\n",
    "y"
   ]
  },
  {
   "cell_type": "code",
   "execution_count": null,
   "id": "017afa7c",
   "metadata": {},
   "outputs": [],
   "source": []
  },
  {
   "cell_type": "code",
   "execution_count": null,
   "id": "95bf9836",
   "metadata": {},
   "outputs": [],
   "source": []
  },
  {
   "cell_type": "code",
   "execution_count": 75,
   "id": "f71d3911",
   "metadata": {},
   "outputs": [
    {
     "data": {
      "text/html": [
       "<div>\n",
       "<style scoped>\n",
       "    .dataframe tbody tr th:only-of-type {\n",
       "        vertical-align: middle;\n",
       "    }\n",
       "\n",
       "    .dataframe tbody tr th {\n",
       "        vertical-align: top;\n",
       "    }\n",
       "\n",
       "    .dataframe thead th {\n",
       "        text-align: right;\n",
       "    }\n",
       "</style>\n",
       "<table border=\"1\" class=\"dataframe\">\n",
       "  <thead>\n",
       "    <tr style=\"text-align: right;\">\n",
       "      <th></th>\n",
       "      <th>City</th>\n",
       "      <th>Furnished_Status</th>\n",
       "      <th>Bedrooms</th>\n",
       "      <th>Price</th>\n",
       "    </tr>\n",
       "  </thead>\n",
       "  <tbody>\n",
       "    <tr>\n",
       "      <th>0</th>\n",
       "      <td>Greater Noida</td>\n",
       "      <td>Semi</td>\n",
       "      <td>3</td>\n",
       "      <td>412576</td>\n",
       "    </tr>\n",
       "    <tr>\n",
       "      <th>1</th>\n",
       "      <td>New Delhi</td>\n",
       "      <td>Fully</td>\n",
       "      <td>1</td>\n",
       "      <td>479072</td>\n",
       "    </tr>\n",
       "    <tr>\n",
       "      <th>2</th>\n",
       "      <td>Gurgaon</td>\n",
       "      <td>Non</td>\n",
       "      <td>1</td>\n",
       "      <td>333198</td>\n",
       "    </tr>\n",
       "    <tr>\n",
       "      <th>3</th>\n",
       "      <td>Greater Noida</td>\n",
       "      <td>Semi</td>\n",
       "      <td>3</td>\n",
       "      <td>433663</td>\n",
       "    </tr>\n",
       "    <tr>\n",
       "      <th>4</th>\n",
       "      <td>Rajasthan</td>\n",
       "      <td>Non</td>\n",
       "      <td>2</td>\n",
       "      <td>445583</td>\n",
       "    </tr>\n",
       "  </tbody>\n",
       "</table>\n",
       "</div>"
      ],
      "text/plain": [
       "            City Furnished_Status  Bedrooms   Price\n",
       "0  Greater Noida             Semi         3  412576\n",
       "1      New Delhi            Fully         1  479072\n",
       "2        Gurgaon              Non         1  333198\n",
       "3  Greater Noida             Semi         3  433663\n",
       "4      Rajasthan              Non         2  445583"
      ]
     },
     "execution_count": 75,
     "metadata": {},
     "output_type": "execute_result"
    }
   ],
   "source": [
    "data = {'City':['Greater Noida','New Delhi','Gurgaon','Greater Noida','Rajasthan'],\n",
    "       'Furnished_Status':['Semi','Fully','Non','Semi','Non'],\n",
    "        'Bedrooms':np.random.randint(1,4,5),\n",
    "       'Price':np.random.randint(300000,500000,5)}\n",
    "\n",
    "house = pd.DataFrame(data)\n",
    "house"
   ]
  },
  {
   "cell_type": "code",
   "execution_count": 76,
   "id": "5372e656",
   "metadata": {},
   "outputs": [],
   "source": [
    "from sklearn.preprocessing import OneHotEncoder"
   ]
  },
  {
   "cell_type": "code",
   "execution_count": 77,
   "id": "80586f0d",
   "metadata": {},
   "outputs": [],
   "source": [
    "ohe = OneHotEncoder(drop='first')"
   ]
  },
  {
   "cell_type": "code",
   "execution_count": 82,
   "id": "336b4e12",
   "metadata": {},
   "outputs": [],
   "source": [
    "# house['City'].unique()[1:]"
   ]
  },
  {
   "cell_type": "code",
   "execution_count": 83,
   "id": "23c4caa0",
   "metadata": {},
   "outputs": [
    {
     "data": {
      "text/html": [
       "<div>\n",
       "<style scoped>\n",
       "    .dataframe tbody tr th:only-of-type {\n",
       "        vertical-align: middle;\n",
       "    }\n",
       "\n",
       "    .dataframe tbody tr th {\n",
       "        vertical-align: top;\n",
       "    }\n",
       "\n",
       "    .dataframe thead th {\n",
       "        text-align: right;\n",
       "    }\n",
       "</style>\n",
       "<table border=\"1\" class=\"dataframe\">\n",
       "  <thead>\n",
       "    <tr style=\"text-align: right;\">\n",
       "      <th></th>\n",
       "      <th>New Delhi</th>\n",
       "      <th>Gurgaon</th>\n",
       "      <th>Rajasthan</th>\n",
       "    </tr>\n",
       "  </thead>\n",
       "  <tbody>\n",
       "    <tr>\n",
       "      <th>0</th>\n",
       "      <td>0</td>\n",
       "      <td>0</td>\n",
       "      <td>0</td>\n",
       "    </tr>\n",
       "    <tr>\n",
       "      <th>1</th>\n",
       "      <td>0</td>\n",
       "      <td>1</td>\n",
       "      <td>0</td>\n",
       "    </tr>\n",
       "    <tr>\n",
       "      <th>2</th>\n",
       "      <td>1</td>\n",
       "      <td>0</td>\n",
       "      <td>0</td>\n",
       "    </tr>\n",
       "    <tr>\n",
       "      <th>3</th>\n",
       "      <td>0</td>\n",
       "      <td>0</td>\n",
       "      <td>0</td>\n",
       "    </tr>\n",
       "    <tr>\n",
       "      <th>4</th>\n",
       "      <td>0</td>\n",
       "      <td>0</td>\n",
       "      <td>1</td>\n",
       "    </tr>\n",
       "  </tbody>\n",
       "</table>\n",
       "</div>"
      ],
      "text/plain": [
       "   New Delhi  Gurgaon  Rajasthan\n",
       "0          0        0          0\n",
       "1          0        1          0\n",
       "2          1        0          0\n",
       "3          0        0          0\n",
       "4          0        0          1"
      ]
     },
     "execution_count": 83,
     "metadata": {},
     "output_type": "execute_result"
    }
   ],
   "source": [
    "pd.DataFrame(ohe.fit_transform(house[['City']]).toarray().astype(int),columns=house['City'].unique()[1:])"
   ]
  },
  {
   "cell_type": "code",
   "execution_count": 84,
   "id": "835903cc",
   "metadata": {},
   "outputs": [
    {
     "data": {
      "text/plain": [
       "array(['Greater Noida', 'New Delhi', 'Gurgaon', 'Rajasthan'], dtype=object)"
      ]
     },
     "execution_count": 84,
     "metadata": {},
     "output_type": "execute_result"
    }
   ],
   "source": [
    "house['City'].unique()"
   ]
  },
  {
   "cell_type": "code",
   "execution_count": 86,
   "id": "2d8b1c52",
   "metadata": {},
   "outputs": [],
   "source": [
    "ohe_encode_data = pd.DataFrame(ohe.fit_transform(house[['City']]).toarray(),columns=house['City'].unique()[1:]).astype(int)"
   ]
  },
  {
   "cell_type": "code",
   "execution_count": 87,
   "id": "6b2a235e",
   "metadata": {},
   "outputs": [],
   "source": [
    "house.drop('City',axis=1,inplace=True)"
   ]
  },
  {
   "cell_type": "code",
   "execution_count": 88,
   "id": "3473d894",
   "metadata": {},
   "outputs": [
    {
     "data": {
      "text/html": [
       "<div>\n",
       "<style scoped>\n",
       "    .dataframe tbody tr th:only-of-type {\n",
       "        vertical-align: middle;\n",
       "    }\n",
       "\n",
       "    .dataframe tbody tr th {\n",
       "        vertical-align: top;\n",
       "    }\n",
       "\n",
       "    .dataframe thead th {\n",
       "        text-align: right;\n",
       "    }\n",
       "</style>\n",
       "<table border=\"1\" class=\"dataframe\">\n",
       "  <thead>\n",
       "    <tr style=\"text-align: right;\">\n",
       "      <th></th>\n",
       "      <th>New Delhi</th>\n",
       "      <th>Gurgaon</th>\n",
       "      <th>Rajasthan</th>\n",
       "      <th>Furnished_Status</th>\n",
       "      <th>Bedrooms</th>\n",
       "      <th>Price</th>\n",
       "    </tr>\n",
       "  </thead>\n",
       "  <tbody>\n",
       "    <tr>\n",
       "      <th>0</th>\n",
       "      <td>0</td>\n",
       "      <td>0</td>\n",
       "      <td>0</td>\n",
       "      <td>Semi</td>\n",
       "      <td>3</td>\n",
       "      <td>412576</td>\n",
       "    </tr>\n",
       "    <tr>\n",
       "      <th>1</th>\n",
       "      <td>0</td>\n",
       "      <td>1</td>\n",
       "      <td>0</td>\n",
       "      <td>Fully</td>\n",
       "      <td>1</td>\n",
       "      <td>479072</td>\n",
       "    </tr>\n",
       "    <tr>\n",
       "      <th>2</th>\n",
       "      <td>1</td>\n",
       "      <td>0</td>\n",
       "      <td>0</td>\n",
       "      <td>Non</td>\n",
       "      <td>1</td>\n",
       "      <td>333198</td>\n",
       "    </tr>\n",
       "    <tr>\n",
       "      <th>3</th>\n",
       "      <td>0</td>\n",
       "      <td>0</td>\n",
       "      <td>0</td>\n",
       "      <td>Semi</td>\n",
       "      <td>3</td>\n",
       "      <td>433663</td>\n",
       "    </tr>\n",
       "    <tr>\n",
       "      <th>4</th>\n",
       "      <td>0</td>\n",
       "      <td>0</td>\n",
       "      <td>1</td>\n",
       "      <td>Non</td>\n",
       "      <td>2</td>\n",
       "      <td>445583</td>\n",
       "    </tr>\n",
       "  </tbody>\n",
       "</table>\n",
       "</div>"
      ],
      "text/plain": [
       "   New Delhi  Gurgaon  Rajasthan Furnished_Status  Bedrooms   Price\n",
       "0          0        0          0             Semi         3  412576\n",
       "1          0        1          0            Fully         1  479072\n",
       "2          1        0          0              Non         1  333198\n",
       "3          0        0          0             Semi         3  433663\n",
       "4          0        0          1              Non         2  445583"
      ]
     },
     "execution_count": 88,
     "metadata": {},
     "output_type": "execute_result"
    }
   ],
   "source": [
    "pd.concat([ohe_encode_data,house],axis=1)"
   ]
  },
  {
   "cell_type": "code",
   "execution_count": null,
   "id": "b21d08d8",
   "metadata": {},
   "outputs": [],
   "source": []
  },
  {
   "cell_type": "code",
   "execution_count": null,
   "id": "193f6eb4",
   "metadata": {},
   "outputs": [],
   "source": []
  },
  {
   "cell_type": "code",
   "execution_count": null,
   "id": "71d77124",
   "metadata": {},
   "outputs": [],
   "source": []
  },
  {
   "cell_type": "code",
   "execution_count": null,
   "id": "7b37ac75",
   "metadata": {},
   "outputs": [],
   "source": []
  },
  {
   "cell_type": "code",
   "execution_count": 185,
   "id": "453329f9",
   "metadata": {},
   "outputs": [],
   "source": [
    "order = ['xsmall','small','medium','large','xlarge','xxl']\n",
    "\n",
    "from sklearn.preprocessing import OrdinalEncoder"
   ]
  },
  {
   "cell_type": "code",
   "execution_count": 186,
   "id": "532e35f3",
   "metadata": {},
   "outputs": [],
   "source": [
    "# rank = range(1,len(order)+1)"
   ]
  },
  {
   "cell_type": "code",
   "execution_count": 187,
   "id": "657d9daf",
   "metadata": {},
   "outputs": [],
   "source": [
    "# order_rank = list(zip(order,rank))"
   ]
  },
  {
   "cell_type": "code",
   "execution_count": 188,
   "id": "d38888dc",
   "metadata": {},
   "outputs": [],
   "source": [
    "# np.array(order_rank)"
   ]
  },
  {
   "cell_type": "code",
   "execution_count": 189,
   "id": "8a766f1a",
   "metadata": {},
   "outputs": [
    {
     "data": {
      "text/plain": [
       "['xsmall', 'small', 'medium', 'large', 'xlarge', 'xxl']"
      ]
     },
     "execution_count": 189,
     "metadata": {},
     "output_type": "execute_result"
    }
   ],
   "source": [
    "order"
   ]
  },
  {
   "cell_type": "code",
   "execution_count": 190,
   "id": "1cd41548",
   "metadata": {},
   "outputs": [],
   "source": [
    "oe = OrdinalEncoder(categories = [order])"
   ]
  },
  {
   "cell_type": "code",
   "execution_count": 191,
   "id": "fef0e771",
   "metadata": {},
   "outputs": [],
   "source": [
    "import random"
   ]
  },
  {
   "cell_type": "code",
   "execution_count": 192,
   "id": "091d29c1",
   "metadata": {},
   "outputs": [],
   "source": [
    "data = {'Shirt Size':[random.choice(order) for i in range(20)],\n",
    "       'Price':np.random.randint(100,500,20)}\n",
    "df = pd.DataFrame(data)"
   ]
  },
  {
   "cell_type": "code",
   "execution_count": 198,
   "id": "b0af2c36",
   "metadata": {},
   "outputs": [],
   "source": [
    "df['Shirt Size_oe'] = oe.fit_transform(df[['Shirt Size']]).astype(int)"
   ]
  },
  {
   "cell_type": "code",
   "execution_count": 199,
   "id": "c0c6f320",
   "metadata": {},
   "outputs": [
    {
     "data": {
      "text/html": [
       "<div>\n",
       "<style scoped>\n",
       "    .dataframe tbody tr th:only-of-type {\n",
       "        vertical-align: middle;\n",
       "    }\n",
       "\n",
       "    .dataframe tbody tr th {\n",
       "        vertical-align: top;\n",
       "    }\n",
       "\n",
       "    .dataframe thead th {\n",
       "        text-align: right;\n",
       "    }\n",
       "</style>\n",
       "<table border=\"1\" class=\"dataframe\">\n",
       "  <thead>\n",
       "    <tr style=\"text-align: right;\">\n",
       "      <th></th>\n",
       "      <th>Shirt Size</th>\n",
       "      <th>Price</th>\n",
       "      <th>Shirt Size_oe</th>\n",
       "    </tr>\n",
       "  </thead>\n",
       "  <tbody>\n",
       "    <tr>\n",
       "      <th>0</th>\n",
       "      <td>small</td>\n",
       "      <td>327</td>\n",
       "      <td>1</td>\n",
       "    </tr>\n",
       "    <tr>\n",
       "      <th>1</th>\n",
       "      <td>xlarge</td>\n",
       "      <td>280</td>\n",
       "      <td>4</td>\n",
       "    </tr>\n",
       "    <tr>\n",
       "      <th>2</th>\n",
       "      <td>xsmall</td>\n",
       "      <td>481</td>\n",
       "      <td>0</td>\n",
       "    </tr>\n",
       "    <tr>\n",
       "      <th>3</th>\n",
       "      <td>xlarge</td>\n",
       "      <td>391</td>\n",
       "      <td>4</td>\n",
       "    </tr>\n",
       "    <tr>\n",
       "      <th>4</th>\n",
       "      <td>xlarge</td>\n",
       "      <td>321</td>\n",
       "      <td>4</td>\n",
       "    </tr>\n",
       "    <tr>\n",
       "      <th>5</th>\n",
       "      <td>xsmall</td>\n",
       "      <td>474</td>\n",
       "      <td>0</td>\n",
       "    </tr>\n",
       "    <tr>\n",
       "      <th>6</th>\n",
       "      <td>xsmall</td>\n",
       "      <td>240</td>\n",
       "      <td>0</td>\n",
       "    </tr>\n",
       "    <tr>\n",
       "      <th>7</th>\n",
       "      <td>xxl</td>\n",
       "      <td>462</td>\n",
       "      <td>5</td>\n",
       "    </tr>\n",
       "    <tr>\n",
       "      <th>8</th>\n",
       "      <td>large</td>\n",
       "      <td>384</td>\n",
       "      <td>3</td>\n",
       "    </tr>\n",
       "    <tr>\n",
       "      <th>9</th>\n",
       "      <td>xxl</td>\n",
       "      <td>322</td>\n",
       "      <td>5</td>\n",
       "    </tr>\n",
       "    <tr>\n",
       "      <th>10</th>\n",
       "      <td>xlarge</td>\n",
       "      <td>164</td>\n",
       "      <td>4</td>\n",
       "    </tr>\n",
       "    <tr>\n",
       "      <th>11</th>\n",
       "      <td>small</td>\n",
       "      <td>466</td>\n",
       "      <td>1</td>\n",
       "    </tr>\n",
       "    <tr>\n",
       "      <th>12</th>\n",
       "      <td>xlarge</td>\n",
       "      <td>481</td>\n",
       "      <td>4</td>\n",
       "    </tr>\n",
       "    <tr>\n",
       "      <th>13</th>\n",
       "      <td>xsmall</td>\n",
       "      <td>109</td>\n",
       "      <td>0</td>\n",
       "    </tr>\n",
       "    <tr>\n",
       "      <th>14</th>\n",
       "      <td>medium</td>\n",
       "      <td>418</td>\n",
       "      <td>2</td>\n",
       "    </tr>\n",
       "    <tr>\n",
       "      <th>15</th>\n",
       "      <td>medium</td>\n",
       "      <td>398</td>\n",
       "      <td>2</td>\n",
       "    </tr>\n",
       "    <tr>\n",
       "      <th>16</th>\n",
       "      <td>xlarge</td>\n",
       "      <td>114</td>\n",
       "      <td>4</td>\n",
       "    </tr>\n",
       "    <tr>\n",
       "      <th>17</th>\n",
       "      <td>small</td>\n",
       "      <td>328</td>\n",
       "      <td>1</td>\n",
       "    </tr>\n",
       "    <tr>\n",
       "      <th>18</th>\n",
       "      <td>medium</td>\n",
       "      <td>293</td>\n",
       "      <td>2</td>\n",
       "    </tr>\n",
       "    <tr>\n",
       "      <th>19</th>\n",
       "      <td>large</td>\n",
       "      <td>288</td>\n",
       "      <td>3</td>\n",
       "    </tr>\n",
       "  </tbody>\n",
       "</table>\n",
       "</div>"
      ],
      "text/plain": [
       "   Shirt Size  Price  Shirt Size_oe\n",
       "0       small    327              1\n",
       "1      xlarge    280              4\n",
       "2      xsmall    481              0\n",
       "3      xlarge    391              4\n",
       "4      xlarge    321              4\n",
       "5      xsmall    474              0\n",
       "6      xsmall    240              0\n",
       "7         xxl    462              5\n",
       "8       large    384              3\n",
       "9         xxl    322              5\n",
       "10     xlarge    164              4\n",
       "11      small    466              1\n",
       "12     xlarge    481              4\n",
       "13     xsmall    109              0\n",
       "14     medium    418              2\n",
       "15     medium    398              2\n",
       "16     xlarge    114              4\n",
       "17      small    328              1\n",
       "18     medium    293              2\n",
       "19      large    288              3"
      ]
     },
     "execution_count": 199,
     "metadata": {},
     "output_type": "execute_result"
    }
   ],
   "source": [
    "df"
   ]
  },
  {
   "cell_type": "code",
   "execution_count": 201,
   "id": "2688672a",
   "metadata": {
    "scrolled": true
   },
   "outputs": [
    {
     "data": {
      "text/plain": [
       "['xsmall', 'small', 'medium', 'large', 'xlarge', 'xxl']"
      ]
     },
     "execution_count": 201,
     "metadata": {},
     "output_type": "execute_result"
    }
   ],
   "source": [
    "order"
   ]
  },
  {
   "cell_type": "code",
   "execution_count": 204,
   "id": "b604e3b3",
   "metadata": {},
   "outputs": [],
   "source": [
    "order_rank = list(zip(range(len(order)),order))"
   ]
  },
  {
   "cell_type": "code",
   "execution_count": 215,
   "id": "b76868bd",
   "metadata": {},
   "outputs": [
    {
     "data": {
      "text/plain": [
       "[(0, 'xsmall'),\n",
       " (1, 'small'),\n",
       " (2, 'medium'),\n",
       " (3, 'large'),\n",
       " (4, 'xlarge'),\n",
       " (5, 'xxl')]"
      ]
     },
     "execution_count": 215,
     "metadata": {},
     "output_type": "execute_result"
    }
   ],
   "source": [
    "order_rank"
   ]
  },
  {
   "cell_type": "code",
   "execution_count": 222,
   "id": "20b5140c",
   "metadata": {},
   "outputs": [],
   "source": [
    "def return_num(shirt_size):\n",
    "    for i,j in order_rank:\n",
    "        if j == shirt_size:\n",
    "            return i"
   ]
  },
  {
   "cell_type": "code",
   "execution_count": 211,
   "id": "50777257",
   "metadata": {},
   "outputs": [
    {
     "name": "stdout",
     "output_type": "stream",
     "text": [
      "1\n"
     ]
    }
   ],
   "source": [
    "return_num('small')"
   ]
  },
  {
   "cell_type": "code",
   "execution_count": 225,
   "id": "16828221",
   "metadata": {},
   "outputs": [],
   "source": [
    "df['shirt size in num'] = df['Shirt Size'].apply(lambda x: return_num(x))"
   ]
  },
  {
   "cell_type": "code",
   "execution_count": 224,
   "id": "31e2b9bc",
   "metadata": {},
   "outputs": [],
   "source": [
    "# order_rank"
   ]
  },
  {
   "cell_type": "code",
   "execution_count": 226,
   "id": "8ce03391",
   "metadata": {},
   "outputs": [
    {
     "data": {
      "text/html": [
       "<div>\n",
       "<style scoped>\n",
       "    .dataframe tbody tr th:only-of-type {\n",
       "        vertical-align: middle;\n",
       "    }\n",
       "\n",
       "    .dataframe tbody tr th {\n",
       "        vertical-align: top;\n",
       "    }\n",
       "\n",
       "    .dataframe thead th {\n",
       "        text-align: right;\n",
       "    }\n",
       "</style>\n",
       "<table border=\"1\" class=\"dataframe\">\n",
       "  <thead>\n",
       "    <tr style=\"text-align: right;\">\n",
       "      <th></th>\n",
       "      <th>Shirt Size</th>\n",
       "      <th>Price</th>\n",
       "      <th>Shirt Size_oe</th>\n",
       "      <th>shirt size in num</th>\n",
       "    </tr>\n",
       "  </thead>\n",
       "  <tbody>\n",
       "    <tr>\n",
       "      <th>0</th>\n",
       "      <td>small</td>\n",
       "      <td>327</td>\n",
       "      <td>1</td>\n",
       "      <td>1</td>\n",
       "    </tr>\n",
       "    <tr>\n",
       "      <th>1</th>\n",
       "      <td>xlarge</td>\n",
       "      <td>280</td>\n",
       "      <td>4</td>\n",
       "      <td>4</td>\n",
       "    </tr>\n",
       "    <tr>\n",
       "      <th>2</th>\n",
       "      <td>xsmall</td>\n",
       "      <td>481</td>\n",
       "      <td>0</td>\n",
       "      <td>0</td>\n",
       "    </tr>\n",
       "    <tr>\n",
       "      <th>3</th>\n",
       "      <td>xlarge</td>\n",
       "      <td>391</td>\n",
       "      <td>4</td>\n",
       "      <td>4</td>\n",
       "    </tr>\n",
       "    <tr>\n",
       "      <th>4</th>\n",
       "      <td>xlarge</td>\n",
       "      <td>321</td>\n",
       "      <td>4</td>\n",
       "      <td>4</td>\n",
       "    </tr>\n",
       "    <tr>\n",
       "      <th>5</th>\n",
       "      <td>xsmall</td>\n",
       "      <td>474</td>\n",
       "      <td>0</td>\n",
       "      <td>0</td>\n",
       "    </tr>\n",
       "    <tr>\n",
       "      <th>6</th>\n",
       "      <td>xsmall</td>\n",
       "      <td>240</td>\n",
       "      <td>0</td>\n",
       "      <td>0</td>\n",
       "    </tr>\n",
       "    <tr>\n",
       "      <th>7</th>\n",
       "      <td>xxl</td>\n",
       "      <td>462</td>\n",
       "      <td>5</td>\n",
       "      <td>5</td>\n",
       "    </tr>\n",
       "    <tr>\n",
       "      <th>8</th>\n",
       "      <td>large</td>\n",
       "      <td>384</td>\n",
       "      <td>3</td>\n",
       "      <td>3</td>\n",
       "    </tr>\n",
       "    <tr>\n",
       "      <th>9</th>\n",
       "      <td>xxl</td>\n",
       "      <td>322</td>\n",
       "      <td>5</td>\n",
       "      <td>5</td>\n",
       "    </tr>\n",
       "    <tr>\n",
       "      <th>10</th>\n",
       "      <td>xlarge</td>\n",
       "      <td>164</td>\n",
       "      <td>4</td>\n",
       "      <td>4</td>\n",
       "    </tr>\n",
       "    <tr>\n",
       "      <th>11</th>\n",
       "      <td>small</td>\n",
       "      <td>466</td>\n",
       "      <td>1</td>\n",
       "      <td>1</td>\n",
       "    </tr>\n",
       "    <tr>\n",
       "      <th>12</th>\n",
       "      <td>xlarge</td>\n",
       "      <td>481</td>\n",
       "      <td>4</td>\n",
       "      <td>4</td>\n",
       "    </tr>\n",
       "    <tr>\n",
       "      <th>13</th>\n",
       "      <td>xsmall</td>\n",
       "      <td>109</td>\n",
       "      <td>0</td>\n",
       "      <td>0</td>\n",
       "    </tr>\n",
       "    <tr>\n",
       "      <th>14</th>\n",
       "      <td>medium</td>\n",
       "      <td>418</td>\n",
       "      <td>2</td>\n",
       "      <td>2</td>\n",
       "    </tr>\n",
       "    <tr>\n",
       "      <th>15</th>\n",
       "      <td>medium</td>\n",
       "      <td>398</td>\n",
       "      <td>2</td>\n",
       "      <td>2</td>\n",
       "    </tr>\n",
       "    <tr>\n",
       "      <th>16</th>\n",
       "      <td>xlarge</td>\n",
       "      <td>114</td>\n",
       "      <td>4</td>\n",
       "      <td>4</td>\n",
       "    </tr>\n",
       "    <tr>\n",
       "      <th>17</th>\n",
       "      <td>small</td>\n",
       "      <td>328</td>\n",
       "      <td>1</td>\n",
       "      <td>1</td>\n",
       "    </tr>\n",
       "    <tr>\n",
       "      <th>18</th>\n",
       "      <td>medium</td>\n",
       "      <td>293</td>\n",
       "      <td>2</td>\n",
       "      <td>2</td>\n",
       "    </tr>\n",
       "    <tr>\n",
       "      <th>19</th>\n",
       "      <td>large</td>\n",
       "      <td>288</td>\n",
       "      <td>3</td>\n",
       "      <td>3</td>\n",
       "    </tr>\n",
       "  </tbody>\n",
       "</table>\n",
       "</div>"
      ],
      "text/plain": [
       "   Shirt Size  Price  Shirt Size_oe  shirt size in num\n",
       "0       small    327              1                  1\n",
       "1      xlarge    280              4                  4\n",
       "2      xsmall    481              0                  0\n",
       "3      xlarge    391              4                  4\n",
       "4      xlarge    321              4                  4\n",
       "5      xsmall    474              0                  0\n",
       "6      xsmall    240              0                  0\n",
       "7         xxl    462              5                  5\n",
       "8       large    384              3                  3\n",
       "9         xxl    322              5                  5\n",
       "10     xlarge    164              4                  4\n",
       "11      small    466              1                  1\n",
       "12     xlarge    481              4                  4\n",
       "13     xsmall    109              0                  0\n",
       "14     medium    418              2                  2\n",
       "15     medium    398              2                  2\n",
       "16     xlarge    114              4                  4\n",
       "17      small    328              1                  1\n",
       "18     medium    293              2                  2\n",
       "19      large    288              3                  3"
      ]
     },
     "execution_count": 226,
     "metadata": {},
     "output_type": "execute_result"
    }
   ],
   "source": [
    "df"
   ]
  },
  {
   "cell_type": "code",
   "execution_count": null,
   "id": "6397ab5d",
   "metadata": {},
   "outputs": [],
   "source": []
  },
  {
   "cell_type": "code",
   "execution_count": 231,
   "id": "7d515277",
   "metadata": {},
   "outputs": [],
   "source": [
    "from sklearn.preprocessing import LabelEncoder"
   ]
  },
  {
   "cell_type": "code",
   "execution_count": 232,
   "id": "7a2b4bbe",
   "metadata": {},
   "outputs": [],
   "source": [
    "le = LabelEncoder()"
   ]
  },
  {
   "cell_type": "code",
   "execution_count": 233,
   "id": "2eceeef2",
   "metadata": {},
   "outputs": [
    {
     "data": {
      "text/plain": [
       "array([2, 3, 4, 3, 3, 4, 4, 5, 0, 5, 3, 2, 3, 4, 1, 1, 3, 2, 1, 0])"
      ]
     },
     "execution_count": 233,
     "metadata": {},
     "output_type": "execute_result"
    }
   ],
   "source": [
    "le.fit_transform(df['Shirt Size'])"
   ]
  },
  {
   "cell_type": "code",
   "execution_count": 234,
   "id": "60ff0fa6",
   "metadata": {},
   "outputs": [
    {
     "data": {
      "text/plain": [
       "0      small\n",
       "1     xlarge\n",
       "2     xsmall\n",
       "3     xlarge\n",
       "4     xlarge\n",
       "5     xsmall\n",
       "6     xsmall\n",
       "7        xxl\n",
       "8      large\n",
       "9        xxl\n",
       "10    xlarge\n",
       "11     small\n",
       "12    xlarge\n",
       "13    xsmall\n",
       "14    medium\n",
       "15    medium\n",
       "16    xlarge\n",
       "17     small\n",
       "18    medium\n",
       "19     large\n",
       "Name: Shirt Size, dtype: object"
      ]
     },
     "execution_count": 234,
     "metadata": {},
     "output_type": "execute_result"
    }
   ],
   "source": [
    "df['Shirt Size']"
   ]
  },
  {
   "cell_type": "code",
   "execution_count": null,
   "id": "00050264",
   "metadata": {},
   "outputs": [],
   "source": []
  }
 ],
 "metadata": {
  "kernelspec": {
   "display_name": "Python 3 (ipykernel)",
   "language": "python",
   "name": "python3"
  },
  "language_info": {
   "codemirror_mode": {
    "name": "ipython",
    "version": 3
   },
   "file_extension": ".py",
   "mimetype": "text/x-python",
   "name": "python",
   "nbconvert_exporter": "python",
   "pygments_lexer": "ipython3",
   "version": "3.11.3"
  }
 },
 "nbformat": 4,
 "nbformat_minor": 5
}
