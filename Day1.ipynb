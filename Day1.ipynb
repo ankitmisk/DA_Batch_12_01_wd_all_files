{
 "cells": [
  {
   "cell_type": "code",
   "execution_count": 1,
   "id": "07f83279",
   "metadata": {},
   "outputs": [],
   "source": [
    "# # DA:-Data Analyst:- Designation:-\n",
    "\n",
    "# # Python:- More than \n",
    "\n",
    "# # after func:- DA\n",
    "\n",
    "# # Python:- Module:- Numpy, Pandas, Seaborn, Matplotlib\n",
    "\n",
    "# # Basic, Python:- R:- 7 days:- 10-12 hrs\n",
    "\n",
    "# Data:- databases/Files:- Python\n",
    "        \n",
    "# powerBI:- No Code\n",
    "    \n",
    "    \n",
    "    \n",
    "# python:\n",
    "    \n",
    "# # numpy:- numerical Python:- \n",
    "\n",
    "\n",
    "# a = [1,243,45,456]\n",
    "\n",
    "# b = [1,234,56,67]\n",
    "\n",
    "\n"
   ]
  },
  {
   "cell_type": "code",
   "execution_count": 6,
   "id": "0aabfdc4",
   "metadata": {},
   "outputs": [
    {
     "name": "stdout",
     "output_type": "stream",
     "text": [
      "[1, 40, 2520, 30552]\n"
     ]
    }
   ],
   "source": [
    "a = [1,2,45,456]\n",
    "\n",
    "b = [1,20,56,67]\n",
    "\n",
    "c = []\n",
    "for i,j in enumerate(a):\n",
    "    for k,l in enumerate(b):\n",
    "        if i == k:\n",
    "            c.append(j*l)\n",
    "print(c)"
   ]
  },
  {
   "cell_type": "code",
   "execution_count": 10,
   "id": "ca0b3233",
   "metadata": {},
   "outputs": [
    {
     "data": {
      "text/plain": [
       "array([    1,    40,  2520, 30552])"
      ]
     },
     "execution_count": 10,
     "metadata": {},
     "output_type": "execute_result"
    }
   ],
   "source": [
    "import numpy as np\n",
    "\n",
    "a = np.array([1,2,45,456])\n",
    "\n",
    "b = np.array([1,20,56,67])\n",
    "\n",
    "\n",
    "a*b"
   ]
  },
  {
   "cell_type": "code",
   "execution_count": 14,
   "id": "27e0873f",
   "metadata": {},
   "outputs": [],
   "source": [
    "# numpy:- 12% for DA\n",
    "# numy ML:- 40%\n",
    "# numpy AI:- 50%\n",
    "    \n",
    "# pandas:- Excel in Python:- pannel dataframe:- \n",
    "            \n",
    "# dataframe:- tabular structure:- table:- rows/columns\n",
    "\n",
    "# column\n",
    "# data mainuplation\n",
    "# data + data\n",
    "\n",
    "# data:- no limit\n",
    "    \n",
    "    \n",
    "# c- language\n",
    "# python:- c language\n",
    "\n",
    "\n",
    "# Pandas:- 60%:- \n",
    "# matplotlib:- 10%\n",
    "# seaborn:- 10%\n",
    "# stats & Excel:- 10%\n",
    "# sql:- 40%\n",
    "\n",
    "# Excel;- 60%\n",
    "\n",
    "# powerbi:- DA;- 20%\n",
    "\n",
    "# Powerbi developer:- 60%\n",
    "# sql:- 40\n",
    "# python:- 10-20 \n",
    "# Excel\n",
    "# story telling\n",
    "# ui:- easy:- microsoft:- easy integration:- DAX:- python, R\n",
    "# tableau:- Complex  DAX\n",
    "\n",
    "\n",
    "# Aws:- Quicksight\n",
    "\n",
    "\n",
    "# cloud:- Aws, GCP, Azure"
   ]
  },
  {
   "cell_type": "code",
   "execution_count": 15,
   "id": "316da9f7",
   "metadata": {},
   "outputs": [],
   "source": [
    "# numpy:- 12%\n",
    "\n",
    "# plotly:- Advance visual libraries in python"
   ]
  },
  {
   "cell_type": "code",
   "execution_count": 16,
   "id": "0f97b6df",
   "metadata": {},
   "outputs": [],
   "source": [
    "# numpy:- numerical python"
   ]
  },
  {
   "cell_type": "code",
   "execution_count": 17,
   "id": "852b3eae",
   "metadata": {},
   "outputs": [
    {
     "data": {
      "text/plain": [
       "[1, 2, 45, 456, 1, 20, 56, 67]"
      ]
     },
     "execution_count": 17,
     "metadata": {},
     "output_type": "execute_result"
    }
   ],
   "source": [
    "a = [1,2,45,456]\n",
    "\n",
    "b = [1,20,56,67]\n",
    "\n",
    "a + b"
   ]
  },
  {
   "cell_type": "code",
   "execution_count": 18,
   "id": "2d125c4e",
   "metadata": {},
   "outputs": [],
   "source": [
    "# array:- n dimesional data\n",
    "# 1d array\n",
    "# 2d array\n",
    "# 3d array\n",
    "# 4d array\n",
    "# 5d array\n",
    "# nd array"
   ]
  },
  {
   "cell_type": "code",
   "execution_count": 19,
   "id": "61c22a32",
   "metadata": {},
   "outputs": [
    {
     "name": "stdout",
     "output_type": "stream",
     "text": [
      "[1, 233, 5, 6]\n",
      "[  1 233   5   6]\n"
     ]
    }
   ],
   "source": [
    "a = [1,233,5,6]\n",
    "\n",
    "arr_a = np.array(a)\n",
    "\n",
    "print(a)\n",
    "print(arr_a)"
   ]
  },
  {
   "cell_type": "code",
   "execution_count": null,
   "id": "e82871fa",
   "metadata": {},
   "outputs": [],
   "source": []
  },
  {
   "cell_type": "code",
   "execution_count": null,
   "id": "6a4e8a9b",
   "metadata": {},
   "outputs": [],
   "source": []
  },
  {
   "cell_type": "code",
   "execution_count": 20,
   "id": "5f012ce8",
   "metadata": {},
   "outputs": [
    {
     "name": "stdout",
     "output_type": "stream",
     "text": [
      "['1', '233', 5, 6]\n",
      "['1' '233' '5' '6']\n"
     ]
    }
   ],
   "source": [
    "a = ['1','233',5,6]\n",
    "\n",
    "arr_a = np.array(a)\n",
    "\n",
    "print(a)\n",
    "print(arr_a)"
   ]
  },
  {
   "cell_type": "code",
   "execution_count": 22,
   "id": "376591ee",
   "metadata": {},
   "outputs": [],
   "source": [
    "# list:- can contain multiple data type\n",
    "# array:- can contain only one data type at a time"
   ]
  },
  {
   "cell_type": "code",
   "execution_count": 23,
   "id": "21acaccc",
   "metadata": {},
   "outputs": [
    {
     "name": "stdout",
     "output_type": "stream",
     "text": [
      "[23.6, 5, 6]\n",
      "[23.6  5.   6. ]\n"
     ]
    }
   ],
   "source": [
    "a = [23.6,5,6]\n",
    "\n",
    "arr_a = np.array(a)\n",
    "\n",
    "print(a)\n",
    "print(arr_a)"
   ]
  },
  {
   "cell_type": "code",
   "execution_count": 24,
   "id": "249fe50b",
   "metadata": {
    "scrolled": true
   },
   "outputs": [
    {
     "data": {
      "text/plain": [
       "dtype('float64')"
      ]
     },
     "execution_count": 24,
     "metadata": {},
     "output_type": "execute_result"
    }
   ],
   "source": [
    "arr_a.dtype"
   ]
  },
  {
   "cell_type": "code",
   "execution_count": null,
   "id": "bf69831b",
   "metadata": {},
   "outputs": [],
   "source": []
  },
  {
   "cell_type": "code",
   "execution_count": null,
   "id": "9ddcdbca",
   "metadata": {},
   "outputs": [],
   "source": [
    "16,32,64,128"
   ]
  },
  {
   "cell_type": "code",
   "execution_count": 26,
   "id": "32011efd",
   "metadata": {},
   "outputs": [],
   "source": [
    "arr_b = arr_a.astype('float16')"
   ]
  },
  {
   "cell_type": "code",
   "execution_count": 27,
   "id": "9bc00899",
   "metadata": {},
   "outputs": [
    {
     "data": {
      "text/plain": [
       "dtype('float64')"
      ]
     },
     "execution_count": 27,
     "metadata": {},
     "output_type": "execute_result"
    }
   ],
   "source": [
    "arr_a.dtype"
   ]
  },
  {
   "cell_type": "code",
   "execution_count": 28,
   "id": "0c153e69",
   "metadata": {},
   "outputs": [
    {
     "data": {
      "text/plain": [
       "dtype('float16')"
      ]
     },
     "execution_count": 28,
     "metadata": {},
     "output_type": "execute_result"
    }
   ],
   "source": [
    "arr_b.dtype"
   ]
  },
  {
   "cell_type": "code",
   "execution_count": 29,
   "id": "27d0aea2",
   "metadata": {},
   "outputs": [
    {
     "data": {
      "text/plain": [
       "array([23.6,  5. ,  6. ])"
      ]
     },
     "execution_count": 29,
     "metadata": {},
     "output_type": "execute_result"
    }
   ],
   "source": [
    "arr_a"
   ]
  },
  {
   "cell_type": "code",
   "execution_count": 30,
   "id": "2268d64c",
   "metadata": {},
   "outputs": [
    {
     "data": {
      "text/plain": [
       "array([23.6,  5. ,  6. ], dtype=float16)"
      ]
     },
     "execution_count": 30,
     "metadata": {},
     "output_type": "execute_result"
    }
   ],
   "source": [
    "arr_b"
   ]
  },
  {
   "cell_type": "code",
   "execution_count": 31,
   "id": "4e5f73e1",
   "metadata": {},
   "outputs": [
    {
     "data": {
      "text/plain": [
       "1"
      ]
     },
     "execution_count": 31,
     "metadata": {},
     "output_type": "execute_result"
    }
   ],
   "source": [
    "arr_2d = np.array([1,23,25])\n",
    "\n",
    "arr_2d.ndim"
   ]
  },
  {
   "cell_type": "code",
   "execution_count": 32,
   "id": "89ca3398",
   "metadata": {},
   "outputs": [
    {
     "data": {
      "text/plain": [
       "2"
      ]
     },
     "execution_count": 32,
     "metadata": {},
     "output_type": "execute_result"
    }
   ],
   "source": [
    "arr_2d = np.array([[1,23,25]])\n",
    "\n",
    "arr_2d.ndim"
   ]
  },
  {
   "cell_type": "code",
   "execution_count": 33,
   "id": "e3e303dd",
   "metadata": {},
   "outputs": [
    {
     "data": {
      "text/plain": [
       "3"
      ]
     },
     "execution_count": 33,
     "metadata": {},
     "output_type": "execute_result"
    }
   ],
   "source": [
    "arr_3d = np.array([[[1,23,25]]])\n",
    "\n",
    "arr_3d.ndim"
   ]
  },
  {
   "cell_type": "code",
   "execution_count": 34,
   "id": "8a772925",
   "metadata": {},
   "outputs": [
    {
     "name": "stdout",
     "output_type": "stream",
     "text": [
      "hello jatin How are you?\n"
     ]
    }
   ],
   "source": [
    "name = 'jatin'\n",
    "\n",
    "\n",
    "print('hello',name,'How are you?')"
   ]
  },
  {
   "cell_type": "code",
   "execution_count": 36,
   "id": "d33ac8ff",
   "metadata": {},
   "outputs": [
    {
     "name": "stdout",
     "output_type": "stream",
     "text": [
      "hello jatin How are you?\n"
     ]
    }
   ],
   "source": [
    "print(f'hello {name} How are you?')"
   ]
  },
  {
   "cell_type": "code",
   "execution_count": 39,
   "id": "861a9271",
   "metadata": {},
   "outputs": [
    {
     "data": {
      "text/plain": [
       "[2134, 578, 454]"
      ]
     },
     "execution_count": 39,
     "metadata": {},
     "output_type": "execute_result"
    }
   ],
   "source": [
    "a = [1,243,454,2134,36,578]\n",
    "a.sort(reverse=True)\n",
    "a[:3]"
   ]
  },
  {
   "cell_type": "code",
   "execution_count": null,
   "id": "1a239a28",
   "metadata": {},
   "outputs": [],
   "source": []
  }
 ],
 "metadata": {
  "kernelspec": {
   "display_name": "Python 3 (ipykernel)",
   "language": "python",
   "name": "python3"
  },
  "language_info": {
   "codemirror_mode": {
    "name": "ipython",
    "version": 3
   },
   "file_extension": ".py",
   "mimetype": "text/x-python",
   "name": "python",
   "nbconvert_exporter": "python",
   "pygments_lexer": "ipython3",
   "version": "3.11.3"
  }
 },
 "nbformat": 4,
 "nbformat_minor": 5
}
