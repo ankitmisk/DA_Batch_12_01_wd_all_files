{
 "cells": [
  {
   "cell_type": "code",
   "execution_count": 1,
   "id": "e01462e9",
   "metadata": {},
   "outputs": [],
   "source": [
    "# data Frame"
   ]
  },
  {
   "cell_type": "code",
   "execution_count": 3,
   "id": "2de2ed4a",
   "metadata": {},
   "outputs": [
    {
     "name": "stdout",
     "output_type": "stream",
     "text": [
      "done\n"
     ]
    }
   ],
   "source": [
    "import pandas as pd\n",
    "print('done')"
   ]
  },
  {
   "cell_type": "code",
   "execution_count": 4,
   "id": "e7632973",
   "metadata": {},
   "outputs": [],
   "source": [
    "# 1d_data = series\n",
    "# 2d_data = Multiple series rows and columns:- DF"
   ]
  },
  {
   "cell_type": "code",
   "execution_count": 5,
   "id": "e1254a95",
   "metadata": {},
   "outputs": [
    {
     "name": "stdout",
     "output_type": "stream",
     "text": [
      "['ArrowDtype', 'BooleanDtype', 'Categorical', 'CategoricalDtype', 'CategoricalIndex', 'DataFrame', 'DateOffset', 'DatetimeIndex', 'DatetimeTZDtype', 'ExcelFile', 'ExcelWriter', 'Flags', 'Float32Dtype', 'Float64Dtype', 'Grouper', 'HDFStore', 'Index', 'IndexSlice', 'Int16Dtype', 'Int32Dtype', 'Int64Dtype', 'Int8Dtype', 'Interval', 'IntervalDtype', 'IntervalIndex', 'MultiIndex', 'NA', 'NaT', 'NamedAgg', 'Period', 'PeriodDtype', 'PeriodIndex', 'RangeIndex', 'Series', 'SparseDtype', 'StringDtype', 'Timedelta', 'TimedeltaIndex', 'Timestamp', 'UInt16Dtype', 'UInt32Dtype', 'UInt64Dtype', 'UInt8Dtype', '__all__', '__builtins__', '__cached__', '__doc__', '__docformat__', '__file__', '__git_version__', '__loader__', '__name__', '__package__', '__path__', '__spec__', '__version__', '_built_with_meson', '_config', '_is_numpy_dev', '_libs', '_pandas_datetime_CAPI', '_pandas_parser_CAPI', '_testing', '_typing', '_version_meson', 'annotations', 'api', 'array', 'arrays', 'bdate_range', 'compat', 'concat', 'core', 'crosstab', 'cut', 'date_range', 'describe_option', 'errors', 'eval', 'factorize', 'from_dummies', 'get_dummies', 'get_option', 'infer_freq', 'interval_range', 'io', 'isna', 'isnull', 'json_normalize', 'lreshape', 'melt', 'merge', 'merge_asof', 'merge_ordered', 'notna', 'notnull', 'offsets', 'option_context', 'options', 'pandas', 'period_range', 'pivot', 'pivot_table', 'plotting', 'qcut', 'read_clipboard', 'read_csv', 'read_excel', 'read_feather', 'read_fwf', 'read_gbq', 'read_hdf', 'read_html', 'read_json', 'read_orc', 'read_parquet', 'read_pickle', 'read_sas', 'read_spss', 'read_sql', 'read_sql_query', 'read_sql_table', 'read_stata', 'read_table', 'read_xml', 'reset_option', 'set_eng_float_format', 'set_option', 'show_versions', 'test', 'testing', 'timedelta_range', 'to_datetime', 'to_numeric', 'to_pickle', 'to_timedelta', 'tseries', 'unique', 'util', 'value_counts', 'wide_to_long']\n"
     ]
    }
   ],
   "source": [
    "print(dir(pd))"
   ]
  },
  {
   "cell_type": "code",
   "execution_count": 6,
   "id": "a988e6b1",
   "metadata": {},
   "outputs": [],
   "source": [
    "# dataframe"
   ]
  },
  {
   "cell_type": "code",
   "execution_count": 7,
   "id": "2170c9e5",
   "metadata": {},
   "outputs": [],
   "source": [
    "# dict"
   ]
  },
  {
   "cell_type": "code",
   "execution_count": 12,
   "id": "aa304891",
   "metadata": {},
   "outputs": [],
   "source": [
    "data = {'Names':['Mohan','Sahil','Deepak','Naman'],\n",
    "       'Salary':[23456,87876,56789,87876],\n",
    "       'Address':['Noida','Delhi','Gr Noida','Gurgaon']}"
   ]
  },
  {
   "cell_type": "code",
   "execution_count": 13,
   "id": "32d52ca6",
   "metadata": {},
   "outputs": [
    {
     "data": {
      "text/html": [
       "<div>\n",
       "<style scoped>\n",
       "    .dataframe tbody tr th:only-of-type {\n",
       "        vertical-align: middle;\n",
       "    }\n",
       "\n",
       "    .dataframe tbody tr th {\n",
       "        vertical-align: top;\n",
       "    }\n",
       "\n",
       "    .dataframe thead th {\n",
       "        text-align: right;\n",
       "    }\n",
       "</style>\n",
       "<table border=\"1\" class=\"dataframe\">\n",
       "  <thead>\n",
       "    <tr style=\"text-align: right;\">\n",
       "      <th></th>\n",
       "      <th>Names</th>\n",
       "      <th>Salary</th>\n",
       "      <th>Address</th>\n",
       "    </tr>\n",
       "  </thead>\n",
       "  <tbody>\n",
       "    <tr>\n",
       "      <th>0</th>\n",
       "      <td>Mohan</td>\n",
       "      <td>23456</td>\n",
       "      <td>Noida</td>\n",
       "    </tr>\n",
       "    <tr>\n",
       "      <th>1</th>\n",
       "      <td>Sahil</td>\n",
       "      <td>87876</td>\n",
       "      <td>Delhi</td>\n",
       "    </tr>\n",
       "    <tr>\n",
       "      <th>2</th>\n",
       "      <td>Deepak</td>\n",
       "      <td>56789</td>\n",
       "      <td>Gr Noida</td>\n",
       "    </tr>\n",
       "    <tr>\n",
       "      <th>3</th>\n",
       "      <td>Naman</td>\n",
       "      <td>87876</td>\n",
       "      <td>Gurgaon</td>\n",
       "    </tr>\n",
       "  </tbody>\n",
       "</table>\n",
       "</div>"
      ],
      "text/plain": [
       "    Names  Salary   Address\n",
       "0   Mohan   23456     Noida\n",
       "1   Sahil   87876     Delhi\n",
       "2  Deepak   56789  Gr Noida\n",
       "3   Naman   87876   Gurgaon"
      ]
     },
     "execution_count": 13,
     "metadata": {},
     "output_type": "execute_result"
    }
   ],
   "source": [
    "pd.DataFrame(data)"
   ]
  },
  {
   "cell_type": "code",
   "execution_count": 23,
   "id": "a7438e92",
   "metadata": {},
   "outputs": [
    {
     "data": {
      "text/html": [
       "<div>\n",
       "<style scoped>\n",
       "    .dataframe tbody tr th:only-of-type {\n",
       "        vertical-align: middle;\n",
       "    }\n",
       "\n",
       "    .dataframe tbody tr th {\n",
       "        vertical-align: top;\n",
       "    }\n",
       "\n",
       "    .dataframe thead th {\n",
       "        text-align: right;\n",
       "    }\n",
       "</style>\n",
       "<table border=\"1\" class=\"dataframe\">\n",
       "  <thead>\n",
       "    <tr style=\"text-align: right;\">\n",
       "      <th></th>\n",
       "      <th>Col_1</th>\n",
       "      <th>Col_2</th>\n",
       "      <th>Col_3</th>\n",
       "      <th>Col_4</th>\n",
       "      <th>Col_5</th>\n",
       "    </tr>\n",
       "  </thead>\n",
       "  <tbody>\n",
       "    <tr>\n",
       "      <th>0</th>\n",
       "      <td>1</td>\n",
       "      <td>2</td>\n",
       "      <td>3</td>\n",
       "      <td>4</td>\n",
       "      <td>5</td>\n",
       "    </tr>\n",
       "    <tr>\n",
       "      <th>1</th>\n",
       "      <td>2</td>\n",
       "      <td>2</td>\n",
       "      <td>2</td>\n",
       "      <td>2</td>\n",
       "      <td>6</td>\n",
       "    </tr>\n",
       "    <tr>\n",
       "      <th>2</th>\n",
       "      <td>3</td>\n",
       "      <td>3</td>\n",
       "      <td>3</td>\n",
       "      <td>3</td>\n",
       "      <td>9</td>\n",
       "    </tr>\n",
       "  </tbody>\n",
       "</table>\n",
       "</div>"
      ],
      "text/plain": [
       "   Col_1  Col_2  Col_3  Col_4  Col_5\n",
       "0      1      2      3      4      5\n",
       "1      2      2      2      2      6\n",
       "2      3      3      3      3      9"
      ]
     },
     "execution_count": 23,
     "metadata": {},
     "output_type": "execute_result"
    }
   ],
   "source": [
    "# list of list\n",
    "\n",
    "data = [[1,2,3,4,5],\n",
    "       [2,2,2,2,6],\n",
    "       [3,3,3,3,9]]\n",
    "\n",
    "pd.DataFrame(data,columns=['Col_'+str(i+1) for i in range(len(data[0]))])"
   ]
  },
  {
   "cell_type": "code",
   "execution_count": 20,
   "id": "b5f6e768",
   "metadata": {},
   "outputs": [
    {
     "data": {
      "text/plain": [
       "4"
      ]
     },
     "execution_count": 20,
     "metadata": {},
     "output_type": "execute_result"
    }
   ],
   "source": [
    "len(data)+1"
   ]
  },
  {
   "cell_type": "code",
   "execution_count": 28,
   "id": "f25548d8",
   "metadata": {},
   "outputs": [
    {
     "data": {
      "text/html": [
       "<div>\n",
       "<style scoped>\n",
       "    .dataframe tbody tr th:only-of-type {\n",
       "        vertical-align: middle;\n",
       "    }\n",
       "\n",
       "    .dataframe tbody tr th {\n",
       "        vertical-align: top;\n",
       "    }\n",
       "\n",
       "    .dataframe thead th {\n",
       "        text-align: right;\n",
       "    }\n",
       "</style>\n",
       "<table border=\"1\" class=\"dataframe\">\n",
       "  <thead>\n",
       "    <tr style=\"text-align: right;\">\n",
       "      <th></th>\n",
       "      <th>Col_1</th>\n",
       "      <th>Col_2</th>\n",
       "      <th>Col_3</th>\n",
       "      <th>Col_4</th>\n",
       "      <th>Col_5</th>\n",
       "    </tr>\n",
       "  </thead>\n",
       "  <tbody>\n",
       "    <tr>\n",
       "      <th>10</th>\n",
       "      <td>1</td>\n",
       "      <td>2</td>\n",
       "      <td>3</td>\n",
       "      <td>4</td>\n",
       "      <td>5</td>\n",
       "    </tr>\n",
       "    <tr>\n",
       "      <th>11</th>\n",
       "      <td>2</td>\n",
       "      <td>2</td>\n",
       "      <td>2</td>\n",
       "      <td>2</td>\n",
       "      <td>6</td>\n",
       "    </tr>\n",
       "    <tr>\n",
       "      <th>12</th>\n",
       "      <td>3</td>\n",
       "      <td>3</td>\n",
       "      <td>3</td>\n",
       "      <td>3</td>\n",
       "      <td>9</td>\n",
       "    </tr>\n",
       "  </tbody>\n",
       "</table>\n",
       "</div>"
      ],
      "text/plain": [
       "    Col_1  Col_2  Col_3  Col_4  Col_5\n",
       "10      1      2      3      4      5\n",
       "11      2      2      2      2      6\n",
       "12      3      3      3      3      9"
      ]
     },
     "execution_count": 28,
     "metadata": {},
     "output_type": "execute_result"
    }
   ],
   "source": [
    "# list of list\n",
    "\n",
    "data = [[1,2,3,4,5],\n",
    "       [2,2,2,2,6],\n",
    "       [3,3,3,3,9]]\n",
    "\n",
    "pd.DataFrame(data,index = range(10,len(data)+10),\n",
    "             columns=['Col_'+str(i+1) for i in range(len(data[0]))])"
   ]
  },
  {
   "cell_type": "code",
   "execution_count": null,
   "id": "2aaf9009",
   "metadata": {},
   "outputs": [],
   "source": []
  },
  {
   "cell_type": "code",
   "execution_count": null,
   "id": "6d7fbd47",
   "metadata": {},
   "outputs": [],
   "source": []
  },
  {
   "cell_type": "code",
   "execution_count": 29,
   "id": "b820179d",
   "metadata": {},
   "outputs": [
    {
     "data": {
      "text/html": [
       "<div>\n",
       "<style scoped>\n",
       "    .dataframe tbody tr th:only-of-type {\n",
       "        vertical-align: middle;\n",
       "    }\n",
       "\n",
       "    .dataframe tbody tr th {\n",
       "        vertical-align: top;\n",
       "    }\n",
       "\n",
       "    .dataframe thead th {\n",
       "        text-align: right;\n",
       "    }\n",
       "</style>\n",
       "<table border=\"1\" class=\"dataframe\">\n",
       "  <thead>\n",
       "    <tr style=\"text-align: right;\">\n",
       "      <th></th>\n",
       "      <th>Col_1</th>\n",
       "      <th>Col_2</th>\n",
       "      <th>Col_3</th>\n",
       "      <th>Col_4</th>\n",
       "      <th>Col_5</th>\n",
       "    </tr>\n",
       "  </thead>\n",
       "  <tbody>\n",
       "    <tr>\n",
       "      <th>10</th>\n",
       "      <td>1</td>\n",
       "      <td>2</td>\n",
       "      <td>3</td>\n",
       "      <td>4</td>\n",
       "      <td>5</td>\n",
       "    </tr>\n",
       "    <tr>\n",
       "      <th>11</th>\n",
       "      <td>2</td>\n",
       "      <td>2</td>\n",
       "      <td>2</td>\n",
       "      <td>2</td>\n",
       "      <td>6</td>\n",
       "    </tr>\n",
       "    <tr>\n",
       "      <th>12</th>\n",
       "      <td>3</td>\n",
       "      <td>3</td>\n",
       "      <td>3</td>\n",
       "      <td>3</td>\n",
       "      <td>9</td>\n",
       "    </tr>\n",
       "  </tbody>\n",
       "</table>\n",
       "</div>"
      ],
      "text/plain": [
       "    Col_1  Col_2  Col_3  Col_4  Col_5\n",
       "10      1      2      3      4      5\n",
       "11      2      2      2      2      6\n",
       "12      3      3      3      3      9"
      ]
     },
     "execution_count": 29,
     "metadata": {},
     "output_type": "execute_result"
    }
   ],
   "source": [
    "# tupl of tuple\n",
    "\n",
    "data = ((1,2,3,4,5),\n",
    "       (2,2,2,2,6),\n",
    "       (3,3,3,3,9))\n",
    "\n",
    "pd.DataFrame(data,index = range(10,len(data)+10),\n",
    "             columns=['Col_'+str(i+1) for i in range(len(data[0]))])"
   ]
  },
  {
   "cell_type": "code",
   "execution_count": 30,
   "id": "162df040",
   "metadata": {},
   "outputs": [
    {
     "data": {
      "text/html": [
       "<div>\n",
       "<style scoped>\n",
       "    .dataframe tbody tr th:only-of-type {\n",
       "        vertical-align: middle;\n",
       "    }\n",
       "\n",
       "    .dataframe tbody tr th {\n",
       "        vertical-align: top;\n",
       "    }\n",
       "\n",
       "    .dataframe thead th {\n",
       "        text-align: right;\n",
       "    }\n",
       "</style>\n",
       "<table border=\"1\" class=\"dataframe\">\n",
       "  <thead>\n",
       "    <tr style=\"text-align: right;\">\n",
       "      <th></th>\n",
       "      <th>Col_1</th>\n",
       "      <th>Col_2</th>\n",
       "      <th>Col_3</th>\n",
       "      <th>Col_4</th>\n",
       "      <th>Col_5</th>\n",
       "    </tr>\n",
       "  </thead>\n",
       "  <tbody>\n",
       "    <tr>\n",
       "      <th>10</th>\n",
       "      <td>1</td>\n",
       "      <td>2</td>\n",
       "      <td>3</td>\n",
       "      <td>4</td>\n",
       "      <td>5</td>\n",
       "    </tr>\n",
       "    <tr>\n",
       "      <th>11</th>\n",
       "      <td>2</td>\n",
       "      <td>2</td>\n",
       "      <td>2</td>\n",
       "      <td>2</td>\n",
       "      <td>6</td>\n",
       "    </tr>\n",
       "    <tr>\n",
       "      <th>12</th>\n",
       "      <td>3</td>\n",
       "      <td>3</td>\n",
       "      <td>3</td>\n",
       "      <td>3</td>\n",
       "      <td>9</td>\n",
       "    </tr>\n",
       "  </tbody>\n",
       "</table>\n",
       "</div>"
      ],
      "text/plain": [
       "    Col_1  Col_2  Col_3  Col_4  Col_5\n",
       "10      1      2      3      4      5\n",
       "11      2      2      2      2      6\n",
       "12      3      3      3      3      9"
      ]
     },
     "execution_count": 30,
     "metadata": {},
     "output_type": "execute_result"
    }
   ],
   "source": [
    "# list of tuple\n",
    "\n",
    "data = [(1,2,3,4,5),\n",
    "       (2,2,2,2,6),\n",
    "       (3,3,3,3,9)]\n",
    "\n",
    "pd.DataFrame(data,index = range(10,len(data)+10),\n",
    "             columns=['Col_'+str(i+1) for i in range(len(data[0]))])"
   ]
  },
  {
   "cell_type": "code",
   "execution_count": null,
   "id": "05205ad2",
   "metadata": {},
   "outputs": [],
   "source": []
  },
  {
   "cell_type": "code",
   "execution_count": 31,
   "id": "acd9b504",
   "metadata": {},
   "outputs": [
    {
     "data": {
      "text/html": [
       "<div>\n",
       "<style scoped>\n",
       "    .dataframe tbody tr th:only-of-type {\n",
       "        vertical-align: middle;\n",
       "    }\n",
       "\n",
       "    .dataframe tbody tr th {\n",
       "        vertical-align: top;\n",
       "    }\n",
       "\n",
       "    .dataframe thead th {\n",
       "        text-align: right;\n",
       "    }\n",
       "</style>\n",
       "<table border=\"1\" class=\"dataframe\">\n",
       "  <thead>\n",
       "    <tr style=\"text-align: right;\">\n",
       "      <th></th>\n",
       "      <th>Col_1</th>\n",
       "      <th>Col_2</th>\n",
       "      <th>Col_3</th>\n",
       "      <th>Col_4</th>\n",
       "      <th>Col_5</th>\n",
       "    </tr>\n",
       "  </thead>\n",
       "  <tbody>\n",
       "    <tr>\n",
       "      <th>10</th>\n",
       "      <td>1</td>\n",
       "      <td>2</td>\n",
       "      <td>3</td>\n",
       "      <td>4</td>\n",
       "      <td>5</td>\n",
       "    </tr>\n",
       "    <tr>\n",
       "      <th>11</th>\n",
       "      <td>2</td>\n",
       "      <td>2</td>\n",
       "      <td>2</td>\n",
       "      <td>2</td>\n",
       "      <td>6</td>\n",
       "    </tr>\n",
       "    <tr>\n",
       "      <th>12</th>\n",
       "      <td>3</td>\n",
       "      <td>3</td>\n",
       "      <td>3</td>\n",
       "      <td>3</td>\n",
       "      <td>9</td>\n",
       "    </tr>\n",
       "  </tbody>\n",
       "</table>\n",
       "</div>"
      ],
      "text/plain": [
       "    Col_1  Col_2  Col_3  Col_4  Col_5\n",
       "10      1      2      3      4      5\n",
       "11      2      2      2      2      6\n",
       "12      3      3      3      3      9"
      ]
     },
     "execution_count": 31,
     "metadata": {},
     "output_type": "execute_result"
    }
   ],
   "source": [
    "# tuple of list\n",
    "\n",
    "data = [(1,2,3,4,5),\n",
    "       (2,2,2,2,6),\n",
    "       (3,3,3,3,9)]\n",
    "\n",
    "pd.DataFrame(data,index = range(10,len(data)+10),\n",
    "             columns=['Col_'+str(i+1) for i in range(len(data[0]))])"
   ]
  },
  {
   "cell_type": "code",
   "execution_count": null,
   "id": "26c2aabf",
   "metadata": {},
   "outputs": [],
   "source": []
  },
  {
   "cell_type": "code",
   "execution_count": 33,
   "id": "b8f064b9",
   "metadata": {},
   "outputs": [],
   "source": [
    "# array\n",
    "import numpy as np"
   ]
  },
  {
   "cell_type": "code",
   "execution_count": 34,
   "id": "eacc6d42",
   "metadata": {},
   "outputs": [
    {
     "data": {
      "text/html": [
       "<div>\n",
       "<style scoped>\n",
       "    .dataframe tbody tr th:only-of-type {\n",
       "        vertical-align: middle;\n",
       "    }\n",
       "\n",
       "    .dataframe tbody tr th {\n",
       "        vertical-align: top;\n",
       "    }\n",
       "\n",
       "    .dataframe thead th {\n",
       "        text-align: right;\n",
       "    }\n",
       "</style>\n",
       "<table border=\"1\" class=\"dataframe\">\n",
       "  <thead>\n",
       "    <tr style=\"text-align: right;\">\n",
       "      <th></th>\n",
       "      <th>Col_1</th>\n",
       "      <th>Col_2</th>\n",
       "      <th>Col_3</th>\n",
       "      <th>Col_4</th>\n",
       "      <th>Col_5</th>\n",
       "    </tr>\n",
       "  </thead>\n",
       "  <tbody>\n",
       "    <tr>\n",
       "      <th>10</th>\n",
       "      <td>1</td>\n",
       "      <td>2</td>\n",
       "      <td>3</td>\n",
       "      <td>4</td>\n",
       "      <td>5</td>\n",
       "    </tr>\n",
       "    <tr>\n",
       "      <th>11</th>\n",
       "      <td>2</td>\n",
       "      <td>2</td>\n",
       "      <td>2</td>\n",
       "      <td>2</td>\n",
       "      <td>6</td>\n",
       "    </tr>\n",
       "    <tr>\n",
       "      <th>12</th>\n",
       "      <td>3</td>\n",
       "      <td>3</td>\n",
       "      <td>3</td>\n",
       "      <td>3</td>\n",
       "      <td>9</td>\n",
       "    </tr>\n",
       "  </tbody>\n",
       "</table>\n",
       "</div>"
      ],
      "text/plain": [
       "    Col_1  Col_2  Col_3  Col_4  Col_5\n",
       "10      1      2      3      4      5\n",
       "11      2      2      2      2      6\n",
       "12      3      3      3      3      9"
      ]
     },
     "execution_count": 34,
     "metadata": {},
     "output_type": "execute_result"
    }
   ],
   "source": [
    "data = np.array([[1,2,3,4,5],\n",
    "       [2,2,2,2,6],\n",
    "       [3,3,3,3,9]])\n",
    "\n",
    "pd.DataFrame(data,index = range(10,len(data)+10),\n",
    "             columns=['Col_'+str(i+1) for i in range(len(data[0]))])"
   ]
  },
  {
   "cell_type": "code",
   "execution_count": null,
   "id": "4b86d519",
   "metadata": {},
   "outputs": [],
   "source": []
  },
  {
   "cell_type": "code",
   "execution_count": 38,
   "id": "697a89e2",
   "metadata": {},
   "outputs": [
    {
     "data": {
      "text/html": [
       "<div>\n",
       "<style scoped>\n",
       "    .dataframe tbody tr th:only-of-type {\n",
       "        vertical-align: middle;\n",
       "    }\n",
       "\n",
       "    .dataframe tbody tr th {\n",
       "        vertical-align: top;\n",
       "    }\n",
       "\n",
       "    .dataframe thead th {\n",
       "        text-align: right;\n",
       "    }\n",
       "</style>\n",
       "<table border=\"1\" class=\"dataframe\">\n",
       "  <thead>\n",
       "    <tr style=\"text-align: right;\">\n",
       "      <th></th>\n",
       "      <th>Col_1</th>\n",
       "      <th>Col_2</th>\n",
       "      <th>Col_3</th>\n",
       "      <th>Col_4</th>\n",
       "      <th>Col_5</th>\n",
       "    </tr>\n",
       "  </thead>\n",
       "  <tbody>\n",
       "    <tr>\n",
       "      <th>0</th>\n",
       "      <td>5</td>\n",
       "      <td>5</td>\n",
       "      <td>5</td>\n",
       "      <td>5</td>\n",
       "      <td>5</td>\n",
       "    </tr>\n",
       "    <tr>\n",
       "      <th>1</th>\n",
       "      <td>5</td>\n",
       "      <td>5</td>\n",
       "      <td>5</td>\n",
       "      <td>5</td>\n",
       "      <td>5</td>\n",
       "    </tr>\n",
       "    <tr>\n",
       "      <th>2</th>\n",
       "      <td>5</td>\n",
       "      <td>5</td>\n",
       "      <td>5</td>\n",
       "      <td>5</td>\n",
       "      <td>5</td>\n",
       "    </tr>\n",
       "    <tr>\n",
       "      <th>3</th>\n",
       "      <td>5</td>\n",
       "      <td>5</td>\n",
       "      <td>5</td>\n",
       "      <td>5</td>\n",
       "      <td>5</td>\n",
       "    </tr>\n",
       "    <tr>\n",
       "      <th>4</th>\n",
       "      <td>5</td>\n",
       "      <td>5</td>\n",
       "      <td>5</td>\n",
       "      <td>5</td>\n",
       "      <td>5</td>\n",
       "    </tr>\n",
       "  </tbody>\n",
       "</table>\n",
       "</div>"
      ],
      "text/plain": [
       "   Col_1  Col_2  Col_3  Col_4  Col_5\n",
       "0      5      5      5      5      5\n",
       "1      5      5      5      5      5\n",
       "2      5      5      5      5      5\n",
       "3      5      5      5      5      5\n",
       "4      5      5      5      5      5"
      ]
     },
     "execution_count": 38,
     "metadata": {},
     "output_type": "execute_result"
    }
   ],
   "source": [
    "data = np.full((5,5),5)\n",
    "\n",
    "pd.DataFrame(data,\n",
    "             columns=['Col_'+str(i+1) for i in range(len(data[0]))])"
   ]
  },
  {
   "cell_type": "code",
   "execution_count": 40,
   "id": "19b3479d",
   "metadata": {},
   "outputs": [
    {
     "ename": "ValueError",
     "evalue": "Must pass 2-d input. shape=(3, 3, 3)",
     "output_type": "error",
     "traceback": [
      "\u001b[1;31m---------------------------------------------------------------------------\u001b[0m",
      "\u001b[1;31mValueError\u001b[0m                                Traceback (most recent call last)",
      "Cell \u001b[1;32mIn[40], line 3\u001b[0m\n\u001b[0;32m      1\u001b[0m data \u001b[38;5;241m=\u001b[39m np\u001b[38;5;241m.\u001b[39mrandom\u001b[38;5;241m.\u001b[39mrandint(\u001b[38;5;241m1\u001b[39m,\u001b[38;5;241m100\u001b[39m,(\u001b[38;5;241m3\u001b[39m,\u001b[38;5;241m3\u001b[39m,\u001b[38;5;241m3\u001b[39m))\n\u001b[1;32m----> 3\u001b[0m pd\u001b[38;5;241m.\u001b[39mDataFrame(data,index \u001b[38;5;241m=\u001b[39m \u001b[38;5;28mrange\u001b[39m(\u001b[38;5;241m10\u001b[39m,\u001b[38;5;28mlen\u001b[39m(data)\u001b[38;5;241m+\u001b[39m\u001b[38;5;241m10\u001b[39m),\n\u001b[0;32m      4\u001b[0m              columns\u001b[38;5;241m=\u001b[39m[\u001b[38;5;124m'\u001b[39m\u001b[38;5;124mCol_\u001b[39m\u001b[38;5;124m'\u001b[39m\u001b[38;5;241m+\u001b[39m\u001b[38;5;28mstr\u001b[39m(i\u001b[38;5;241m+\u001b[39m\u001b[38;5;241m1\u001b[39m) \u001b[38;5;28;01mfor\u001b[39;00m i \u001b[38;5;129;01min\u001b[39;00m \u001b[38;5;28mrange\u001b[39m(\u001b[38;5;28mlen\u001b[39m(data[\u001b[38;5;241m0\u001b[39m]))])\n",
      "File \u001b[1;32m~\\anaconda3\\Lib\\site-packages\\pandas\\core\\frame.py:827\u001b[0m, in \u001b[0;36mDataFrame.__init__\u001b[1;34m(self, data, index, columns, dtype, copy)\u001b[0m\n\u001b[0;32m    816\u001b[0m         mgr \u001b[38;5;241m=\u001b[39m dict_to_mgr(\n\u001b[0;32m    817\u001b[0m             \u001b[38;5;66;03m# error: Item \"ndarray\" of \"Union[ndarray, Series, Index]\" has no\u001b[39;00m\n\u001b[0;32m    818\u001b[0m             \u001b[38;5;66;03m# attribute \"name\"\u001b[39;00m\n\u001b[1;32m   (...)\u001b[0m\n\u001b[0;32m    824\u001b[0m             copy\u001b[38;5;241m=\u001b[39m_copy,\n\u001b[0;32m    825\u001b[0m         )\n\u001b[0;32m    826\u001b[0m     \u001b[38;5;28;01melse\u001b[39;00m:\n\u001b[1;32m--> 827\u001b[0m         mgr \u001b[38;5;241m=\u001b[39m ndarray_to_mgr(\n\u001b[0;32m    828\u001b[0m             data,\n\u001b[0;32m    829\u001b[0m             index,\n\u001b[0;32m    830\u001b[0m             columns,\n\u001b[0;32m    831\u001b[0m             dtype\u001b[38;5;241m=\u001b[39mdtype,\n\u001b[0;32m    832\u001b[0m             copy\u001b[38;5;241m=\u001b[39mcopy,\n\u001b[0;32m    833\u001b[0m             typ\u001b[38;5;241m=\u001b[39mmanager,\n\u001b[0;32m    834\u001b[0m         )\n\u001b[0;32m    836\u001b[0m \u001b[38;5;66;03m# For data is list-like, or Iterable (will consume into list)\u001b[39;00m\n\u001b[0;32m    837\u001b[0m \u001b[38;5;28;01melif\u001b[39;00m is_list_like(data):\n",
      "File \u001b[1;32m~\\anaconda3\\Lib\\site-packages\\pandas\\core\\internals\\construction.py:314\u001b[0m, in \u001b[0;36mndarray_to_mgr\u001b[1;34m(values, index, columns, dtype, copy, typ)\u001b[0m\n\u001b[0;32m    308\u001b[0m     _copy \u001b[38;5;241m=\u001b[39m (\n\u001b[0;32m    309\u001b[0m         copy_on_sanitize\n\u001b[0;32m    310\u001b[0m         \u001b[38;5;28;01mif\u001b[39;00m (dtype \u001b[38;5;129;01mis\u001b[39;00m \u001b[38;5;28;01mNone\u001b[39;00m \u001b[38;5;129;01mor\u001b[39;00m astype_is_view(values\u001b[38;5;241m.\u001b[39mdtype, dtype))\n\u001b[0;32m    311\u001b[0m         \u001b[38;5;28;01melse\u001b[39;00m \u001b[38;5;28;01mFalse\u001b[39;00m\n\u001b[0;32m    312\u001b[0m     )\n\u001b[0;32m    313\u001b[0m     values \u001b[38;5;241m=\u001b[39m np\u001b[38;5;241m.\u001b[39marray(values, copy\u001b[38;5;241m=\u001b[39m_copy)\n\u001b[1;32m--> 314\u001b[0m     values \u001b[38;5;241m=\u001b[39m _ensure_2d(values)\n\u001b[0;32m    316\u001b[0m \u001b[38;5;28;01melse\u001b[39;00m:\n\u001b[0;32m    317\u001b[0m     \u001b[38;5;66;03m# by definition an array here\u001b[39;00m\n\u001b[0;32m    318\u001b[0m     \u001b[38;5;66;03m# the dtypes will be coerced to a single dtype\u001b[39;00m\n\u001b[0;32m    319\u001b[0m     values \u001b[38;5;241m=\u001b[39m _prep_ndarraylike(values, copy\u001b[38;5;241m=\u001b[39mcopy_on_sanitize)\n",
      "File \u001b[1;32m~\\anaconda3\\Lib\\site-packages\\pandas\\core\\internals\\construction.py:592\u001b[0m, in \u001b[0;36m_ensure_2d\u001b[1;34m(values)\u001b[0m\n\u001b[0;32m    590\u001b[0m     values \u001b[38;5;241m=\u001b[39m values\u001b[38;5;241m.\u001b[39mreshape((values\u001b[38;5;241m.\u001b[39mshape[\u001b[38;5;241m0\u001b[39m], \u001b[38;5;241m1\u001b[39m))\n\u001b[0;32m    591\u001b[0m \u001b[38;5;28;01melif\u001b[39;00m values\u001b[38;5;241m.\u001b[39mndim \u001b[38;5;241m!=\u001b[39m \u001b[38;5;241m2\u001b[39m:\n\u001b[1;32m--> 592\u001b[0m     \u001b[38;5;28;01mraise\u001b[39;00m \u001b[38;5;167;01mValueError\u001b[39;00m(\u001b[38;5;124mf\u001b[39m\u001b[38;5;124m\"\u001b[39m\u001b[38;5;124mMust pass 2-d input. shape=\u001b[39m\u001b[38;5;132;01m{\u001b[39;00mvalues\u001b[38;5;241m.\u001b[39mshape\u001b[38;5;132;01m}\u001b[39;00m\u001b[38;5;124m\"\u001b[39m)\n\u001b[0;32m    593\u001b[0m \u001b[38;5;28;01mreturn\u001b[39;00m values\n",
      "\u001b[1;31mValueError\u001b[0m: Must pass 2-d input. shape=(3, 3, 3)"
     ]
    }
   ],
   "source": [
    "data = np.random.randint(1,100,(3,3,3))\n",
    "\n",
    "pd.DataFrame(data,index = range(10,len(data)+10),\n",
    "             columns=['Col_'+str(i+1) for i in range(len(data[0]))])"
   ]
  },
  {
   "cell_type": "code",
   "execution_count": null,
   "id": "1f340fdf",
   "metadata": {},
   "outputs": [],
   "source": []
  },
  {
   "cell_type": "code",
   "execution_count": 41,
   "id": "6dd77fdd",
   "metadata": {},
   "outputs": [
    {
     "data": {
      "text/html": [
       "<div>\n",
       "<style scoped>\n",
       "    .dataframe tbody tr th:only-of-type {\n",
       "        vertical-align: middle;\n",
       "    }\n",
       "\n",
       "    .dataframe tbody tr th {\n",
       "        vertical-align: top;\n",
       "    }\n",
       "\n",
       "    .dataframe thead th {\n",
       "        text-align: right;\n",
       "    }\n",
       "</style>\n",
       "<table border=\"1\" class=\"dataframe\">\n",
       "  <thead>\n",
       "    <tr style=\"text-align: right;\">\n",
       "      <th></th>\n",
       "      <th>Col_1</th>\n",
       "      <th>Col_2</th>\n",
       "      <th>Col_3</th>\n",
       "      <th>Col_4</th>\n",
       "      <th>Col_5</th>\n",
       "    </tr>\n",
       "  </thead>\n",
       "  <tbody>\n",
       "    <tr>\n",
       "      <th>0</th>\n",
       "      <td>5.0-7.0j</td>\n",
       "      <td>5.0-7.0j</td>\n",
       "      <td>5.0-7.0j</td>\n",
       "      <td>5.0-7.0j</td>\n",
       "      <td>5.0-7.0j</td>\n",
       "    </tr>\n",
       "    <tr>\n",
       "      <th>1</th>\n",
       "      <td>5.0-7.0j</td>\n",
       "      <td>5.0-7.0j</td>\n",
       "      <td>5.0-7.0j</td>\n",
       "      <td>5.0-7.0j</td>\n",
       "      <td>5.0-7.0j</td>\n",
       "    </tr>\n",
       "    <tr>\n",
       "      <th>2</th>\n",
       "      <td>5.0-7.0j</td>\n",
       "      <td>5.0-7.0j</td>\n",
       "      <td>5.0-7.0j</td>\n",
       "      <td>5.0-7.0j</td>\n",
       "      <td>5.0-7.0j</td>\n",
       "    </tr>\n",
       "    <tr>\n",
       "      <th>3</th>\n",
       "      <td>5.0-7.0j</td>\n",
       "      <td>5.0-7.0j</td>\n",
       "      <td>5.0-7.0j</td>\n",
       "      <td>5.0-7.0j</td>\n",
       "      <td>5.0-7.0j</td>\n",
       "    </tr>\n",
       "    <tr>\n",
       "      <th>4</th>\n",
       "      <td>5.0-7.0j</td>\n",
       "      <td>5.0-7.0j</td>\n",
       "      <td>5.0-7.0j</td>\n",
       "      <td>5.0-7.0j</td>\n",
       "      <td>5.0-7.0j</td>\n",
       "    </tr>\n",
       "  </tbody>\n",
       "</table>\n",
       "</div>"
      ],
      "text/plain": [
       "      Col_1     Col_2     Col_3     Col_4     Col_5\n",
       "0  5.0-7.0j  5.0-7.0j  5.0-7.0j  5.0-7.0j  5.0-7.0j\n",
       "1  5.0-7.0j  5.0-7.0j  5.0-7.0j  5.0-7.0j  5.0-7.0j\n",
       "2  5.0-7.0j  5.0-7.0j  5.0-7.0j  5.0-7.0j  5.0-7.0j\n",
       "3  5.0-7.0j  5.0-7.0j  5.0-7.0j  5.0-7.0j  5.0-7.0j\n",
       "4  5.0-7.0j  5.0-7.0j  5.0-7.0j  5.0-7.0j  5.0-7.0j"
      ]
     },
     "execution_count": 41,
     "metadata": {},
     "output_type": "execute_result"
    }
   ],
   "source": [
    "# \n",
    "\n",
    "data = np.full((5,5),5-7j)\n",
    "\n",
    "pd.DataFrame(data,\n",
    "             columns=['Col_'+str(i+1) for i in range(len(data[0]))])"
   ]
  },
  {
   "cell_type": "code",
   "execution_count": null,
   "id": "a1c0e234",
   "metadata": {},
   "outputs": [],
   "source": []
  },
  {
   "cell_type": "code",
   "execution_count": 42,
   "id": "4b3a4802",
   "metadata": {},
   "outputs": [],
   "source": [
    "# read_csv"
   ]
  },
  {
   "cell_type": "code",
   "execution_count": 43,
   "id": "318787a3",
   "metadata": {},
   "outputs": [],
   "source": [
    "# read_excel"
   ]
  },
  {
   "cell_type": "code",
   "execution_count": 44,
   "id": "b58846e0",
   "metadata": {},
   "outputs": [],
   "source": [
    "# read_json"
   ]
  },
  {
   "cell_type": "code",
   "execution_count": null,
   "id": "809c163c",
   "metadata": {},
   "outputs": [],
   "source": []
  },
  {
   "cell_type": "code",
   "execution_count": 75,
   "id": "af9da7e5",
   "metadata": {},
   "outputs": [],
   "source": [
    "data = '''Name,Age,Salary\n",
    "Aman,12,87654\n",
    "karan,23,98765'''"
   ]
  },
  {
   "cell_type": "code",
   "execution_count": 76,
   "id": "f49ee5c7",
   "metadata": {},
   "outputs": [
    {
     "data": {
      "text/plain": [
       "['Name,Age,Salary', 'Aman,12,87654', 'karan,23,98765']"
      ]
     },
     "execution_count": 76,
     "metadata": {},
     "output_type": "execute_result"
    }
   ],
   "source": [
    "[i for i in data.splitlines()]"
   ]
  },
  {
   "cell_type": "code",
   "execution_count": 77,
   "id": "3aad3246",
   "metadata": {},
   "outputs": [],
   "source": [
    "table = [i.split(',') for i in data.splitlines()]\n",
    "# pd.DataFrame(table)"
   ]
  },
  {
   "cell_type": "code",
   "execution_count": 78,
   "id": "249eefb0",
   "metadata": {},
   "outputs": [
    {
     "data": {
      "text/plain": [
       "[['Name', 'Age', 'Salary'], ['Aman', '12', '87654'], ['karan', '23', '98765']]"
      ]
     },
     "execution_count": 78,
     "metadata": {},
     "output_type": "execute_result"
    }
   ],
   "source": [
    "table"
   ]
  },
  {
   "cell_type": "code",
   "execution_count": 79,
   "id": "90b8b1ab",
   "metadata": {},
   "outputs": [
    {
     "data": {
      "text/html": [
       "<div>\n",
       "<style scoped>\n",
       "    .dataframe tbody tr th:only-of-type {\n",
       "        vertical-align: middle;\n",
       "    }\n",
       "\n",
       "    .dataframe tbody tr th {\n",
       "        vertical-align: top;\n",
       "    }\n",
       "\n",
       "    .dataframe thead th {\n",
       "        text-align: right;\n",
       "    }\n",
       "</style>\n",
       "<table border=\"1\" class=\"dataframe\">\n",
       "  <thead>\n",
       "    <tr style=\"text-align: right;\">\n",
       "      <th></th>\n",
       "      <th>Name</th>\n",
       "      <th>Age</th>\n",
       "      <th>Salary</th>\n",
       "    </tr>\n",
       "  </thead>\n",
       "  <tbody>\n",
       "    <tr>\n",
       "      <th>0</th>\n",
       "      <td>Aman</td>\n",
       "      <td>12</td>\n",
       "      <td>87654</td>\n",
       "    </tr>\n",
       "    <tr>\n",
       "      <th>1</th>\n",
       "      <td>karan</td>\n",
       "      <td>23</td>\n",
       "      <td>98765</td>\n",
       "    </tr>\n",
       "  </tbody>\n",
       "</table>\n",
       "</div>"
      ],
      "text/plain": [
       "    Name Age Salary\n",
       "0   Aman  12  87654\n",
       "1  karan  23  98765"
      ]
     },
     "execution_count": 79,
     "metadata": {},
     "output_type": "execute_result"
    }
   ],
   "source": [
    "pd.DataFrame(table[1:],columns= table[0])"
   ]
  },
  {
   "cell_type": "code",
   "execution_count": null,
   "id": "2cee5c31",
   "metadata": {},
   "outputs": [],
   "source": []
  },
  {
   "cell_type": "code",
   "execution_count": 82,
   "id": "1e602440",
   "metadata": {},
   "outputs": [
    {
     "data": {
      "text/html": [
       "<div>\n",
       "<style scoped>\n",
       "    .dataframe tbody tr th:only-of-type {\n",
       "        vertical-align: middle;\n",
       "    }\n",
       "\n",
       "    .dataframe tbody tr th {\n",
       "        vertical-align: top;\n",
       "    }\n",
       "\n",
       "    .dataframe thead th {\n",
       "        text-align: right;\n",
       "    }\n",
       "</style>\n",
       "<table border=\"1\" class=\"dataframe\">\n",
       "  <thead>\n",
       "    <tr style=\"text-align: right;\">\n",
       "      <th></th>\n",
       "      <th>student_id</th>\n",
       "      <th>student_name</th>\n",
       "      <th>roll_no</th>\n",
       "      <th>class</th>\n",
       "      <th>address</th>\n",
       "      <th>phone_no</th>\n",
       "    </tr>\n",
       "  </thead>\n",
       "  <tbody>\n",
       "    <tr>\n",
       "      <th>0</th>\n",
       "      <td>1</td>\n",
       "      <td>karan Verma</td>\n",
       "      <td>101</td>\n",
       "      <td>5</td>\n",
       "      <td>Noida</td>\n",
       "      <td>9876543298</td>\n",
       "    </tr>\n",
       "    <tr>\n",
       "      <th>1</th>\n",
       "      <td>2</td>\n",
       "      <td>Akshay Verma</td>\n",
       "      <td>102</td>\n",
       "      <td>6</td>\n",
       "      <td>Gr Noida</td>\n",
       "      <td>9888543298</td>\n",
       "    </tr>\n",
       "    <tr>\n",
       "      <th>2</th>\n",
       "      <td>3</td>\n",
       "      <td>Nitin Verma</td>\n",
       "      <td>103</td>\n",
       "      <td>7</td>\n",
       "      <td>Noida</td>\n",
       "      <td>9876598298</td>\n",
       "    </tr>\n",
       "    <tr>\n",
       "      <th>3</th>\n",
       "      <td>4</td>\n",
       "      <td>Ambani Sahab</td>\n",
       "      <td>104</td>\n",
       "      <td>8</td>\n",
       "      <td>Delhi</td>\n",
       "      <td>986543298</td>\n",
       "    </tr>\n",
       "    <tr>\n",
       "      <th>4</th>\n",
       "      <td>5</td>\n",
       "      <td>Gaurav Kumar</td>\n",
       "      <td>105</td>\n",
       "      <td>9</td>\n",
       "      <td>Noida</td>\n",
       "      <td>8876543298</td>\n",
       "    </tr>\n",
       "  </tbody>\n",
       "</table>\n",
       "</div>"
      ],
      "text/plain": [
       "   student_id  student_name  roll_no  class   address    phone_no\n",
       "0           1   karan Verma      101      5     Noida  9876543298\n",
       "1           2  Akshay Verma      102      6  Gr Noida  9888543298\n",
       "2           3   Nitin Verma      103      7     Noida  9876598298\n",
       "3           4  Ambani Sahab      104      8     Delhi   986543298\n",
       "4           5  Gaurav Kumar      105      9     Noida  8876543298"
      ]
     },
     "execution_count": 82,
     "metadata": {},
     "output_type": "execute_result"
    }
   ],
   "source": [
    "table = pd.read_csv(r\"C:\\Users\\Lenovo\\Desktop\\students.csv\")\n",
    "table"
   ]
  },
  {
   "cell_type": "code",
   "execution_count": 84,
   "id": "1dcb3370",
   "metadata": {},
   "outputs": [
    {
     "data": {
      "text/html": [
       "<div>\n",
       "<style scoped>\n",
       "    .dataframe tbody tr th:only-of-type {\n",
       "        vertical-align: middle;\n",
       "    }\n",
       "\n",
       "    .dataframe tbody tr th {\n",
       "        vertical-align: top;\n",
       "    }\n",
       "\n",
       "    .dataframe thead th {\n",
       "        text-align: right;\n",
       "    }\n",
       "</style>\n",
       "<table border=\"1\" class=\"dataframe\">\n",
       "  <thead>\n",
       "    <tr style=\"text-align: right;\">\n",
       "      <th></th>\n",
       "      <th>student_id</th>\n",
       "      <th>student_name</th>\n",
       "      <th>roll_no</th>\n",
       "      <th>class</th>\n",
       "      <th>address</th>\n",
       "      <th>phone_no</th>\n",
       "    </tr>\n",
       "  </thead>\n",
       "  <tbody>\n",
       "    <tr>\n",
       "      <th>0</th>\n",
       "      <td>1</td>\n",
       "      <td>karan Verma</td>\n",
       "      <td>101</td>\n",
       "      <td>5</td>\n",
       "      <td>Noida</td>\n",
       "      <td>9876543298</td>\n",
       "    </tr>\n",
       "    <tr>\n",
       "      <th>1</th>\n",
       "      <td>2</td>\n",
       "      <td>Akshay Verma</td>\n",
       "      <td>102</td>\n",
       "      <td>6</td>\n",
       "      <td>Gr Noida</td>\n",
       "      <td>9888543298</td>\n",
       "    </tr>\n",
       "    <tr>\n",
       "      <th>2</th>\n",
       "      <td>3</td>\n",
       "      <td>Nitin Verma</td>\n",
       "      <td>103</td>\n",
       "      <td>7</td>\n",
       "      <td>Noida</td>\n",
       "      <td>9876598298</td>\n",
       "    </tr>\n",
       "    <tr>\n",
       "      <th>3</th>\n",
       "      <td>4</td>\n",
       "      <td>Ambani Sahab</td>\n",
       "      <td>104</td>\n",
       "      <td>8</td>\n",
       "      <td>Delhi</td>\n",
       "      <td>986543298</td>\n",
       "    </tr>\n",
       "    <tr>\n",
       "      <th>4</th>\n",
       "      <td>5</td>\n",
       "      <td>Gaurav Kumar</td>\n",
       "      <td>105</td>\n",
       "      <td>9</td>\n",
       "      <td>Noida</td>\n",
       "      <td>8876543298</td>\n",
       "    </tr>\n",
       "  </tbody>\n",
       "</table>\n",
       "</div>"
      ],
      "text/plain": [
       "   student_id  student_name  roll_no  class   address    phone_no\n",
       "0           1   karan Verma      101      5     Noida  9876543298\n",
       "1           2  Akshay Verma      102      6  Gr Noida  9888543298\n",
       "2           3   Nitin Verma      103      7     Noida  9876598298\n",
       "3           4  Ambani Sahab      104      8     Delhi   986543298\n",
       "4           5  Gaurav Kumar      105      9     Noida  8876543298"
      ]
     },
     "execution_count": 84,
     "metadata": {},
     "output_type": "execute_result"
    }
   ],
   "source": [
    "table = pd.read_csv(\"C:\\\\Users\\\\Lenovo\\\\Desktop\\\\students.csv\")\n",
    "table"
   ]
  },
  {
   "cell_type": "code",
   "execution_count": 85,
   "id": "99881c3b",
   "metadata": {},
   "outputs": [
    {
     "data": {
      "text/html": [
       "<div>\n",
       "<style scoped>\n",
       "    .dataframe tbody tr th:only-of-type {\n",
       "        vertical-align: middle;\n",
       "    }\n",
       "\n",
       "    .dataframe tbody tr th {\n",
       "        vertical-align: top;\n",
       "    }\n",
       "\n",
       "    .dataframe thead th {\n",
       "        text-align: right;\n",
       "    }\n",
       "</style>\n",
       "<table border=\"1\" class=\"dataframe\">\n",
       "  <thead>\n",
       "    <tr style=\"text-align: right;\">\n",
       "      <th></th>\n",
       "      <th>student_id</th>\n",
       "      <th>student_name</th>\n",
       "      <th>roll_no</th>\n",
       "      <th>class</th>\n",
       "      <th>address</th>\n",
       "      <th>phone_no</th>\n",
       "    </tr>\n",
       "  </thead>\n",
       "  <tbody>\n",
       "    <tr>\n",
       "      <th>0</th>\n",
       "      <td>1</td>\n",
       "      <td>karan Verma</td>\n",
       "      <td>101</td>\n",
       "      <td>5</td>\n",
       "      <td>Noida</td>\n",
       "      <td>9876543298</td>\n",
       "    </tr>\n",
       "    <tr>\n",
       "      <th>1</th>\n",
       "      <td>2</td>\n",
       "      <td>Akshay Verma</td>\n",
       "      <td>102</td>\n",
       "      <td>6</td>\n",
       "      <td>Gr Noida</td>\n",
       "      <td>9888543298</td>\n",
       "    </tr>\n",
       "    <tr>\n",
       "      <th>2</th>\n",
       "      <td>3</td>\n",
       "      <td>Nitin Verma</td>\n",
       "      <td>103</td>\n",
       "      <td>7</td>\n",
       "      <td>Noida</td>\n",
       "      <td>9876598298</td>\n",
       "    </tr>\n",
       "    <tr>\n",
       "      <th>3</th>\n",
       "      <td>4</td>\n",
       "      <td>Ambani Sahab</td>\n",
       "      <td>104</td>\n",
       "      <td>8</td>\n",
       "      <td>Delhi</td>\n",
       "      <td>986543298</td>\n",
       "    </tr>\n",
       "    <tr>\n",
       "      <th>4</th>\n",
       "      <td>5</td>\n",
       "      <td>Gaurav Kumar</td>\n",
       "      <td>105</td>\n",
       "      <td>9</td>\n",
       "      <td>Noida</td>\n",
       "      <td>8876543298</td>\n",
       "    </tr>\n",
       "  </tbody>\n",
       "</table>\n",
       "</div>"
      ],
      "text/plain": [
       "   student_id  student_name  roll_no  class   address    phone_no\n",
       "0           1   karan Verma      101      5     Noida  9876543298\n",
       "1           2  Akshay Verma      102      6  Gr Noida  9888543298\n",
       "2           3   Nitin Verma      103      7     Noida  9876598298\n",
       "3           4  Ambani Sahab      104      8     Delhi   986543298\n",
       "4           5  Gaurav Kumar      105      9     Noida  8876543298"
      ]
     },
     "execution_count": 85,
     "metadata": {},
     "output_type": "execute_result"
    }
   ],
   "source": [
    "table = pd.read_csv(\"C:/Users/Lenovo/Desktop/students.csv\")\n",
    "table"
   ]
  },
  {
   "cell_type": "code",
   "execution_count": 88,
   "id": "0f90d4eb",
   "metadata": {},
   "outputs": [],
   "source": [
    "path = '''https://github.com/ankitmisk/Python_DA_New_Batch_10_11/blob/main/test_file/employee.csv?raw=true'''\n",
    "table = pd.read_csv(path)"
   ]
  },
  {
   "cell_type": "code",
   "execution_count": 89,
   "id": "6f31dfdf",
   "metadata": {},
   "outputs": [
    {
     "data": {
      "text/html": [
       "<div>\n",
       "<style scoped>\n",
       "    .dataframe tbody tr th:only-of-type {\n",
       "        vertical-align: middle;\n",
       "    }\n",
       "\n",
       "    .dataframe tbody tr th {\n",
       "        vertical-align: top;\n",
       "    }\n",
       "\n",
       "    .dataframe thead th {\n",
       "        text-align: right;\n",
       "    }\n",
       "</style>\n",
       "<table border=\"1\" class=\"dataframe\">\n",
       "  <thead>\n",
       "    <tr style=\"text-align: right;\">\n",
       "      <th></th>\n",
       "      <th>Eid</th>\n",
       "      <th>name</th>\n",
       "      <th>Salary</th>\n",
       "      <th>dept</th>\n",
       "    </tr>\n",
       "  </thead>\n",
       "  <tbody>\n",
       "    <tr>\n",
       "      <th>0</th>\n",
       "      <td>1</td>\n",
       "      <td>Karan</td>\n",
       "      <td>23</td>\n",
       "      <td>it</td>\n",
       "    </tr>\n",
       "    <tr>\n",
       "      <th>1</th>\n",
       "      <td>2</td>\n",
       "      <td>Mohan</td>\n",
       "      <td>454</td>\n",
       "      <td>hr</td>\n",
       "    </tr>\n",
       "    <tr>\n",
       "      <th>2</th>\n",
       "      <td>3</td>\n",
       "      <td>Ravi</td>\n",
       "      <td>3</td>\n",
       "      <td>hr</td>\n",
       "    </tr>\n",
       "    <tr>\n",
       "      <th>3</th>\n",
       "      <td>4</td>\n",
       "      <td>Akshay</td>\n",
       "      <td>454</td>\n",
       "      <td>it</td>\n",
       "    </tr>\n",
       "    <tr>\n",
       "      <th>4</th>\n",
       "      <td>5</td>\n",
       "      <td>Jatin</td>\n",
       "      <td>6435</td>\n",
       "      <td>sales</td>\n",
       "    </tr>\n",
       "  </tbody>\n",
       "</table>\n",
       "</div>"
      ],
      "text/plain": [
       "   Eid    name  Salary   dept\n",
       "0    1   Karan      23     it\n",
       "1    2   Mohan     454     hr\n",
       "2    3    Ravi       3     hr\n",
       "3    4  Akshay     454     it\n",
       "4    5   Jatin    6435  sales"
      ]
     },
     "execution_count": 89,
     "metadata": {},
     "output_type": "execute_result"
    }
   ],
   "source": [
    "table"
   ]
  },
  {
   "cell_type": "code",
   "execution_count": null,
   "id": "7320a548",
   "metadata": {},
   "outputs": [],
   "source": []
  },
  {
   "cell_type": "code",
   "execution_count": 90,
   "id": "11c903ec",
   "metadata": {},
   "outputs": [],
   "source": [
    "# read_excel"
   ]
  },
  {
   "cell_type": "code",
   "execution_count": 91,
   "id": "103a4d0b",
   "metadata": {},
   "outputs": [
    {
     "data": {
      "text/html": [
       "<div>\n",
       "<style scoped>\n",
       "    .dataframe tbody tr th:only-of-type {\n",
       "        vertical-align: middle;\n",
       "    }\n",
       "\n",
       "    .dataframe tbody tr th {\n",
       "        vertical-align: top;\n",
       "    }\n",
       "\n",
       "    .dataframe thead th {\n",
       "        text-align: right;\n",
       "    }\n",
       "</style>\n",
       "<table border=\"1\" class=\"dataframe\">\n",
       "  <thead>\n",
       "    <tr style=\"text-align: right;\">\n",
       "      <th></th>\n",
       "      <th>Region</th>\n",
       "      <th>Sales</th>\n",
       "      <th>Qty</th>\n",
       "      <th>profit</th>\n",
       "    </tr>\n",
       "  </thead>\n",
       "  <tbody>\n",
       "    <tr>\n",
       "      <th>0</th>\n",
       "      <td>West</td>\n",
       "      <td>3828</td>\n",
       "      <td>3853</td>\n",
       "      <td>4333</td>\n",
       "    </tr>\n",
       "    <tr>\n",
       "      <th>1</th>\n",
       "      <td>East</td>\n",
       "      <td>1912</td>\n",
       "      <td>1305</td>\n",
       "      <td>4739</td>\n",
       "    </tr>\n",
       "    <tr>\n",
       "      <th>2</th>\n",
       "      <td>West</td>\n",
       "      <td>4046</td>\n",
       "      <td>2176</td>\n",
       "      <td>2650</td>\n",
       "    </tr>\n",
       "    <tr>\n",
       "      <th>3</th>\n",
       "      <td>South</td>\n",
       "      <td>2995</td>\n",
       "      <td>3309</td>\n",
       "      <td>1098</td>\n",
       "    </tr>\n",
       "    <tr>\n",
       "      <th>4</th>\n",
       "      <td>East</td>\n",
       "      <td>2872</td>\n",
       "      <td>4592</td>\n",
       "      <td>3532</td>\n",
       "    </tr>\n",
       "    <tr>\n",
       "      <th>5</th>\n",
       "      <td>South</td>\n",
       "      <td>4896</td>\n",
       "      <td>2896</td>\n",
       "      <td>1242</td>\n",
       "    </tr>\n",
       "    <tr>\n",
       "      <th>6</th>\n",
       "      <td>central</td>\n",
       "      <td>4904</td>\n",
       "      <td>3153</td>\n",
       "      <td>2671</td>\n",
       "    </tr>\n",
       "  </tbody>\n",
       "</table>\n",
       "</div>"
      ],
      "text/plain": [
       "    Region  Sales   Qty  profit\n",
       "0     West   3828  3853    4333\n",
       "1     East   1912  1305    4739\n",
       "2     West   4046  2176    2650\n",
       "3    South   2995  3309    1098\n",
       "4     East   2872  4592    3532\n",
       "5    South   4896  2896    1242\n",
       "6  central   4904  3153    2671"
      ]
     },
     "execution_count": 91,
     "metadata": {},
     "output_type": "execute_result"
    }
   ],
   "source": [
    "pd.read_excel(r\"C:\\Users\\Lenovo\\Desktop\\mera_sales.xlsx\")"
   ]
  },
  {
   "cell_type": "code",
   "execution_count": 3,
   "id": "8a78c18e",
   "metadata": {},
   "outputs": [],
   "source": [
    "import pandas as pd\n",
    "all_sheets = pd.ExcelFile(r\"C:\\Users\\Lenovo\\Desktop\\mera_sales.xlsx\").sheet_names"
   ]
  },
  {
   "cell_type": "code",
   "execution_count": 4,
   "id": "ce03a0dc",
   "metadata": {},
   "outputs": [
    {
     "data": {
      "text/html": [
       "<div>\n",
       "<style scoped>\n",
       "    .dataframe tbody tr th:only-of-type {\n",
       "        vertical-align: middle;\n",
       "    }\n",
       "\n",
       "    .dataframe tbody tr th {\n",
       "        vertical-align: top;\n",
       "    }\n",
       "\n",
       "    .dataframe thead th {\n",
       "        text-align: right;\n",
       "    }\n",
       "</style>\n",
       "<table border=\"1\" class=\"dataframe\">\n",
       "  <thead>\n",
       "    <tr style=\"text-align: right;\">\n",
       "      <th></th>\n",
       "      <th>Region</th>\n",
       "      <th>Sales</th>\n",
       "      <th>Qty</th>\n",
       "      <th>profit</th>\n",
       "    </tr>\n",
       "  </thead>\n",
       "  <tbody>\n",
       "    <tr>\n",
       "      <th>0</th>\n",
       "      <td>Python</td>\n",
       "      <td>3828</td>\n",
       "      <td>3853</td>\n",
       "      <td>4333</td>\n",
       "    </tr>\n",
       "    <tr>\n",
       "      <th>1</th>\n",
       "      <td>East</td>\n",
       "      <td>1912</td>\n",
       "      <td>1305</td>\n",
       "      <td>4739</td>\n",
       "    </tr>\n",
       "    <tr>\n",
       "      <th>2</th>\n",
       "      <td>West</td>\n",
       "      <td>4046</td>\n",
       "      <td>2176</td>\n",
       "      <td>2650</td>\n",
       "    </tr>\n",
       "    <tr>\n",
       "      <th>3</th>\n",
       "      <td>South</td>\n",
       "      <td>2995</td>\n",
       "      <td>3309</td>\n",
       "      <td>1098</td>\n",
       "    </tr>\n",
       "    <tr>\n",
       "      <th>4</th>\n",
       "      <td>East</td>\n",
       "      <td>2872</td>\n",
       "      <td>4592</td>\n",
       "      <td>3532</td>\n",
       "    </tr>\n",
       "    <tr>\n",
       "      <th>5</th>\n",
       "      <td>South</td>\n",
       "      <td>4896</td>\n",
       "      <td>2896</td>\n",
       "      <td>1242</td>\n",
       "    </tr>\n",
       "    <tr>\n",
       "      <th>6</th>\n",
       "      <td>central</td>\n",
       "      <td>4904</td>\n",
       "      <td>3153</td>\n",
       "      <td>2671</td>\n",
       "    </tr>\n",
       "  </tbody>\n",
       "</table>\n",
       "</div>"
      ],
      "text/plain": [
       "    Region  Sales   Qty  profit\n",
       "0   Python   3828  3853    4333\n",
       "1     East   1912  1305    4739\n",
       "2     West   4046  2176    2650\n",
       "3    South   2995  3309    1098\n",
       "4     East   2872  4592    3532\n",
       "5    South   4896  2896    1242\n",
       "6  central   4904  3153    2671"
      ]
     },
     "execution_count": 4,
     "metadata": {},
     "output_type": "execute_result"
    }
   ],
   "source": [
    "pd.read_excel(r\"C:\\Users\\Lenovo\\Desktop\\mera_sales.xlsx\",sheet_name = all_sheets[2])"
   ]
  },
  {
   "cell_type": "code",
   "execution_count": 5,
   "id": "dcbefee7",
   "metadata": {},
   "outputs": [],
   "source": [
    "table_1 = pd.read_excel(r\"C:\\Users\\Lenovo\\Desktop\\mera_sales.xlsx\",sheet_name = all_sheets[0])\n",
    "table_2 = pd.read_excel(r\"C:\\Users\\Lenovo\\Desktop\\mera_sales.xlsx\",sheet_name = all_sheets[1])\n",
    "table_3 = pd.read_excel(r\"C:\\Users\\Lenovo\\Desktop\\mera_sales.xlsx\",sheet_name = all_sheets[2])"
   ]
  },
  {
   "cell_type": "code",
   "execution_count": 6,
   "id": "f9fb46eb",
   "metadata": {},
   "outputs": [
    {
     "data": {
      "text/html": [
       "<div>\n",
       "<style scoped>\n",
       "    .dataframe tbody tr th:only-of-type {\n",
       "        vertical-align: middle;\n",
       "    }\n",
       "\n",
       "    .dataframe tbody tr th {\n",
       "        vertical-align: top;\n",
       "    }\n",
       "\n",
       "    .dataframe thead th {\n",
       "        text-align: right;\n",
       "    }\n",
       "</style>\n",
       "<table border=\"1\" class=\"dataframe\">\n",
       "  <thead>\n",
       "    <tr style=\"text-align: right;\">\n",
       "      <th></th>\n",
       "      <th>Region</th>\n",
       "      <th>Sales</th>\n",
       "      <th>Qty</th>\n",
       "      <th>profit</th>\n",
       "    </tr>\n",
       "  </thead>\n",
       "  <tbody>\n",
       "    <tr>\n",
       "      <th>0</th>\n",
       "      <td>West</td>\n",
       "      <td>3828</td>\n",
       "      <td>3853</td>\n",
       "      <td>4333</td>\n",
       "    </tr>\n",
       "    <tr>\n",
       "      <th>1</th>\n",
       "      <td>East</td>\n",
       "      <td>1912</td>\n",
       "      <td>1305</td>\n",
       "      <td>4739</td>\n",
       "    </tr>\n",
       "    <tr>\n",
       "      <th>2</th>\n",
       "      <td>West</td>\n",
       "      <td>4046</td>\n",
       "      <td>2176</td>\n",
       "      <td>2650</td>\n",
       "    </tr>\n",
       "    <tr>\n",
       "      <th>3</th>\n",
       "      <td>South</td>\n",
       "      <td>2995</td>\n",
       "      <td>3309</td>\n",
       "      <td>1098</td>\n",
       "    </tr>\n",
       "    <tr>\n",
       "      <th>4</th>\n",
       "      <td>East</td>\n",
       "      <td>2872</td>\n",
       "      <td>4592</td>\n",
       "      <td>3532</td>\n",
       "    </tr>\n",
       "    <tr>\n",
       "      <th>5</th>\n",
       "      <td>South</td>\n",
       "      <td>4896</td>\n",
       "      <td>2896</td>\n",
       "      <td>1242</td>\n",
       "    </tr>\n",
       "    <tr>\n",
       "      <th>6</th>\n",
       "      <td>central</td>\n",
       "      <td>4904</td>\n",
       "      <td>3153</td>\n",
       "      <td>2671</td>\n",
       "    </tr>\n",
       "  </tbody>\n",
       "</table>\n",
       "</div>"
      ],
      "text/plain": [
       "    Region  Sales   Qty  profit\n",
       "0     West   3828  3853    4333\n",
       "1     East   1912  1305    4739\n",
       "2     West   4046  2176    2650\n",
       "3    South   2995  3309    1098\n",
       "4     East   2872  4592    3532\n",
       "5    South   4896  2896    1242\n",
       "6  central   4904  3153    2671"
      ]
     },
     "execution_count": 6,
     "metadata": {},
     "output_type": "execute_result"
    }
   ],
   "source": [
    "table_1"
   ]
  },
  {
   "cell_type": "code",
   "execution_count": 7,
   "id": "756cb1f6",
   "metadata": {},
   "outputs": [
    {
     "data": {
      "text/html": [
       "<div>\n",
       "<style scoped>\n",
       "    .dataframe tbody tr th:only-of-type {\n",
       "        vertical-align: middle;\n",
       "    }\n",
       "\n",
       "    .dataframe tbody tr th {\n",
       "        vertical-align: top;\n",
       "    }\n",
       "\n",
       "    .dataframe thead th {\n",
       "        text-align: right;\n",
       "    }\n",
       "</style>\n",
       "<table border=\"1\" class=\"dataframe\">\n",
       "  <thead>\n",
       "    <tr style=\"text-align: right;\">\n",
       "      <th></th>\n",
       "      <th>Region</th>\n",
       "      <th>Sales</th>\n",
       "      <th>Qty</th>\n",
       "      <th>profit</th>\n",
       "    </tr>\n",
       "  </thead>\n",
       "  <tbody>\n",
       "    <tr>\n",
       "      <th>0</th>\n",
       "      <td>Techvidya</td>\n",
       "      <td>3828</td>\n",
       "      <td>3853</td>\n",
       "      <td>4333</td>\n",
       "    </tr>\n",
       "    <tr>\n",
       "      <th>1</th>\n",
       "      <td>East</td>\n",
       "      <td>1912</td>\n",
       "      <td>1305</td>\n",
       "      <td>4739</td>\n",
       "    </tr>\n",
       "    <tr>\n",
       "      <th>2</th>\n",
       "      <td>West</td>\n",
       "      <td>4046</td>\n",
       "      <td>2176</td>\n",
       "      <td>2650</td>\n",
       "    </tr>\n",
       "    <tr>\n",
       "      <th>3</th>\n",
       "      <td>South</td>\n",
       "      <td>2995</td>\n",
       "      <td>3309</td>\n",
       "      <td>1098</td>\n",
       "    </tr>\n",
       "    <tr>\n",
       "      <th>4</th>\n",
       "      <td>East</td>\n",
       "      <td>2872</td>\n",
       "      <td>4592</td>\n",
       "      <td>3532</td>\n",
       "    </tr>\n",
       "    <tr>\n",
       "      <th>5</th>\n",
       "      <td>South</td>\n",
       "      <td>4896</td>\n",
       "      <td>2896</td>\n",
       "      <td>1242</td>\n",
       "    </tr>\n",
       "    <tr>\n",
       "      <th>6</th>\n",
       "      <td>central</td>\n",
       "      <td>4904</td>\n",
       "      <td>3153</td>\n",
       "      <td>2671</td>\n",
       "    </tr>\n",
       "  </tbody>\n",
       "</table>\n",
       "</div>"
      ],
      "text/plain": [
       "      Region  Sales   Qty  profit\n",
       "0  Techvidya   3828  3853    4333\n",
       "1       East   1912  1305    4739\n",
       "2       West   4046  2176    2650\n",
       "3      South   2995  3309    1098\n",
       "4       East   2872  4592    3532\n",
       "5      South   4896  2896    1242\n",
       "6    central   4904  3153    2671"
      ]
     },
     "execution_count": 7,
     "metadata": {},
     "output_type": "execute_result"
    }
   ],
   "source": [
    "table_2"
   ]
  },
  {
   "cell_type": "code",
   "execution_count": 8,
   "id": "ff643a7d",
   "metadata": {},
   "outputs": [
    {
     "data": {
      "text/html": [
       "<div>\n",
       "<style scoped>\n",
       "    .dataframe tbody tr th:only-of-type {\n",
       "        vertical-align: middle;\n",
       "    }\n",
       "\n",
       "    .dataframe tbody tr th {\n",
       "        vertical-align: top;\n",
       "    }\n",
       "\n",
       "    .dataframe thead th {\n",
       "        text-align: right;\n",
       "    }\n",
       "</style>\n",
       "<table border=\"1\" class=\"dataframe\">\n",
       "  <thead>\n",
       "    <tr style=\"text-align: right;\">\n",
       "      <th></th>\n",
       "      <th>Region</th>\n",
       "      <th>Sales</th>\n",
       "      <th>Qty</th>\n",
       "      <th>profit</th>\n",
       "    </tr>\n",
       "  </thead>\n",
       "  <tbody>\n",
       "    <tr>\n",
       "      <th>0</th>\n",
       "      <td>Python</td>\n",
       "      <td>3828</td>\n",
       "      <td>3853</td>\n",
       "      <td>4333</td>\n",
       "    </tr>\n",
       "    <tr>\n",
       "      <th>1</th>\n",
       "      <td>East</td>\n",
       "      <td>1912</td>\n",
       "      <td>1305</td>\n",
       "      <td>4739</td>\n",
       "    </tr>\n",
       "    <tr>\n",
       "      <th>2</th>\n",
       "      <td>West</td>\n",
       "      <td>4046</td>\n",
       "      <td>2176</td>\n",
       "      <td>2650</td>\n",
       "    </tr>\n",
       "    <tr>\n",
       "      <th>3</th>\n",
       "      <td>South</td>\n",
       "      <td>2995</td>\n",
       "      <td>3309</td>\n",
       "      <td>1098</td>\n",
       "    </tr>\n",
       "    <tr>\n",
       "      <th>4</th>\n",
       "      <td>East</td>\n",
       "      <td>2872</td>\n",
       "      <td>4592</td>\n",
       "      <td>3532</td>\n",
       "    </tr>\n",
       "    <tr>\n",
       "      <th>5</th>\n",
       "      <td>South</td>\n",
       "      <td>4896</td>\n",
       "      <td>2896</td>\n",
       "      <td>1242</td>\n",
       "    </tr>\n",
       "    <tr>\n",
       "      <th>6</th>\n",
       "      <td>central</td>\n",
       "      <td>4904</td>\n",
       "      <td>3153</td>\n",
       "      <td>2671</td>\n",
       "    </tr>\n",
       "  </tbody>\n",
       "</table>\n",
       "</div>"
      ],
      "text/plain": [
       "    Region  Sales   Qty  profit\n",
       "0   Python   3828  3853    4333\n",
       "1     East   1912  1305    4739\n",
       "2     West   4046  2176    2650\n",
       "3    South   2995  3309    1098\n",
       "4     East   2872  4592    3532\n",
       "5    South   4896  2896    1242\n",
       "6  central   4904  3153    2671"
      ]
     },
     "execution_count": 8,
     "metadata": {},
     "output_type": "execute_result"
    }
   ],
   "source": [
    "table_3"
   ]
  },
  {
   "cell_type": "code",
   "execution_count": 9,
   "id": "0025cd38",
   "metadata": {},
   "outputs": [
    {
     "data": {
      "text/plain": [
       "['Sheet1', 'Sheet2', 'Sheet3']"
      ]
     },
     "execution_count": 9,
     "metadata": {},
     "output_type": "execute_result"
    }
   ],
   "source": [
    "all_sheets"
   ]
  },
  {
   "cell_type": "code",
   "execution_count": 107,
   "id": "e021200d",
   "metadata": {},
   "outputs": [],
   "source": [
    "all_table = []\n",
    "\n",
    "for i in all_sheets:\n",
    "    all_table.append(pd.read_excel(r\"C:\\Users\\Lenovo\\Desktop\\mera_sales.xlsx\",sheet_name = i))"
   ]
  },
  {
   "cell_type": "code",
   "execution_count": 112,
   "id": "2ab83071",
   "metadata": {},
   "outputs": [
    {
     "ename": "NameError",
     "evalue": "name 'table_34' is not defined",
     "output_type": "error",
     "traceback": [
      "\u001b[1;31m---------------------------------------------------------------------------\u001b[0m",
      "\u001b[1;31mNameError\u001b[0m                                 Traceback (most recent call last)",
      "Cell \u001b[1;32mIn[112], line 1\u001b[0m\n\u001b[1;32m----> 1\u001b[0m table_34\n",
      "\u001b[1;31mNameError\u001b[0m: name 'table_34' is not defined"
     ]
    }
   ],
   "source": [
    "table_34"
   ]
  },
  {
   "cell_type": "code",
   "execution_count": 113,
   "id": "36840f1f",
   "metadata": {},
   "outputs": [],
   "source": [
    "# for i in range():"
   ]
  },
  {
   "cell_type": "code",
   "execution_count": 114,
   "id": "4fc492e6",
   "metadata": {},
   "outputs": [],
   "source": [
    "# exec()"
   ]
  },
  {
   "cell_type": "code",
   "execution_count": 120,
   "id": "3b1e942b",
   "metadata": {},
   "outputs": [],
   "source": [
    "for i in range(1000000):\n",
    "    exec(f'a_{i} = 100')"
   ]
  },
  {
   "cell_type": "code",
   "execution_count": 121,
   "id": "f72ebc7d",
   "metadata": {},
   "outputs": [
    {
     "data": {
      "text/plain": [
       "100"
      ]
     },
     "execution_count": 121,
     "metadata": {},
     "output_type": "execute_result"
    }
   ],
   "source": [
    "a_1"
   ]
  },
  {
   "cell_type": "code",
   "execution_count": 122,
   "id": "87d6b021",
   "metadata": {},
   "outputs": [
    {
     "data": {
      "text/plain": [
       "100"
      ]
     },
     "execution_count": 122,
     "metadata": {},
     "output_type": "execute_result"
    }
   ],
   "source": [
    "a_5"
   ]
  },
  {
   "cell_type": "code",
   "execution_count": 123,
   "id": "e2f5da07",
   "metadata": {},
   "outputs": [
    {
     "data": {
      "text/plain": [
       "100"
      ]
     },
     "execution_count": 123,
     "metadata": {},
     "output_type": "execute_result"
    }
   ],
   "source": [
    "a_10"
   ]
  },
  {
   "cell_type": "code",
   "execution_count": 124,
   "id": "ee01c1e8",
   "metadata": {},
   "outputs": [
    {
     "data": {
      "text/plain": [
       "100"
      ]
     },
     "execution_count": 124,
     "metadata": {},
     "output_type": "execute_result"
    }
   ],
   "source": [
    "a_9999"
   ]
  },
  {
   "cell_type": "code",
   "execution_count": null,
   "id": "411cda59",
   "metadata": {},
   "outputs": [],
   "source": []
  },
  {
   "cell_type": "code",
   "execution_count": 11,
   "id": "826b1437",
   "metadata": {},
   "outputs": [
    {
     "name": "stdout",
     "output_type": "stream",
     "text": [
      "Sheet1\n",
      "Sheet2\n",
      "Sheet3\n"
     ]
    }
   ],
   "source": [
    "for i in all_sheets:\n",
    "    print(i)"
   ]
  },
  {
   "cell_type": "code",
   "execution_count": 29,
   "id": "22522a5d",
   "metadata": {},
   "outputs": [
    {
     "data": {
      "text/plain": [
       "['Sheet1', 'Sheet2', 'Sheet3', 'Sheet4']"
      ]
     },
     "execution_count": 29,
     "metadata": {},
     "output_type": "execute_result"
    }
   ],
   "source": [
    "all_sheets = pd.ExcelFile(r\"C:\\Users\\Lenovo\\Desktop\\mera_sales.xlsx\").sheet_names\n",
    "all_sheets"
   ]
  },
  {
   "cell_type": "code",
   "execution_count": 30,
   "id": "25c2d65c",
   "metadata": {},
   "outputs": [],
   "source": [
    "for i,value in enumerate(all_sheets):\n",
    "    exec(f'''table_{i+1} = pd.read_excel(r\"C:\\\\Users\\\\Lenovo\\\\Desktop\\\\mera_sales.xlsx\",sheet_name = value)''')"
   ]
  },
  {
   "cell_type": "code",
   "execution_count": 31,
   "id": "b00b358c",
   "metadata": {},
   "outputs": [],
   "source": [
    "# pd.read_excel(\"C:\\\\Users\\\\Lenovo\\\\Desktop\\\\mera_sales.xlsx\")"
   ]
  },
  {
   "cell_type": "code",
   "execution_count": 32,
   "id": "a9d55429",
   "metadata": {},
   "outputs": [
    {
     "data": {
      "text/html": [
       "<div>\n",
       "<style scoped>\n",
       "    .dataframe tbody tr th:only-of-type {\n",
       "        vertical-align: middle;\n",
       "    }\n",
       "\n",
       "    .dataframe tbody tr th {\n",
       "        vertical-align: top;\n",
       "    }\n",
       "\n",
       "    .dataframe thead th {\n",
       "        text-align: right;\n",
       "    }\n",
       "</style>\n",
       "<table border=\"1\" class=\"dataframe\">\n",
       "  <thead>\n",
       "    <tr style=\"text-align: right;\">\n",
       "      <th></th>\n",
       "      <th>Region</th>\n",
       "      <th>Sales</th>\n",
       "      <th>Qty</th>\n",
       "      <th>profit</th>\n",
       "    </tr>\n",
       "  </thead>\n",
       "  <tbody>\n",
       "    <tr>\n",
       "      <th>0</th>\n",
       "      <td>Python</td>\n",
       "      <td>3828</td>\n",
       "      <td>3853</td>\n",
       "      <td>4333</td>\n",
       "    </tr>\n",
       "    <tr>\n",
       "      <th>1</th>\n",
       "      <td>East</td>\n",
       "      <td>1912</td>\n",
       "      <td>1305</td>\n",
       "      <td>4739</td>\n",
       "    </tr>\n",
       "    <tr>\n",
       "      <th>2</th>\n",
       "      <td>West</td>\n",
       "      <td>4046</td>\n",
       "      <td>2176</td>\n",
       "      <td>2650</td>\n",
       "    </tr>\n",
       "    <tr>\n",
       "      <th>3</th>\n",
       "      <td>South</td>\n",
       "      <td>2995</td>\n",
       "      <td>3309</td>\n",
       "      <td>1098</td>\n",
       "    </tr>\n",
       "    <tr>\n",
       "      <th>4</th>\n",
       "      <td>East</td>\n",
       "      <td>2872</td>\n",
       "      <td>4592</td>\n",
       "      <td>3532</td>\n",
       "    </tr>\n",
       "    <tr>\n",
       "      <th>5</th>\n",
       "      <td>South</td>\n",
       "      <td>4896</td>\n",
       "      <td>2896</td>\n",
       "      <td>1242</td>\n",
       "    </tr>\n",
       "    <tr>\n",
       "      <th>6</th>\n",
       "      <td>central</td>\n",
       "      <td>4904</td>\n",
       "      <td>3153</td>\n",
       "      <td>2671</td>\n",
       "    </tr>\n",
       "  </tbody>\n",
       "</table>\n",
       "</div>"
      ],
      "text/plain": [
       "    Region  Sales   Qty  profit\n",
       "0   Python   3828  3853    4333\n",
       "1     East   1912  1305    4739\n",
       "2     West   4046  2176    2650\n",
       "3    South   2995  3309    1098\n",
       "4     East   2872  4592    3532\n",
       "5    South   4896  2896    1242\n",
       "6  central   4904  3153    2671"
      ]
     },
     "execution_count": 32,
     "metadata": {},
     "output_type": "execute_result"
    }
   ],
   "source": [
    "table_3"
   ]
  },
  {
   "cell_type": "code",
   "execution_count": 33,
   "id": "0dc598a0",
   "metadata": {},
   "outputs": [
    {
     "data": {
      "text/html": [
       "<div>\n",
       "<style scoped>\n",
       "    .dataframe tbody tr th:only-of-type {\n",
       "        vertical-align: middle;\n",
       "    }\n",
       "\n",
       "    .dataframe tbody tr th {\n",
       "        vertical-align: top;\n",
       "    }\n",
       "\n",
       "    .dataframe thead th {\n",
       "        text-align: right;\n",
       "    }\n",
       "</style>\n",
       "<table border=\"1\" class=\"dataframe\">\n",
       "  <thead>\n",
       "    <tr style=\"text-align: right;\">\n",
       "      <th></th>\n",
       "      <th>Region</th>\n",
       "      <th>Sales</th>\n",
       "      <th>Qty</th>\n",
       "      <th>profit</th>\n",
       "    </tr>\n",
       "  </thead>\n",
       "  <tbody>\n",
       "    <tr>\n",
       "      <th>0</th>\n",
       "      <td>West</td>\n",
       "      <td>3828</td>\n",
       "      <td>3853</td>\n",
       "      <td>4333</td>\n",
       "    </tr>\n",
       "    <tr>\n",
       "      <th>1</th>\n",
       "      <td>East</td>\n",
       "      <td>1912</td>\n",
       "      <td>1305</td>\n",
       "      <td>4739</td>\n",
       "    </tr>\n",
       "    <tr>\n",
       "      <th>2</th>\n",
       "      <td>West</td>\n",
       "      <td>4046</td>\n",
       "      <td>2176</td>\n",
       "      <td>2650</td>\n",
       "    </tr>\n",
       "    <tr>\n",
       "      <th>3</th>\n",
       "      <td>South</td>\n",
       "      <td>2995</td>\n",
       "      <td>3309</td>\n",
       "      <td>1098</td>\n",
       "    </tr>\n",
       "    <tr>\n",
       "      <th>4</th>\n",
       "      <td>East</td>\n",
       "      <td>2872</td>\n",
       "      <td>4592</td>\n",
       "      <td>3532</td>\n",
       "    </tr>\n",
       "    <tr>\n",
       "      <th>5</th>\n",
       "      <td>South</td>\n",
       "      <td>4896</td>\n",
       "      <td>2896</td>\n",
       "      <td>1242</td>\n",
       "    </tr>\n",
       "    <tr>\n",
       "      <th>6</th>\n",
       "      <td>central</td>\n",
       "      <td>4904</td>\n",
       "      <td>3153</td>\n",
       "      <td>2671</td>\n",
       "    </tr>\n",
       "  </tbody>\n",
       "</table>\n",
       "</div>"
      ],
      "text/plain": [
       "    Region  Sales   Qty  profit\n",
       "0     West   3828  3853    4333\n",
       "1     East   1912  1305    4739\n",
       "2     West   4046  2176    2650\n",
       "3    South   2995  3309    1098\n",
       "4     East   2872  4592    3532\n",
       "5    South   4896  2896    1242\n",
       "6  central   4904  3153    2671"
      ]
     },
     "execution_count": 33,
     "metadata": {},
     "output_type": "execute_result"
    }
   ],
   "source": [
    "table_1"
   ]
  },
  {
   "cell_type": "code",
   "execution_count": 34,
   "id": "9b003d4c",
   "metadata": {},
   "outputs": [
    {
     "data": {
      "text/html": [
       "<div>\n",
       "<style scoped>\n",
       "    .dataframe tbody tr th:only-of-type {\n",
       "        vertical-align: middle;\n",
       "    }\n",
       "\n",
       "    .dataframe tbody tr th {\n",
       "        vertical-align: top;\n",
       "    }\n",
       "\n",
       "    .dataframe thead th {\n",
       "        text-align: right;\n",
       "    }\n",
       "</style>\n",
       "<table border=\"1\" class=\"dataframe\">\n",
       "  <thead>\n",
       "    <tr style=\"text-align: right;\">\n",
       "      <th></th>\n",
       "      <th>Region</th>\n",
       "      <th>Sales</th>\n",
       "      <th>Qty</th>\n",
       "      <th>profit</th>\n",
       "    </tr>\n",
       "  </thead>\n",
       "  <tbody>\n",
       "    <tr>\n",
       "      <th>0</th>\n",
       "      <td>Techvidya</td>\n",
       "      <td>3828</td>\n",
       "      <td>3853</td>\n",
       "      <td>4333</td>\n",
       "    </tr>\n",
       "    <tr>\n",
       "      <th>1</th>\n",
       "      <td>East</td>\n",
       "      <td>1912</td>\n",
       "      <td>1305</td>\n",
       "      <td>4739</td>\n",
       "    </tr>\n",
       "    <tr>\n",
       "      <th>2</th>\n",
       "      <td>West</td>\n",
       "      <td>4046</td>\n",
       "      <td>2176</td>\n",
       "      <td>2650</td>\n",
       "    </tr>\n",
       "    <tr>\n",
       "      <th>3</th>\n",
       "      <td>South</td>\n",
       "      <td>2995</td>\n",
       "      <td>3309</td>\n",
       "      <td>1098</td>\n",
       "    </tr>\n",
       "    <tr>\n",
       "      <th>4</th>\n",
       "      <td>East</td>\n",
       "      <td>2872</td>\n",
       "      <td>4592</td>\n",
       "      <td>3532</td>\n",
       "    </tr>\n",
       "    <tr>\n",
       "      <th>5</th>\n",
       "      <td>South</td>\n",
       "      <td>4896</td>\n",
       "      <td>2896</td>\n",
       "      <td>1242</td>\n",
       "    </tr>\n",
       "    <tr>\n",
       "      <th>6</th>\n",
       "      <td>central</td>\n",
       "      <td>4904</td>\n",
       "      <td>3153</td>\n",
       "      <td>2671</td>\n",
       "    </tr>\n",
       "  </tbody>\n",
       "</table>\n",
       "</div>"
      ],
      "text/plain": [
       "      Region  Sales   Qty  profit\n",
       "0  Techvidya   3828  3853    4333\n",
       "1       East   1912  1305    4739\n",
       "2       West   4046  2176    2650\n",
       "3      South   2995  3309    1098\n",
       "4       East   2872  4592    3532\n",
       "5      South   4896  2896    1242\n",
       "6    central   4904  3153    2671"
      ]
     },
     "execution_count": 34,
     "metadata": {},
     "output_type": "execute_result"
    }
   ],
   "source": [
    "table_2"
   ]
  },
  {
   "cell_type": "code",
   "execution_count": null,
   "id": "e5f66b2e",
   "metadata": {},
   "outputs": [],
   "source": []
  },
  {
   "cell_type": "code",
   "execution_count": 35,
   "id": "e7357fdd",
   "metadata": {},
   "outputs": [
    {
     "data": {
      "text/html": [
       "<div>\n",
       "<style scoped>\n",
       "    .dataframe tbody tr th:only-of-type {\n",
       "        vertical-align: middle;\n",
       "    }\n",
       "\n",
       "    .dataframe tbody tr th {\n",
       "        vertical-align: top;\n",
       "    }\n",
       "\n",
       "    .dataframe thead th {\n",
       "        text-align: right;\n",
       "    }\n",
       "</style>\n",
       "<table border=\"1\" class=\"dataframe\">\n",
       "  <thead>\n",
       "    <tr style=\"text-align: right;\">\n",
       "      <th></th>\n",
       "      <th>Region</th>\n",
       "      <th>Sales</th>\n",
       "      <th>Qty</th>\n",
       "      <th>profit</th>\n",
       "    </tr>\n",
       "  </thead>\n",
       "  <tbody>\n",
       "    <tr>\n",
       "      <th>0</th>\n",
       "      <td>Python</td>\n",
       "      <td>3828</td>\n",
       "      <td>3853</td>\n",
       "      <td>4333</td>\n",
       "    </tr>\n",
       "    <tr>\n",
       "      <th>1</th>\n",
       "      <td>Python</td>\n",
       "      <td>1912</td>\n",
       "      <td>1305</td>\n",
       "      <td>4739</td>\n",
       "    </tr>\n",
       "    <tr>\n",
       "      <th>2</th>\n",
       "      <td>Python</td>\n",
       "      <td>4046</td>\n",
       "      <td>2176</td>\n",
       "      <td>2650</td>\n",
       "    </tr>\n",
       "    <tr>\n",
       "      <th>3</th>\n",
       "      <td>Python</td>\n",
       "      <td>2995</td>\n",
       "      <td>3309</td>\n",
       "      <td>1098</td>\n",
       "    </tr>\n",
       "    <tr>\n",
       "      <th>4</th>\n",
       "      <td>Python</td>\n",
       "      <td>2872</td>\n",
       "      <td>4592</td>\n",
       "      <td>3532</td>\n",
       "    </tr>\n",
       "    <tr>\n",
       "      <th>5</th>\n",
       "      <td>Python</td>\n",
       "      <td>4896</td>\n",
       "      <td>2896</td>\n",
       "      <td>1242</td>\n",
       "    </tr>\n",
       "    <tr>\n",
       "      <th>6</th>\n",
       "      <td>Python</td>\n",
       "      <td>4904</td>\n",
       "      <td>3153</td>\n",
       "      <td>2671</td>\n",
       "    </tr>\n",
       "  </tbody>\n",
       "</table>\n",
       "</div>"
      ],
      "text/plain": [
       "   Region  Sales   Qty  profit\n",
       "0  Python   3828  3853    4333\n",
       "1  Python   1912  1305    4739\n",
       "2  Python   4046  2176    2650\n",
       "3  Python   2995  3309    1098\n",
       "4  Python   2872  4592    3532\n",
       "5  Python   4896  2896    1242\n",
       "6  Python   4904  3153    2671"
      ]
     },
     "execution_count": 35,
     "metadata": {},
     "output_type": "execute_result"
    }
   ],
   "source": [
    "table_4"
   ]
  },
  {
   "cell_type": "code",
   "execution_count": null,
   "id": "0c217b7b",
   "metadata": {},
   "outputs": [],
   "source": []
  },
  {
   "cell_type": "code",
   "execution_count": null,
   "id": "6366810d",
   "metadata": {},
   "outputs": [],
   "source": []
  },
  {
   "cell_type": "code",
   "execution_count": null,
   "id": "5dbac1d3",
   "metadata": {},
   "outputs": [],
   "source": []
  },
  {
   "cell_type": "code",
   "execution_count": 36,
   "id": "31d21071",
   "metadata": {},
   "outputs": [],
   "source": [
    "a = 23"
   ]
  },
  {
   "cell_type": "code",
   "execution_count": 1,
   "id": "283ffb23",
   "metadata": {},
   "outputs": [
    {
     "ename": "NameError",
     "evalue": "name 'a' is not defined",
     "output_type": "error",
     "traceback": [
      "\u001b[1;31m---------------------------------------------------------------------------\u001b[0m",
      "\u001b[1;31mNameError\u001b[0m                                 Traceback (most recent call last)",
      "Cell \u001b[1;32mIn[1], line 1\u001b[0m\n\u001b[1;32m----> 1\u001b[0m \u001b[38;5;28mprint\u001b[39m(a)\n",
      "\u001b[1;31mNameError\u001b[0m: name 'a' is not defined"
     ]
    }
   ],
   "source": [
    "print(a)"
   ]
  },
  {
   "cell_type": "code",
   "execution_count": 10,
   "id": "46fcb64a",
   "metadata": {},
   "outputs": [],
   "source": [
    "all_code = []\n",
    "\n",
    "for i in range(1,101):\n",
    "    code = f'''table_{i} = pd.read_excel(r\"C:\\\\Users\\\\Lenovo\\\\Desktop\\\\mera_sales.xlsx\",sheet_name = all_sheets[{i}])'''\n",
    "    all_code.append(code)"
   ]
  },
  {
   "cell_type": "code",
   "execution_count": 11,
   "id": "37fa9735",
   "metadata": {},
   "outputs": [
    {
     "name": "stdout",
     "output_type": "stream",
     "text": [
      "table_1 = pd.read_excel(r\"C:\\Users\\Lenovo\\Desktop\\mera_sales.xlsx\",sheet_name = all_sheets[1])\n",
      "table_2 = pd.read_excel(r\"C:\\Users\\Lenovo\\Desktop\\mera_sales.xlsx\",sheet_name = all_sheets[2])\n",
      "table_3 = pd.read_excel(r\"C:\\Users\\Lenovo\\Desktop\\mera_sales.xlsx\",sheet_name = all_sheets[3])\n",
      "table_4 = pd.read_excel(r\"C:\\Users\\Lenovo\\Desktop\\mera_sales.xlsx\",sheet_name = all_sheets[4])\n",
      "table_5 = pd.read_excel(r\"C:\\Users\\Lenovo\\Desktop\\mera_sales.xlsx\",sheet_name = all_sheets[5])\n",
      "table_6 = pd.read_excel(r\"C:\\Users\\Lenovo\\Desktop\\mera_sales.xlsx\",sheet_name = all_sheets[6])\n",
      "table_7 = pd.read_excel(r\"C:\\Users\\Lenovo\\Desktop\\mera_sales.xlsx\",sheet_name = all_sheets[7])\n",
      "table_8 = pd.read_excel(r\"C:\\Users\\Lenovo\\Desktop\\mera_sales.xlsx\",sheet_name = all_sheets[8])\n",
      "table_9 = pd.read_excel(r\"C:\\Users\\Lenovo\\Desktop\\mera_sales.xlsx\",sheet_name = all_sheets[9])\n",
      "table_10 = pd.read_excel(r\"C:\\Users\\Lenovo\\Desktop\\mera_sales.xlsx\",sheet_name = all_sheets[10])\n",
      "table_11 = pd.read_excel(r\"C:\\Users\\Lenovo\\Desktop\\mera_sales.xlsx\",sheet_name = all_sheets[11])\n",
      "table_12 = pd.read_excel(r\"C:\\Users\\Lenovo\\Desktop\\mera_sales.xlsx\",sheet_name = all_sheets[12])\n",
      "table_13 = pd.read_excel(r\"C:\\Users\\Lenovo\\Desktop\\mera_sales.xlsx\",sheet_name = all_sheets[13])\n",
      "table_14 = pd.read_excel(r\"C:\\Users\\Lenovo\\Desktop\\mera_sales.xlsx\",sheet_name = all_sheets[14])\n",
      "table_15 = pd.read_excel(r\"C:\\Users\\Lenovo\\Desktop\\mera_sales.xlsx\",sheet_name = all_sheets[15])\n",
      "table_16 = pd.read_excel(r\"C:\\Users\\Lenovo\\Desktop\\mera_sales.xlsx\",sheet_name = all_sheets[16])\n",
      "table_17 = pd.read_excel(r\"C:\\Users\\Lenovo\\Desktop\\mera_sales.xlsx\",sheet_name = all_sheets[17])\n",
      "table_18 = pd.read_excel(r\"C:\\Users\\Lenovo\\Desktop\\mera_sales.xlsx\",sheet_name = all_sheets[18])\n",
      "table_19 = pd.read_excel(r\"C:\\Users\\Lenovo\\Desktop\\mera_sales.xlsx\",sheet_name = all_sheets[19])\n",
      "table_20 = pd.read_excel(r\"C:\\Users\\Lenovo\\Desktop\\mera_sales.xlsx\",sheet_name = all_sheets[20])\n",
      "table_21 = pd.read_excel(r\"C:\\Users\\Lenovo\\Desktop\\mera_sales.xlsx\",sheet_name = all_sheets[21])\n",
      "table_22 = pd.read_excel(r\"C:\\Users\\Lenovo\\Desktop\\mera_sales.xlsx\",sheet_name = all_sheets[22])\n",
      "table_23 = pd.read_excel(r\"C:\\Users\\Lenovo\\Desktop\\mera_sales.xlsx\",sheet_name = all_sheets[23])\n",
      "table_24 = pd.read_excel(r\"C:\\Users\\Lenovo\\Desktop\\mera_sales.xlsx\",sheet_name = all_sheets[24])\n",
      "table_25 = pd.read_excel(r\"C:\\Users\\Lenovo\\Desktop\\mera_sales.xlsx\",sheet_name = all_sheets[25])\n",
      "table_26 = pd.read_excel(r\"C:\\Users\\Lenovo\\Desktop\\mera_sales.xlsx\",sheet_name = all_sheets[26])\n",
      "table_27 = pd.read_excel(r\"C:\\Users\\Lenovo\\Desktop\\mera_sales.xlsx\",sheet_name = all_sheets[27])\n",
      "table_28 = pd.read_excel(r\"C:\\Users\\Lenovo\\Desktop\\mera_sales.xlsx\",sheet_name = all_sheets[28])\n",
      "table_29 = pd.read_excel(r\"C:\\Users\\Lenovo\\Desktop\\mera_sales.xlsx\",sheet_name = all_sheets[29])\n",
      "table_30 = pd.read_excel(r\"C:\\Users\\Lenovo\\Desktop\\mera_sales.xlsx\",sheet_name = all_sheets[30])\n",
      "table_31 = pd.read_excel(r\"C:\\Users\\Lenovo\\Desktop\\mera_sales.xlsx\",sheet_name = all_sheets[31])\n",
      "table_32 = pd.read_excel(r\"C:\\Users\\Lenovo\\Desktop\\mera_sales.xlsx\",sheet_name = all_sheets[32])\n",
      "table_33 = pd.read_excel(r\"C:\\Users\\Lenovo\\Desktop\\mera_sales.xlsx\",sheet_name = all_sheets[33])\n",
      "table_34 = pd.read_excel(r\"C:\\Users\\Lenovo\\Desktop\\mera_sales.xlsx\",sheet_name = all_sheets[34])\n",
      "table_35 = pd.read_excel(r\"C:\\Users\\Lenovo\\Desktop\\mera_sales.xlsx\",sheet_name = all_sheets[35])\n",
      "table_36 = pd.read_excel(r\"C:\\Users\\Lenovo\\Desktop\\mera_sales.xlsx\",sheet_name = all_sheets[36])\n",
      "table_37 = pd.read_excel(r\"C:\\Users\\Lenovo\\Desktop\\mera_sales.xlsx\",sheet_name = all_sheets[37])\n",
      "table_38 = pd.read_excel(r\"C:\\Users\\Lenovo\\Desktop\\mera_sales.xlsx\",sheet_name = all_sheets[38])\n",
      "table_39 = pd.read_excel(r\"C:\\Users\\Lenovo\\Desktop\\mera_sales.xlsx\",sheet_name = all_sheets[39])\n",
      "table_40 = pd.read_excel(r\"C:\\Users\\Lenovo\\Desktop\\mera_sales.xlsx\",sheet_name = all_sheets[40])\n",
      "table_41 = pd.read_excel(r\"C:\\Users\\Lenovo\\Desktop\\mera_sales.xlsx\",sheet_name = all_sheets[41])\n",
      "table_42 = pd.read_excel(r\"C:\\Users\\Lenovo\\Desktop\\mera_sales.xlsx\",sheet_name = all_sheets[42])\n",
      "table_43 = pd.read_excel(r\"C:\\Users\\Lenovo\\Desktop\\mera_sales.xlsx\",sheet_name = all_sheets[43])\n",
      "table_44 = pd.read_excel(r\"C:\\Users\\Lenovo\\Desktop\\mera_sales.xlsx\",sheet_name = all_sheets[44])\n",
      "table_45 = pd.read_excel(r\"C:\\Users\\Lenovo\\Desktop\\mera_sales.xlsx\",sheet_name = all_sheets[45])\n",
      "table_46 = pd.read_excel(r\"C:\\Users\\Lenovo\\Desktop\\mera_sales.xlsx\",sheet_name = all_sheets[46])\n",
      "table_47 = pd.read_excel(r\"C:\\Users\\Lenovo\\Desktop\\mera_sales.xlsx\",sheet_name = all_sheets[47])\n",
      "table_48 = pd.read_excel(r\"C:\\Users\\Lenovo\\Desktop\\mera_sales.xlsx\",sheet_name = all_sheets[48])\n",
      "table_49 = pd.read_excel(r\"C:\\Users\\Lenovo\\Desktop\\mera_sales.xlsx\",sheet_name = all_sheets[49])\n",
      "table_50 = pd.read_excel(r\"C:\\Users\\Lenovo\\Desktop\\mera_sales.xlsx\",sheet_name = all_sheets[50])\n",
      "table_51 = pd.read_excel(r\"C:\\Users\\Lenovo\\Desktop\\mera_sales.xlsx\",sheet_name = all_sheets[51])\n",
      "table_52 = pd.read_excel(r\"C:\\Users\\Lenovo\\Desktop\\mera_sales.xlsx\",sheet_name = all_sheets[52])\n",
      "table_53 = pd.read_excel(r\"C:\\Users\\Lenovo\\Desktop\\mera_sales.xlsx\",sheet_name = all_sheets[53])\n",
      "table_54 = pd.read_excel(r\"C:\\Users\\Lenovo\\Desktop\\mera_sales.xlsx\",sheet_name = all_sheets[54])\n",
      "table_55 = pd.read_excel(r\"C:\\Users\\Lenovo\\Desktop\\mera_sales.xlsx\",sheet_name = all_sheets[55])\n",
      "table_56 = pd.read_excel(r\"C:\\Users\\Lenovo\\Desktop\\mera_sales.xlsx\",sheet_name = all_sheets[56])\n",
      "table_57 = pd.read_excel(r\"C:\\Users\\Lenovo\\Desktop\\mera_sales.xlsx\",sheet_name = all_sheets[57])\n",
      "table_58 = pd.read_excel(r\"C:\\Users\\Lenovo\\Desktop\\mera_sales.xlsx\",sheet_name = all_sheets[58])\n",
      "table_59 = pd.read_excel(r\"C:\\Users\\Lenovo\\Desktop\\mera_sales.xlsx\",sheet_name = all_sheets[59])\n",
      "table_60 = pd.read_excel(r\"C:\\Users\\Lenovo\\Desktop\\mera_sales.xlsx\",sheet_name = all_sheets[60])\n",
      "table_61 = pd.read_excel(r\"C:\\Users\\Lenovo\\Desktop\\mera_sales.xlsx\",sheet_name = all_sheets[61])\n",
      "table_62 = pd.read_excel(r\"C:\\Users\\Lenovo\\Desktop\\mera_sales.xlsx\",sheet_name = all_sheets[62])\n",
      "table_63 = pd.read_excel(r\"C:\\Users\\Lenovo\\Desktop\\mera_sales.xlsx\",sheet_name = all_sheets[63])\n",
      "table_64 = pd.read_excel(r\"C:\\Users\\Lenovo\\Desktop\\mera_sales.xlsx\",sheet_name = all_sheets[64])\n",
      "table_65 = pd.read_excel(r\"C:\\Users\\Lenovo\\Desktop\\mera_sales.xlsx\",sheet_name = all_sheets[65])\n",
      "table_66 = pd.read_excel(r\"C:\\Users\\Lenovo\\Desktop\\mera_sales.xlsx\",sheet_name = all_sheets[66])\n",
      "table_67 = pd.read_excel(r\"C:\\Users\\Lenovo\\Desktop\\mera_sales.xlsx\",sheet_name = all_sheets[67])\n",
      "table_68 = pd.read_excel(r\"C:\\Users\\Lenovo\\Desktop\\mera_sales.xlsx\",sheet_name = all_sheets[68])\n",
      "table_69 = pd.read_excel(r\"C:\\Users\\Lenovo\\Desktop\\mera_sales.xlsx\",sheet_name = all_sheets[69])\n",
      "table_70 = pd.read_excel(r\"C:\\Users\\Lenovo\\Desktop\\mera_sales.xlsx\",sheet_name = all_sheets[70])\n",
      "table_71 = pd.read_excel(r\"C:\\Users\\Lenovo\\Desktop\\mera_sales.xlsx\",sheet_name = all_sheets[71])\n",
      "table_72 = pd.read_excel(r\"C:\\Users\\Lenovo\\Desktop\\mera_sales.xlsx\",sheet_name = all_sheets[72])\n",
      "table_73 = pd.read_excel(r\"C:\\Users\\Lenovo\\Desktop\\mera_sales.xlsx\",sheet_name = all_sheets[73])\n",
      "table_74 = pd.read_excel(r\"C:\\Users\\Lenovo\\Desktop\\mera_sales.xlsx\",sheet_name = all_sheets[74])\n",
      "table_75 = pd.read_excel(r\"C:\\Users\\Lenovo\\Desktop\\mera_sales.xlsx\",sheet_name = all_sheets[75])\n",
      "table_76 = pd.read_excel(r\"C:\\Users\\Lenovo\\Desktop\\mera_sales.xlsx\",sheet_name = all_sheets[76])\n",
      "table_77 = pd.read_excel(r\"C:\\Users\\Lenovo\\Desktop\\mera_sales.xlsx\",sheet_name = all_sheets[77])\n",
      "table_78 = pd.read_excel(r\"C:\\Users\\Lenovo\\Desktop\\mera_sales.xlsx\",sheet_name = all_sheets[78])\n",
      "table_79 = pd.read_excel(r\"C:\\Users\\Lenovo\\Desktop\\mera_sales.xlsx\",sheet_name = all_sheets[79])\n",
      "table_80 = pd.read_excel(r\"C:\\Users\\Lenovo\\Desktop\\mera_sales.xlsx\",sheet_name = all_sheets[80])\n",
      "table_81 = pd.read_excel(r\"C:\\Users\\Lenovo\\Desktop\\mera_sales.xlsx\",sheet_name = all_sheets[81])\n",
      "table_82 = pd.read_excel(r\"C:\\Users\\Lenovo\\Desktop\\mera_sales.xlsx\",sheet_name = all_sheets[82])\n",
      "table_83 = pd.read_excel(r\"C:\\Users\\Lenovo\\Desktop\\mera_sales.xlsx\",sheet_name = all_sheets[83])\n",
      "table_84 = pd.read_excel(r\"C:\\Users\\Lenovo\\Desktop\\mera_sales.xlsx\",sheet_name = all_sheets[84])\n",
      "table_85 = pd.read_excel(r\"C:\\Users\\Lenovo\\Desktop\\mera_sales.xlsx\",sheet_name = all_sheets[85])\n",
      "table_86 = pd.read_excel(r\"C:\\Users\\Lenovo\\Desktop\\mera_sales.xlsx\",sheet_name = all_sheets[86])\n",
      "table_87 = pd.read_excel(r\"C:\\Users\\Lenovo\\Desktop\\mera_sales.xlsx\",sheet_name = all_sheets[87])\n",
      "table_88 = pd.read_excel(r\"C:\\Users\\Lenovo\\Desktop\\mera_sales.xlsx\",sheet_name = all_sheets[88])\n",
      "table_89 = pd.read_excel(r\"C:\\Users\\Lenovo\\Desktop\\mera_sales.xlsx\",sheet_name = all_sheets[89])\n",
      "table_90 = pd.read_excel(r\"C:\\Users\\Lenovo\\Desktop\\mera_sales.xlsx\",sheet_name = all_sheets[90])\n",
      "table_91 = pd.read_excel(r\"C:\\Users\\Lenovo\\Desktop\\mera_sales.xlsx\",sheet_name = all_sheets[91])\n",
      "table_92 = pd.read_excel(r\"C:\\Users\\Lenovo\\Desktop\\mera_sales.xlsx\",sheet_name = all_sheets[92])\n",
      "table_93 = pd.read_excel(r\"C:\\Users\\Lenovo\\Desktop\\mera_sales.xlsx\",sheet_name = all_sheets[93])\n",
      "table_94 = pd.read_excel(r\"C:\\Users\\Lenovo\\Desktop\\mera_sales.xlsx\",sheet_name = all_sheets[94])\n",
      "table_95 = pd.read_excel(r\"C:\\Users\\Lenovo\\Desktop\\mera_sales.xlsx\",sheet_name = all_sheets[95])\n",
      "table_96 = pd.read_excel(r\"C:\\Users\\Lenovo\\Desktop\\mera_sales.xlsx\",sheet_name = all_sheets[96])\n",
      "table_97 = pd.read_excel(r\"C:\\Users\\Lenovo\\Desktop\\mera_sales.xlsx\",sheet_name = all_sheets[97])\n",
      "table_98 = pd.read_excel(r\"C:\\Users\\Lenovo\\Desktop\\mera_sales.xlsx\",sheet_name = all_sheets[98])\n",
      "table_99 = pd.read_excel(r\"C:\\Users\\Lenovo\\Desktop\\mera_sales.xlsx\",sheet_name = all_sheets[99])\n",
      "table_100 = pd.read_excel(r\"C:\\Users\\Lenovo\\Desktop\\mera_sales.xlsx\",sheet_name = all_sheets[100])\n"
     ]
    }
   ],
   "source": [
    "for i in  all_code:\n",
    "    print(i)"
   ]
  },
  {
   "cell_type": "code",
   "execution_count": null,
   "id": "1af6fd9b",
   "metadata": {},
   "outputs": [],
   "source": []
  }
 ],
 "metadata": {
  "kernelspec": {
   "display_name": "Python 3 (ipykernel)",
   "language": "python",
   "name": "python3"
  },
  "language_info": {
   "codemirror_mode": {
    "name": "ipython",
    "version": 3
   },
   "file_extension": ".py",
   "mimetype": "text/x-python",
   "name": "python",
   "nbconvert_exporter": "python",
   "pygments_lexer": "ipython3",
   "version": "3.11.3"
  }
 },
 "nbformat": 4,
 "nbformat_minor": 5
}
