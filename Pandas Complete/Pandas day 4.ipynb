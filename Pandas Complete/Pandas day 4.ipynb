{
 "cells": [
  {
   "cell_type": "code",
   "execution_count": 2,
   "id": "d70aa6ea",
   "metadata": {},
   "outputs": [],
   "source": [
    "# DataFrame\n",
    "\n",
    "import pandas as pd"
   ]
  },
  {
   "cell_type": "code",
   "execution_count": 61,
   "id": "239603f1",
   "metadata": {},
   "outputs": [],
   "source": [
    "debt_df = pd.read_csv(r\"D:\\All_Dataset_Xl_csv\\P6-EuroDebtCrisis.csv\")"
   ]
  },
  {
   "cell_type": "code",
   "execution_count": 62,
   "id": "ca495ff8",
   "metadata": {},
   "outputs": [
    {
     "data": {
      "text/html": [
       "<div>\n",
       "<style scoped>\n",
       "    .dataframe tbody tr th:only-of-type {\n",
       "        vertical-align: middle;\n",
       "    }\n",
       "\n",
       "    .dataframe tbody tr th {\n",
       "        vertical-align: top;\n",
       "    }\n",
       "\n",
       "    .dataframe thead th {\n",
       "        text-align: right;\n",
       "    }\n",
       "</style>\n",
       "<table border=\"1\" class=\"dataframe\">\n",
       "  <thead>\n",
       "    <tr style=\"text-align: right;\">\n",
       "      <th></th>\n",
       "      <th>Creditor</th>\n",
       "      <th>Debtor</th>\n",
       "      <th>Amount</th>\n",
       "      <th>Risk</th>\n",
       "    </tr>\n",
       "  </thead>\n",
       "  <tbody>\n",
       "    <tr>\n",
       "      <th>0</th>\n",
       "      <td>Japan</td>\n",
       "      <td>United States</td>\n",
       "      <td>796.00</td>\n",
       "      <td>Stable</td>\n",
       "    </tr>\n",
       "    <tr>\n",
       "      <th>1</th>\n",
       "      <td>France</td>\n",
       "      <td>Italy</td>\n",
       "      <td>366.00</td>\n",
       "      <td>High Risk</td>\n",
       "    </tr>\n",
       "    <tr>\n",
       "      <th>2</th>\n",
       "      <td>Britain</td>\n",
       "      <td>United States</td>\n",
       "      <td>345.00</td>\n",
       "      <td>Stable</td>\n",
       "    </tr>\n",
       "    <tr>\n",
       "      <th>3</th>\n",
       "      <td>Spain</td>\n",
       "      <td>Britain</td>\n",
       "      <td>326.00</td>\n",
       "      <td>Stable</td>\n",
       "    </tr>\n",
       "    <tr>\n",
       "      <th>4</th>\n",
       "      <td>Germany</td>\n",
       "      <td>United States</td>\n",
       "      <td>NaN</td>\n",
       "      <td>NaN</td>\n",
       "    </tr>\n",
       "    <tr>\n",
       "      <th>5</th>\n",
       "      <td>France</td>\n",
       "      <td>United States</td>\n",
       "      <td>NaN</td>\n",
       "      <td>NaN</td>\n",
       "    </tr>\n",
       "    <tr>\n",
       "      <th>6</th>\n",
       "      <td>Germany</td>\n",
       "      <td>Britain</td>\n",
       "      <td>NaN</td>\n",
       "      <td>NaN</td>\n",
       "    </tr>\n",
       "    <tr>\n",
       "      <th>7</th>\n",
       "      <td>Spain</td>\n",
       "      <td>United States</td>\n",
       "      <td>NaN</td>\n",
       "      <td>NaN</td>\n",
       "    </tr>\n",
       "    <tr>\n",
       "      <th>8</th>\n",
       "      <td>France</td>\n",
       "      <td>Spain</td>\n",
       "      <td>NaN</td>\n",
       "      <td>NaN</td>\n",
       "    </tr>\n",
       "    <tr>\n",
       "      <th>9</th>\n",
       "      <td>Italy</td>\n",
       "      <td>Germany</td>\n",
       "      <td>111.00</td>\n",
       "      <td>NaN</td>\n",
       "    </tr>\n",
       "    <tr>\n",
       "      <th>10</th>\n",
       "      <td>Japan</td>\n",
       "      <td>Germany</td>\n",
       "      <td>88.50</td>\n",
       "      <td>NaN</td>\n",
       "    </tr>\n",
       "    <tr>\n",
       "      <th>11</th>\n",
       "      <td>Spain</td>\n",
       "      <td>Portugal</td>\n",
       "      <td>62.00</td>\n",
       "      <td>NaN</td>\n",
       "    </tr>\n",
       "    <tr>\n",
       "      <th>12</th>\n",
       "      <td>Germany</td>\n",
       "      <td>Spain</td>\n",
       "      <td>57.60</td>\n",
       "      <td>NaN</td>\n",
       "    </tr>\n",
       "    <tr>\n",
       "      <th>13</th>\n",
       "      <td>France</td>\n",
       "      <td>Greece</td>\n",
       "      <td>53.90</td>\n",
       "      <td>NaN</td>\n",
       "    </tr>\n",
       "    <tr>\n",
       "      <th>14</th>\n",
       "      <td>France</td>\n",
       "      <td>Germany</td>\n",
       "      <td>53.80</td>\n",
       "      <td>Stable</td>\n",
       "    </tr>\n",
       "    <tr>\n",
       "      <th>15</th>\n",
       "      <td>Germany</td>\n",
       "      <td>Ireland</td>\n",
       "      <td>48.90</td>\n",
       "      <td>High Risk</td>\n",
       "    </tr>\n",
       "    <tr>\n",
       "      <th>16</th>\n",
       "      <td>Japan</td>\n",
       "      <td>Italy</td>\n",
       "      <td>38.80</td>\n",
       "      <td>High Risk</td>\n",
       "    </tr>\n",
       "    <tr>\n",
       "      <th>17</th>\n",
       "      <td>Germany</td>\n",
       "      <td>Portugal</td>\n",
       "      <td>32.50</td>\n",
       "      <td>High Risk</td>\n",
       "    </tr>\n",
       "    <tr>\n",
       "      <th>18</th>\n",
       "      <td>Japan</td>\n",
       "      <td>Britain</td>\n",
       "      <td>28.20</td>\n",
       "      <td>Stable</td>\n",
       "    </tr>\n",
       "    <tr>\n",
       "      <th>19</th>\n",
       "      <td>Britain</td>\n",
       "      <td>Italy</td>\n",
       "      <td>26.00</td>\n",
       "      <td>High Risk</td>\n",
       "    </tr>\n",
       "    <tr>\n",
       "      <th>20</th>\n",
       "      <td>Japan</td>\n",
       "      <td>Spain</td>\n",
       "      <td>25.90</td>\n",
       "      <td>Medium Risk</td>\n",
       "    </tr>\n",
       "    <tr>\n",
       "      <th>21</th>\n",
       "      <td>Britain</td>\n",
       "      <td>France</td>\n",
       "      <td>22.40</td>\n",
       "      <td>Low Risk</td>\n",
       "    </tr>\n",
       "    <tr>\n",
       "      <th>22</th>\n",
       "      <td>Britain</td>\n",
       "      <td>Portugal</td>\n",
       "      <td>19.40</td>\n",
       "      <td>High Risk</td>\n",
       "    </tr>\n",
       "    <tr>\n",
       "      <th>23</th>\n",
       "      <td>Germany</td>\n",
       "      <td>Greece</td>\n",
       "      <td>19.30</td>\n",
       "      <td>High Risk</td>\n",
       "    </tr>\n",
       "    <tr>\n",
       "      <th>24</th>\n",
       "      <td>Japan</td>\n",
       "      <td>Ireland</td>\n",
       "      <td>18.90</td>\n",
       "      <td>High Risk</td>\n",
       "    </tr>\n",
       "    <tr>\n",
       "      <th>25</th>\n",
       "      <td>France</td>\n",
       "      <td>Portugal</td>\n",
       "      <td>18.30</td>\n",
       "      <td>High Risk</td>\n",
       "    </tr>\n",
       "    <tr>\n",
       "      <th>26</th>\n",
       "      <td>France</td>\n",
       "      <td>Ireland</td>\n",
       "      <td>17.30</td>\n",
       "      <td>High Risk</td>\n",
       "    </tr>\n",
       "    <tr>\n",
       "      <th>27</th>\n",
       "      <td>Ireland</td>\n",
       "      <td>Britain</td>\n",
       "      <td>12.00</td>\n",
       "      <td>Stable</td>\n",
       "    </tr>\n",
       "    <tr>\n",
       "      <th>28</th>\n",
       "      <td>United States</td>\n",
       "      <td>Ireland</td>\n",
       "      <td>11.10</td>\n",
       "      <td>High Risk</td>\n",
       "    </tr>\n",
       "    <tr>\n",
       "      <th>29</th>\n",
       "      <td>Portugal</td>\n",
       "      <td>Greece</td>\n",
       "      <td>10.10</td>\n",
       "      <td>High Risk</td>\n",
       "    </tr>\n",
       "    <tr>\n",
       "      <th>30</th>\n",
       "      <td>Spain</td>\n",
       "      <td>Italy</td>\n",
       "      <td>9.79</td>\n",
       "      <td>High Risk</td>\n",
       "    </tr>\n",
       "    <tr>\n",
       "      <th>31</th>\n",
       "      <td>France</td>\n",
       "      <td>Japan</td>\n",
       "      <td>7.73</td>\n",
       "      <td>Stable</td>\n",
       "    </tr>\n",
       "    <tr>\n",
       "      <th>32</th>\n",
       "      <td>Ireland</td>\n",
       "      <td>Spain</td>\n",
       "      <td>6.38</td>\n",
       "      <td>Medium Risk</td>\n",
       "    </tr>\n",
       "    <tr>\n",
       "      <th>33</th>\n",
       "      <td>Portugal</td>\n",
       "      <td>Ireland</td>\n",
       "      <td>3.77</td>\n",
       "      <td>High Risk</td>\n",
       "    </tr>\n",
       "    <tr>\n",
       "      <th>34</th>\n",
       "      <td>Italy</td>\n",
       "      <td>Greece</td>\n",
       "      <td>3.22</td>\n",
       "      <td>High Risk</td>\n",
       "    </tr>\n",
       "    <tr>\n",
       "      <th>35</th>\n",
       "      <td>United States</td>\n",
       "      <td>Italy</td>\n",
       "      <td>3.16</td>\n",
       "      <td>High Risk</td>\n",
       "    </tr>\n",
       "    <tr>\n",
       "      <th>36</th>\n",
       "      <td>United States</td>\n",
       "      <td>Greece</td>\n",
       "      <td>3.10</td>\n",
       "      <td>High Risk</td>\n",
       "    </tr>\n",
       "    <tr>\n",
       "      <th>37</th>\n",
       "      <td>Italy</td>\n",
       "      <td>Ireland</td>\n",
       "      <td>2.83</td>\n",
       "      <td>High Risk</td>\n",
       "    </tr>\n",
       "    <tr>\n",
       "      <th>38</th>\n",
       "      <td>Japan</td>\n",
       "      <td>Portugal</td>\n",
       "      <td>2.18</td>\n",
       "      <td>High Risk</td>\n",
       "    </tr>\n",
       "    <tr>\n",
       "      <th>39</th>\n",
       "      <td>Japan</td>\n",
       "      <td>Greece</td>\n",
       "      <td>1.37</td>\n",
       "      <td>High Risk</td>\n",
       "    </tr>\n",
       "    <tr>\n",
       "      <th>40</th>\n",
       "      <td>Italy</td>\n",
       "      <td>Portugal</td>\n",
       "      <td>0.87</td>\n",
       "      <td>High Risk</td>\n",
       "    </tr>\n",
       "    <tr>\n",
       "      <th>41</th>\n",
       "      <td>Spain</td>\n",
       "      <td>Greece</td>\n",
       "      <td>0.78</td>\n",
       "      <td>High Risk</td>\n",
       "    </tr>\n",
       "    <tr>\n",
       "      <th>42</th>\n",
       "      <td>Britain</td>\n",
       "      <td>Greece</td>\n",
       "      <td>0.55</td>\n",
       "      <td>High Risk</td>\n",
       "    </tr>\n",
       "    <tr>\n",
       "      <th>43</th>\n",
       "      <td>Portugal</td>\n",
       "      <td>United States</td>\n",
       "      <td>0.52</td>\n",
       "      <td>Stable</td>\n",
       "    </tr>\n",
       "    <tr>\n",
       "      <th>44</th>\n",
       "      <td>Ireland</td>\n",
       "      <td>Greece</td>\n",
       "      <td>0.34</td>\n",
       "      <td>High Risk</td>\n",
       "    </tr>\n",
       "  </tbody>\n",
       "</table>\n",
       "</div>"
      ],
      "text/plain": [
       "         Creditor         Debtor  Amount         Risk\n",
       "0           Japan  United States  796.00       Stable\n",
       "1          France          Italy  366.00    High Risk\n",
       "2         Britain  United States  345.00       Stable\n",
       "3           Spain        Britain  326.00       Stable\n",
       "4         Germany  United States     NaN          NaN\n",
       "5          France  United States     NaN          NaN\n",
       "6         Germany        Britain     NaN          NaN\n",
       "7           Spain  United States     NaN          NaN\n",
       "8          France          Spain     NaN          NaN\n",
       "9           Italy        Germany  111.00          NaN\n",
       "10          Japan        Germany   88.50          NaN\n",
       "11          Spain       Portugal   62.00          NaN\n",
       "12        Germany          Spain   57.60          NaN\n",
       "13         France         Greece   53.90          NaN\n",
       "14         France        Germany   53.80       Stable\n",
       "15        Germany        Ireland   48.90    High Risk\n",
       "16          Japan          Italy   38.80    High Risk\n",
       "17        Germany       Portugal   32.50    High Risk\n",
       "18          Japan        Britain   28.20       Stable\n",
       "19        Britain          Italy   26.00    High Risk\n",
       "20          Japan          Spain   25.90  Medium Risk\n",
       "21        Britain         France   22.40     Low Risk\n",
       "22        Britain       Portugal   19.40    High Risk\n",
       "23        Germany         Greece   19.30    High Risk\n",
       "24          Japan        Ireland   18.90    High Risk\n",
       "25         France       Portugal   18.30    High Risk\n",
       "26         France        Ireland   17.30    High Risk\n",
       "27        Ireland        Britain   12.00       Stable\n",
       "28  United States        Ireland   11.10    High Risk\n",
       "29       Portugal         Greece   10.10    High Risk\n",
       "30          Spain          Italy    9.79    High Risk\n",
       "31         France          Japan    7.73       Stable\n",
       "32        Ireland          Spain    6.38  Medium Risk\n",
       "33       Portugal        Ireland    3.77    High Risk\n",
       "34          Italy         Greece    3.22    High Risk\n",
       "35  United States          Italy    3.16    High Risk\n",
       "36  United States         Greece    3.10    High Risk\n",
       "37          Italy        Ireland    2.83    High Risk\n",
       "38          Japan       Portugal    2.18    High Risk\n",
       "39          Japan         Greece    1.37    High Risk\n",
       "40          Italy       Portugal    0.87    High Risk\n",
       "41          Spain         Greece    0.78    High Risk\n",
       "42        Britain         Greece    0.55    High Risk\n",
       "43       Portugal  United States    0.52       Stable\n",
       "44        Ireland         Greece    0.34    High Risk"
      ]
     },
     "execution_count": 62,
     "metadata": {},
     "output_type": "execute_result"
    }
   ],
   "source": [
    "debt_df"
   ]
  },
  {
   "cell_type": "code",
   "execution_count": 63,
   "id": "b19099d7",
   "metadata": {},
   "outputs": [],
   "source": [
    "debt_df.columns = [i.lower() for i in debt_df.columns]"
   ]
  },
  {
   "cell_type": "code",
   "execution_count": 64,
   "id": "3d726ff9",
   "metadata": {},
   "outputs": [
    {
     "data": {
      "text/html": [
       "<div>\n",
       "<style scoped>\n",
       "    .dataframe tbody tr th:only-of-type {\n",
       "        vertical-align: middle;\n",
       "    }\n",
       "\n",
       "    .dataframe tbody tr th {\n",
       "        vertical-align: top;\n",
       "    }\n",
       "\n",
       "    .dataframe thead th {\n",
       "        text-align: right;\n",
       "    }\n",
       "</style>\n",
       "<table border=\"1\" class=\"dataframe\">\n",
       "  <thead>\n",
       "    <tr style=\"text-align: right;\">\n",
       "      <th></th>\n",
       "      <th>creditor</th>\n",
       "      <th>debtor</th>\n",
       "      <th>amount</th>\n",
       "      <th>risk</th>\n",
       "    </tr>\n",
       "  </thead>\n",
       "  <tbody>\n",
       "    <tr>\n",
       "      <th>0</th>\n",
       "      <td>Japan</td>\n",
       "      <td>United States</td>\n",
       "      <td>796.00</td>\n",
       "      <td>Stable</td>\n",
       "    </tr>\n",
       "    <tr>\n",
       "      <th>1</th>\n",
       "      <td>France</td>\n",
       "      <td>Italy</td>\n",
       "      <td>366.00</td>\n",
       "      <td>High Risk</td>\n",
       "    </tr>\n",
       "    <tr>\n",
       "      <th>2</th>\n",
       "      <td>Britain</td>\n",
       "      <td>United States</td>\n",
       "      <td>345.00</td>\n",
       "      <td>Stable</td>\n",
       "    </tr>\n",
       "    <tr>\n",
       "      <th>3</th>\n",
       "      <td>Spain</td>\n",
       "      <td>Britain</td>\n",
       "      <td>326.00</td>\n",
       "      <td>Stable</td>\n",
       "    </tr>\n",
       "    <tr>\n",
       "      <th>4</th>\n",
       "      <td>Germany</td>\n",
       "      <td>United States</td>\n",
       "      <td>NaN</td>\n",
       "      <td>NaN</td>\n",
       "    </tr>\n",
       "    <tr>\n",
       "      <th>5</th>\n",
       "      <td>France</td>\n",
       "      <td>United States</td>\n",
       "      <td>NaN</td>\n",
       "      <td>NaN</td>\n",
       "    </tr>\n",
       "    <tr>\n",
       "      <th>6</th>\n",
       "      <td>Germany</td>\n",
       "      <td>Britain</td>\n",
       "      <td>NaN</td>\n",
       "      <td>NaN</td>\n",
       "    </tr>\n",
       "    <tr>\n",
       "      <th>7</th>\n",
       "      <td>Spain</td>\n",
       "      <td>United States</td>\n",
       "      <td>NaN</td>\n",
       "      <td>NaN</td>\n",
       "    </tr>\n",
       "    <tr>\n",
       "      <th>8</th>\n",
       "      <td>France</td>\n",
       "      <td>Spain</td>\n",
       "      <td>NaN</td>\n",
       "      <td>NaN</td>\n",
       "    </tr>\n",
       "    <tr>\n",
       "      <th>9</th>\n",
       "      <td>Italy</td>\n",
       "      <td>Germany</td>\n",
       "      <td>111.00</td>\n",
       "      <td>NaN</td>\n",
       "    </tr>\n",
       "    <tr>\n",
       "      <th>10</th>\n",
       "      <td>Japan</td>\n",
       "      <td>Germany</td>\n",
       "      <td>88.50</td>\n",
       "      <td>NaN</td>\n",
       "    </tr>\n",
       "    <tr>\n",
       "      <th>11</th>\n",
       "      <td>Spain</td>\n",
       "      <td>Portugal</td>\n",
       "      <td>62.00</td>\n",
       "      <td>NaN</td>\n",
       "    </tr>\n",
       "    <tr>\n",
       "      <th>12</th>\n",
       "      <td>Germany</td>\n",
       "      <td>Spain</td>\n",
       "      <td>57.60</td>\n",
       "      <td>NaN</td>\n",
       "    </tr>\n",
       "    <tr>\n",
       "      <th>13</th>\n",
       "      <td>France</td>\n",
       "      <td>Greece</td>\n",
       "      <td>53.90</td>\n",
       "      <td>NaN</td>\n",
       "    </tr>\n",
       "    <tr>\n",
       "      <th>14</th>\n",
       "      <td>France</td>\n",
       "      <td>Germany</td>\n",
       "      <td>53.80</td>\n",
       "      <td>Stable</td>\n",
       "    </tr>\n",
       "    <tr>\n",
       "      <th>15</th>\n",
       "      <td>Germany</td>\n",
       "      <td>Ireland</td>\n",
       "      <td>48.90</td>\n",
       "      <td>High Risk</td>\n",
       "    </tr>\n",
       "    <tr>\n",
       "      <th>16</th>\n",
       "      <td>Japan</td>\n",
       "      <td>Italy</td>\n",
       "      <td>38.80</td>\n",
       "      <td>High Risk</td>\n",
       "    </tr>\n",
       "    <tr>\n",
       "      <th>17</th>\n",
       "      <td>Germany</td>\n",
       "      <td>Portugal</td>\n",
       "      <td>32.50</td>\n",
       "      <td>High Risk</td>\n",
       "    </tr>\n",
       "    <tr>\n",
       "      <th>18</th>\n",
       "      <td>Japan</td>\n",
       "      <td>Britain</td>\n",
       "      <td>28.20</td>\n",
       "      <td>Stable</td>\n",
       "    </tr>\n",
       "    <tr>\n",
       "      <th>19</th>\n",
       "      <td>Britain</td>\n",
       "      <td>Italy</td>\n",
       "      <td>26.00</td>\n",
       "      <td>High Risk</td>\n",
       "    </tr>\n",
       "    <tr>\n",
       "      <th>20</th>\n",
       "      <td>Japan</td>\n",
       "      <td>Spain</td>\n",
       "      <td>25.90</td>\n",
       "      <td>Medium Risk</td>\n",
       "    </tr>\n",
       "    <tr>\n",
       "      <th>21</th>\n",
       "      <td>Britain</td>\n",
       "      <td>France</td>\n",
       "      <td>22.40</td>\n",
       "      <td>Low Risk</td>\n",
       "    </tr>\n",
       "    <tr>\n",
       "      <th>22</th>\n",
       "      <td>Britain</td>\n",
       "      <td>Portugal</td>\n",
       "      <td>19.40</td>\n",
       "      <td>High Risk</td>\n",
       "    </tr>\n",
       "    <tr>\n",
       "      <th>23</th>\n",
       "      <td>Germany</td>\n",
       "      <td>Greece</td>\n",
       "      <td>19.30</td>\n",
       "      <td>High Risk</td>\n",
       "    </tr>\n",
       "    <tr>\n",
       "      <th>24</th>\n",
       "      <td>Japan</td>\n",
       "      <td>Ireland</td>\n",
       "      <td>18.90</td>\n",
       "      <td>High Risk</td>\n",
       "    </tr>\n",
       "    <tr>\n",
       "      <th>25</th>\n",
       "      <td>France</td>\n",
       "      <td>Portugal</td>\n",
       "      <td>18.30</td>\n",
       "      <td>High Risk</td>\n",
       "    </tr>\n",
       "    <tr>\n",
       "      <th>26</th>\n",
       "      <td>France</td>\n",
       "      <td>Ireland</td>\n",
       "      <td>17.30</td>\n",
       "      <td>High Risk</td>\n",
       "    </tr>\n",
       "    <tr>\n",
       "      <th>27</th>\n",
       "      <td>Ireland</td>\n",
       "      <td>Britain</td>\n",
       "      <td>12.00</td>\n",
       "      <td>Stable</td>\n",
       "    </tr>\n",
       "    <tr>\n",
       "      <th>28</th>\n",
       "      <td>United States</td>\n",
       "      <td>Ireland</td>\n",
       "      <td>11.10</td>\n",
       "      <td>High Risk</td>\n",
       "    </tr>\n",
       "    <tr>\n",
       "      <th>29</th>\n",
       "      <td>Portugal</td>\n",
       "      <td>Greece</td>\n",
       "      <td>10.10</td>\n",
       "      <td>High Risk</td>\n",
       "    </tr>\n",
       "    <tr>\n",
       "      <th>30</th>\n",
       "      <td>Spain</td>\n",
       "      <td>Italy</td>\n",
       "      <td>9.79</td>\n",
       "      <td>High Risk</td>\n",
       "    </tr>\n",
       "    <tr>\n",
       "      <th>31</th>\n",
       "      <td>France</td>\n",
       "      <td>Japan</td>\n",
       "      <td>7.73</td>\n",
       "      <td>Stable</td>\n",
       "    </tr>\n",
       "    <tr>\n",
       "      <th>32</th>\n",
       "      <td>Ireland</td>\n",
       "      <td>Spain</td>\n",
       "      <td>6.38</td>\n",
       "      <td>Medium Risk</td>\n",
       "    </tr>\n",
       "    <tr>\n",
       "      <th>33</th>\n",
       "      <td>Portugal</td>\n",
       "      <td>Ireland</td>\n",
       "      <td>3.77</td>\n",
       "      <td>High Risk</td>\n",
       "    </tr>\n",
       "    <tr>\n",
       "      <th>34</th>\n",
       "      <td>Italy</td>\n",
       "      <td>Greece</td>\n",
       "      <td>3.22</td>\n",
       "      <td>High Risk</td>\n",
       "    </tr>\n",
       "    <tr>\n",
       "      <th>35</th>\n",
       "      <td>United States</td>\n",
       "      <td>Italy</td>\n",
       "      <td>3.16</td>\n",
       "      <td>High Risk</td>\n",
       "    </tr>\n",
       "    <tr>\n",
       "      <th>36</th>\n",
       "      <td>United States</td>\n",
       "      <td>Greece</td>\n",
       "      <td>3.10</td>\n",
       "      <td>High Risk</td>\n",
       "    </tr>\n",
       "    <tr>\n",
       "      <th>37</th>\n",
       "      <td>Italy</td>\n",
       "      <td>Ireland</td>\n",
       "      <td>2.83</td>\n",
       "      <td>High Risk</td>\n",
       "    </tr>\n",
       "    <tr>\n",
       "      <th>38</th>\n",
       "      <td>Japan</td>\n",
       "      <td>Portugal</td>\n",
       "      <td>2.18</td>\n",
       "      <td>High Risk</td>\n",
       "    </tr>\n",
       "    <tr>\n",
       "      <th>39</th>\n",
       "      <td>Japan</td>\n",
       "      <td>Greece</td>\n",
       "      <td>1.37</td>\n",
       "      <td>High Risk</td>\n",
       "    </tr>\n",
       "    <tr>\n",
       "      <th>40</th>\n",
       "      <td>Italy</td>\n",
       "      <td>Portugal</td>\n",
       "      <td>0.87</td>\n",
       "      <td>High Risk</td>\n",
       "    </tr>\n",
       "    <tr>\n",
       "      <th>41</th>\n",
       "      <td>Spain</td>\n",
       "      <td>Greece</td>\n",
       "      <td>0.78</td>\n",
       "      <td>High Risk</td>\n",
       "    </tr>\n",
       "    <tr>\n",
       "      <th>42</th>\n",
       "      <td>Britain</td>\n",
       "      <td>Greece</td>\n",
       "      <td>0.55</td>\n",
       "      <td>High Risk</td>\n",
       "    </tr>\n",
       "    <tr>\n",
       "      <th>43</th>\n",
       "      <td>Portugal</td>\n",
       "      <td>United States</td>\n",
       "      <td>0.52</td>\n",
       "      <td>Stable</td>\n",
       "    </tr>\n",
       "    <tr>\n",
       "      <th>44</th>\n",
       "      <td>Ireland</td>\n",
       "      <td>Greece</td>\n",
       "      <td>0.34</td>\n",
       "      <td>High Risk</td>\n",
       "    </tr>\n",
       "  </tbody>\n",
       "</table>\n",
       "</div>"
      ],
      "text/plain": [
       "         creditor         debtor  amount         risk\n",
       "0           Japan  United States  796.00       Stable\n",
       "1          France          Italy  366.00    High Risk\n",
       "2         Britain  United States  345.00       Stable\n",
       "3           Spain        Britain  326.00       Stable\n",
       "4         Germany  United States     NaN          NaN\n",
       "5          France  United States     NaN          NaN\n",
       "6         Germany        Britain     NaN          NaN\n",
       "7           Spain  United States     NaN          NaN\n",
       "8          France          Spain     NaN          NaN\n",
       "9           Italy        Germany  111.00          NaN\n",
       "10          Japan        Germany   88.50          NaN\n",
       "11          Spain       Portugal   62.00          NaN\n",
       "12        Germany          Spain   57.60          NaN\n",
       "13         France         Greece   53.90          NaN\n",
       "14         France        Germany   53.80       Stable\n",
       "15        Germany        Ireland   48.90    High Risk\n",
       "16          Japan          Italy   38.80    High Risk\n",
       "17        Germany       Portugal   32.50    High Risk\n",
       "18          Japan        Britain   28.20       Stable\n",
       "19        Britain          Italy   26.00    High Risk\n",
       "20          Japan          Spain   25.90  Medium Risk\n",
       "21        Britain         France   22.40     Low Risk\n",
       "22        Britain       Portugal   19.40    High Risk\n",
       "23        Germany         Greece   19.30    High Risk\n",
       "24          Japan        Ireland   18.90    High Risk\n",
       "25         France       Portugal   18.30    High Risk\n",
       "26         France        Ireland   17.30    High Risk\n",
       "27        Ireland        Britain   12.00       Stable\n",
       "28  United States        Ireland   11.10    High Risk\n",
       "29       Portugal         Greece   10.10    High Risk\n",
       "30          Spain          Italy    9.79    High Risk\n",
       "31         France          Japan    7.73       Stable\n",
       "32        Ireland          Spain    6.38  Medium Risk\n",
       "33       Portugal        Ireland    3.77    High Risk\n",
       "34          Italy         Greece    3.22    High Risk\n",
       "35  United States          Italy    3.16    High Risk\n",
       "36  United States         Greece    3.10    High Risk\n",
       "37          Italy        Ireland    2.83    High Risk\n",
       "38          Japan       Portugal    2.18    High Risk\n",
       "39          Japan         Greece    1.37    High Risk\n",
       "40          Italy       Portugal    0.87    High Risk\n",
       "41          Spain         Greece    0.78    High Risk\n",
       "42        Britain         Greece    0.55    High Risk\n",
       "43       Portugal  United States    0.52       Stable\n",
       "44        Ireland         Greece    0.34    High Risk"
      ]
     },
     "execution_count": 64,
     "metadata": {},
     "output_type": "execute_result"
    }
   ],
   "source": [
    "debt_df"
   ]
  },
  {
   "cell_type": "code",
   "execution_count": 65,
   "id": "17c00945",
   "metadata": {},
   "outputs": [
    {
     "data": {
      "text/html": [
       "<div>\n",
       "<style scoped>\n",
       "    .dataframe tbody tr th:only-of-type {\n",
       "        vertical-align: middle;\n",
       "    }\n",
       "\n",
       "    .dataframe tbody tr th {\n",
       "        vertical-align: top;\n",
       "    }\n",
       "\n",
       "    .dataframe thead th {\n",
       "        text-align: right;\n",
       "    }\n",
       "</style>\n",
       "<table border=\"1\" class=\"dataframe\">\n",
       "  <thead>\n",
       "    <tr style=\"text-align: right;\">\n",
       "      <th></th>\n",
       "      <th>creditor</th>\n",
       "      <th>debtor</th>\n",
       "      <th>amount</th>\n",
       "      <th>risk</th>\n",
       "    </tr>\n",
       "  </thead>\n",
       "  <tbody>\n",
       "    <tr>\n",
       "      <th>0</th>\n",
       "      <td>Japan</td>\n",
       "      <td>United States</td>\n",
       "      <td>796.0</td>\n",
       "      <td>Stable</td>\n",
       "    </tr>\n",
       "    <tr>\n",
       "      <th>1</th>\n",
       "      <td>France</td>\n",
       "      <td>Italy</td>\n",
       "      <td>366.0</td>\n",
       "      <td>High Risk</td>\n",
       "    </tr>\n",
       "    <tr>\n",
       "      <th>2</th>\n",
       "      <td>Britain</td>\n",
       "      <td>United States</td>\n",
       "      <td>345.0</td>\n",
       "      <td>Stable</td>\n",
       "    </tr>\n",
       "    <tr>\n",
       "      <th>3</th>\n",
       "      <td>Spain</td>\n",
       "      <td>Britain</td>\n",
       "      <td>326.0</td>\n",
       "      <td>Stable</td>\n",
       "    </tr>\n",
       "    <tr>\n",
       "      <th>4</th>\n",
       "      <td>Germany</td>\n",
       "      <td>United States</td>\n",
       "      <td>NaN</td>\n",
       "      <td>NaN</td>\n",
       "    </tr>\n",
       "  </tbody>\n",
       "</table>\n",
       "</div>"
      ],
      "text/plain": [
       "  creditor         debtor  amount       risk\n",
       "0    Japan  United States   796.0     Stable\n",
       "1   France          Italy   366.0  High Risk\n",
       "2  Britain  United States   345.0     Stable\n",
       "3    Spain        Britain   326.0     Stable\n",
       "4  Germany  United States     NaN        NaN"
      ]
     },
     "execution_count": 65,
     "metadata": {},
     "output_type": "execute_result"
    }
   ],
   "source": [
    "debt_df.head()"
   ]
  },
  {
   "cell_type": "code",
   "execution_count": 66,
   "id": "ea56a102",
   "metadata": {},
   "outputs": [
    {
     "data": {
      "text/html": [
       "<div>\n",
       "<style scoped>\n",
       "    .dataframe tbody tr th:only-of-type {\n",
       "        vertical-align: middle;\n",
       "    }\n",
       "\n",
       "    .dataframe tbody tr th {\n",
       "        vertical-align: top;\n",
       "    }\n",
       "\n",
       "    .dataframe thead th {\n",
       "        text-align: right;\n",
       "    }\n",
       "</style>\n",
       "<table border=\"1\" class=\"dataframe\">\n",
       "  <thead>\n",
       "    <tr style=\"text-align: right;\">\n",
       "      <th></th>\n",
       "      <th>creditor</th>\n",
       "      <th>debtor</th>\n",
       "      <th>amount</th>\n",
       "      <th>risk</th>\n",
       "    </tr>\n",
       "  </thead>\n",
       "  <tbody>\n",
       "    <tr>\n",
       "      <th>40</th>\n",
       "      <td>Italy</td>\n",
       "      <td>Portugal</td>\n",
       "      <td>0.87</td>\n",
       "      <td>High Risk</td>\n",
       "    </tr>\n",
       "    <tr>\n",
       "      <th>41</th>\n",
       "      <td>Spain</td>\n",
       "      <td>Greece</td>\n",
       "      <td>0.78</td>\n",
       "      <td>High Risk</td>\n",
       "    </tr>\n",
       "    <tr>\n",
       "      <th>42</th>\n",
       "      <td>Britain</td>\n",
       "      <td>Greece</td>\n",
       "      <td>0.55</td>\n",
       "      <td>High Risk</td>\n",
       "    </tr>\n",
       "    <tr>\n",
       "      <th>43</th>\n",
       "      <td>Portugal</td>\n",
       "      <td>United States</td>\n",
       "      <td>0.52</td>\n",
       "      <td>Stable</td>\n",
       "    </tr>\n",
       "    <tr>\n",
       "      <th>44</th>\n",
       "      <td>Ireland</td>\n",
       "      <td>Greece</td>\n",
       "      <td>0.34</td>\n",
       "      <td>High Risk</td>\n",
       "    </tr>\n",
       "  </tbody>\n",
       "</table>\n",
       "</div>"
      ],
      "text/plain": [
       "    creditor         debtor  amount       risk\n",
       "40     Italy       Portugal    0.87  High Risk\n",
       "41     Spain         Greece    0.78  High Risk\n",
       "42   Britain         Greece    0.55  High Risk\n",
       "43  Portugal  United States    0.52     Stable\n",
       "44   Ireland         Greece    0.34  High Risk"
      ]
     },
     "execution_count": 66,
     "metadata": {},
     "output_type": "execute_result"
    }
   ],
   "source": [
    "debt_df.tail()"
   ]
  },
  {
   "cell_type": "code",
   "execution_count": 67,
   "id": "7dcf220c",
   "metadata": {},
   "outputs": [
    {
     "data": {
      "text/html": [
       "<div>\n",
       "<style scoped>\n",
       "    .dataframe tbody tr th:only-of-type {\n",
       "        vertical-align: middle;\n",
       "    }\n",
       "\n",
       "    .dataframe tbody tr th {\n",
       "        vertical-align: top;\n",
       "    }\n",
       "\n",
       "    .dataframe thead th {\n",
       "        text-align: right;\n",
       "    }\n",
       "</style>\n",
       "<table border=\"1\" class=\"dataframe\">\n",
       "  <thead>\n",
       "    <tr style=\"text-align: right;\">\n",
       "      <th></th>\n",
       "      <th>creditor</th>\n",
       "      <th>debtor</th>\n",
       "      <th>amount</th>\n",
       "      <th>risk</th>\n",
       "    </tr>\n",
       "  </thead>\n",
       "  <tbody>\n",
       "    <tr>\n",
       "      <th>0</th>\n",
       "      <td>Japan</td>\n",
       "      <td>United States</td>\n",
       "      <td>796.0</td>\n",
       "      <td>Stable</td>\n",
       "    </tr>\n",
       "    <tr>\n",
       "      <th>1</th>\n",
       "      <td>France</td>\n",
       "      <td>Italy</td>\n",
       "      <td>366.0</td>\n",
       "      <td>High Risk</td>\n",
       "    </tr>\n",
       "    <tr>\n",
       "      <th>2</th>\n",
       "      <td>Britain</td>\n",
       "      <td>United States</td>\n",
       "      <td>345.0</td>\n",
       "      <td>Stable</td>\n",
       "    </tr>\n",
       "    <tr>\n",
       "      <th>3</th>\n",
       "      <td>Spain</td>\n",
       "      <td>Britain</td>\n",
       "      <td>326.0</td>\n",
       "      <td>Stable</td>\n",
       "    </tr>\n",
       "    <tr>\n",
       "      <th>4</th>\n",
       "      <td>Germany</td>\n",
       "      <td>United States</td>\n",
       "      <td>NaN</td>\n",
       "      <td>NaN</td>\n",
       "    </tr>\n",
       "    <tr>\n",
       "      <th>5</th>\n",
       "      <td>France</td>\n",
       "      <td>United States</td>\n",
       "      <td>NaN</td>\n",
       "      <td>NaN</td>\n",
       "    </tr>\n",
       "    <tr>\n",
       "      <th>6</th>\n",
       "      <td>Germany</td>\n",
       "      <td>Britain</td>\n",
       "      <td>NaN</td>\n",
       "      <td>NaN</td>\n",
       "    </tr>\n",
       "  </tbody>\n",
       "</table>\n",
       "</div>"
      ],
      "text/plain": [
       "  creditor         debtor  amount       risk\n",
       "0    Japan  United States   796.0     Stable\n",
       "1   France          Italy   366.0  High Risk\n",
       "2  Britain  United States   345.0     Stable\n",
       "3    Spain        Britain   326.0     Stable\n",
       "4  Germany  United States     NaN        NaN\n",
       "5   France  United States     NaN        NaN\n",
       "6  Germany        Britain     NaN        NaN"
      ]
     },
     "execution_count": 67,
     "metadata": {},
     "output_type": "execute_result"
    }
   ],
   "source": [
    "debt_df.head(7)"
   ]
  },
  {
   "cell_type": "code",
   "execution_count": 68,
   "id": "a49dfe64",
   "metadata": {},
   "outputs": [
    {
     "data": {
      "text/html": [
       "<div>\n",
       "<style scoped>\n",
       "    .dataframe tbody tr th:only-of-type {\n",
       "        vertical-align: middle;\n",
       "    }\n",
       "\n",
       "    .dataframe tbody tr th {\n",
       "        vertical-align: top;\n",
       "    }\n",
       "\n",
       "    .dataframe thead th {\n",
       "        text-align: right;\n",
       "    }\n",
       "</style>\n",
       "<table border=\"1\" class=\"dataframe\">\n",
       "  <thead>\n",
       "    <tr style=\"text-align: right;\">\n",
       "      <th></th>\n",
       "      <th>creditor</th>\n",
       "      <th>debtor</th>\n",
       "      <th>amount</th>\n",
       "      <th>risk</th>\n",
       "    </tr>\n",
       "  </thead>\n",
       "  <tbody>\n",
       "    <tr>\n",
       "      <th>38</th>\n",
       "      <td>Japan</td>\n",
       "      <td>Portugal</td>\n",
       "      <td>2.18</td>\n",
       "      <td>High Risk</td>\n",
       "    </tr>\n",
       "    <tr>\n",
       "      <th>39</th>\n",
       "      <td>Japan</td>\n",
       "      <td>Greece</td>\n",
       "      <td>1.37</td>\n",
       "      <td>High Risk</td>\n",
       "    </tr>\n",
       "    <tr>\n",
       "      <th>40</th>\n",
       "      <td>Italy</td>\n",
       "      <td>Portugal</td>\n",
       "      <td>0.87</td>\n",
       "      <td>High Risk</td>\n",
       "    </tr>\n",
       "    <tr>\n",
       "      <th>41</th>\n",
       "      <td>Spain</td>\n",
       "      <td>Greece</td>\n",
       "      <td>0.78</td>\n",
       "      <td>High Risk</td>\n",
       "    </tr>\n",
       "    <tr>\n",
       "      <th>42</th>\n",
       "      <td>Britain</td>\n",
       "      <td>Greece</td>\n",
       "      <td>0.55</td>\n",
       "      <td>High Risk</td>\n",
       "    </tr>\n",
       "    <tr>\n",
       "      <th>43</th>\n",
       "      <td>Portugal</td>\n",
       "      <td>United States</td>\n",
       "      <td>0.52</td>\n",
       "      <td>Stable</td>\n",
       "    </tr>\n",
       "    <tr>\n",
       "      <th>44</th>\n",
       "      <td>Ireland</td>\n",
       "      <td>Greece</td>\n",
       "      <td>0.34</td>\n",
       "      <td>High Risk</td>\n",
       "    </tr>\n",
       "  </tbody>\n",
       "</table>\n",
       "</div>"
      ],
      "text/plain": [
       "    creditor         debtor  amount       risk\n",
       "38     Japan       Portugal    2.18  High Risk\n",
       "39     Japan         Greece    1.37  High Risk\n",
       "40     Italy       Portugal    0.87  High Risk\n",
       "41     Spain         Greece    0.78  High Risk\n",
       "42   Britain         Greece    0.55  High Risk\n",
       "43  Portugal  United States    0.52     Stable\n",
       "44   Ireland         Greece    0.34  High Risk"
      ]
     },
     "execution_count": 68,
     "metadata": {},
     "output_type": "execute_result"
    }
   ],
   "source": [
    "debt_df.tail(7)"
   ]
  },
  {
   "cell_type": "code",
   "execution_count": 69,
   "id": "fb8983b7",
   "metadata": {},
   "outputs": [
    {
     "data": {
      "text/html": [
       "<div>\n",
       "<style scoped>\n",
       "    .dataframe tbody tr th:only-of-type {\n",
       "        vertical-align: middle;\n",
       "    }\n",
       "\n",
       "    .dataframe tbody tr th {\n",
       "        vertical-align: top;\n",
       "    }\n",
       "\n",
       "    .dataframe thead th {\n",
       "        text-align: right;\n",
       "    }\n",
       "</style>\n",
       "<table border=\"1\" class=\"dataframe\">\n",
       "  <thead>\n",
       "    <tr style=\"text-align: right;\">\n",
       "      <th></th>\n",
       "      <th>creditor</th>\n",
       "      <th>debtor</th>\n",
       "      <th>amount</th>\n",
       "      <th>risk</th>\n",
       "    </tr>\n",
       "  </thead>\n",
       "  <tbody>\n",
       "    <tr>\n",
       "      <th>36</th>\n",
       "      <td>United States</td>\n",
       "      <td>Greece</td>\n",
       "      <td>3.1</td>\n",
       "      <td>High Risk</td>\n",
       "    </tr>\n",
       "  </tbody>\n",
       "</table>\n",
       "</div>"
      ],
      "text/plain": [
       "         creditor  debtor  amount       risk\n",
       "36  United States  Greece     3.1  High Risk"
      ]
     },
     "execution_count": 69,
     "metadata": {},
     "output_type": "execute_result"
    }
   ],
   "source": [
    "debt_df.sample()"
   ]
  },
  {
   "cell_type": "code",
   "execution_count": 70,
   "id": "94cb71b9",
   "metadata": {},
   "outputs": [
    {
     "name": "stdout",
     "output_type": "stream",
     "text": [
      "<class 'pandas.core.frame.DataFrame'>\n",
      "RangeIndex: 45 entries, 0 to 44\n",
      "Data columns (total 4 columns):\n",
      " #   Column    Non-Null Count  Dtype  \n",
      "---  ------    --------------  -----  \n",
      " 0   creditor  45 non-null     object \n",
      " 1   debtor    45 non-null     object \n",
      " 2   amount    40 non-null     float64\n",
      " 3   risk      35 non-null     object \n",
      "dtypes: float64(1), object(3)\n",
      "memory usage: 1.5+ KB\n"
     ]
    }
   ],
   "source": [
    "debt_df.info()"
   ]
  },
  {
   "cell_type": "code",
   "execution_count": 71,
   "id": "da3833ac",
   "metadata": {},
   "outputs": [
    {
     "data": {
      "text/plain": [
       "creditor  debtor  amount  risk \n",
       "False     False   False   False    35\n",
       "                          True      5\n",
       "                  True    True      5\n",
       "Name: count, dtype: int64"
      ]
     },
     "execution_count": 71,
     "metadata": {},
     "output_type": "execute_result"
    }
   ],
   "source": [
    "debt_df.isna().value_counts()"
   ]
  },
  {
   "cell_type": "code",
   "execution_count": 72,
   "id": "5d75e53a",
   "metadata": {},
   "outputs": [
    {
     "data": {
      "text/plain": [
       "(45, 4)"
      ]
     },
     "execution_count": 72,
     "metadata": {},
     "output_type": "execute_result"
    }
   ],
   "source": [
    "debt_df.shape"
   ]
  },
  {
   "cell_type": "code",
   "execution_count": 73,
   "id": "bf3c5de0",
   "metadata": {},
   "outputs": [
    {
     "data": {
      "text/plain": [
       "2"
      ]
     },
     "execution_count": 73,
     "metadata": {},
     "output_type": "execute_result"
    }
   ],
   "source": [
    "debt_df.ndim"
   ]
  },
  {
   "cell_type": "code",
   "execution_count": 74,
   "id": "02e78cc8",
   "metadata": {},
   "outputs": [
    {
     "data": {
      "text/plain": [
       "180"
      ]
     },
     "execution_count": 74,
     "metadata": {},
     "output_type": "execute_result"
    }
   ],
   "source": [
    "debt_df.size"
   ]
  },
  {
   "cell_type": "code",
   "execution_count": 75,
   "id": "f5f891ae",
   "metadata": {},
   "outputs": [
    {
     "data": {
      "text/plain": [
       "Index(['creditor', 'debtor', 'amount', 'risk'], dtype='object')"
      ]
     },
     "execution_count": 75,
     "metadata": {},
     "output_type": "execute_result"
    }
   ],
   "source": [
    "debt_df.columns"
   ]
  },
  {
   "cell_type": "code",
   "execution_count": 76,
   "id": "907de3f5",
   "metadata": {},
   "outputs": [
    {
     "data": {
      "text/html": [
       "<div>\n",
       "<style scoped>\n",
       "    .dataframe tbody tr th:only-of-type {\n",
       "        vertical-align: middle;\n",
       "    }\n",
       "\n",
       "    .dataframe tbody tr th {\n",
       "        vertical-align: top;\n",
       "    }\n",
       "\n",
       "    .dataframe thead th {\n",
       "        text-align: right;\n",
       "    }\n",
       "</style>\n",
       "<table border=\"1\" class=\"dataframe\">\n",
       "  <thead>\n",
       "    <tr style=\"text-align: right;\">\n",
       "      <th></th>\n",
       "      <th>amount</th>\n",
       "    </tr>\n",
       "  </thead>\n",
       "  <tbody>\n",
       "    <tr>\n",
       "      <th>count</th>\n",
       "      <td>40.000000</td>\n",
       "    </tr>\n",
       "    <tr>\n",
       "      <th>mean</th>\n",
       "      <td>66.387250</td>\n",
       "    </tr>\n",
       "    <tr>\n",
       "      <th>std</th>\n",
       "      <td>148.467412</td>\n",
       "    </tr>\n",
       "    <tr>\n",
       "      <th>min</th>\n",
       "      <td>0.340000</td>\n",
       "    </tr>\n",
       "    <tr>\n",
       "      <th>25%</th>\n",
       "      <td>3.205000</td>\n",
       "    </tr>\n",
       "    <tr>\n",
       "      <th>50%</th>\n",
       "      <td>18.600000</td>\n",
       "    </tr>\n",
       "    <tr>\n",
       "      <th>75%</th>\n",
       "      <td>50.125000</td>\n",
       "    </tr>\n",
       "    <tr>\n",
       "      <th>max</th>\n",
       "      <td>796.000000</td>\n",
       "    </tr>\n",
       "  </tbody>\n",
       "</table>\n",
       "</div>"
      ],
      "text/plain": [
       "           amount\n",
       "count   40.000000\n",
       "mean    66.387250\n",
       "std    148.467412\n",
       "min      0.340000\n",
       "25%      3.205000\n",
       "50%     18.600000\n",
       "75%     50.125000\n",
       "max    796.000000"
      ]
     },
     "execution_count": 76,
     "metadata": {},
     "output_type": "execute_result"
    }
   ],
   "source": [
    "# stats\n",
    "debt_df.describe()"
   ]
  },
  {
   "cell_type": "code",
   "execution_count": 77,
   "id": "8f7f1574",
   "metadata": {},
   "outputs": [
    {
     "data": {
      "text/html": [
       "<div>\n",
       "<style scoped>\n",
       "    .dataframe tbody tr th:only-of-type {\n",
       "        vertical-align: middle;\n",
       "    }\n",
       "\n",
       "    .dataframe tbody tr th {\n",
       "        vertical-align: top;\n",
       "    }\n",
       "\n",
       "    .dataframe thead th {\n",
       "        text-align: right;\n",
       "    }\n",
       "</style>\n",
       "<table border=\"1\" class=\"dataframe\">\n",
       "  <thead>\n",
       "    <tr style=\"text-align: right;\">\n",
       "      <th></th>\n",
       "      <th>creditor</th>\n",
       "      <th>debtor</th>\n",
       "      <th>risk</th>\n",
       "    </tr>\n",
       "  </thead>\n",
       "  <tbody>\n",
       "    <tr>\n",
       "      <th>count</th>\n",
       "      <td>45</td>\n",
       "      <td>45</td>\n",
       "      <td>35</td>\n",
       "    </tr>\n",
       "    <tr>\n",
       "      <th>unique</th>\n",
       "      <td>9</td>\n",
       "      <td>10</td>\n",
       "      <td>4</td>\n",
       "    </tr>\n",
       "    <tr>\n",
       "      <th>top</th>\n",
       "      <td>Japan</td>\n",
       "      <td>Greece</td>\n",
       "      <td>High Risk</td>\n",
       "    </tr>\n",
       "    <tr>\n",
       "      <th>freq</th>\n",
       "      <td>8</td>\n",
       "      <td>9</td>\n",
       "      <td>24</td>\n",
       "    </tr>\n",
       "  </tbody>\n",
       "</table>\n",
       "</div>"
      ],
      "text/plain": [
       "       creditor  debtor       risk\n",
       "count        45      45         35\n",
       "unique        9      10          4\n",
       "top       Japan  Greece  High Risk\n",
       "freq          8       9         24"
      ]
     },
     "execution_count": 77,
     "metadata": {},
     "output_type": "execute_result"
    }
   ],
   "source": [
    "debt_df.describe(include = 'object')"
   ]
  },
  {
   "cell_type": "code",
   "execution_count": 78,
   "id": "552253d2",
   "metadata": {},
   "outputs": [
    {
     "data": {
      "text/plain": [
       "creditor     0\n",
       "debtor       0\n",
       "amount       5\n",
       "risk        10\n",
       "dtype: int64"
      ]
     },
     "execution_count": 78,
     "metadata": {},
     "output_type": "execute_result"
    }
   ],
   "source": [
    "debt_df.isnull().sum()"
   ]
  },
  {
   "cell_type": "code",
   "execution_count": 79,
   "id": "774519f5",
   "metadata": {},
   "outputs": [
    {
     "data": {
      "text/plain": [
       "creditor     0\n",
       "debtor       0\n",
       "amount       5\n",
       "risk        10\n",
       "dtype: int64"
      ]
     },
     "execution_count": 79,
     "metadata": {},
     "output_type": "execute_result"
    }
   ],
   "source": [
    "debt_df.isna().sum()"
   ]
  },
  {
   "cell_type": "markdown",
   "id": "f5a7c9b4",
   "metadata": {},
   "source": [
    "# Missing Data percentage"
   ]
  },
  {
   "cell_type": "code",
   "execution_count": 80,
   "id": "5011f82f",
   "metadata": {},
   "outputs": [
    {
     "data": {
      "text/plain": [
       "45"
      ]
     },
     "execution_count": 80,
     "metadata": {},
     "output_type": "execute_result"
    }
   ],
   "source": [
    "len(debt_df)"
   ]
  },
  {
   "cell_type": "code",
   "execution_count": 81,
   "id": "537a0758",
   "metadata": {},
   "outputs": [
    {
     "data": {
      "text/plain": [
       "creditor     0.000000\n",
       "debtor       0.000000\n",
       "amount      11.111111\n",
       "risk        22.222222\n",
       "dtype: float64"
      ]
     },
     "execution_count": 81,
     "metadata": {},
     "output_type": "execute_result"
    }
   ],
   "source": [
    "(debt_df.isna().sum()/len(debt_df))*100"
   ]
  },
  {
   "cell_type": "code",
   "execution_count": 82,
   "id": "adab3e8b",
   "metadata": {},
   "outputs": [
    {
     "data": {
      "text/plain": [
       "<Axes: >"
      ]
     },
     "execution_count": 82,
     "metadata": {},
     "output_type": "execute_result"
    },
    {
     "data": {
      "image/png": "[encoded data removed]",
      "text/plain": [
       "<Figure size 640x480 with 1 Axes>"
      ]
     },
     "metadata": {},
     "output_type": "display_data"
    }
   ],
   "source": [
    "((debt_df.isna().sum()/len(debt_df))*100).plot(kind='pie')"
   ]
  },
  {
   "cell_type": "code",
   "execution_count": 83,
   "id": "a2d9a7de",
   "metadata": {},
   "outputs": [
    {
     "data": {
      "text/plain": [
       "Index(['creditor', 'debtor', 'amount', 'risk'], dtype='object')"
      ]
     },
     "execution_count": 83,
     "metadata": {},
     "output_type": "execute_result"
    }
   ],
   "source": [
    "debt_df.columns"
   ]
  },
  {
   "cell_type": "code",
   "execution_count": 85,
   "id": "8b13980e",
   "metadata": {},
   "outputs": [],
   "source": [
    "no_miss_debt_df = debt_df.fillna({\"risk\":'Other','amount':0})"
   ]
  },
  {
   "cell_type": "code",
   "execution_count": 87,
   "id": "b9214f2a",
   "metadata": {},
   "outputs": [
    {
     "data": {
      "text/html": [
       "<div>\n",
       "<style scoped>\n",
       "    .dataframe tbody tr th:only-of-type {\n",
       "        vertical-align: middle;\n",
       "    }\n",
       "\n",
       "    .dataframe tbody tr th {\n",
       "        vertical-align: top;\n",
       "    }\n",
       "\n",
       "    .dataframe thead th {\n",
       "        text-align: right;\n",
       "    }\n",
       "</style>\n",
       "<table border=\"1\" class=\"dataframe\">\n",
       "  <thead>\n",
       "    <tr style=\"text-align: right;\">\n",
       "      <th></th>\n",
       "      <th>creditor</th>\n",
       "      <th>debtor</th>\n",
       "      <th>amount</th>\n",
       "      <th>risk</th>\n",
       "    </tr>\n",
       "  </thead>\n",
       "  <tbody>\n",
       "    <tr>\n",
       "      <th>0</th>\n",
       "      <td>Japan</td>\n",
       "      <td>United States</td>\n",
       "      <td>796.0</td>\n",
       "      <td>Stable</td>\n",
       "    </tr>\n",
       "    <tr>\n",
       "      <th>1</th>\n",
       "      <td>France</td>\n",
       "      <td>Italy</td>\n",
       "      <td>366.0</td>\n",
       "      <td>High Risk</td>\n",
       "    </tr>\n",
       "    <tr>\n",
       "      <th>2</th>\n",
       "      <td>Britain</td>\n",
       "      <td>United States</td>\n",
       "      <td>345.0</td>\n",
       "      <td>Stable</td>\n",
       "    </tr>\n",
       "    <tr>\n",
       "      <th>3</th>\n",
       "      <td>Spain</td>\n",
       "      <td>Britain</td>\n",
       "      <td>326.0</td>\n",
       "      <td>Stable</td>\n",
       "    </tr>\n",
       "    <tr>\n",
       "      <th>4</th>\n",
       "      <td>Germany</td>\n",
       "      <td>United States</td>\n",
       "      <td>0.0</td>\n",
       "      <td>Other</td>\n",
       "    </tr>\n",
       "  </tbody>\n",
       "</table>\n",
       "</div>"
      ],
      "text/plain": [
       "  creditor         debtor  amount       risk\n",
       "0    Japan  United States   796.0     Stable\n",
       "1   France          Italy   366.0  High Risk\n",
       "2  Britain  United States   345.0     Stable\n",
       "3    Spain        Britain   326.0     Stable\n",
       "4  Germany  United States     0.0      Other"
      ]
     },
     "execution_count": 87,
     "metadata": {},
     "output_type": "execute_result"
    }
   ],
   "source": [
    "no_miss_debt_df.head()"
   ]
  },
  {
   "cell_type": "code",
   "execution_count": 91,
   "id": "4acf0844",
   "metadata": {},
   "outputs": [],
   "source": [
    "droped_debt_df = debt_df.dropna()"
   ]
  },
  {
   "cell_type": "code",
   "execution_count": 93,
   "id": "b0e9beba",
   "metadata": {},
   "outputs": [
    {
     "data": {
      "text/html": [
       "<div>\n",
       "<style scoped>\n",
       "    .dataframe tbody tr th:only-of-type {\n",
       "        vertical-align: middle;\n",
       "    }\n",
       "\n",
       "    .dataframe tbody tr th {\n",
       "        vertical-align: top;\n",
       "    }\n",
       "\n",
       "    .dataframe thead th {\n",
       "        text-align: right;\n",
       "    }\n",
       "</style>\n",
       "<table border=\"1\" class=\"dataframe\">\n",
       "  <thead>\n",
       "    <tr style=\"text-align: right;\">\n",
       "      <th></th>\n",
       "      <th>creditor</th>\n",
       "      <th>debtor</th>\n",
       "      <th>amount</th>\n",
       "      <th>risk</th>\n",
       "    </tr>\n",
       "  </thead>\n",
       "  <tbody>\n",
       "    <tr>\n",
       "      <th>0</th>\n",
       "      <td>Japan</td>\n",
       "      <td>United States</td>\n",
       "      <td>796.0</td>\n",
       "      <td>Stable</td>\n",
       "    </tr>\n",
       "    <tr>\n",
       "      <th>1</th>\n",
       "      <td>France</td>\n",
       "      <td>Italy</td>\n",
       "      <td>366.0</td>\n",
       "      <td>High Risk</td>\n",
       "    </tr>\n",
       "    <tr>\n",
       "      <th>2</th>\n",
       "      <td>Britain</td>\n",
       "      <td>United States</td>\n",
       "      <td>345.0</td>\n",
       "      <td>Stable</td>\n",
       "    </tr>\n",
       "    <tr>\n",
       "      <th>3</th>\n",
       "      <td>Spain</td>\n",
       "      <td>Britain</td>\n",
       "      <td>326.0</td>\n",
       "      <td>Stable</td>\n",
       "    </tr>\n",
       "    <tr>\n",
       "      <th>14</th>\n",
       "      <td>France</td>\n",
       "      <td>Germany</td>\n",
       "      <td>53.8</td>\n",
       "      <td>Stable</td>\n",
       "    </tr>\n",
       "  </tbody>\n",
       "</table>\n",
       "</div>"
      ],
      "text/plain": [
       "   creditor         debtor  amount       risk\n",
       "0     Japan  United States   796.0     Stable\n",
       "1    France          Italy   366.0  High Risk\n",
       "2   Britain  United States   345.0     Stable\n",
       "3     Spain        Britain   326.0     Stable\n",
       "14   France        Germany    53.8     Stable"
      ]
     },
     "execution_count": 93,
     "metadata": {},
     "output_type": "execute_result"
    }
   ],
   "source": [
    "droped_debt_df.head()"
   ]
  },
  {
   "cell_type": "code",
   "execution_count": 95,
   "id": "a9881d9e",
   "metadata": {},
   "outputs": [],
   "source": [
    "# add column"
   ]
  },
  {
   "cell_type": "code",
   "execution_count": 99,
   "id": "778b8888",
   "metadata": {},
   "outputs": [],
   "source": [
    "import numpy as np"
   ]
  },
  {
   "cell_type": "code",
   "execution_count": 100,
   "id": "f1bc718e",
   "metadata": {},
   "outputs": [],
   "source": [
    "debt_df['Loss'] = np.nan"
   ]
  },
  {
   "cell_type": "code",
   "execution_count": 101,
   "id": "0574cd70",
   "metadata": {},
   "outputs": [
    {
     "data": {
      "text/plain": [
       "creditor     0\n",
       "debtor       0\n",
       "amount       5\n",
       "risk        10\n",
       "Loss        45\n",
       "dtype: int64"
      ]
     },
     "execution_count": 101,
     "metadata": {},
     "output_type": "execute_result"
    }
   ],
   "source": [
    "debt_df.isnull().sum()"
   ]
  },
  {
   "cell_type": "code",
   "execution_count": 106,
   "id": "69595c54",
   "metadata": {},
   "outputs": [],
   "source": [
    "# debt_df.dropna()"
   ]
  },
  {
   "cell_type": "code",
   "execution_count": 111,
   "id": "7cc668c7",
   "metadata": {},
   "outputs": [],
   "source": [
    "new_debt_df = debt_df.drop('Loss',axis = 1)"
   ]
  },
  {
   "cell_type": "code",
   "execution_count": 114,
   "id": "007a6e58",
   "metadata": {},
   "outputs": [
    {
     "data": {
      "text/html": [
       "<div>\n",
       "<style scoped>\n",
       "    .dataframe tbody tr th:only-of-type {\n",
       "        vertical-align: middle;\n",
       "    }\n",
       "\n",
       "    .dataframe tbody tr th {\n",
       "        vertical-align: top;\n",
       "    }\n",
       "\n",
       "    .dataframe thead th {\n",
       "        text-align: right;\n",
       "    }\n",
       "</style>\n",
       "<table border=\"1\" class=\"dataframe\">\n",
       "  <thead>\n",
       "    <tr style=\"text-align: right;\">\n",
       "      <th></th>\n",
       "      <th>creditor</th>\n",
       "      <th>debtor</th>\n",
       "      <th>amount</th>\n",
       "      <th>risk</th>\n",
       "    </tr>\n",
       "  </thead>\n",
       "  <tbody>\n",
       "    <tr>\n",
       "      <th>0</th>\n",
       "      <td>Japan</td>\n",
       "      <td>United States</td>\n",
       "      <td>796.0</td>\n",
       "      <td>Stable</td>\n",
       "    </tr>\n",
       "    <tr>\n",
       "      <th>1</th>\n",
       "      <td>France</td>\n",
       "      <td>Italy</td>\n",
       "      <td>366.0</td>\n",
       "      <td>High Risk</td>\n",
       "    </tr>\n",
       "    <tr>\n",
       "      <th>2</th>\n",
       "      <td>Britain</td>\n",
       "      <td>United States</td>\n",
       "      <td>345.0</td>\n",
       "      <td>Stable</td>\n",
       "    </tr>\n",
       "    <tr>\n",
       "      <th>3</th>\n",
       "      <td>Spain</td>\n",
       "      <td>Britain</td>\n",
       "      <td>326.0</td>\n",
       "      <td>Stable</td>\n",
       "    </tr>\n",
       "    <tr>\n",
       "      <th>4</th>\n",
       "      <td>Germany</td>\n",
       "      <td>United States</td>\n",
       "      <td>NaN</td>\n",
       "      <td>NaN</td>\n",
       "    </tr>\n",
       "  </tbody>\n",
       "</table>\n",
       "</div>"
      ],
      "text/plain": [
       "  creditor         debtor  amount       risk\n",
       "0    Japan  United States   796.0     Stable\n",
       "1   France          Italy   366.0  High Risk\n",
       "2  Britain  United States   345.0     Stable\n",
       "3    Spain        Britain   326.0     Stable\n",
       "4  Germany  United States     NaN        NaN"
      ]
     },
     "execution_count": 114,
     "metadata": {},
     "output_type": "execute_result"
    }
   ],
   "source": [
    "new_debt_df.head()"
   ]
  },
  {
   "cell_type": "code",
   "execution_count": null,
   "id": "d4612d48",
   "metadata": {},
   "outputs": [],
   "source": []
  },
  {
   "cell_type": "code",
   "execution_count": 116,
   "id": "04054482",
   "metadata": {},
   "outputs": [
    {
     "data": {
      "text/html": [
       "<div>\n",
       "<style scoped>\n",
       "    .dataframe tbody tr th:only-of-type {\n",
       "        vertical-align: middle;\n",
       "    }\n",
       "\n",
       "    .dataframe tbody tr th {\n",
       "        vertical-align: top;\n",
       "    }\n",
       "\n",
       "    .dataframe thead th {\n",
       "        text-align: right;\n",
       "    }\n",
       "</style>\n",
       "<table border=\"1\" class=\"dataframe\">\n",
       "  <thead>\n",
       "    <tr style=\"text-align: right;\">\n",
       "      <th></th>\n",
       "      <th>creditor</th>\n",
       "      <th>debtor</th>\n",
       "      <th>amount</th>\n",
       "      <th>risk</th>\n",
       "      <th>Loss</th>\n",
       "    </tr>\n",
       "  </thead>\n",
       "  <tbody>\n",
       "    <tr>\n",
       "      <th>0</th>\n",
       "      <td>Japan</td>\n",
       "      <td>United States</td>\n",
       "      <td>796.0</td>\n",
       "      <td>Stable</td>\n",
       "      <td>NaN</td>\n",
       "    </tr>\n",
       "    <tr>\n",
       "      <th>1</th>\n",
       "      <td>France</td>\n",
       "      <td>Italy</td>\n",
       "      <td>366.0</td>\n",
       "      <td>High Risk</td>\n",
       "      <td>NaN</td>\n",
       "    </tr>\n",
       "  </tbody>\n",
       "</table>\n",
       "</div>"
      ],
      "text/plain": [
       "  creditor         debtor  amount       risk  Loss\n",
       "0    Japan  United States   796.0     Stable   NaN\n",
       "1   France          Italy   366.0  High Risk   NaN"
      ]
     },
     "execution_count": 116,
     "metadata": {},
     "output_type": "execute_result"
    }
   ],
   "source": [
    "debt_df.head(2)"
   ]
  },
  {
   "cell_type": "code",
   "execution_count": 118,
   "id": "2332cf21",
   "metadata": {},
   "outputs": [],
   "source": [
    "debt_df.index = range(1,len(debt_df)+1)"
   ]
  },
  {
   "cell_type": "code",
   "execution_count": 120,
   "id": "d2d94721",
   "metadata": {},
   "outputs": [],
   "source": [
    "debt_df.index = range(len(debt_df))"
   ]
  },
  {
   "cell_type": "code",
   "execution_count": 122,
   "id": "815e8911",
   "metadata": {},
   "outputs": [
    {
     "data": {
      "text/html": [
       "<div>\n",
       "<style scoped>\n",
       "    .dataframe tbody tr th:only-of-type {\n",
       "        vertical-align: middle;\n",
       "    }\n",
       "\n",
       "    .dataframe tbody tr th {\n",
       "        vertical-align: top;\n",
       "    }\n",
       "\n",
       "    .dataframe thead th {\n",
       "        text-align: right;\n",
       "    }\n",
       "</style>\n",
       "<table border=\"1\" class=\"dataframe\">\n",
       "  <thead>\n",
       "    <tr style=\"text-align: right;\">\n",
       "      <th></th>\n",
       "      <th>creditor</th>\n",
       "      <th>debtor</th>\n",
       "      <th>amount</th>\n",
       "      <th>risk</th>\n",
       "      <th>Loss</th>\n",
       "    </tr>\n",
       "  </thead>\n",
       "  <tbody>\n",
       "    <tr>\n",
       "      <th>0</th>\n",
       "      <td>Japan</td>\n",
       "      <td>United States</td>\n",
       "      <td>796.0</td>\n",
       "      <td>Stable</td>\n",
       "      <td>NaN</td>\n",
       "    </tr>\n",
       "    <tr>\n",
       "      <th>1</th>\n",
       "      <td>France</td>\n",
       "      <td>Italy</td>\n",
       "      <td>366.0</td>\n",
       "      <td>High Risk</td>\n",
       "      <td>NaN</td>\n",
       "    </tr>\n",
       "    <tr>\n",
       "      <th>2</th>\n",
       "      <td>Britain</td>\n",
       "      <td>United States</td>\n",
       "      <td>345.0</td>\n",
       "      <td>Stable</td>\n",
       "      <td>NaN</td>\n",
       "    </tr>\n",
       "    <tr>\n",
       "      <th>3</th>\n",
       "      <td>Spain</td>\n",
       "      <td>Britain</td>\n",
       "      <td>326.0</td>\n",
       "      <td>Stable</td>\n",
       "      <td>NaN</td>\n",
       "    </tr>\n",
       "    <tr>\n",
       "      <th>4</th>\n",
       "      <td>Germany</td>\n",
       "      <td>United States</td>\n",
       "      <td>NaN</td>\n",
       "      <td>NaN</td>\n",
       "      <td>NaN</td>\n",
       "    </tr>\n",
       "  </tbody>\n",
       "</table>\n",
       "</div>"
      ],
      "text/plain": [
       "  creditor         debtor  amount       risk  Loss\n",
       "0    Japan  United States   796.0     Stable   NaN\n",
       "1   France          Italy   366.0  High Risk   NaN\n",
       "2  Britain  United States   345.0     Stable   NaN\n",
       "3    Spain        Britain   326.0     Stable   NaN\n",
       "4  Germany  United States     NaN        NaN   NaN"
      ]
     },
     "execution_count": 122,
     "metadata": {},
     "output_type": "execute_result"
    }
   ],
   "source": [
    "debt_df.head()"
   ]
  },
  {
   "cell_type": "code",
   "execution_count": 123,
   "id": "8ca265f6",
   "metadata": {},
   "outputs": [],
   "source": [
    "# column analysis"
   ]
  },
  {
   "cell_type": "code",
   "execution_count": 124,
   "id": "151c4dfb",
   "metadata": {},
   "outputs": [],
   "source": [
    "# Max loan disbursed, vice versa\n",
    "# total creditors, unique\n",
    "# creditors value counts"
   ]
  },
  {
   "cell_type": "code",
   "execution_count": 127,
   "id": "04645f30",
   "metadata": {},
   "outputs": [
    {
     "data": {
      "text/plain": [
       "pandas.core.series.Series"
      ]
     },
     "execution_count": 127,
     "metadata": {},
     "output_type": "execute_result"
    }
   ],
   "source": [
    "type(debt_df['creditor'])"
   ]
  },
  {
   "cell_type": "code",
   "execution_count": 129,
   "id": "462bb2dd",
   "metadata": {},
   "outputs": [
    {
     "data": {
      "text/plain": [
       "45"
      ]
     },
     "execution_count": 129,
     "metadata": {},
     "output_type": "execute_result"
    }
   ],
   "source": [
    "debt_df['creditor'].count()"
   ]
  },
  {
   "cell_type": "code",
   "execution_count": 130,
   "id": "327cb421",
   "metadata": {},
   "outputs": [
    {
     "data": {
      "text/plain": [
       "creditor\n",
       "Japan            8\n",
       "France           8\n",
       "Germany          6\n",
       "Britain          5\n",
       "Spain            5\n",
       "Italy            4\n",
       "Ireland          3\n",
       "United States    3\n",
       "Portugal         3\n",
       "Name: count, dtype: int64"
      ]
     },
     "execution_count": 130,
     "metadata": {},
     "output_type": "execute_result"
    }
   ],
   "source": [
    "debt_df['creditor'].value_counts()"
   ]
  },
  {
   "cell_type": "code",
   "execution_count": 131,
   "id": "ddbff67c",
   "metadata": {},
   "outputs": [
    {
     "data": {
      "text/plain": [
       "creditor\n",
       "Japan      8\n",
       "France     8\n",
       "Germany    6\n",
       "Name: count, dtype: int64"
      ]
     },
     "execution_count": 131,
     "metadata": {},
     "output_type": "execute_result"
    }
   ],
   "source": [
    "debt_df['creditor'].value_counts().head(3)"
   ]
  },
  {
   "cell_type": "code",
   "execution_count": 134,
   "id": "bc51ad0c",
   "metadata": {},
   "outputs": [
    {
     "data": {
      "text/plain": [
       "creditor\n",
       "Ireland          3\n",
       "United States    3\n",
       "Portugal         3\n",
       "Name: count, dtype: int64"
      ]
     },
     "execution_count": 134,
     "metadata": {},
     "output_type": "execute_result"
    }
   ],
   "source": [
    "debt_df['creditor'].value_counts().tail(3)"
   ]
  },
  {
   "cell_type": "code",
   "execution_count": 135,
   "id": "9a6309b2",
   "metadata": {},
   "outputs": [
    {
     "data": {
      "text/plain": [
       "array(['Japan', 'France', 'Britain', 'Spain', 'Germany', 'Italy',\n",
       "       'Ireland', 'United States', 'Portugal'], dtype=object)"
      ]
     },
     "execution_count": 135,
     "metadata": {},
     "output_type": "execute_result"
    }
   ],
   "source": [
    "debt_df['creditor'].unique()"
   ]
  },
  {
   "cell_type": "code",
   "execution_count": 136,
   "id": "e1f50930",
   "metadata": {},
   "outputs": [
    {
     "data": {
      "text/plain": [
       "9"
      ]
     },
     "execution_count": 136,
     "metadata": {},
     "output_type": "execute_result"
    }
   ],
   "source": [
    "len(debt_df['creditor'].unique())"
   ]
  },
  {
   "cell_type": "code",
   "execution_count": 137,
   "id": "df730a6e",
   "metadata": {},
   "outputs": [],
   "source": [
    "#EDA:- exploratory data analysis"
   ]
  },
  {
   "cell_type": "code",
   "execution_count": 140,
   "id": "fe7bb298",
   "metadata": {},
   "outputs": [
    {
     "data": {
      "text/plain": [
       "debtor\n",
       "Greece           9\n",
       "United States    6\n",
       "Portugal         6\n",
       "Ireland          6\n",
       "Italy            5\n",
       "Britain          4\n",
       "Spain            4\n",
       "Germany          3\n",
       "France           1\n",
       "Japan            1\n",
       "Name: count, dtype: int64"
      ]
     },
     "execution_count": 140,
     "metadata": {},
     "output_type": "execute_result"
    }
   ],
   "source": [
    "debt_df['debtor'].value_counts()"
   ]
  },
  {
   "cell_type": "code",
   "execution_count": 142,
   "id": "66286c73",
   "metadata": {},
   "outputs": [
    {
     "data": {
      "text/plain": [
       "array(['United States', 'Italy', 'Britain', 'Spain', 'Germany',\n",
       "       'Portugal', 'Greece', 'Ireland', 'France', 'Japan'], dtype=object)"
      ]
     },
     "execution_count": 142,
     "metadata": {},
     "output_type": "execute_result"
    }
   ],
   "source": [
    "debt_df['debtor'].unique()"
   ]
  },
  {
   "cell_type": "code",
   "execution_count": 143,
   "id": "a4105879",
   "metadata": {},
   "outputs": [
    {
     "data": {
      "text/plain": [
       "10"
      ]
     },
     "execution_count": 143,
     "metadata": {},
     "output_type": "execute_result"
    }
   ],
   "source": [
    "len(debt_df['debtor'].unique())"
   ]
  },
  {
   "cell_type": "code",
   "execution_count": 144,
   "id": "205fd5fd",
   "metadata": {},
   "outputs": [
    {
     "data": {
      "text/plain": [
       "10"
      ]
     },
     "execution_count": 144,
     "metadata": {},
     "output_type": "execute_result"
    }
   ],
   "source": [
    "debt_df['debtor'].nunique()"
   ]
  },
  {
   "cell_type": "code",
   "execution_count": 146,
   "id": "64f3975c",
   "metadata": {},
   "outputs": [
    {
     "data": {
      "text/plain": [
       "<Axes: xlabel='debtor'>"
      ]
     },
     "execution_count": 146,
     "metadata": {},
     "output_type": "execute_result"
    },
    {
     "data": {
      "image/png": "[encoded data removed]",
      "text/plain": [
       "<Figure size 640x480 with 1 Axes>"
      ]
     },
     "metadata": {},
     "output_type": "display_data"
    }
   ],
   "source": [
    "debt_df['debtor'].value_counts().plot(kind='bar')"
   ]
  },
  {
   "cell_type": "code",
   "execution_count": 147,
   "id": "d7633204",
   "metadata": {},
   "outputs": [
    {
     "data": {
      "text/plain": [
       "<Axes: xlabel='creditor'>"
      ]
     },
     "execution_count": 147,
     "metadata": {},
     "output_type": "execute_result"
    },
    {
     "data": {
      "image/png": "[encoded data removed]",
      "text/plain": [
       "<Figure size 640x480 with 1 Axes>"
      ]
     },
     "metadata": {},
     "output_type": "display_data"
    }
   ],
   "source": [
    "debt_df['creditor'].value_counts().plot(kind = 'bar')"
   ]
  },
  {
   "cell_type": "code",
   "execution_count": 148,
   "id": "74cbaa1a",
   "metadata": {},
   "outputs": [
    {
     "data": {
      "text/plain": [
       "<Axes: ylabel='count'>"
      ]
     },
     "execution_count": 148,
     "metadata": {},
     "output_type": "execute_result"
    },
    {
     "data": {
      "image/png": "[encoded data removed]",
      "text/plain": [
       "<Figure size 640x480 with 1 Axes>"
      ]
     },
     "metadata": {},
     "output_type": "display_data"
    }
   ],
   "source": [
    "debt_df['creditor'].value_counts().plot(kind = 'pie')"
   ]
  },
  {
   "cell_type": "code",
   "execution_count": null,
   "id": "6f67fe36",
   "metadata": {},
   "outputs": [],
   "source": []
  },
  {
   "cell_type": "code",
   "execution_count": 153,
   "id": "d19f1cd9",
   "metadata": {},
   "outputs": [
    {
     "data": {
      "text/plain": [
       "796.0"
      ]
     },
     "execution_count": 153,
     "metadata": {},
     "output_type": "execute_result"
    }
   ],
   "source": [
    "droped_debt_df['amount'].max()"
   ]
  },
  {
   "cell_type": "code",
   "execution_count": 154,
   "id": "79486bf5",
   "metadata": {},
   "outputs": [
    {
     "data": {
      "text/plain": [
       "count     35.000000\n",
       "mean      65.214000\n",
       "std      158.752534\n",
       "min        0.340000\n",
       "25%        3.130000\n",
       "50%       12.000000\n",
       "75%       27.100000\n",
       "max      796.000000\n",
       "Name: amount, dtype: float64"
      ]
     },
     "execution_count": 154,
     "metadata": {},
     "output_type": "execute_result"
    }
   ],
   "source": [
    "droped_debt_df['amount'].describe()"
   ]
  },
  {
   "cell_type": "code",
   "execution_count": 155,
   "id": "7eb3a3bf",
   "metadata": {},
   "outputs": [
    {
     "data": {
      "text/plain": [
       "2282.4900000000002"
      ]
     },
     "execution_count": 155,
     "metadata": {},
     "output_type": "execute_result"
    }
   ],
   "source": [
    "droped_debt_df['amount'].sum()"
   ]
  },
  {
   "cell_type": "code",
   "execution_count": 157,
   "id": "c0d05b85",
   "metadata": {},
   "outputs": [
    {
     "data": {
      "text/plain": [
       "amount\n",
       "796.00    1\n",
       "3.10      1\n",
       "9.79      1\n",
       "7.73      1\n",
       "6.38      1\n",
       "3.77      1\n",
       "3.22      1\n",
       "3.16      1\n",
       "2.83      1\n",
       "11.10     1\n",
       "2.18      1\n",
       "1.37      1\n",
       "0.87      1\n",
       "0.78      1\n",
       "0.55      1\n",
       "0.52      1\n",
       "10.10     1\n",
       "12.00     1\n",
       "366.00    1\n",
       "28.20     1\n",
       "345.00    1\n",
       "326.00    1\n",
       "53.80     1\n",
       "48.90     1\n",
       "38.80     1\n",
       "32.50     1\n",
       "26.00     1\n",
       "17.30     1\n",
       "25.90     1\n",
       "22.40     1\n",
       "19.40     1\n",
       "19.30     1\n",
       "18.90     1\n",
       "18.30     1\n",
       "0.34      1\n",
       "Name: count, dtype: int64"
      ]
     },
     "execution_count": 157,
     "metadata": {},
     "output_type": "execute_result"
    }
   ],
   "source": [
    "# univariate, Bivariate, Multivariate\n",
    "droped_debt_df['amount'].value_counts()"
   ]
  },
  {
   "cell_type": "code",
   "execution_count": 158,
   "id": "f66a2ed0",
   "metadata": {},
   "outputs": [
    {
     "data": {
      "text/plain": [
       "35"
      ]
     },
     "execution_count": 158,
     "metadata": {},
     "output_type": "execute_result"
    }
   ],
   "source": [
    "droped_debt_df['amount'].nunique()"
   ]
  },
  {
   "cell_type": "code",
   "execution_count": 161,
   "id": "cad6c53c",
   "metadata": {},
   "outputs": [
    {
     "data": {
      "text/plain": [
       "<Axes: >"
      ]
     },
     "execution_count": 161,
     "metadata": {},
     "output_type": "execute_result"
    },
    {
     "data": {
      "image/png": "[encoded data removed]",
      "text/plain": [
       "<Figure size 640x480 with 1 Axes>"
      ]
     },
     "metadata": {},
     "output_type": "display_data"
    }
   ],
   "source": [
    "droped_debt_df['amount'].sort_values().plot()"
   ]
  },
  {
   "cell_type": "code",
   "execution_count": 165,
   "id": "65a4af24",
   "metadata": {},
   "outputs": [
    {
     "data": {
      "text/plain": [
       "risk\n",
       "High Risk      24\n",
       "Stable          8\n",
       "Medium Risk     2\n",
       "Low Risk        1\n",
       "Name: count, dtype: int64"
      ]
     },
     "execution_count": 165,
     "metadata": {},
     "output_type": "execute_result"
    }
   ],
   "source": [
    "droped_debt_df['risk'].value_counts()"
   ]
  },
  {
   "cell_type": "code",
   "execution_count": 166,
   "id": "6a483dd2",
   "metadata": {},
   "outputs": [
    {
     "data": {
      "text/plain": [
       "<Axes: ylabel='count'>"
      ]
     },
     "execution_count": 166,
     "metadata": {},
     "output_type": "execute_result"
    },
    {
     "data": {
      "image/png": "[encoded data removed]",
      "text/plain": [
       "<Figure size 640x480 with 1 Axes>"
      ]
     },
     "metadata": {},
     "output_type": "display_data"
    }
   ],
   "source": [
    "droped_debt_df['risk'].value_counts().plot(kind = 'pie')"
   ]
  },
  {
   "cell_type": "code",
   "execution_count": 167,
   "id": "1dabe65c",
   "metadata": {},
   "outputs": [
    {
     "data": {
      "text/plain": [
       "4"
      ]
     },
     "execution_count": 167,
     "metadata": {},
     "output_type": "execute_result"
    }
   ],
   "source": [
    "droped_debt_df['risk'].nunique()"
   ]
  },
  {
   "cell_type": "code",
   "execution_count": 169,
   "id": "3c814ea2",
   "metadata": {},
   "outputs": [
    {
     "data": {
      "text/html": [
       "<div>\n",
       "<style scoped>\n",
       "    .dataframe tbody tr th:only-of-type {\n",
       "        vertical-align: middle;\n",
       "    }\n",
       "\n",
       "    .dataframe tbody tr th {\n",
       "        vertical-align: top;\n",
       "    }\n",
       "\n",
       "    .dataframe thead th {\n",
       "        text-align: right;\n",
       "    }\n",
       "</style>\n",
       "<table border=\"1\" class=\"dataframe\">\n",
       "  <thead>\n",
       "    <tr style=\"text-align: right;\">\n",
       "      <th></th>\n",
       "      <th>creditor</th>\n",
       "      <th>debtor</th>\n",
       "      <th>amount</th>\n",
       "      <th>risk</th>\n",
       "    </tr>\n",
       "  </thead>\n",
       "  <tbody>\n",
       "    <tr>\n",
       "      <th>0</th>\n",
       "      <td>Japan</td>\n",
       "      <td>United States</td>\n",
       "      <td>796.0</td>\n",
       "      <td>Stable</td>\n",
       "    </tr>\n",
       "    <tr>\n",
       "      <th>1</th>\n",
       "      <td>France</td>\n",
       "      <td>Italy</td>\n",
       "      <td>366.0</td>\n",
       "      <td>High Risk</td>\n",
       "    </tr>\n",
       "    <tr>\n",
       "      <th>2</th>\n",
       "      <td>Britain</td>\n",
       "      <td>United States</td>\n",
       "      <td>345.0</td>\n",
       "      <td>Stable</td>\n",
       "    </tr>\n",
       "    <tr>\n",
       "      <th>3</th>\n",
       "      <td>Spain</td>\n",
       "      <td>Britain</td>\n",
       "      <td>326.0</td>\n",
       "      <td>Stable</td>\n",
       "    </tr>\n",
       "    <tr>\n",
       "      <th>14</th>\n",
       "      <td>France</td>\n",
       "      <td>Germany</td>\n",
       "      <td>53.8</td>\n",
       "      <td>Stable</td>\n",
       "    </tr>\n",
       "  </tbody>\n",
       "</table>\n",
       "</div>"
      ],
      "text/plain": [
       "   creditor         debtor  amount       risk\n",
       "0     Japan  United States   796.0     Stable\n",
       "1    France          Italy   366.0  High Risk\n",
       "2   Britain  United States   345.0     Stable\n",
       "3     Spain        Britain   326.0     Stable\n",
       "14   France        Germany    53.8     Stable"
      ]
     },
     "execution_count": 169,
     "metadata": {},
     "output_type": "execute_result"
    }
   ],
   "source": [
    "droped_debt_df.head()"
   ]
  },
  {
   "cell_type": "code",
   "execution_count": 172,
   "id": "7781c80f",
   "metadata": {},
   "outputs": [
    {
     "data": {
      "text/plain": [
       "<Axes: xlabel='creditor'>"
      ]
     },
     "execution_count": 172,
     "metadata": {},
     "output_type": "execute_result"
    },
    {
     "data": {
      "image/png": "[encoded data removed]",
      "text/plain": [
       "<Figure size 640x480 with 1 Axes>"
      ]
     },
     "metadata": {},
     "output_type": "display_data"
    }
   ],
   "source": [
    "droped_debt_df[droped_debt_df['risk'] == 'High Risk'].plot(kind='bar',x = 'creditor', y = 'amount')"
   ]
  },
  {
   "cell_type": "code",
   "execution_count": 173,
   "id": "d29413ea",
   "metadata": {},
   "outputs": [
    {
     "data": {
      "text/plain": [
       "<Axes: xlabel='creditor'>"
      ]
     },
     "execution_count": 173,
     "metadata": {},
     "output_type": "execute_result"
    },
    {
     "data": {
      "image/png": "[encoded data removed]",
      "text/plain": [
       "<Figure size 640x480 with 1 Axes>"
      ]
     },
     "metadata": {},
     "output_type": "display_data"
    }
   ],
   "source": [
    "droped_debt_df[droped_debt_df['risk'] == 'Low Risk'].plot(kind='bar',x = 'creditor', y = 'amount')"
   ]
  },
  {
   "cell_type": "code",
   "execution_count": 174,
   "id": "2e8a5dd3",
   "metadata": {},
   "outputs": [
    {
     "data": {
      "text/html": [
       "<div>\n",
       "<style scoped>\n",
       "    .dataframe tbody tr th:only-of-type {\n",
       "        vertical-align: middle;\n",
       "    }\n",
       "\n",
       "    .dataframe tbody tr th {\n",
       "        vertical-align: top;\n",
       "    }\n",
       "\n",
       "    .dataframe thead th {\n",
       "        text-align: right;\n",
       "    }\n",
       "</style>\n",
       "<table border=\"1\" class=\"dataframe\">\n",
       "  <thead>\n",
       "    <tr style=\"text-align: right;\">\n",
       "      <th></th>\n",
       "      <th>creditor</th>\n",
       "      <th>debtor</th>\n",
       "      <th>amount</th>\n",
       "      <th>risk</th>\n",
       "    </tr>\n",
       "  </thead>\n",
       "  <tbody>\n",
       "    <tr>\n",
       "      <th>21</th>\n",
       "      <td>Britain</td>\n",
       "      <td>France</td>\n",
       "      <td>22.4</td>\n",
       "      <td>Low Risk</td>\n",
       "    </tr>\n",
       "  </tbody>\n",
       "</table>\n",
       "</div>"
      ],
      "text/plain": [
       "   creditor  debtor  amount      risk\n",
       "21  Britain  France    22.4  Low Risk"
      ]
     },
     "execution_count": 174,
     "metadata": {},
     "output_type": "execute_result"
    }
   ],
   "source": [
    "droped_debt_df[droped_debt_df['risk'] == 'Low Risk']"
   ]
  },
  {
   "cell_type": "code",
   "execution_count": 176,
   "id": "5ab5c611",
   "metadata": {},
   "outputs": [
    {
     "data": {
      "text/html": [
       "<div>\n",
       "<style scoped>\n",
       "    .dataframe tbody tr th:only-of-type {\n",
       "        vertical-align: middle;\n",
       "    }\n",
       "\n",
       "    .dataframe tbody tr th {\n",
       "        vertical-align: top;\n",
       "    }\n",
       "\n",
       "    .dataframe thead th {\n",
       "        text-align: right;\n",
       "    }\n",
       "</style>\n",
       "<table border=\"1\" class=\"dataframe\">\n",
       "  <thead>\n",
       "    <tr style=\"text-align: right;\">\n",
       "      <th></th>\n",
       "      <th>creditor</th>\n",
       "      <th>debtor</th>\n",
       "      <th>amount</th>\n",
       "      <th>risk</th>\n",
       "    </tr>\n",
       "  </thead>\n",
       "  <tbody>\n",
       "    <tr>\n",
       "      <th>0</th>\n",
       "      <td>Japan</td>\n",
       "      <td>United States</td>\n",
       "      <td>796.00</td>\n",
       "      <td>Stable</td>\n",
       "    </tr>\n",
       "    <tr>\n",
       "      <th>2</th>\n",
       "      <td>Britain</td>\n",
       "      <td>United States</td>\n",
       "      <td>345.00</td>\n",
       "      <td>Stable</td>\n",
       "    </tr>\n",
       "    <tr>\n",
       "      <th>3</th>\n",
       "      <td>Spain</td>\n",
       "      <td>Britain</td>\n",
       "      <td>326.00</td>\n",
       "      <td>Stable</td>\n",
       "    </tr>\n",
       "    <tr>\n",
       "      <th>14</th>\n",
       "      <td>France</td>\n",
       "      <td>Germany</td>\n",
       "      <td>53.80</td>\n",
       "      <td>Stable</td>\n",
       "    </tr>\n",
       "    <tr>\n",
       "      <th>18</th>\n",
       "      <td>Japan</td>\n",
       "      <td>Britain</td>\n",
       "      <td>28.20</td>\n",
       "      <td>Stable</td>\n",
       "    </tr>\n",
       "    <tr>\n",
       "      <th>27</th>\n",
       "      <td>Ireland</td>\n",
       "      <td>Britain</td>\n",
       "      <td>12.00</td>\n",
       "      <td>Stable</td>\n",
       "    </tr>\n",
       "    <tr>\n",
       "      <th>31</th>\n",
       "      <td>France</td>\n",
       "      <td>Japan</td>\n",
       "      <td>7.73</td>\n",
       "      <td>Stable</td>\n",
       "    </tr>\n",
       "    <tr>\n",
       "      <th>43</th>\n",
       "      <td>Portugal</td>\n",
       "      <td>United States</td>\n",
       "      <td>0.52</td>\n",
       "      <td>Stable</td>\n",
       "    </tr>\n",
       "  </tbody>\n",
       "</table>\n",
       "</div>"
      ],
      "text/plain": [
       "    creditor         debtor  amount    risk\n",
       "0      Japan  United States  796.00  Stable\n",
       "2    Britain  United States  345.00  Stable\n",
       "3      Spain        Britain  326.00  Stable\n",
       "14    France        Germany   53.80  Stable\n",
       "18     Japan        Britain   28.20  Stable\n",
       "27   Ireland        Britain   12.00  Stable\n",
       "31    France          Japan    7.73  Stable\n",
       "43  Portugal  United States    0.52  Stable"
      ]
     },
     "execution_count": 176,
     "metadata": {},
     "output_type": "execute_result"
    }
   ],
   "source": [
    "droped_debt_df[droped_debt_df['risk'] == 'Stable']"
   ]
  },
  {
   "cell_type": "code",
   "execution_count": null,
   "id": "f57b4739",
   "metadata": {},
   "outputs": [],
   "source": []
  }
 ],
 "metadata": {
  "kernelspec": {
   "display_name": "Python 3 (ipykernel)",
   "language": "python",
   "name": "python3"
  },
  "language_info": {
   "codemirror_mode": {
    "name": "ipython",
    "version": 3
   },
   "file_extension": ".py",
   "mimetype": "text/x-python",
   "name": "python",
   "nbconvert_exporter": "python",
   "pygments_lexer": "ipython3",
   "version": "3.11.3"
  }
 },
 "nbformat": 4,
 "nbformat_minor": 5
}
