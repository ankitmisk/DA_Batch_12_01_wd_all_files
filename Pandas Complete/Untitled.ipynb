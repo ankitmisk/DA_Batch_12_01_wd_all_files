{
 "cells": [
  {
   "cell_type": "code",
   "execution_count": 14,
   "id": "405649f1",
   "metadata": {},
   "outputs": [],
   "source": [
    "import requests as r\n",
    "import json\n",
    "import pandas as pd\n",
    "\n",
    "\n",
    "news_api = '''060aafa8be14496fac1f9d2af50ca586'''\n",
    "\n",
    "\n",
    "url = '''https://newsapi.org/v2/top-headlines?country=us&category=business&apiKey=060aafa8be14496fac1f9d2af50ca586'''"
   ]
  },
  {
   "cell_type": "code",
   "execution_count": 15,
   "id": "1bb0c03c",
   "metadata": {},
   "outputs": [],
   "source": [
    "response = r.get(url)\n",
    "news_dict = response.json()"
   ]
  },
  {
   "cell_type": "code",
   "execution_count": 16,
   "id": "cf83cf3b",
   "metadata": {},
   "outputs": [
    {
     "data": {
      "text/plain": [
       "dict_keys(['status', 'totalResults', 'articles'])"
      ]
     },
     "execution_count": 16,
     "metadata": {},
     "output_type": "execute_result"
    }
   ],
   "source": [
    "news_dict.keys()"
   ]
  },
  {
   "cell_type": "code",
   "execution_count": 17,
   "id": "3c69cf95",
   "metadata": {},
   "outputs": [
    {
     "data": {
      "text/plain": [
       "'ok'"
      ]
     },
     "execution_count": 17,
     "metadata": {},
     "output_type": "execute_result"
    }
   ],
   "source": [
    "news_dict['status']"
   ]
  },
  {
   "cell_type": "code",
   "execution_count": 18,
   "id": "968417e9",
   "metadata": {},
   "outputs": [],
   "source": [
    "all_articles = news_dict['articles']"
   ]
  },
  {
   "cell_type": "code",
   "execution_count": 19,
   "id": "8c6a8fec",
   "metadata": {},
   "outputs": [
    {
     "name": "stdout",
     "output_type": "stream",
     "text": [
      "20\n"
     ]
    }
   ],
   "source": [
    "print(len(all_articles))"
   ]
  },
  {
   "cell_type": "code",
   "execution_count": 20,
   "id": "2db3e487",
   "metadata": {},
   "outputs": [
    {
     "data": {
      "text/plain": [
       "{'source': {'id': 'reuters', 'name': 'Reuters'},\n",
       " 'author': 'Victoria Waldersee, Christina Amann',\n",
       " 'title': 'Volkswagen goes head-to-head with workforce over proposed company cuts - Reuters',\n",
       " 'description': 'Volkswagen management is facing workers at a crunch meeting at its headquarters on Wednesday as the automaker seeks to push through deep cost cuts - including factory closures in Germany - in an effort to revive profits at its namesake brand.',\n",
       " 'url': 'https://www.reuters.com/business/autos-transportation/volkswagen-goes-head-to-head-with-workforce-over-proposed-company-cuts-2024-09-04/',\n",
       " 'urlToImage': 'https://www.reuters.com/resizer/v2/OLNR2DUPA5NP3K65XHI2XXAVNA.jpg?auth=b18d472fc7a125df0383283b9f2514747e96ed279f8a847fbfba508260e788dc&height=1005&width=1920&quality=80&smart=true',\n",
       " 'publishedAt': '2024-09-04T05:12:10Z',\n",
       " 'content': None}"
      ]
     },
     "execution_count": 20,
     "metadata": {},
     "output_type": "execute_result"
    }
   ],
   "source": [
    "all_articles[0]"
   ]
  },
  {
   "cell_type": "code",
   "execution_count": null,
   "id": "5f9fac89",
   "metadata": {},
   "outputs": [],
   "source": []
  }
 ],
 "metadata": {
  "kernelspec": {
   "display_name": "Python 3 (ipykernel)",
   "language": "python",
   "name": "python3"
  },
  "language_info": {
   "codemirror_mode": {
    "name": "ipython",
    "version": 3
   },
   "file_extension": ".py",
   "mimetype": "text/x-python",
   "name": "python",
   "nbconvert_exporter": "python",
   "pygments_lexer": "ipython3",
   "version": "3.11.3"
  }
 },
 "nbformat": 4,
 "nbformat_minor": 5
}
