{
 "cells": [
  {
   "cell_type": "code",
   "execution_count": 2,
   "id": "d3bcf90d",
   "metadata": {},
   "outputs": [],
   "source": [
    "import pandas as pd"
   ]
  },
  {
   "cell_type": "code",
   "execution_count": 3,
   "id": "02e9d971",
   "metadata": {},
   "outputs": [],
   "source": [
    "# numpy:- numerical calculation:- Fast"
   ]
  },
  {
   "cell_type": "code",
   "execution_count": 4,
   "id": "ba01e267",
   "metadata": {},
   "outputs": [],
   "source": [
    "# pandas:- Pannel dataframe"
   ]
  },
  {
   "cell_type": "code",
   "execution_count": 5,
   "id": "edb0b4af",
   "metadata": {},
   "outputs": [],
   "source": [
    "# Dataframe :- table"
   ]
  },
  {
   "cell_type": "code",
   "execution_count": 2,
   "id": "6e2ecd74",
   "metadata": {},
   "outputs": [],
   "source": [
    "# Pandas:- module, Library:- \n",
    "\n",
    "import pandas as pd"
   ]
  },
  {
   "cell_type": "code",
   "execution_count": 3,
   "id": "b51d380f",
   "metadata": {},
   "outputs": [
    {
     "name": "stdout",
     "output_type": "stream",
     "text": [
      "2.2.2\n"
     ]
    }
   ],
   "source": [
    "print(pd.__version__)"
   ]
  },
  {
   "cell_type": "code",
   "execution_count": 4,
   "id": "d5e304ae",
   "metadata": {},
   "outputs": [],
   "source": [
    "import numpy as np"
   ]
  },
  {
   "cell_type": "code",
   "execution_count": 5,
   "id": "c0810797",
   "metadata": {},
   "outputs": [
    {
     "name": "stdout",
     "output_type": "stream",
     "text": [
      "1.24.2\n"
     ]
    }
   ],
   "source": [
    "print(np.__version__)"
   ]
  },
  {
   "cell_type": "code",
   "execution_count": 6,
   "id": "b7b31e5c",
   "metadata": {},
   "outputs": [
    {
     "name": "stdout",
     "output_type": "stream",
     "text": [
      "Done\n"
     ]
    }
   ],
   "source": [
    "print('Done')"
   ]
  },
  {
   "cell_type": "code",
   "execution_count": null,
   "id": "a8d3a6fa",
   "metadata": {},
   "outputs": [],
   "source": []
  },
  {
   "cell_type": "code",
   "execution_count": 7,
   "id": "9b7256bf",
   "metadata": {},
   "outputs": [],
   "source": [
    "# data manipulate, data clean, data transform, missing value fill, remove,\n",
    "# new column, drop column, grouped, etc.. "
   ]
  },
  {
   "cell_type": "code",
   "execution_count": 8,
   "id": "acde5fb9",
   "metadata": {},
   "outputs": [
    {
     "name": "stdout",
     "output_type": "stream",
     "text": [
      "['ArrowDtype', 'BooleanDtype', 'Categorical', 'CategoricalDtype', 'CategoricalIndex', 'DataFrame', 'DateOffset', 'DatetimeIndex', 'DatetimeTZDtype', 'ExcelFile', 'ExcelWriter', 'Flags', 'Float32Dtype', 'Float64Dtype', 'Grouper', 'HDFStore', 'Index', 'IndexSlice', 'Int16Dtype', 'Int32Dtype', 'Int64Dtype', 'Int8Dtype', 'Interval', 'IntervalDtype', 'IntervalIndex', 'MultiIndex', 'NA', 'NaT', 'NamedAgg', 'Period', 'PeriodDtype', 'PeriodIndex', 'RangeIndex', 'Series', 'SparseDtype', 'StringDtype', 'Timedelta', 'TimedeltaIndex', 'Timestamp', 'UInt16Dtype', 'UInt32Dtype', 'UInt64Dtype', 'UInt8Dtype', '__all__', '__builtins__', '__cached__', '__doc__', '__docformat__', '__file__', '__git_version__', '__loader__', '__name__', '__package__', '__path__', '__spec__', '__version__', '_built_with_meson', '_config', '_is_numpy_dev', '_libs', '_pandas_datetime_CAPI', '_pandas_parser_CAPI', '_testing', '_typing', '_version_meson', 'annotations', 'api', 'array', 'arrays', 'bdate_range', 'compat', 'concat', 'core', 'crosstab', 'cut', 'date_range', 'describe_option', 'errors', 'eval', 'factorize', 'from_dummies', 'get_dummies', 'get_option', 'infer_freq', 'interval_range', 'io', 'isna', 'isnull', 'json_normalize', 'lreshape', 'melt', 'merge', 'merge_asof', 'merge_ordered', 'notna', 'notnull', 'offsets', 'option_context', 'options', 'pandas', 'period_range', 'pivot', 'pivot_table', 'plotting', 'qcut', 'read_clipboard', 'read_csv', 'read_excel', 'read_feather', 'read_fwf', 'read_gbq', 'read_hdf', 'read_html', 'read_json', 'read_orc', 'read_parquet', 'read_pickle', 'read_sas', 'read_spss', 'read_sql', 'read_sql_query', 'read_sql_table', 'read_stata', 'read_table', 'read_xml', 'reset_option', 'set_eng_float_format', 'set_option', 'show_versions', 'test', 'testing', 'timedelta_range', 'to_datetime', 'to_numeric', 'to_pickle', 'to_timedelta', 'tseries', 'unique', 'util', 'value_counts', 'wide_to_long']\n"
     ]
    }
   ],
   "source": [
    "print(dir(pd))"
   ]
  },
  {
   "cell_type": "code",
   "execution_count": 9,
   "id": "d409afd6",
   "metadata": {},
   "outputs": [
    {
     "name": "stdout",
     "output_type": "stream",
     "text": [
      "['ALLOW_THREADS', 'AxisError', 'BUFSIZE', 'CLIP', 'ComplexWarning', 'DataSource', 'ERR_CALL', 'ERR_DEFAULT', 'ERR_IGNORE', 'ERR_LOG', 'ERR_PRINT', 'ERR_RAISE', 'ERR_WARN', 'FLOATING_POINT_SUPPORT', 'FPE_DIVIDEBYZERO', 'FPE_INVALID', 'FPE_OVERFLOW', 'FPE_UNDERFLOW', 'False_', 'Inf', 'Infinity', 'MAXDIMS', 'MAY_SHARE_BOUNDS', 'MAY_SHARE_EXACT', 'ModuleDeprecationWarning', 'NAN', 'NINF', 'NZERO', 'NaN', 'PINF', 'PZERO', 'RAISE', 'RankWarning', 'SHIFT_DIVIDEBYZERO', 'SHIFT_INVALID', 'SHIFT_OVERFLOW', 'SHIFT_UNDERFLOW', 'ScalarType', 'Tester', 'TooHardError', 'True_', 'UFUNC_BUFSIZE_DEFAULT', 'UFUNC_PYVALS_NAME', 'VisibleDeprecationWarning', 'WRAP', '_CopyMode', '_NoValue', '_UFUNC_API', '__NUMPY_SETUP__', '__all__', '__builtins__', '__cached__', '__config__', '__deprecated_attrs__', '__dir__', '__doc__', '__expired_functions__', '__file__', '__former_attrs__', '__future_scalars__', '__getattr__', '__git_version__', '__loader__', '__name__', '__package__', '__path__', '__spec__', '__version__', '_add_newdoc_ufunc', '_builtins', '_distributor_init', '_financial_names', '_get_promotion_state', '_globals', '_int_extended_msg', '_mat', '_no_nep50_warning', '_pyinstaller_hooks_dir', '_pytesttester', '_set_promotion_state', '_specific_msg', '_version', 'abs', 'absolute', 'add', 'add_docstring', 'add_newdoc', 'add_newdoc_ufunc', 'all', 'allclose', 'alltrue', 'amax', 'amin', 'angle', 'any', 'append', 'apply_along_axis', 'apply_over_axes', 'arange', 'arccos', 'arccosh', 'arcsin', 'arcsinh', 'arctan', 'arctan2', 'arctanh', 'argmax', 'argmin', 'argpartition', 'argsort', 'argwhere', 'around', 'array', 'array2string', 'array_equal', 'array_equiv', 'array_repr', 'array_split', 'array_str', 'asanyarray', 'asarray', 'asarray_chkfinite', 'ascontiguousarray', 'asfarray', 'asfortranarray', 'asmatrix', 'atleast_1d', 'atleast_2d', 'atleast_3d', 'average', 'bartlett', 'base_repr', 'binary_repr', 'bincount', 'bitwise_and', 'bitwise_not', 'bitwise_or', 'bitwise_xor', 'blackman', 'block', 'bmat', 'bool_', 'broadcast', 'broadcast_arrays', 'broadcast_shapes', 'broadcast_to', 'busday_count', 'busday_offset', 'busdaycalendar', 'byte', 'byte_bounds', 'bytes_', 'c_', 'can_cast', 'cast', 'cbrt', 'cdouble', 'ceil', 'cfloat', 'char', 'character', 'chararray', 'choose', 'clip', 'clongdouble', 'clongfloat', 'column_stack', 'common_type', 'compare_chararrays', 'compat', 'complex128', 'complex64', 'complex_', 'complexfloating', 'compress', 'concatenate', 'conj', 'conjugate', 'convolve', 'copy', 'copysign', 'copyto', 'corrcoef', 'correlate', 'cos', 'cosh', 'count_nonzero', 'cov', 'cross', 'csingle', 'ctypeslib', 'cumprod', 'cumproduct', 'cumsum', 'datetime64', 'datetime_as_string', 'datetime_data', 'deg2rad', 'degrees', 'delete', 'deprecate', 'deprecate_with_doc', 'diag', 'diag_indices', 'diag_indices_from', 'diagflat', 'diagonal', 'diff', 'digitize', 'disp', 'divide', 'divmod', 'dot', 'double', 'dsplit', 'dstack', 'dtype', 'e', 'ediff1d', 'einsum', 'einsum_path', 'emath', 'empty', 'empty_like', 'equal', 'errstate', 'euler_gamma', 'exp', 'exp2', 'expand_dims', 'expm1', 'expm1x', 'extract', 'eye', 'fabs', 'fastCopyAndTranspose', 'fft', 'fill_diagonal', 'find_common_type', 'finfo', 'fix', 'flatiter', 'flatnonzero', 'flexible', 'flip', 'fliplr', 'flipud', 'float16', 'float32', 'float64', 'float_', 'float_power', 'floating', 'floor', 'floor_divide', 'fmax', 'fmin', 'fmod', 'format_float_positional', 'format_float_scientific', 'format_parser', 'frexp', 'from_dlpack', 'frombuffer', 'fromfile', 'fromfunction', 'fromiter', 'frompyfunc', 'fromregex', 'fromstring', 'full', 'full_like', 'gcd', 'generic', 'genfromtxt', 'geomspace', 'get_array_wrap', 'get_include', 'get_printoptions', 'getbufsize', 'geterr', 'geterrcall', 'geterrobj', 'gradient', 'greater', 'greater_equal', 'half', 'hamming', 'hanning', 'heaviside', 'histogram', 'histogram2d', 'histogram_bin_edges', 'histogramdd', 'hsplit', 'hstack', 'hypot', 'i0', 'identity', 'iinfo', 'imag', 'in1d', 'index_exp', 'indices', 'inexact', 'inf', 'info', 'infty', 'inner', 'insert', 'int16', 'int32', 'int64', 'int8', 'int_', 'intc', 'integer', 'interp', 'intersect1d', 'intp', 'invert', 'is_busday', 'isclose', 'iscomplex', 'iscomplexobj', 'isfinite', 'isfortran', 'isin', 'isinf', 'isnan', 'isnat', 'isneginf', 'isposinf', 'isreal', 'isrealobj', 'isscalar', 'issctype', 'issubclass_', 'issubdtype', 'issubsctype', 'iterable', 'ix_', 'kaiser', 'kron', 'lcm', 'ldexp', 'left_shift', 'less', 'less_equal', 'lexsort', 'lib', 'linalg', 'linspace', 'little_endian', 'load', 'loadtxt', 'log', 'log10', 'log1p', 'log2', 'logaddexp', 'logaddexp2', 'logical_and', 'logical_not', 'logical_or', 'logical_xor', 'logspace', 'longcomplex', 'longdouble', 'longfloat', 'longlong', 'lookfor', 'ma', 'mask_indices', 'mat', 'math', 'matmul', 'matrix', 'max', 'maximum', 'maximum_sctype', 'may_share_memory', 'mean', 'median', 'memmap', 'meshgrid', 'mgrid', 'min', 'min_scalar_type', 'minimum', 'mintypecode', 'mod', 'modf', 'moveaxis', 'msort', 'multiply', 'nan', 'nan_to_num', 'nanargmax', 'nanargmin', 'nancumprod', 'nancumsum', 'nanmax', 'nanmean', 'nanmedian', 'nanmin', 'nanpercentile', 'nanprod', 'nanquantile', 'nanstd', 'nansum', 'nanvar', 'nbytes', 'ndarray', 'ndenumerate', 'ndim', 'ndindex', 'nditer', 'negative', 'nested_iters', 'newaxis', 'nextafter', 'nonzero', 'not_equal', 'numarray', 'number', 'obj2sctype', 'object_', 'ogrid', 'oldnumeric', 'ones', 'ones_like', 'outer', 'packbits', 'pad', 'partition', 'percentile', 'pi', 'piecewise', 'place', 'poly', 'poly1d', 'polyadd', 'polyder', 'polydiv', 'polyfit', 'polyint', 'polymul', 'polynomial', 'polysub', 'polyval', 'positive', 'power', 'printoptions', 'prod', 'product', 'promote_types', 'ptp', 'put', 'put_along_axis', 'putmask', 'quantile', 'r_', 'rad2deg', 'radians', 'random', 'ravel', 'ravel_multi_index', 'real', 'real_if_close', 'rec', 'recarray', 'recfromcsv', 'recfromtxt', 'reciprocal', 'record', 'remainder', 'repeat', 'require', 'reshape', 'resize', 'result_type', 'right_shift', 'rint', 'roll', 'rollaxis', 'roots', 'rot90', 'round', 'round_', 'row_stack', 's_', 'safe_eval', 'save', 'savetxt', 'savez', 'savez_compressed', 'sctype2char', 'sctypeDict', 'sctypes', 'searchsorted', 'select', 'set_numeric_ops', 'set_printoptions', 'set_string_function', 'setbufsize', 'setdiff1d', 'seterr', 'seterrcall', 'seterrobj', 'setxor1d', 'shape', 'shares_memory', 'short', 'show_config', 'show_runtime', 'sign', 'signbit', 'signedinteger', 'sin', 'sinc', 'single', 'singlecomplex', 'sinh', 'size', 'sometrue', 'sort', 'sort_complex', 'source', 'spacing', 'split', 'sqrt', 'square', 'squeeze', 'stack', 'std', 'str_', 'string_', 'subtract', 'sum', 'swapaxes', 'take', 'take_along_axis', 'tan', 'tanh', 'tensordot', 'test', 'testing', 'tile', 'timedelta64', 'trace', 'tracemalloc_domain', 'transpose', 'trapz', 'tri', 'tril', 'tril_indices', 'tril_indices_from', 'trim_zeros', 'triu', 'triu_indices', 'triu_indices_from', 'true_divide', 'trunc', 'typecodes', 'typename', 'ubyte', 'ufunc', 'uint', 'uint16', 'uint32', 'uint64', 'uint8', 'uintc', 'uintp', 'ulonglong', 'unicode_', 'union1d', 'unique', 'unpackbits', 'unravel_index', 'unsignedinteger', 'unwrap', 'use_hugepage', 'ushort', 'vander', 'var', 'vdot', 'vectorize', 'version', 'void', 'vsplit', 'vstack', 'where', 'who', 'zeros', 'zeros_like']\n"
     ]
    }
   ],
   "source": [
    "print(dir(np))"
   ]
  },
  {
   "cell_type": "code",
   "execution_count": 10,
   "id": "bb4e237f",
   "metadata": {},
   "outputs": [],
   "source": [
    "# dataypes"
   ]
  },
  {
   "cell_type": "code",
   "execution_count": 11,
   "id": "a6aa3516",
   "metadata": {},
   "outputs": [],
   "source": [
    "# Pandas:- 2 data types:- series, dataframe, datetime dtype"
   ]
  },
  {
   "cell_type": "code",
   "execution_count": null,
   "id": "d080fa98",
   "metadata": {},
   "outputs": [],
   "source": []
  },
  {
   "cell_type": "code",
   "execution_count": 12,
   "id": "6812b2c2",
   "metadata": {},
   "outputs": [],
   "source": [
    "data = np.array([21,124,345,6])"
   ]
  },
  {
   "cell_type": "code",
   "execution_count": 13,
   "id": "b9e0f574",
   "metadata": {},
   "outputs": [],
   "source": [
    "# Series, DataFrame"
   ]
  },
  {
   "cell_type": "code",
   "execution_count": 16,
   "id": "9b71b001",
   "metadata": {},
   "outputs": [],
   "source": [
    "siri = pd.Series(data)"
   ]
  },
  {
   "cell_type": "code",
   "execution_count": 17,
   "id": "8291cad3",
   "metadata": {},
   "outputs": [
    {
     "data": {
      "text/plain": [
       "pandas.core.series.Series"
      ]
     },
     "execution_count": 17,
     "metadata": {},
     "output_type": "execute_result"
    }
   ],
   "source": [
    "type(siri)"
   ]
  },
  {
   "cell_type": "code",
   "execution_count": 19,
   "id": "e6467752",
   "metadata": {},
   "outputs": [
    {
     "data": {
      "text/plain": [
       "0    121\n",
       "1    224\n",
       "2    445\n",
       "3    106\n",
       "dtype: int32"
      ]
     },
     "execution_count": 19,
     "metadata": {},
     "output_type": "execute_result"
    }
   ],
   "source": [
    "siri+100"
   ]
  },
  {
   "cell_type": "code",
   "execution_count": 20,
   "id": "083aa6d8",
   "metadata": {},
   "outputs": [
    {
     "data": {
      "text/plain": [
       "0    -79\n",
       "1     24\n",
       "2    245\n",
       "3    -94\n",
       "dtype: int32"
      ]
     },
     "execution_count": 20,
     "metadata": {},
     "output_type": "execute_result"
    }
   ],
   "source": [
    "siri-100"
   ]
  },
  {
   "cell_type": "code",
   "execution_count": 21,
   "id": "e0e6c043",
   "metadata": {},
   "outputs": [
    {
     "data": {
      "text/plain": [
       "0    False\n",
       "1     True\n",
       "2    False\n",
       "3     True\n",
       "dtype: bool"
      ]
     },
     "execution_count": 21,
     "metadata": {},
     "output_type": "execute_result"
    }
   ],
   "source": [
    "siri%2==0"
   ]
  },
  {
   "cell_type": "code",
   "execution_count": 22,
   "id": "abb4f10e",
   "metadata": {},
   "outputs": [
    {
     "data": {
      "text/plain": [
       "0     21\n",
       "1    124\n",
       "2    345\n",
       "3      6\n",
       "dtype: int32"
      ]
     },
     "execution_count": 22,
     "metadata": {},
     "output_type": "execute_result"
    }
   ],
   "source": [
    "siri"
   ]
  },
  {
   "cell_type": "code",
   "execution_count": 24,
   "id": "0bc198e8",
   "metadata": {},
   "outputs": [],
   "source": [
    "siri[2] = 8754"
   ]
  },
  {
   "cell_type": "code",
   "execution_count": 26,
   "id": "47572d03",
   "metadata": {},
   "outputs": [
    {
     "data": {
      "text/plain": [
       "0      21\n",
       "1     124\n",
       "2    8754\n",
       "3       6\n",
       "dtype: int32"
      ]
     },
     "execution_count": 26,
     "metadata": {},
     "output_type": "execute_result"
    }
   ],
   "source": [
    "siri"
   ]
  },
  {
   "cell_type": "code",
   "execution_count": null,
   "id": "d38087f5",
   "metadata": {},
   "outputs": [],
   "source": []
  },
  {
   "cell_type": "markdown",
   "id": "f047541c",
   "metadata": {},
   "source": [
    "# day 2"
   ]
  },
  {
   "cell_type": "code",
   "execution_count": 2,
   "id": "998fbf09",
   "metadata": {},
   "outputs": [],
   "source": [
    "import pandas as pd\n",
    "import numpy as np"
   ]
  },
  {
   "cell_type": "code",
   "execution_count": 3,
   "id": "e63ae705",
   "metadata": {},
   "outputs": [],
   "source": [
    "# Serires"
   ]
  },
  {
   "cell_type": "code",
   "execution_count": 5,
   "id": "ba192c5d",
   "metadata": {},
   "outputs": [],
   "source": [
    "a = [1,234,54,4124,356]\n",
    "\n",
    "s = pd.Series(a)"
   ]
  },
  {
   "cell_type": "code",
   "execution_count": 6,
   "id": "de0cced3",
   "metadata": {},
   "outputs": [
    {
     "name": "stdout",
     "output_type": "stream",
     "text": [
      "0       1\n",
      "1     234\n",
      "2      54\n",
      "3    4124\n",
      "4     356\n",
      "dtype: int64\n"
     ]
    }
   ],
   "source": [
    "print(s)"
   ]
  },
  {
   "cell_type": "code",
   "execution_count": 7,
   "id": "7643beab",
   "metadata": {},
   "outputs": [
    {
     "data": {
      "text/plain": [
       "1     234\n",
       "2      54\n",
       "3    4124\n",
       "dtype: int64"
      ]
     },
     "execution_count": 7,
     "metadata": {},
     "output_type": "execute_result"
    }
   ],
   "source": [
    "# indexing and slicing\n",
    "\n",
    "s[1:4]"
   ]
  },
  {
   "cell_type": "code",
   "execution_count": 8,
   "id": "d2fc53a2",
   "metadata": {},
   "outputs": [],
   "source": [
    "s[1:4] = [12,43,56]"
   ]
  },
  {
   "cell_type": "code",
   "execution_count": 9,
   "id": "3c714214",
   "metadata": {},
   "outputs": [
    {
     "data": {
      "text/plain": [
       "0      1\n",
       "1     12\n",
       "2     43\n",
       "3     56\n",
       "4    356\n",
       "dtype: int64"
      ]
     },
     "execution_count": 9,
     "metadata": {},
     "output_type": "execute_result"
    }
   ],
   "source": [
    "s"
   ]
  },
  {
   "cell_type": "code",
   "execution_count": 10,
   "id": "42ed92bf",
   "metadata": {},
   "outputs": [],
   "source": [
    "a = (1,234,54,4124,356)\n",
    "\n",
    "s = pd.Series(a)"
   ]
  },
  {
   "cell_type": "code",
   "execution_count": 11,
   "id": "1a23a4ab",
   "metadata": {},
   "outputs": [
    {
     "data": {
      "text/plain": [
       "0       1\n",
       "1     234\n",
       "2      54\n",
       "3    4124\n",
       "4     356\n",
       "dtype: int32"
      ]
     },
     "execution_count": 11,
     "metadata": {},
     "output_type": "execute_result"
    }
   ],
   "source": [
    "a = np.array([1,234,54,4124,356])\n",
    "\n",
    "s = pd.Series(a)\n",
    "s"
   ]
  },
  {
   "cell_type": "code",
   "execution_count": null,
   "id": "5abb40af",
   "metadata": {},
   "outputs": [],
   "source": []
  },
  {
   "cell_type": "code",
   "execution_count": 16,
   "id": "dac2c3f3",
   "metadata": {},
   "outputs": [
    {
     "data": {
      "text/plain": [
       "1       1\n",
       "2     234\n",
       "3      54\n",
       "4    4124\n",
       "5     356\n",
       "dtype: int64"
      ]
     },
     "execution_count": 16,
     "metadata": {},
     "output_type": "execute_result"
    }
   ],
   "source": [
    "a = [1,234,54,4124,356]\n",
    "\n",
    "s = pd.Series(a,index = range(1,len(a)+1))\n",
    "s"
   ]
  },
  {
   "cell_type": "code",
   "execution_count": 17,
   "id": "71503965",
   "metadata": {},
   "outputs": [
    {
     "data": {
      "text/plain": [
       "234"
      ]
     },
     "execution_count": 17,
     "metadata": {},
     "output_type": "execute_result"
    }
   ],
   "source": [
    "s[2]"
   ]
  },
  {
   "cell_type": "code",
   "execution_count": 18,
   "id": "14274ded",
   "metadata": {},
   "outputs": [
    {
     "data": {
      "text/plain": [
       "A       1\n",
       "B     234\n",
       "C      54\n",
       "D    4124\n",
       "E     356\n",
       "dtype: int64"
      ]
     },
     "execution_count": 18,
     "metadata": {},
     "output_type": "execute_result"
    }
   ],
   "source": [
    "a = [1,234,54,4124,356]\n",
    "\n",
    "s = pd.Series(a,index = list('ABCDE'))\n",
    "s"
   ]
  },
  {
   "cell_type": "code",
   "execution_count": 21,
   "id": "848cecbb",
   "metadata": {
    "scrolled": true
   },
   "outputs": [
    {
     "name": "stderr",
     "output_type": "stream",
     "text": [
      "C:\\Users\\Lenovo\\AppData\\Local\\Temp\\ipykernel_15420\\3374327594.py:1: FutureWarning: Series.__setitem__ treating keys as positions is deprecated. In a future version, integer keys will always be treated as labels (consistent with DataFrame behavior). To set a value by position, use `ser.iloc[pos] = value`\n",
      "  s[2] = 345\n"
     ]
    }
   ],
   "source": [
    "s[2] = 345"
   ]
  },
  {
   "cell_type": "code",
   "execution_count": 22,
   "id": "e4b40c22",
   "metadata": {},
   "outputs": [
    {
     "data": {
      "text/plain": [
       "A       1\n",
       "B     234\n",
       "C     345\n",
       "D    4124\n",
       "E     356\n",
       "dtype: int64"
      ]
     },
     "execution_count": 22,
     "metadata": {},
     "output_type": "execute_result"
    }
   ],
   "source": [
    "s"
   ]
  },
  {
   "cell_type": "code",
   "execution_count": 24,
   "id": "ada16f5d",
   "metadata": {},
   "outputs": [],
   "source": [
    "s['C'] = 8764"
   ]
  },
  {
   "cell_type": "code",
   "execution_count": 25,
   "id": "120ba5fb",
   "metadata": {},
   "outputs": [
    {
     "data": {
      "text/plain": [
       "A       1\n",
       "B     234\n",
       "C    8764\n",
       "D    4124\n",
       "E     356\n",
       "dtype: int64"
      ]
     },
     "execution_count": 25,
     "metadata": {},
     "output_type": "execute_result"
    }
   ],
   "source": [
    "s"
   ]
  },
  {
   "cell_type": "code",
   "execution_count": 27,
   "id": "46434fdd",
   "metadata": {},
   "outputs": [],
   "source": [
    "data = {'key1':True,'Key2':False,'Key3':None}\n",
    "\n",
    "s = pd.Series(data)"
   ]
  },
  {
   "cell_type": "code",
   "execution_count": 28,
   "id": "3e2b0a21",
   "metadata": {},
   "outputs": [
    {
     "data": {
      "text/plain": [
       "key1     True\n",
       "Key2    False\n",
       "Key3     None\n",
       "dtype: object"
      ]
     },
     "execution_count": 28,
     "metadata": {},
     "output_type": "execute_result"
    }
   ],
   "source": [
    "s"
   ]
  },
  {
   "cell_type": "code",
   "execution_count": 32,
   "id": "8a5bfa12",
   "metadata": {},
   "outputs": [],
   "source": [
    "s['key1'] = [True, True]"
   ]
  },
  {
   "cell_type": "code",
   "execution_count": 33,
   "id": "85f45fcc",
   "metadata": {},
   "outputs": [
    {
     "data": {
      "text/plain": [
       "key1    [True, True]\n",
       "Key2           False\n",
       "Key3            None\n",
       "dtype: object"
      ]
     },
     "execution_count": 33,
     "metadata": {},
     "output_type": "execute_result"
    }
   ],
   "source": [
    "s"
   ]
  },
  {
   "cell_type": "code",
   "execution_count": 38,
   "id": "58c16be8",
   "metadata": {},
   "outputs": [],
   "source": [
    "data = {'key1':True,'Key2':False,'Key3':np.nan}\n",
    "\n",
    "s = pd.Series(data,name = 'T20')"
   ]
  },
  {
   "cell_type": "code",
   "execution_count": 39,
   "id": "6457bc35",
   "metadata": {},
   "outputs": [
    {
     "data": {
      "text/plain": [
       "key1     True\n",
       "Key2    False\n",
       "Key3      NaN\n",
       "Name: T20, dtype: object"
      ]
     },
     "execution_count": 39,
     "metadata": {},
     "output_type": "execute_result"
    }
   ],
   "source": [
    "s"
   ]
  },
  {
   "cell_type": "code",
   "execution_count": 40,
   "id": "c71d5275",
   "metadata": {},
   "outputs": [
    {
     "data": {
      "text/plain": [
       "pandas.core.series.Series"
      ]
     },
     "execution_count": 40,
     "metadata": {},
     "output_type": "execute_result"
    }
   ],
   "source": [
    "type(s)"
   ]
  },
  {
   "cell_type": "code",
   "execution_count": 41,
   "id": "ee154453",
   "metadata": {},
   "outputs": [
    {
     "name": "stdout",
     "output_type": "stream",
     "text": [
      "<class 'pandas.core.series.Series'>\n",
      "Index: 3 entries, key1 to Key3\n",
      "Series name: T20\n",
      "Non-Null Count  Dtype \n",
      "--------------  ----- \n",
      "2 non-null      object\n",
      "dtypes: object(1)\n",
      "memory usage: 156.0+ bytes\n"
     ]
    }
   ],
   "source": [
    "s.info()"
   ]
  },
  {
   "cell_type": "code",
   "execution_count": 47,
   "id": "efee7524",
   "metadata": {},
   "outputs": [
    {
     "data": {
      "text/plain": [
       "A     1\n",
       "B    14\n",
       "C    54\n",
       "D    12\n",
       "E     6\n",
       "dtype: int32"
      ]
     },
     "execution_count": 47,
     "metadata": {},
     "output_type": "execute_result"
    }
   ],
   "source": [
    "a = [1,14,54,12,6]\n",
    "\n",
    "s = pd.Series(a,index = list('ABCDE'),dtype = np.int32)\n",
    "s"
   ]
  },
  {
   "cell_type": "code",
   "execution_count": 48,
   "id": "02f5eb29",
   "metadata": {},
   "outputs": [
    {
     "data": {
      "text/plain": [
       "A     1.0\n",
       "B    14.0\n",
       "C    54.0\n",
       "D    12.0\n",
       "E     6.0\n",
       "dtype: float64"
      ]
     },
     "execution_count": 48,
     "metadata": {},
     "output_type": "execute_result"
    }
   ],
   "source": [
    "a = [1,14,54,12,6]\n",
    "\n",
    "s = pd.Series(a,index = list('ABCDE'),dtype = float)\n",
    "s"
   ]
  },
  {
   "cell_type": "code",
   "execution_count": 55,
   "id": "c7ae56d4",
   "metadata": {},
   "outputs": [
    {
     "data": {
      "text/plain": [
       "A     True\n",
       "B     True\n",
       "C    False\n",
       "D     True\n",
       "E    False\n",
       "dtype: bool"
      ]
     },
     "execution_count": 55,
     "metadata": {},
     "output_type": "execute_result"
    }
   ],
   "source": [
    "a = [1,14,0,-12,None]\n",
    "\n",
    "s = pd.Series(a,index = list('ABCDE'),dtype =bool)\n",
    "s"
   ]
  },
  {
   "cell_type": "code",
   "execution_count": 57,
   "id": "824fff10",
   "metadata": {},
   "outputs": [
    {
     "data": {
      "text/plain": [
       "A     1.0+ 0.0j\n",
       "B    14.0+ 0.0j\n",
       "C     0.0+ 0.0j\n",
       "D   -12.0+ 0.0j\n",
       "E     NaN+ NaNj\n",
       "dtype: complex128"
      ]
     },
     "execution_count": 57,
     "metadata": {},
     "output_type": "execute_result"
    }
   ],
   "source": [
    "a = [1,14,0,-12,None]\n",
    "\n",
    "s = pd.Series(a,index = list('ABCDE'),dtype = complex)\n",
    "s"
   ]
  },
  {
   "cell_type": "code",
   "execution_count": 59,
   "id": "65ffe6e0",
   "metadata": {},
   "outputs": [
    {
     "data": {
      "text/plain": [
       "0     701\n",
       "1      79\n",
       "2     845\n",
       "3     572\n",
       "4     484\n",
       "5     715\n",
       "6     578\n",
       "7     692\n",
       "8     953\n",
       "9     245\n",
       "10    610\n",
       "11    298\n",
       "12    657\n",
       "13    364\n",
       "14    408\n",
       "15    976\n",
       "16    378\n",
       "17     13\n",
       "18    140\n",
       "19    445\n",
       "dtype: int32"
      ]
     },
     "execution_count": 59,
     "metadata": {},
     "output_type": "execute_result"
    }
   ],
   "source": [
    "a = np.random.randint(1,1000,20)\n",
    "\n",
    "s = pd.Series(a)\n",
    "s"
   ]
  },
  {
   "cell_type": "code",
   "execution_count": 60,
   "id": "ac9ae130",
   "metadata": {},
   "outputs": [
    {
     "data": {
      "text/plain": [
       "976"
      ]
     },
     "execution_count": 60,
     "metadata": {},
     "output_type": "execute_result"
    }
   ],
   "source": [
    "max(s)"
   ]
  },
  {
   "cell_type": "code",
   "execution_count": 61,
   "id": "d3220274",
   "metadata": {},
   "outputs": [
    {
     "data": {
      "text/plain": [
       "976"
      ]
     },
     "execution_count": 61,
     "metadata": {},
     "output_type": "execute_result"
    }
   ],
   "source": [
    "s.max()"
   ]
  },
  {
   "cell_type": "code",
   "execution_count": 62,
   "id": "dec69d5d",
   "metadata": {},
   "outputs": [
    {
     "data": {
      "text/plain": [
       "13"
      ]
     },
     "execution_count": 62,
     "metadata": {},
     "output_type": "execute_result"
    }
   ],
   "source": [
    "s.min()"
   ]
  },
  {
   "cell_type": "code",
   "execution_count": 63,
   "id": "05f30f5a",
   "metadata": {},
   "outputs": [
    {
     "data": {
      "text/plain": [
       "528.0"
      ]
     },
     "execution_count": 63,
     "metadata": {},
     "output_type": "execute_result"
    }
   ],
   "source": [
    "s.median()"
   ]
  },
  {
   "cell_type": "code",
   "execution_count": 64,
   "id": "75f7eafc",
   "metadata": {},
   "outputs": [
    {
     "data": {
      "text/plain": [
       "0      13\n",
       "1      79\n",
       "2     140\n",
       "3     245\n",
       "4     298\n",
       "5     364\n",
       "6     378\n",
       "7     408\n",
       "8     445\n",
       "9     484\n",
       "10    572\n",
       "11    578\n",
       "12    610\n",
       "13    657\n",
       "14    692\n",
       "15    701\n",
       "16    715\n",
       "17    845\n",
       "18    953\n",
       "19    976\n",
       "dtype: int32"
      ]
     },
     "execution_count": 64,
     "metadata": {},
     "output_type": "execute_result"
    }
   ],
   "source": [
    "s.mode()"
   ]
  },
  {
   "cell_type": "code",
   "execution_count": 65,
   "id": "e0489283",
   "metadata": {},
   "outputs": [
    {
     "data": {
      "text/plain": [
       "74532.13421052632"
      ]
     },
     "execution_count": 65,
     "metadata": {},
     "output_type": "execute_result"
    }
   ],
   "source": [
    "s.var()"
   ]
  },
  {
   "cell_type": "code",
   "execution_count": 66,
   "id": "f8cf1be0",
   "metadata": {},
   "outputs": [
    {
     "data": {
      "text/plain": [
       "273.0057402519704"
      ]
     },
     "execution_count": 66,
     "metadata": {},
     "output_type": "execute_result"
    }
   ],
   "source": [
    "s.std()"
   ]
  },
  {
   "cell_type": "code",
   "execution_count": 67,
   "id": "c79794fc",
   "metadata": {},
   "outputs": [
    {
     "data": {
      "text/plain": [
       "0     701\n",
       "1      79\n",
       "2     845\n",
       "3     572\n",
       "4     484\n",
       "5     715\n",
       "6     578\n",
       "7     692\n",
       "8     953\n",
       "9     245\n",
       "10    610\n",
       "11    298\n",
       "12    657\n",
       "13    364\n",
       "14    408\n",
       "15    976\n",
       "16    378\n",
       "17     13\n",
       "18    140\n",
       "19    445\n",
       "dtype: int32"
      ]
     },
     "execution_count": 67,
     "metadata": {},
     "output_type": "execute_result"
    }
   ],
   "source": [
    "s"
   ]
  },
  {
   "cell_type": "code",
   "execution_count": 68,
   "id": "7f904996",
   "metadata": {},
   "outputs": [
    {
     "data": {
      "text/plain": [
       "0    701\n",
       "1     79\n",
       "2    845\n",
       "3    572\n",
       "4    484\n",
       "dtype: int32"
      ]
     },
     "execution_count": 68,
     "metadata": {},
     "output_type": "execute_result"
    }
   ],
   "source": [
    "s.head()"
   ]
  },
  {
   "cell_type": "code",
   "execution_count": 69,
   "id": "dd506d3c",
   "metadata": {},
   "outputs": [
    {
     "data": {
      "text/plain": [
       "0    701\n",
       "1     79\n",
       "dtype: int32"
      ]
     },
     "execution_count": 69,
     "metadata": {},
     "output_type": "execute_result"
    }
   ],
   "source": [
    "s.head(2)"
   ]
  },
  {
   "cell_type": "code",
   "execution_count": 70,
   "id": "decc73a2",
   "metadata": {},
   "outputs": [
    {
     "data": {
      "text/plain": [
       "0    701\n",
       "dtype: int32"
      ]
     },
     "execution_count": 70,
     "metadata": {},
     "output_type": "execute_result"
    }
   ],
   "source": [
    "s.head(1)"
   ]
  },
  {
   "cell_type": "code",
   "execution_count": 71,
   "id": "e9e85803",
   "metadata": {},
   "outputs": [
    {
     "data": {
      "text/plain": [
       "15    976\n",
       "16    378\n",
       "17     13\n",
       "18    140\n",
       "19    445\n",
       "dtype: int32"
      ]
     },
     "execution_count": 71,
     "metadata": {},
     "output_type": "execute_result"
    }
   ],
   "source": [
    "s.tail()"
   ]
  },
  {
   "cell_type": "code",
   "execution_count": 72,
   "id": "3141b51d",
   "metadata": {},
   "outputs": [
    {
     "data": {
      "text/plain": [
       "18    140\n",
       "19    445\n",
       "dtype: int32"
      ]
     },
     "execution_count": 72,
     "metadata": {},
     "output_type": "execute_result"
    }
   ],
   "source": [
    "s.tail(2)"
   ]
  },
  {
   "cell_type": "code",
   "execution_count": 73,
   "id": "1d58e24b",
   "metadata": {},
   "outputs": [
    {
     "data": {
      "text/plain": [
       "dtype('int32')"
      ]
     },
     "execution_count": 73,
     "metadata": {},
     "output_type": "execute_result"
    }
   ],
   "source": [
    "s.dtype"
   ]
  },
  {
   "cell_type": "code",
   "execution_count": 74,
   "id": "9bcb59f7",
   "metadata": {},
   "outputs": [
    {
     "data": {
      "text/plain": [
       "(20,)"
      ]
     },
     "execution_count": 74,
     "metadata": {},
     "output_type": "execute_result"
    }
   ],
   "source": [
    "s.shape"
   ]
  },
  {
   "cell_type": "code",
   "execution_count": 75,
   "id": "c884aaff",
   "metadata": {},
   "outputs": [
    {
     "data": {
      "text/plain": [
       "1"
      ]
     },
     "execution_count": 75,
     "metadata": {},
     "output_type": "execute_result"
    }
   ],
   "source": [
    "s.ndim"
   ]
  },
  {
   "cell_type": "code",
   "execution_count": 77,
   "id": "0ca9de32",
   "metadata": {},
   "outputs": [
    {
     "name": "stdout",
     "output_type": "stream",
     "text": [
      "['ArrowDtype', 'BooleanDtype', 'Categorical', 'CategoricalDtype', 'CategoricalIndex', 'DataFrame', 'DateOffset', 'DatetimeIndex', 'DatetimeTZDtype', 'ExcelFile', 'ExcelWriter', 'Flags', 'Float32Dtype', 'Float64Dtype', 'Grouper', 'HDFStore', 'Index', 'IndexSlice', 'Int16Dtype', 'Int32Dtype', 'Int64Dtype', 'Int8Dtype', 'Interval', 'IntervalDtype', 'IntervalIndex', 'MultiIndex', 'NA', 'NaT', 'NamedAgg', 'Period', 'PeriodDtype', 'PeriodIndex', 'RangeIndex', 'Series', 'SparseDtype', 'StringDtype', 'Timedelta', 'TimedeltaIndex', 'Timestamp', 'UInt16Dtype', 'UInt32Dtype', 'UInt64Dtype', 'UInt8Dtype', '__all__', '__builtins__', '__cached__', '__doc__', '__docformat__', '__file__', '__git_version__', '__loader__', '__name__', '__package__', '__path__', '__spec__', '__version__', '_built_with_meson', '_config', '_is_numpy_dev', '_libs', '_pandas_datetime_CAPI', '_pandas_parser_CAPI', '_testing', '_typing', '_version_meson', 'annotations', 'api', 'array', 'arrays', 'bdate_range', 'compat', 'concat', 'core', 'crosstab', 'cut', 'date_range', 'describe_option', 'errors', 'eval', 'factorize', 'from_dummies', 'get_dummies', 'get_option', 'infer_freq', 'interval_range', 'io', 'isna', 'isnull', 'json_normalize', 'lreshape', 'melt', 'merge', 'merge_asof', 'merge_ordered', 'notna', 'notnull', 'offsets', 'option_context', 'options', 'pandas', 'period_range', 'pivot', 'pivot_table', 'plotting', 'qcut', 'read_clipboard', 'read_csv', 'read_excel', 'read_feather', 'read_fwf', 'read_gbq', 'read_hdf', 'read_html', 'read_json', 'read_orc', 'read_parquet', 'read_pickle', 'read_sas', 'read_spss', 'read_sql', 'read_sql_query', 'read_sql_table', 'read_stata', 'read_table', 'read_xml', 'reset_option', 'set_eng_float_format', 'set_option', 'show_versions', 'test', 'testing', 'timedelta_range', 'to_datetime', 'to_numeric', 'to_pickle', 'to_timedelta', 'tseries', 'unique', 'util', 'value_counts', 'wide_to_long']\n"
     ]
    }
   ],
   "source": [
    "print(dir(pd))"
   ]
  },
  {
   "cell_type": "code",
   "execution_count": 76,
   "id": "124cbfe8",
   "metadata": {},
   "outputs": [
    {
     "name": "stdout",
     "output_type": "stream",
     "text": [
      "['T', '_AXIS_LEN', '_AXIS_ORDERS', '_AXIS_TO_AXIS_NUMBER', '_HANDLED_TYPES', '__abs__', '__add__', '__and__', '__annotations__', '__array__', '__array_priority__', '__array_ufunc__', '__bool__', '__class__', '__column_consortium_standard__', '__contains__', '__copy__', '__deepcopy__', '__delattr__', '__delitem__', '__dict__', '__dir__', '__divmod__', '__doc__', '__eq__', '__finalize__', '__float__', '__floordiv__', '__format__', '__ge__', '__getattr__', '__getattribute__', '__getitem__', '__getstate__', '__gt__', '__hash__', '__iadd__', '__iand__', '__ifloordiv__', '__imod__', '__imul__', '__init__', '__init_subclass__', '__int__', '__invert__', '__ior__', '__ipow__', '__isub__', '__iter__', '__itruediv__', '__ixor__', '__le__', '__len__', '__lt__', '__matmul__', '__mod__', '__module__', '__mul__', '__ne__', '__neg__', '__new__', '__nonzero__', '__or__', '__pandas_priority__', '__pos__', '__pow__', '__radd__', '__rand__', '__rdivmod__', '__reduce__', '__reduce_ex__', '__repr__', '__rfloordiv__', '__rmatmul__', '__rmod__', '__rmul__', '__ror__', '__round__', '__rpow__', '__rsub__', '__rtruediv__', '__rxor__', '__setattr__', '__setitem__', '__setstate__', '__sizeof__', '__str__', '__sub__', '__subclasshook__', '__truediv__', '__weakref__', '__xor__', '_accessors', '_accum_func', '_agg_examples_doc', '_agg_see_also_doc', '_align_for_op', '_align_frame', '_align_series', '_append', '_arith_method', '_as_manager', '_attrs', '_binop', '_can_hold_na', '_check_inplace_and_allows_duplicate_labels', '_check_is_chained_assignment_possible', '_check_label_or_level_ambiguity', '_check_setitem_copy', '_clear_item_cache', '_clip_with_one_bound', '_clip_with_scalar', '_cmp_method', '_consolidate', '_consolidate_inplace', '_construct_axes_dict', '_construct_result', '_constructor', '_constructor_expanddim', '_constructor_expanddim_from_mgr', '_constructor_from_mgr', '_data', '_deprecate_downcast', '_dir_additions', '_dir_deletions', '_drop_axis', '_drop_labels_or_levels', '_duplicated', '_find_valid_index', '_flags', '_flex_method', '_from_mgr', '_get_axis', '_get_axis_name', '_get_axis_number', '_get_axis_resolvers', '_get_block_manager_axis', '_get_bool_data', '_get_cacher', '_get_cleaned_column_resolvers', '_get_index_resolvers', '_get_label_or_level_values', '_get_numeric_data', '_get_rows_with_mask', '_get_value', '_get_values_tuple', '_get_with', '_getitem_slice', '_gotitem', '_hidden_attrs', '_indexed_same', '_info_axis', '_info_axis_name', '_info_axis_number', '_init_dict', '_init_mgr', '_inplace_method', '_internal_names', '_internal_names_set', '_is_cached', '_is_copy', '_is_label_or_level_reference', '_is_label_reference', '_is_level_reference', '_is_mixed_type', '_is_view', '_is_view_after_cow_rules', '_item_cache', '_ixs', '_logical_func', '_logical_method', '_map_values', '_maybe_update_cacher', '_memory_usage', '_metadata', '_mgr', '_min_count_stat_function', '_name', '_needs_reindex_multi', '_pad_or_backfill', '_protect_consolidate', '_reduce', '_references', '_reindex_axes', '_reindex_indexer', '_reindex_multi', '_reindex_with_indexers', '_rename', '_replace_single', '_repr_data_resource_', '_repr_latex_', '_reset_cache', '_reset_cacher', '_set_as_cached', '_set_axis', '_set_axis_name', '_set_axis_nocheck', '_set_is_copy', '_set_labels', '_set_name', '_set_value', '_set_values', '_set_with', '_set_with_engine', '_shift_with_freq', '_slice', '_stat_function', '_stat_function_ddof', '_take_with_is_copy', '_to_latex_via_styler', '_typ', '_update_inplace', '_validate_dtype', '_values', '_where', 'abs', 'add', 'add_prefix', 'add_suffix', 'agg', 'aggregate', 'align', 'all', 'any', 'apply', 'argmax', 'argmin', 'argsort', 'array', 'asfreq', 'asof', 'astype', 'at', 'at_time', 'attrs', 'autocorr', 'axes', 'backfill', 'between', 'between_time', 'bfill', 'bool', 'case_when', 'clip', 'combine', 'combine_first', 'compare', 'convert_dtypes', 'copy', 'corr', 'count', 'cov', 'cummax', 'cummin', 'cumprod', 'cumsum', 'describe', 'diff', 'div', 'divide', 'divmod', 'dot', 'drop', 'drop_duplicates', 'droplevel', 'dropna', 'dtype', 'dtypes', 'duplicated', 'empty', 'eq', 'equals', 'ewm', 'expanding', 'explode', 'factorize', 'ffill', 'fillna', 'filter', 'first', 'first_valid_index', 'flags', 'floordiv', 'ge', 'get', 'groupby', 'gt', 'hasnans', 'head', 'hist', 'iat', 'idxmax', 'idxmin', 'iloc', 'index', 'infer_objects', 'info', 'interpolate', 'is_monotonic_decreasing', 'is_monotonic_increasing', 'is_unique', 'isin', 'isna', 'isnull', 'item', 'items', 'keys', 'kurt', 'kurtosis', 'last', 'last_valid_index', 'le', 'list', 'loc', 'lt', 'map', 'mask', 'max', 'mean', 'median', 'memory_usage', 'min', 'mod', 'mode', 'mul', 'multiply', 'name', 'nbytes', 'ndim', 'ne', 'nlargest', 'notna', 'notnull', 'nsmallest', 'nunique', 'pad', 'pct_change', 'pipe', 'plot', 'pop', 'pow', 'prod', 'product', 'quantile', 'radd', 'rank', 'ravel', 'rdiv', 'rdivmod', 'reindex', 'reindex_like', 'rename', 'rename_axis', 'reorder_levels', 'repeat', 'replace', 'resample', 'reset_index', 'rfloordiv', 'rmod', 'rmul', 'rolling', 'round', 'rpow', 'rsub', 'rtruediv', 'sample', 'searchsorted', 'sem', 'set_axis', 'set_flags', 'shape', 'shift', 'size', 'skew', 'sort_index', 'sort_values', 'squeeze', 'std', 'struct', 'sub', 'subtract', 'sum', 'swapaxes', 'swaplevel', 'tail', 'take', 'to_clipboard', 'to_csv', 'to_dict', 'to_excel', 'to_frame', 'to_hdf', 'to_json', 'to_latex', 'to_list', 'to_markdown', 'to_numpy', 'to_period', 'to_pickle', 'to_sql', 'to_string', 'to_timestamp', 'to_xarray', 'transform', 'transpose', 'truediv', 'truncate', 'tz_convert', 'tz_localize', 'unique', 'unstack', 'update', 'value_counts', 'values', 'var', 'view', 'where', 'xs']\n"
     ]
    }
   ],
   "source": [
    "print(dir(s))"
   ]
  },
  {
   "cell_type": "code",
   "execution_count": null,
   "id": "8a6eada9",
   "metadata": {},
   "outputs": [],
   "source": []
  },
  {
   "cell_type": "code",
   "execution_count": 78,
   "id": "8407ce1c",
   "metadata": {},
   "outputs": [
    {
     "data": {
      "text/plain": [
       "0     False\n",
       "1     False\n",
       "2     False\n",
       "3     False\n",
       "4     False\n",
       "5     False\n",
       "6     False\n",
       "7     False\n",
       "8     False\n",
       "9     False\n",
       "10    False\n",
       "11    False\n",
       "12    False\n",
       "13    False\n",
       "14    False\n",
       "15    False\n",
       "16    False\n",
       "17    False\n",
       "18    False\n",
       "19    False\n",
       "dtype: bool"
      ]
     },
     "execution_count": 78,
     "metadata": {},
     "output_type": "execute_result"
    }
   ],
   "source": [
    "s.isna()"
   ]
  },
  {
   "cell_type": "code",
   "execution_count": 80,
   "id": "0549dd97",
   "metadata": {},
   "outputs": [
    {
     "data": {
      "text/plain": [
       "A     1.0\n",
       "B    14.0\n",
       "C     0.0\n",
       "D   -12.0\n",
       "E     NaN\n",
       "dtype: float64"
      ]
     },
     "execution_count": 80,
     "metadata": {},
     "output_type": "execute_result"
    }
   ],
   "source": [
    "a = [1,14,0,-12,None]\n",
    "\n",
    "s_nan = pd.Series(a,index = list('ABCDE'))\n",
    "s_nan"
   ]
  },
  {
   "cell_type": "code",
   "execution_count": 81,
   "id": "21e66104",
   "metadata": {},
   "outputs": [
    {
     "data": {
      "text/plain": [
       "A    False\n",
       "B    False\n",
       "C    False\n",
       "D    False\n",
       "E     True\n",
       "dtype: bool"
      ]
     },
     "execution_count": 81,
     "metadata": {},
     "output_type": "execute_result"
    }
   ],
   "source": [
    "s_nan.isna()"
   ]
  },
  {
   "cell_type": "code",
   "execution_count": 82,
   "id": "34b30006",
   "metadata": {},
   "outputs": [
    {
     "data": {
      "text/plain": [
       "E   NaN\n",
       "dtype: float64"
      ]
     },
     "execution_count": 82,
     "metadata": {},
     "output_type": "execute_result"
    }
   ],
   "source": [
    "s_nan[s_nan.isna()]"
   ]
  },
  {
   "cell_type": "code",
   "execution_count": 85,
   "id": "4d210eba",
   "metadata": {},
   "outputs": [
    {
     "data": {
      "text/plain": [
       "12    657\n",
       "14    408\n",
       "16    378\n",
       "dtype: int32"
      ]
     },
     "execution_count": 85,
     "metadata": {},
     "output_type": "execute_result"
    }
   ],
   "source": [
    "s[s % 3 == 0]"
   ]
  },
  {
   "cell_type": "code",
   "execution_count": 86,
   "id": "10acd04d",
   "metadata": {},
   "outputs": [
    {
     "data": {
      "text/plain": [
       "13"
      ]
     },
     "execution_count": 86,
     "metadata": {},
     "output_type": "execute_result"
    }
   ],
   "source": [
    "s.agg('min')"
   ]
  },
  {
   "cell_type": "code",
   "execution_count": 88,
   "id": "eb5c0e81",
   "metadata": {},
   "outputs": [
    {
     "data": {
      "text/plain": [
       "13"
      ]
     },
     "execution_count": 88,
     "metadata": {},
     "output_type": "execute_result"
    }
   ],
   "source": [
    "s.min()"
   ]
  },
  {
   "cell_type": "code",
   "execution_count": 89,
   "id": "3747d208",
   "metadata": {},
   "outputs": [
    {
     "data": {
      "text/plain": [
       "976"
      ]
     },
     "execution_count": 89,
     "metadata": {},
     "output_type": "execute_result"
    }
   ],
   "source": [
    "s.max()"
   ]
  },
  {
   "cell_type": "code",
   "execution_count": 90,
   "id": "532390e6",
   "metadata": {},
   "outputs": [
    {
     "data": {
      "text/plain": [
       "min         13.000000\n",
       "max        976.000000\n",
       "count       20.000000\n",
       "std        273.005740\n",
       "var      74532.134211\n",
       "dtype: float64"
      ]
     },
     "execution_count": 90,
     "metadata": {},
     "output_type": "execute_result"
    }
   ],
   "source": [
    "s.agg(['min','max','count','std','var'])"
   ]
  },
  {
   "cell_type": "code",
   "execution_count": 91,
   "id": "74aae872",
   "metadata": {},
   "outputs": [
    {
     "data": {
      "text/plain": [
       "count     20.00000\n",
       "mean     507.65000\n",
       "std      273.00574\n",
       "min       13.00000\n",
       "25%      347.50000\n",
       "50%      528.00000\n",
       "75%      694.25000\n",
       "max      976.00000\n",
       "dtype: float64"
      ]
     },
     "execution_count": 91,
     "metadata": {},
     "output_type": "execute_result"
    }
   ],
   "source": [
    "s.describe()"
   ]
  },
  {
   "cell_type": "code",
   "execution_count": 94,
   "id": "a0bb3e1b",
   "metadata": {},
   "outputs": [
    {
     "data": {
      "text/plain": [
       "1      79\n",
       "9     245\n",
       "11    298\n",
       "17     13\n",
       "18    140\n",
       "dtype: int32"
      ]
     },
     "execution_count": 94,
     "metadata": {},
     "output_type": "execute_result"
    }
   ],
   "source": [
    "s[s<347.5]"
   ]
  },
  {
   "cell_type": "code",
   "execution_count": 98,
   "id": "0d58394e",
   "metadata": {},
   "outputs": [
    {
     "data": {
      "text/plain": [
       "<Axes: >"
      ]
     },
     "execution_count": 98,
     "metadata": {},
     "output_type": "execute_result"
    },
    {
     "data": {
      "image/png": "[encoded data removed]",
      "text/plain": [
       "<Figure size 640x480 with 1 Axes>"
      ]
     },
     "metadata": {},
     "output_type": "display_data"
    }
   ],
   "source": [
    "s.plot(color = 'r',marker = 'o')"
   ]
  },
  {
   "cell_type": "code",
   "execution_count": 99,
   "id": "8e1ba74f",
   "metadata": {},
   "outputs": [
    {
     "data": {
      "text/plain": [
       "{'key1': True, 'Key2': False, 'Key3': nan}"
      ]
     },
     "execution_count": 99,
     "metadata": {},
     "output_type": "execute_result"
    }
   ],
   "source": [
    "data"
   ]
  },
  {
   "cell_type": "code",
   "execution_count": 104,
   "id": "a07dde48",
   "metadata": {},
   "outputs": [
    {
     "name": "stdout",
     "output_type": "stream",
     "text": [
      "443\n"
     ]
    }
   ],
   "source": [
    "print(len(dir(pd.DataFrame(data,index = [0]))))"
   ]
  },
  {
   "cell_type": "code",
   "execution_count": 105,
   "id": "561e0ee9",
   "metadata": {},
   "outputs": [
    {
     "name": "stdout",
     "output_type": "stream",
     "text": [
      "419\n"
     ]
    }
   ],
   "source": [
    "print(len(dir(s)))"
   ]
  },
  {
   "cell_type": "code",
   "execution_count": 108,
   "id": "fd7a4b47",
   "metadata": {},
   "outputs": [
    {
     "data": {
      "text/plain": [
       "12        1\n",
       "3546    243\n",
       "4         4\n",
       "253     125\n",
       "4         6\n",
       "dtype: int64"
      ]
     },
     "execution_count": 108,
     "metadata": {},
     "output_type": "execute_result"
    }
   ],
   "source": [
    "a = [1,243,4,125,6]\n",
    "b = [12,3546,4,253,4]\n",
    "\n",
    "pd.Series(a,b)"
   ]
  },
  {
   "cell_type": "code",
   "execution_count": 110,
   "id": "782b9aef",
   "metadata": {},
   "outputs": [],
   "source": [
    "a = [[1,243,4,125,6],[12,3546,4,253,4]]\n",
    "\n",
    "d = pd.Series(a)"
   ]
  },
  {
   "cell_type": "code",
   "execution_count": 111,
   "id": "1b014244",
   "metadata": {},
   "outputs": [
    {
     "data": {
      "text/plain": [
       "1"
      ]
     },
     "execution_count": 111,
     "metadata": {},
     "output_type": "execute_result"
    }
   ],
   "source": [
    "d.ndim"
   ]
  },
  {
   "cell_type": "code",
   "execution_count": 112,
   "id": "49286ea5",
   "metadata": {},
   "outputs": [
    {
     "data": {
      "text/plain": [
       "(2,)"
      ]
     },
     "execution_count": 112,
     "metadata": {},
     "output_type": "execute_result"
    }
   ],
   "source": [
    "d.shape"
   ]
  },
  {
   "cell_type": "code",
   "execution_count": 113,
   "id": "e4d38785",
   "metadata": {},
   "outputs": [
    {
     "data": {
      "text/plain": [
       "0      [1, 243, 4, 125, 6]\n",
       "1    [12, 3546, 4, 253, 4]\n",
       "dtype: object"
      ]
     },
     "execution_count": 113,
     "metadata": {},
     "output_type": "execute_result"
    }
   ],
   "source": [
    "d"
   ]
  },
  {
   "cell_type": "code",
   "execution_count": 115,
   "id": "95b9e74a",
   "metadata": {},
   "outputs": [
    {
     "data": {
      "text/plain": [
       "0     1402\n",
       "1      158\n",
       "2     1690\n",
       "3     1144\n",
       "4      968\n",
       "5     1430\n",
       "6     1156\n",
       "7     1384\n",
       "8     1906\n",
       "9      490\n",
       "10    1220\n",
       "11     596\n",
       "12    1314\n",
       "13     728\n",
       "14     816\n",
       "15    1952\n",
       "16     756\n",
       "17      26\n",
       "18     280\n",
       "19     890\n",
       "dtype: int32"
      ]
     },
     "execution_count": 115,
     "metadata": {},
     "output_type": "execute_result"
    }
   ],
   "source": [
    "s + s"
   ]
  },
  {
   "cell_type": "code",
   "execution_count": 116,
   "id": "948a01f1",
   "metadata": {},
   "outputs": [
    {
     "data": {
      "text/plain": [
       "0     1402\n",
       "1      158\n",
       "2     1690\n",
       "3     1144\n",
       "4      968\n",
       "5     1430\n",
       "6     1156\n",
       "7     1384\n",
       "8     1906\n",
       "9      490\n",
       "10    1220\n",
       "11     596\n",
       "12    1314\n",
       "13     728\n",
       "14     816\n",
       "15    1952\n",
       "16     756\n",
       "17      26\n",
       "18     280\n",
       "19     890\n",
       "dtype: int32"
      ]
     },
     "execution_count": 116,
     "metadata": {},
     "output_type": "execute_result"
    }
   ],
   "source": [
    "s * 2"
   ]
  },
  {
   "cell_type": "code",
   "execution_count": 117,
   "id": "26183ce2",
   "metadata": {},
   "outputs": [
    {
     "data": {
      "text/plain": [
       "0     701\n",
       "1      79\n",
       "2     845\n",
       "3     572\n",
       "4     484\n",
       "5     715\n",
       "6     578\n",
       "7     692\n",
       "8     953\n",
       "9     245\n",
       "10    610\n",
       "11    298\n",
       "12    657\n",
       "13    364\n",
       "14    408\n",
       "15    976\n",
       "16    378\n",
       "17     13\n",
       "18    140\n",
       "19    445\n",
       "dtype: int32"
      ]
     },
     "execution_count": 117,
     "metadata": {},
     "output_type": "execute_result"
    }
   ],
   "source": [
    "s"
   ]
  },
  {
   "cell_type": "code",
   "execution_count": 120,
   "id": "3139639d",
   "metadata": {},
   "outputs": [
    {
     "data": {
      "text/plain": [
       "0     701.0\n",
       "1      79.0\n",
       "2     845.0\n",
       "3     572.0\n",
       "4     484.0\n",
       "5     715.0\n",
       "6     578.0\n",
       "7     692.0\n",
       "8     953.0\n",
       "9     245.0\n",
       "10    610.0\n",
       "11    298.0\n",
       "12    657.0\n",
       "13    364.0\n",
       "14    408.0\n",
       "15    976.0\n",
       "16    378.0\n",
       "17     13.0\n",
       "18    140.0\n",
       "19    445.0\n",
       "dtype: float64"
      ]
     },
     "execution_count": 120,
     "metadata": {},
     "output_type": "execute_result"
    }
   ],
   "source": [
    "s.astype(np.float64,copy=True)"
   ]
  },
  {
   "cell_type": "code",
   "execution_count": 122,
   "id": "11f6015d",
   "metadata": {},
   "outputs": [],
   "source": [
    "s = s.astype(np.float64)"
   ]
  },
  {
   "cell_type": "code",
   "execution_count": 123,
   "id": "4766f3de",
   "metadata": {},
   "outputs": [
    {
     "data": {
      "text/plain": [
       "0     701.0\n",
       "1      79.0\n",
       "2     845.0\n",
       "3     572.0\n",
       "4     484.0\n",
       "5     715.0\n",
       "6     578.0\n",
       "7     692.0\n",
       "8     953.0\n",
       "9     245.0\n",
       "10    610.0\n",
       "11    298.0\n",
       "12    657.0\n",
       "13    364.0\n",
       "14    408.0\n",
       "15    976.0\n",
       "16    378.0\n",
       "17     13.0\n",
       "18    140.0\n",
       "19    445.0\n",
       "dtype: float64"
      ]
     },
     "execution_count": 123,
     "metadata": {},
     "output_type": "execute_result"
    }
   ],
   "source": [
    "s"
   ]
  },
  {
   "cell_type": "code",
   "execution_count": 137,
   "id": "1466a7e0",
   "metadata": {},
   "outputs": [
    {
     "data": {
      "text/plain": [
       "976.0"
      ]
     },
     "execution_count": 137,
     "metadata": {},
     "output_type": "execute_result"
    }
   ],
   "source": [
    "list(s.cummax().tail(1))[0]"
   ]
  },
  {
   "cell_type": "code",
   "execution_count": 138,
   "id": "75a65bb7",
   "metadata": {},
   "outputs": [
    {
     "data": {
      "text/plain": [
       "0     701.0\n",
       "1      79.0\n",
       "2      79.0\n",
       "3      79.0\n",
       "4      79.0\n",
       "5      79.0\n",
       "6      79.0\n",
       "7      79.0\n",
       "8      79.0\n",
       "9      79.0\n",
       "10     79.0\n",
       "11     79.0\n",
       "12     79.0\n",
       "13     79.0\n",
       "14     79.0\n",
       "15     79.0\n",
       "16     79.0\n",
       "17     13.0\n",
       "18     13.0\n",
       "19     13.0\n",
       "dtype: float64"
      ]
     },
     "execution_count": 138,
     "metadata": {},
     "output_type": "execute_result"
    }
   ],
   "source": [
    "s.cummin()"
   ]
  },
  {
   "cell_type": "code",
   "execution_count": 139,
   "id": "b997712f",
   "metadata": {},
   "outputs": [
    {
     "data": {
      "text/plain": [
       "0     7.010000e+02\n",
       "1     5.537900e+04\n",
       "2     4.679526e+07\n",
       "3     2.676689e+10\n",
       "4     1.295517e+13\n",
       "5     9.262949e+15\n",
       "6     5.353984e+18\n",
       "7     3.704957e+21\n",
       "8     3.530824e+24\n",
       "9     8.650519e+26\n",
       "10    5.276817e+29\n",
       "11    1.572491e+32\n",
       "12    1.033127e+35\n",
       "13    3.760582e+37\n",
       "14    1.534317e+40\n",
       "15    1.497494e+43\n",
       "16    5.660526e+45\n",
       "17    7.358684e+46\n",
       "18    1.030216e+49\n",
       "19    4.584460e+51\n",
       "dtype: float64"
      ]
     },
     "execution_count": 139,
     "metadata": {},
     "output_type": "execute_result"
    }
   ],
   "source": [
    "s.cumprod()"
   ]
  },
  {
   "cell_type": "code",
   "execution_count": 141,
   "id": "5cee2fe5",
   "metadata": {},
   "outputs": [
    {
     "data": {
      "text/plain": [
       "'45000000000000000000000000000000000000000000000000000'"
      ]
     },
     "execution_count": 141,
     "metadata": {},
     "output_type": "execute_result"
    }
   ],
   "source": [
    "'45'+'0'*51"
   ]
  },
  {
   "cell_type": "code",
   "execution_count": 143,
   "id": "e9f6e942",
   "metadata": {},
   "outputs": [
    {
     "data": {
      "text/plain": [
       "4.5844601306202274e+51"
      ]
     },
     "execution_count": 143,
     "metadata": {},
     "output_type": "execute_result"
    }
   ],
   "source": [
    "np.array(s.cumprod())[-1]"
   ]
  },
  {
   "cell_type": "code",
   "execution_count": 144,
   "id": "f8bdbef8",
   "metadata": {},
   "outputs": [
    {
     "data": {
      "text/plain": [
       "4.5844601306202274e+51"
      ]
     },
     "execution_count": 144,
     "metadata": {},
     "output_type": "execute_result"
    }
   ],
   "source": [
    "float(np.array(s.cumprod())[-1])"
   ]
  },
  {
   "cell_type": "code",
   "execution_count": 154,
   "id": "87c95e87",
   "metadata": {},
   "outputs": [
    {
     "data": {
      "text/plain": [
       "0    240\n",
       "1    358\n",
       "2    -92\n",
       "3    242\n",
       "4   -116\n",
       "dtype: int32"
      ]
     },
     "execution_count": 154,
     "metadata": {},
     "output_type": "execute_result"
    }
   ],
   "source": [
    "d = np.random.randint(-1000,1000,40)\n",
    "s = pd.Series(d)\n",
    "s.head()"
   ]
  },
  {
   "cell_type": "code",
   "execution_count": 155,
   "id": "213b45e2",
   "metadata": {},
   "outputs": [
    {
     "data": {
      "text/plain": [
       "0      240\n",
       "1      598\n",
       "2      506\n",
       "3      748\n",
       "4      632\n",
       "5      916\n",
       "6     1373\n",
       "7     1188\n",
       "8     1118\n",
       "9     1156\n",
       "10     507\n",
       "11     164\n",
       "12    -115\n",
       "13    -875\n",
       "14   -1418\n",
       "15    -539\n",
       "16    -814\n",
       "17    -327\n",
       "18     659\n",
       "19    -200\n",
       "20       0\n",
       "21    -645\n",
       "22   -1602\n",
       "23   -2375\n",
       "24   -1976\n",
       "25   -1070\n",
       "26   -1608\n",
       "27   -1854\n",
       "28   -1870\n",
       "29   -1733\n",
       "30   -1755\n",
       "31   -2552\n",
       "32   -1913\n",
       "33   -1065\n",
       "34   -1991\n",
       "35   -1098\n",
       "36   -1927\n",
       "37   -1137\n",
       "38   -1849\n",
       "39   -2260\n",
       "dtype: int32"
      ]
     },
     "execution_count": 155,
     "metadata": {},
     "output_type": "execute_result"
    }
   ],
   "source": [
    "s.cumsum()"
   ]
  },
  {
   "cell_type": "code",
   "execution_count": 158,
   "id": "b02901c8",
   "metadata": {},
   "outputs": [
    {
     "data": {
      "text/plain": [
       "<Axes: >"
      ]
     },
     "execution_count": 158,
     "metadata": {},
     "output_type": "execute_result"
    },
    {
     "data": {
      "image/png": "[encoded data removed]",
      "text/plain": [
       "<Figure size 640x480 with 1 Axes>"
      ]
     },
     "metadata": {},
     "output_type": "display_data"
    }
   ],
   "source": [
    "s.plot()\n",
    "s.cumsum().plot()"
   ]
  },
  {
   "cell_type": "code",
   "execution_count": 163,
   "id": "d84e5850",
   "metadata": {},
   "outputs": [],
   "source": [
    "value = s.items()"
   ]
  },
  {
   "cell_type": "code",
   "execution_count": 168,
   "id": "8b5f53b7",
   "metadata": {},
   "outputs": [
    {
     "data": {
      "text/plain": [
       "(4, -116)"
      ]
     },
     "execution_count": 168,
     "metadata": {},
     "output_type": "execute_result"
    }
   ],
   "source": [
    "next(value)"
   ]
  },
  {
   "cell_type": "code",
   "execution_count": 169,
   "id": "331e7e86",
   "metadata": {},
   "outputs": [],
   "source": [
    "# drop na\n",
    "# fill na"
   ]
  },
  {
   "cell_type": "code",
   "execution_count": 170,
   "id": "48520185",
   "metadata": {},
   "outputs": [
    {
     "data": {
      "text/plain": [
       "0    21.0\n",
       "1    43.0\n",
       "2     5.0\n",
       "3     NaN\n",
       "4    23.0\n",
       "5     5.0\n",
       "6     NaN\n",
       "dtype: float64"
      ]
     },
     "execution_count": 170,
     "metadata": {},
     "output_type": "execute_result"
    }
   ],
   "source": [
    "d = [21,43,5,np.nan,23,5,np.nan]\n",
    "\n",
    "s = pd.Series(d)\n",
    "s"
   ]
  },
  {
   "cell_type": "code",
   "execution_count": 171,
   "id": "35eb6f4a",
   "metadata": {},
   "outputs": [
    {
     "data": {
      "text/plain": [
       "0    21.0\n",
       "1    43.0\n",
       "2     5.0\n",
       "4    23.0\n",
       "5     5.0\n",
       "dtype: float64"
      ]
     },
     "execution_count": 171,
     "metadata": {},
     "output_type": "execute_result"
    }
   ],
   "source": [
    "s.dropna()"
   ]
  },
  {
   "cell_type": "code",
   "execution_count": 173,
   "id": "66338a5e",
   "metadata": {},
   "outputs": [
    {
     "data": {
      "text/plain": [
       "19.4"
      ]
     },
     "execution_count": 173,
     "metadata": {},
     "output_type": "execute_result"
    }
   ],
   "source": [
    "s.mean()"
   ]
  },
  {
   "cell_type": "code",
   "execution_count": 176,
   "id": "56028d38",
   "metadata": {},
   "outputs": [],
   "source": [
    "s.fillna(s.mean(),inplace=True)"
   ]
  },
  {
   "cell_type": "code",
   "execution_count": 177,
   "id": "cc3296ba",
   "metadata": {},
   "outputs": [
    {
     "data": {
      "text/plain": [
       "0    21.0\n",
       "1    43.0\n",
       "2     5.0\n",
       "3    19.4\n",
       "4    23.0\n",
       "5     5.0\n",
       "6    19.4\n",
       "dtype: float64"
      ]
     },
     "execution_count": 177,
     "metadata": {},
     "output_type": "execute_result"
    }
   ],
   "source": [
    "s"
   ]
  },
  {
   "cell_type": "code",
   "execution_count": 178,
   "id": "26672931",
   "metadata": {},
   "outputs": [
    {
     "data": {
      "text/plain": [
       "0    21.0\n",
       "1    43.0\n",
       "2     5.0\n",
       "3    19.4\n",
       "4    23.0\n",
       "5     5.0\n",
       "6    19.4\n",
       "dtype: float64"
      ]
     },
     "execution_count": 178,
     "metadata": {},
     "output_type": "execute_result"
    }
   ],
   "source": [
    "s"
   ]
  },
  {
   "cell_type": "code",
   "execution_count": 179,
   "id": "166bd719",
   "metadata": {},
   "outputs": [
    {
     "data": {
      "text/plain": [
       "0    21.0\n",
       "1    43.0\n",
       "2     5.0\n",
       "3     NaN\n",
       "4    23.0\n",
       "5     5.0\n",
       "6     NaN\n",
       "dtype: float64"
      ]
     },
     "execution_count": 179,
     "metadata": {},
     "output_type": "execute_result"
    }
   ],
   "source": [
    "d = [21,43,5,np.nan,23,5,np.nan]\n",
    "\n",
    "s = pd.Series(d)\n",
    "s"
   ]
  },
  {
   "cell_type": "code",
   "execution_count": 180,
   "id": "affa2bca",
   "metadata": {},
   "outputs": [
    {
     "data": {
      "text/plain": [
       "0    False\n",
       "1    False\n",
       "2    False\n",
       "3     True\n",
       "4    False\n",
       "5    False\n",
       "6     True\n",
       "dtype: bool"
      ]
     },
     "execution_count": 180,
     "metadata": {},
     "output_type": "execute_result"
    }
   ],
   "source": [
    "s.isnull()"
   ]
  },
  {
   "cell_type": "code",
   "execution_count": 181,
   "id": "2b485bc2",
   "metadata": {},
   "outputs": [
    {
     "data": {
      "text/plain": [
       "0    False\n",
       "1    False\n",
       "2    False\n",
       "3     True\n",
       "4    False\n",
       "5    False\n",
       "6     True\n",
       "dtype: bool"
      ]
     },
     "execution_count": 181,
     "metadata": {},
     "output_type": "execute_result"
    }
   ],
   "source": [
    "s.isna()"
   ]
  },
  {
   "cell_type": "code",
   "execution_count": 184,
   "id": "eecbb642",
   "metadata": {},
   "outputs": [
    {
     "data": {
      "text/plain": [
       "array([21., 43.,  5., nan, 23.])"
      ]
     },
     "execution_count": 184,
     "metadata": {},
     "output_type": "execute_result"
    }
   ],
   "source": [
    "s.unique()"
   ]
  },
  {
   "cell_type": "code",
   "execution_count": null,
   "id": "02f359f8",
   "metadata": {},
   "outputs": [],
   "source": []
  },
  {
   "cell_type": "code",
   "execution_count": 190,
   "id": "81d947fa",
   "metadata": {},
   "outputs": [
    {
     "data": {
      "text/plain": [
       "7"
      ]
     },
     "execution_count": 190,
     "metadata": {},
     "output_type": "execute_result"
    }
   ],
   "source": [
    "len(s)"
   ]
  },
  {
   "cell_type": "code",
   "execution_count": 192,
   "id": "15c0a205",
   "metadata": {},
   "outputs": [
    {
     "data": {
      "text/plain": [
       "5"
      ]
     },
     "execution_count": 192,
     "metadata": {},
     "output_type": "execute_result"
    }
   ],
   "source": [
    "s.count()"
   ]
  },
  {
   "cell_type": "code",
   "execution_count": 193,
   "id": "e5b6fc91",
   "metadata": {},
   "outputs": [
    {
     "data": {
      "text/plain": [
       "0    21.0\n",
       "1    43.0\n",
       "2     5.0\n",
       "3     NaN\n",
       "4    23.0\n",
       "5     5.0\n",
       "6     NaN\n",
       "dtype: float64"
      ]
     },
     "execution_count": 193,
     "metadata": {},
     "output_type": "execute_result"
    }
   ],
   "source": [
    "s"
   ]
  },
  {
   "cell_type": "code",
   "execution_count": 191,
   "id": "5ce8b45a",
   "metadata": {},
   "outputs": [
    {
     "data": {
      "text/plain": [
       "0.2857142857142857"
      ]
     },
     "execution_count": 191,
     "metadata": {},
     "output_type": "execute_result"
    }
   ],
   "source": [
    "2/7"
   ]
  },
  {
   "cell_type": "code",
   "execution_count": 197,
   "id": "4852d0d8",
   "metadata": {},
   "outputs": [],
   "source": [
    "missing_per = ((len(s) - s.count())/len(s))*100"
   ]
  },
  {
   "cell_type": "code",
   "execution_count": 198,
   "id": "9793f986",
   "metadata": {},
   "outputs": [
    {
     "name": "stdout",
     "output_type": "stream",
     "text": [
      "Missing data in % : 28.57142857142857\n"
     ]
    }
   ],
   "source": [
    "print(f'Missing data in % : {missing_per}')"
   ]
  },
  {
   "cell_type": "code",
   "execution_count": null,
   "id": "04e75595",
   "metadata": {},
   "outputs": [],
   "source": [
    "# sql server\n",
    "# postgre sql\n"
   ]
  }
 ],
 "metadata": {
  "kernelspec": {
   "display_name": "Python 3 (ipykernel)",
   "language": "python",
   "name": "python3"
  },
  "language_info": {
   "codemirror_mode": {
    "name": "ipython",
    "version": 3
   },
   "file_extension": ".py",
   "mimetype": "text/x-python",
   "name": "python",
   "nbconvert_exporter": "python",
   "pygments_lexer": "ipython3",
   "version": "3.11.3"
  }
 },
 "nbformat": 4,
 "nbformat_minor": 5
}
