{
 "cells": [
  {
   "cell_type": "code",
   "execution_count": 2,
   "id": "4fc6e848",
   "metadata": {},
   "outputs": [],
   "source": [
    "# PythonFunctions and Decorators\n",
    "# Lambda Functions, map, filter , reduce\n",
    "# File Handling\n",
    "# Oops\n",
    "# database connectivity python to mysql\n",
    "# How to create a DataFrame using python data Types\n",
    "# ml:- skl learn, how to create a Linear Model\n",
    "# DL:- Different types of Neurals Networks\n",
    "# Lstm, \n",
    "# word embeding techniques"
   ]
  },
  {
   "cell_type": "code",
   "execution_count": null,
   "id": "844a98fc",
   "metadata": {},
   "outputs": [],
   "source": [
    "# def to_upper()"
   ]
  },
  {
   "cell_type": "code",
   "execution_count": 3,
   "id": "6d3111de",
   "metadata": {},
   "outputs": [],
   "source": [
    "# sql vs mysql"
   ]
  },
  {
   "cell_type": "code",
   "execution_count": 5,
   "id": "4312fe22",
   "metadata": {},
   "outputs": [],
   "source": [
    "# Hidden layers in NN\n",
    "# 1 single Neuron\n",
    "\n",
    "\n",
    "# EDA:- Data analytics:- Exploratory data Analysis"
   ]
  },
  {
   "cell_type": "code",
   "execution_count": null,
   "id": "ddd16d70",
   "metadata": {},
   "outputs": [],
   "source": [
    "# Data analyst:- "
   ]
  }
 ],
 "metadata": {
  "kernelspec": {
   "display_name": "Python 3 (ipykernel)",
   "language": "python",
   "name": "python3"
  },
  "language_info": {
   "codemirror_mode": {
    "name": "ipython",
    "version": 3
   },
   "file_extension": ".py",
   "mimetype": "text/x-python",
   "name": "python",
   "nbconvert_exporter": "python",
   "pygments_lexer": "ipython3",
   "version": "3.11.3"
  }
 },
 "nbformat": 4,
 "nbformat_minor": 5
}
