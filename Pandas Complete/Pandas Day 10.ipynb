{
 "cells": [
  {
   "cell_type": "code",
   "execution_count": 1,
   "id": "455ef860",
   "metadata": {},
   "outputs": [],
   "source": [
    "# T\n",
    "# agg\n",
    "# 'items', 'iterrows', 'itertuples'\n",
    "# 'copy', 'corr'\n",
    "# map\n",
    "# 'insert\n",
    "# apply\n",
    "# 'to_csv', 'to_dict', 'to_excel',  'to_html', 'to_json'\n",
    "# pd.datetiem"
   ]
  },
  {
   "cell_type": "code",
   "execution_count": 3,
   "id": "1163cddf",
   "metadata": {},
   "outputs": [
    {
     "name": "stdout",
     "output_type": "stream",
     "text": [
      "Done\n"
     ]
    }
   ],
   "source": [
    "import pandas as pd\n",
    "print('Done')"
   ]
  },
  {
   "cell_type": "code",
   "execution_count": 5,
   "id": "f1e88179",
   "metadata": {},
   "outputs": [
    {
     "data": {
      "text/html": [
       "<div>\n",
       "<style scoped>\n",
       "    .dataframe tbody tr th:only-of-type {\n",
       "        vertical-align: middle;\n",
       "    }\n",
       "\n",
       "    .dataframe tbody tr th {\n",
       "        vertical-align: top;\n",
       "    }\n",
       "\n",
       "    .dataframe thead th {\n",
       "        text-align: right;\n",
       "    }\n",
       "</style>\n",
       "<table border=\"1\" class=\"dataframe\">\n",
       "  <thead>\n",
       "    <tr style=\"text-align: right;\">\n",
       "      <th></th>\n",
       "      <th>Name</th>\n",
       "      <th>Age</th>\n",
       "      <th>Salary</th>\n",
       "    </tr>\n",
       "  </thead>\n",
       "  <tbody>\n",
       "    <tr>\n",
       "      <th>0</th>\n",
       "      <td>Aman</td>\n",
       "      <td>23</td>\n",
       "      <td>234567</td>\n",
       "    </tr>\n",
       "  </tbody>\n",
       "</table>\n",
       "</div>"
      ],
      "text/plain": [
       "   Name  Age  Salary\n",
       "0  Aman   23  234567"
      ]
     },
     "execution_count": 5,
     "metadata": {},
     "output_type": "execute_result"
    }
   ],
   "source": [
    "data = {'Name':['Aman'],'Age':[23],'Salary':[234567]}\n",
    "pd.DataFrame(data)"
   ]
  },
  {
   "cell_type": "code",
   "execution_count": 8,
   "id": "8a98b7fe",
   "metadata": {},
   "outputs": [
    {
     "data": {
      "text/html": [
       "<div>\n",
       "<style scoped>\n",
       "    .dataframe tbody tr th:only-of-type {\n",
       "        vertical-align: middle;\n",
       "    }\n",
       "\n",
       "    .dataframe tbody tr th {\n",
       "        vertical-align: top;\n",
       "    }\n",
       "\n",
       "    .dataframe thead th {\n",
       "        text-align: right;\n",
       "    }\n",
       "</style>\n",
       "<table border=\"1\" class=\"dataframe\">\n",
       "  <thead>\n",
       "    <tr style=\"text-align: right;\">\n",
       "      <th></th>\n",
       "      <th>Name</th>\n",
       "      <th>Age</th>\n",
       "      <th>Salary</th>\n",
       "    </tr>\n",
       "  </thead>\n",
       "  <tbody>\n",
       "    <tr>\n",
       "      <th>0</th>\n",
       "      <td>Aman</td>\n",
       "      <td>23</td>\n",
       "      <td>234567</td>\n",
       "    </tr>\n",
       "  </tbody>\n",
       "</table>\n",
       "</div>"
      ],
      "text/plain": [
       "   Name  Age  Salary\n",
       "0  Aman   23  234567"
      ]
     },
     "execution_count": 8,
     "metadata": {},
     "output_type": "execute_result"
    }
   ],
   "source": [
    "data = {'Name':'Aman','Age':23,'Salary':234567}\n",
    "pd.DataFrame(data,index = [0])"
   ]
  },
  {
   "cell_type": "code",
   "execution_count": 11,
   "id": "e68d31e9",
   "metadata": {},
   "outputs": [
    {
     "data": {
      "text/html": [
       "<div>\n",
       "<style scoped>\n",
       "    .dataframe tbody tr th:only-of-type {\n",
       "        vertical-align: middle;\n",
       "    }\n",
       "\n",
       "    .dataframe tbody tr th {\n",
       "        vertical-align: top;\n",
       "    }\n",
       "\n",
       "    .dataframe thead th {\n",
       "        text-align: right;\n",
       "    }\n",
       "</style>\n",
       "<table border=\"1\" class=\"dataframe\">\n",
       "  <thead>\n",
       "    <tr style=\"text-align: right;\">\n",
       "      <th></th>\n",
       "      <th>Student_1</th>\n",
       "    </tr>\n",
       "  </thead>\n",
       "  <tbody>\n",
       "    <tr>\n",
       "      <th>1</th>\n",
       "      <td>Aman</td>\n",
       "    </tr>\n",
       "    <tr>\n",
       "      <th>2</th>\n",
       "      <td>23</td>\n",
       "    </tr>\n",
       "    <tr>\n",
       "      <th>3</th>\n",
       "      <td>234567</td>\n",
       "    </tr>\n",
       "  </tbody>\n",
       "</table>\n",
       "</div>"
      ],
      "text/plain": [
       "  Student_1\n",
       "1      Aman\n",
       "2        23\n",
       "3    234567"
      ]
     },
     "execution_count": 11,
     "metadata": {},
     "output_type": "execute_result"
    }
   ],
   "source": [
    "data = {1:'Aman',2:23,3:234567}\n",
    "pd.DataFrame(data,index = ['Student_1']).T"
   ]
  },
  {
   "cell_type": "code",
   "execution_count": 14,
   "id": "972618eb",
   "metadata": {},
   "outputs": [],
   "source": [
    "data = pd.read_csv(r\"D:\\All_Dataset_Xl_csv\\adani.csv\")"
   ]
  },
  {
   "cell_type": "code",
   "execution_count": 15,
   "id": "ad083cf3",
   "metadata": {},
   "outputs": [
    {
     "data": {
      "text/html": [
       "<div>\n",
       "<style scoped>\n",
       "    .dataframe tbody tr th:only-of-type {\n",
       "        vertical-align: middle;\n",
       "    }\n",
       "\n",
       "    .dataframe tbody tr th {\n",
       "        vertical-align: top;\n",
       "    }\n",
       "\n",
       "    .dataframe thead th {\n",
       "        text-align: right;\n",
       "    }\n",
       "</style>\n",
       "<table border=\"1\" class=\"dataframe\">\n",
       "  <thead>\n",
       "    <tr style=\"text-align: right;\">\n",
       "      <th></th>\n",
       "      <th>timestamp</th>\n",
       "      <th>symbol</th>\n",
       "      <th>company</th>\n",
       "      <th>open</th>\n",
       "      <th>high</th>\n",
       "      <th>low</th>\n",
       "      <th>close</th>\n",
       "      <th>volume</th>\n",
       "      <th>dividends</th>\n",
       "      <th>stock_splits</th>\n",
       "    </tr>\n",
       "  </thead>\n",
       "  <tbody>\n",
       "    <tr>\n",
       "      <th>0</th>\n",
       "      <td>1025461800000000000</td>\n",
       "      <td>ACC</td>\n",
       "      <td>ACC Limited</td>\n",
       "      <td>106.697</td>\n",
       "      <td>108.697</td>\n",
       "      <td>106.030</td>\n",
       "      <td>107.864</td>\n",
       "      <td>659631</td>\n",
       "      <td>0.0</td>\n",
       "      <td>0.0</td>\n",
       "    </tr>\n",
       "    <tr>\n",
       "      <th>1</th>\n",
       "      <td>1025461800000000000</td>\n",
       "      <td>AMBUJACEM</td>\n",
       "      <td>Ambuja Cements Limited</td>\n",
       "      <td>17.078</td>\n",
       "      <td>17.457</td>\n",
       "      <td>17.004</td>\n",
       "      <td>17.370</td>\n",
       "      <td>630442</td>\n",
       "      <td>0.0</td>\n",
       "      <td>0.0</td>\n",
       "    </tr>\n",
       "    <tr>\n",
       "      <th>2</th>\n",
       "      <td>1025461800000000000</td>\n",
       "      <td>ADANIENT</td>\n",
       "      <td>Adani Enterprises Limited</td>\n",
       "      <td>-0.010</td>\n",
       "      <td>-0.011</td>\n",
       "      <td>-0.010</td>\n",
       "      <td>-0.010</td>\n",
       "      <td>1080397</td>\n",
       "      <td>0.0</td>\n",
       "      <td>0.0</td>\n",
       "    </tr>\n",
       "    <tr>\n",
       "      <th>3</th>\n",
       "      <td>1025548200000000000</td>\n",
       "      <td>AMBUJACEM</td>\n",
       "      <td>Ambuja Cements Limited</td>\n",
       "      <td>17.370</td>\n",
       "      <td>17.544</td>\n",
       "      <td>17.208</td>\n",
       "      <td>17.357</td>\n",
       "      <td>1007265</td>\n",
       "      <td>0.0</td>\n",
       "      <td>0.0</td>\n",
       "    </tr>\n",
       "    <tr>\n",
       "      <th>4</th>\n",
       "      <td>1025548200000000000</td>\n",
       "      <td>ACC</td>\n",
       "      <td>ACC Limited</td>\n",
       "      <td>107.397</td>\n",
       "      <td>108.931</td>\n",
       "      <td>106.697</td>\n",
       "      <td>106.963</td>\n",
       "      <td>282660</td>\n",
       "      <td>0.0</td>\n",
       "      <td>0.0</td>\n",
       "    </tr>\n",
       "    <tr>\n",
       "      <th>...</th>\n",
       "      <td>...</td>\n",
       "      <td>...</td>\n",
       "      <td>...</td>\n",
       "      <td>...</td>\n",
       "      <td>...</td>\n",
       "      <td>...</td>\n",
       "      <td>...</td>\n",
       "      <td>...</td>\n",
       "      <td>...</td>\n",
       "      <td>...</td>\n",
       "    </tr>\n",
       "    <tr>\n",
       "      <th>32801</th>\n",
       "      <td>1693938600000000000</td>\n",
       "      <td>AMBUJACEM</td>\n",
       "      <td>Ambuja Cements Limited</td>\n",
       "      <td>441.000</td>\n",
       "      <td>442.000</td>\n",
       "      <td>435.000</td>\n",
       "      <td>436.350</td>\n",
       "      <td>1312654</td>\n",
       "      <td>0.0</td>\n",
       "      <td>0.0</td>\n",
       "    </tr>\n",
       "    <tr>\n",
       "      <th>32802</th>\n",
       "      <td>1693938600000000000</td>\n",
       "      <td>ADANIPORTS</td>\n",
       "      <td>Adani Ports and Special Economic Zone Limited</td>\n",
       "      <td>806.000</td>\n",
       "      <td>808.000</td>\n",
       "      <td>800.450</td>\n",
       "      <td>804.550</td>\n",
       "      <td>3008629</td>\n",
       "      <td>0.0</td>\n",
       "      <td>0.0</td>\n",
       "    </tr>\n",
       "    <tr>\n",
       "      <th>32803</th>\n",
       "      <td>1693938600000000000</td>\n",
       "      <td>ADANIENT</td>\n",
       "      <td>Adani Enterprises Limited</td>\n",
       "      <td>2494.050</td>\n",
       "      <td>2504.000</td>\n",
       "      <td>2471.000</td>\n",
       "      <td>2491.500</td>\n",
       "      <td>3640235</td>\n",
       "      <td>0.0</td>\n",
       "      <td>0.0</td>\n",
       "    </tr>\n",
       "    <tr>\n",
       "      <th>32804</th>\n",
       "      <td>1693938600000000000</td>\n",
       "      <td>ATGL</td>\n",
       "      <td>Adani Total Gas Limited</td>\n",
       "      <td>637.950</td>\n",
       "      <td>638.500</td>\n",
       "      <td>633.000</td>\n",
       "      <td>636.450</td>\n",
       "      <td>228186</td>\n",
       "      <td>0.0</td>\n",
       "      <td>0.0</td>\n",
       "    </tr>\n",
       "    <tr>\n",
       "      <th>32805</th>\n",
       "      <td>1693938600000000000</td>\n",
       "      <td>NDTV</td>\n",
       "      <td>New Delhi Television Limited</td>\n",
       "      <td>214.500</td>\n",
       "      <td>217.000</td>\n",
       "      <td>213.500</td>\n",
       "      <td>214.500</td>\n",
       "      <td>101881</td>\n",
       "      <td>0.0</td>\n",
       "      <td>0.0</td>\n",
       "    </tr>\n",
       "  </tbody>\n",
       "</table>\n",
       "<p>32806 rows × 10 columns</p>\n",
       "</div>"
      ],
      "text/plain": [
       "                 timestamp      symbol  \\\n",
       "0      1025461800000000000         ACC   \n",
       "1      1025461800000000000   AMBUJACEM   \n",
       "2      1025461800000000000    ADANIENT   \n",
       "3      1025548200000000000   AMBUJACEM   \n",
       "4      1025548200000000000         ACC   \n",
       "...                    ...         ...   \n",
       "32801  1693938600000000000   AMBUJACEM   \n",
       "32802  1693938600000000000  ADANIPORTS   \n",
       "32803  1693938600000000000    ADANIENT   \n",
       "32804  1693938600000000000        ATGL   \n",
       "32805  1693938600000000000        NDTV   \n",
       "\n",
       "                                             company      open      high  \\\n",
       "0                                        ACC Limited   106.697   108.697   \n",
       "1                             Ambuja Cements Limited    17.078    17.457   \n",
       "2                          Adani Enterprises Limited    -0.010    -0.011   \n",
       "3                             Ambuja Cements Limited    17.370    17.544   \n",
       "4                                        ACC Limited   107.397   108.931   \n",
       "...                                              ...       ...       ...   \n",
       "32801                         Ambuja Cements Limited   441.000   442.000   \n",
       "32802  Adani Ports and Special Economic Zone Limited   806.000   808.000   \n",
       "32803                      Adani Enterprises Limited  2494.050  2504.000   \n",
       "32804                        Adani Total Gas Limited   637.950   638.500   \n",
       "32805                   New Delhi Television Limited   214.500   217.000   \n",
       "\n",
       "            low     close   volume  dividends  stock_splits  \n",
       "0       106.030   107.864   659631        0.0           0.0  \n",
       "1        17.004    17.370   630442        0.0           0.0  \n",
       "2        -0.010    -0.010  1080397        0.0           0.0  \n",
       "3        17.208    17.357  1007265        0.0           0.0  \n",
       "4       106.697   106.963   282660        0.0           0.0  \n",
       "...         ...       ...      ...        ...           ...  \n",
       "32801   435.000   436.350  1312654        0.0           0.0  \n",
       "32802   800.450   804.550  3008629        0.0           0.0  \n",
       "32803  2471.000  2491.500  3640235        0.0           0.0  \n",
       "32804   633.000   636.450   228186        0.0           0.0  \n",
       "32805   213.500   214.500   101881        0.0           0.0  \n",
       "\n",
       "[32806 rows x 10 columns]"
      ]
     },
     "execution_count": 15,
     "metadata": {},
     "output_type": "execute_result"
    }
   ],
   "source": [
    "data"
   ]
  },
  {
   "cell_type": "code",
   "execution_count": 25,
   "id": "50a66eeb",
   "metadata": {},
   "outputs": [
    {
     "data": {
      "text/html": [
       "<div>\n",
       "<style scoped>\n",
       "    .dataframe tbody tr th:only-of-type {\n",
       "        vertical-align: middle;\n",
       "    }\n",
       "\n",
       "    .dataframe tbody tr th {\n",
       "        vertical-align: top;\n",
       "    }\n",
       "\n",
       "    .dataframe thead th {\n",
       "        text-align: right;\n",
       "    }\n",
       "</style>\n",
       "<table border=\"1\" class=\"dataframe\">\n",
       "  <thead>\n",
       "    <tr style=\"text-align: right;\">\n",
       "      <th></th>\n",
       "      <th>timestamp</th>\n",
       "      <th>close</th>\n",
       "    </tr>\n",
       "  </thead>\n",
       "  <tbody>\n",
       "    <tr>\n",
       "      <th>0</th>\n",
       "      <td>1025461800000000000</td>\n",
       "      <td>107.864</td>\n",
       "    </tr>\n",
       "    <tr>\n",
       "      <th>4</th>\n",
       "      <td>1025548200000000000</td>\n",
       "      <td>106.963</td>\n",
       "    </tr>\n",
       "    <tr>\n",
       "      <th>6</th>\n",
       "      <td>1025634600000000000</td>\n",
       "      <td>106.563</td>\n",
       "    </tr>\n",
       "    <tr>\n",
       "      <th>11</th>\n",
       "      <td>1025721000000000000</td>\n",
       "      <td>105.363</td>\n",
       "    </tr>\n",
       "    <tr>\n",
       "      <th>12</th>\n",
       "      <td>1025807400000000000</td>\n",
       "      <td>105.063</td>\n",
       "    </tr>\n",
       "    <tr>\n",
       "      <th>...</th>\n",
       "      <td>...</td>\n",
       "      <td>...</td>\n",
       "    </tr>\n",
       "    <tr>\n",
       "      <th>32763</th>\n",
       "      <td>1693420200000000000</td>\n",
       "      <td>2005.750</td>\n",
       "    </tr>\n",
       "    <tr>\n",
       "      <th>32775</th>\n",
       "      <td>1693506600000000000</td>\n",
       "      <td>2011.250</td>\n",
       "    </tr>\n",
       "    <tr>\n",
       "      <th>32778</th>\n",
       "      <td>1693765800000000000</td>\n",
       "      <td>2058.650</td>\n",
       "    </tr>\n",
       "    <tr>\n",
       "      <th>32790</th>\n",
       "      <td>1693852200000000000</td>\n",
       "      <td>2084.600</td>\n",
       "    </tr>\n",
       "    <tr>\n",
       "      <th>32797</th>\n",
       "      <td>1693938600000000000</td>\n",
       "      <td>2046.400</td>\n",
       "    </tr>\n",
       "  </tbody>\n",
       "</table>\n",
       "<p>5264 rows × 2 columns</p>\n",
       "</div>"
      ],
      "text/plain": [
       "                 timestamp     close\n",
       "0      1025461800000000000   107.864\n",
       "4      1025548200000000000   106.963\n",
       "6      1025634600000000000   106.563\n",
       "11     1025721000000000000   105.363\n",
       "12     1025807400000000000   105.063\n",
       "...                    ...       ...\n",
       "32763  1693420200000000000  2005.750\n",
       "32775  1693506600000000000  2011.250\n",
       "32778  1693765800000000000  2058.650\n",
       "32790  1693852200000000000  2084.600\n",
       "32797  1693938600000000000  2046.400\n",
       "\n",
       "[5264 rows x 2 columns]"
      ]
     },
     "execution_count": 25,
     "metadata": {},
     "output_type": "execute_result"
    }
   ],
   "source": [
    "data[data['symbol'] == 'ACC'][['timestamp','close']]"
   ]
  },
  {
   "cell_type": "code",
   "execution_count": 27,
   "id": "1263b254",
   "metadata": {},
   "outputs": [
    {
     "data": {
      "text/html": [
       "<div>\n",
       "<style scoped>\n",
       "    .dataframe tbody tr th:only-of-type {\n",
       "        vertical-align: middle;\n",
       "    }\n",
       "\n",
       "    .dataframe tbody tr th {\n",
       "        vertical-align: top;\n",
       "    }\n",
       "\n",
       "    .dataframe thead th {\n",
       "        text-align: right;\n",
       "    }\n",
       "</style>\n",
       "<table border=\"1\" class=\"dataframe\">\n",
       "  <thead>\n",
       "    <tr style=\"text-align: right;\">\n",
       "      <th></th>\n",
       "      <th>0</th>\n",
       "      <th>4</th>\n",
       "      <th>6</th>\n",
       "      <th>11</th>\n",
       "      <th>12</th>\n",
       "      <th>15</th>\n",
       "      <th>18</th>\n",
       "      <th>23</th>\n",
       "      <th>24</th>\n",
       "      <th>27</th>\n",
       "      <th>...</th>\n",
       "      <th>32707</th>\n",
       "      <th>32724</th>\n",
       "      <th>32728</th>\n",
       "      <th>32743</th>\n",
       "      <th>32750</th>\n",
       "      <th>32763</th>\n",
       "      <th>32775</th>\n",
       "      <th>32778</th>\n",
       "      <th>32790</th>\n",
       "      <th>32797</th>\n",
       "    </tr>\n",
       "  </thead>\n",
       "  <tbody>\n",
       "    <tr>\n",
       "      <th>timestamp</th>\n",
       "      <td>1.025462e+18</td>\n",
       "      <td>1.025548e+18</td>\n",
       "      <td>1.025635e+18</td>\n",
       "      <td>1.025721e+18</td>\n",
       "      <td>1.025807e+18</td>\n",
       "      <td>1.026067e+18</td>\n",
       "      <td>1.026153e+18</td>\n",
       "      <td>1.026239e+18</td>\n",
       "      <td>1.026326e+18</td>\n",
       "      <td>1.026412e+18</td>\n",
       "      <td>...</td>\n",
       "      <td>1.692815e+18</td>\n",
       "      <td>1.692902e+18</td>\n",
       "      <td>1.693161e+18</td>\n",
       "      <td>1.693247e+18</td>\n",
       "      <td>1.693334e+18</td>\n",
       "      <td>1.693420e+18</td>\n",
       "      <td>1.693507e+18</td>\n",
       "      <td>1.693766e+18</td>\n",
       "      <td>1.693852e+18</td>\n",
       "      <td>1.693939e+18</td>\n",
       "    </tr>\n",
       "    <tr>\n",
       "      <th>close</th>\n",
       "      <td>1.078640e+02</td>\n",
       "      <td>1.069630e+02</td>\n",
       "      <td>1.065630e+02</td>\n",
       "      <td>1.053630e+02</td>\n",
       "      <td>1.050630e+02</td>\n",
       "      <td>1.090640e+02</td>\n",
       "      <td>1.073300e+02</td>\n",
       "      <td>1.068970e+02</td>\n",
       "      <td>1.054300e+02</td>\n",
       "      <td>1.053300e+02</td>\n",
       "      <td>...</td>\n",
       "      <td>1.990350e+03</td>\n",
       "      <td>1.962550e+03</td>\n",
       "      <td>1.985250e+03</td>\n",
       "      <td>1.981800e+03</td>\n",
       "      <td>2.000550e+03</td>\n",
       "      <td>2.005750e+03</td>\n",
       "      <td>2.011250e+03</td>\n",
       "      <td>2.058650e+03</td>\n",
       "      <td>2.084600e+03</td>\n",
       "      <td>2.046400e+03</td>\n",
       "    </tr>\n",
       "  </tbody>\n",
       "</table>\n",
       "<p>2 rows × 5264 columns</p>\n",
       "</div>"
      ],
      "text/plain": [
       "                  0             4             6             11     \\\n",
       "timestamp  1.025462e+18  1.025548e+18  1.025635e+18  1.025721e+18   \n",
       "close      1.078640e+02  1.069630e+02  1.065630e+02  1.053630e+02   \n",
       "\n",
       "                  12            15            18            23     \\\n",
       "timestamp  1.025807e+18  1.026067e+18  1.026153e+18  1.026239e+18   \n",
       "close      1.050630e+02  1.090640e+02  1.073300e+02  1.068970e+02   \n",
       "\n",
       "                  24            27     ...         32707         32724  \\\n",
       "timestamp  1.026326e+18  1.026412e+18  ...  1.692815e+18  1.692902e+18   \n",
       "close      1.054300e+02  1.053300e+02  ...  1.990350e+03  1.962550e+03   \n",
       "\n",
       "                  32728         32743         32750         32763  \\\n",
       "timestamp  1.693161e+18  1.693247e+18  1.693334e+18  1.693420e+18   \n",
       "close      1.985250e+03  1.981800e+03  2.000550e+03  2.005750e+03   \n",
       "\n",
       "                  32775         32778         32790         32797  \n",
       "timestamp  1.693507e+18  1.693766e+18  1.693852e+18  1.693939e+18  \n",
       "close      2.011250e+03  2.058650e+03  2.084600e+03  2.046400e+03  \n",
       "\n",
       "[2 rows x 5264 columns]"
      ]
     },
     "execution_count": 27,
     "metadata": {},
     "output_type": "execute_result"
    }
   ],
   "source": [
    "data[data['symbol'] == 'ACC'][['timestamp','close']].T"
   ]
  },
  {
   "cell_type": "code",
   "execution_count": 28,
   "id": "933d0f56",
   "metadata": {},
   "outputs": [],
   "source": [
    "import numpy as np"
   ]
  },
  {
   "cell_type": "code",
   "execution_count": 29,
   "id": "9f476b3c",
   "metadata": {},
   "outputs": [],
   "source": [
    "# np.transpose"
   ]
  },
  {
   "cell_type": "code",
   "execution_count": 30,
   "id": "86f40e4d",
   "metadata": {},
   "outputs": [],
   "source": [
    "# agg"
   ]
  },
  {
   "cell_type": "code",
   "execution_count": 32,
   "id": "9f2bd696",
   "metadata": {},
   "outputs": [
    {
     "data": {
      "text/plain": [
       "timestamp                1693938600000000000\n",
       "symbol                                  NDTV\n",
       "company         New Delhi Television Limited\n",
       "open                                4170.828\n",
       "high                                 4236.75\n",
       "low                                 4062.336\n",
       "close                               4161.137\n",
       "volume                             242199873\n",
       "dividends                               58.0\n",
       "stock_splits                             5.0\n",
       "dtype: object"
      ]
     },
     "execution_count": 32,
     "metadata": {},
     "output_type": "execute_result"
    }
   ],
   "source": [
    "data.agg('max')"
   ]
  },
  {
   "cell_type": "code",
   "execution_count": 33,
   "id": "b648fbbf",
   "metadata": {},
   "outputs": [
    {
     "data": {
      "text/plain": [
       "timestamp       1025461800000000000\n",
       "symbol                          ACC\n",
       "company                 ACC Limited\n",
       "open                         -0.011\n",
       "high                         -0.011\n",
       "low                          -0.011\n",
       "close                        -0.011\n",
       "volume                            0\n",
       "dividends                       0.0\n",
       "stock_splits                    0.0\n",
       "dtype: object"
      ]
     },
     "execution_count": 33,
     "metadata": {},
     "output_type": "execute_result"
    }
   ],
   "source": [
    "data.agg('min')"
   ]
  },
  {
   "cell_type": "code",
   "execution_count": 34,
   "id": "49a790e1",
   "metadata": {},
   "outputs": [
    {
     "data": {
      "text/plain": [
       "timestamp       32806\n",
       "symbol          32806\n",
       "company         32806\n",
       "open            32806\n",
       "high            32806\n",
       "low             32806\n",
       "close           32806\n",
       "volume          32806\n",
       "dividends       32806\n",
       "stock_splits    32806\n",
       "dtype: int64"
      ]
     },
     "execution_count": 34,
     "metadata": {},
     "output_type": "execute_result"
    }
   ],
   "source": [
    "data.agg('count')"
   ]
  },
  {
   "cell_type": "code",
   "execution_count": 43,
   "id": "889868a0",
   "metadata": {},
   "outputs": [
    {
     "name": "stdout",
     "output_type": "stream",
     "text": [
      "['T', '_AXIS_LEN', '_AXIS_ORDERS', '_AXIS_TO_AXIS_NUMBER', '_HANDLED_TYPES', '__abs__', '__add__', '__and__', '__annotations__', '__array__', '__array_priority__', '__array_ufunc__', '__bool__', '__class__', '__column_consortium_standard__', '__contains__', '__copy__', '__deepcopy__', '__delattr__', '__delitem__', '__dict__', '__dir__', '__divmod__', '__doc__', '__eq__', '__finalize__', '__float__', '__floordiv__', '__format__', '__ge__', '__getattr__', '__getattribute__', '__getitem__', '__getstate__', '__gt__', '__hash__', '__iadd__', '__iand__', '__ifloordiv__', '__imod__', '__imul__', '__init__', '__init_subclass__', '__int__', '__invert__', '__ior__', '__ipow__', '__isub__', '__iter__', '__itruediv__', '__ixor__', '__le__', '__len__', '__lt__', '__matmul__', '__mod__', '__module__', '__mul__', '__ne__', '__neg__', '__new__', '__nonzero__', '__or__', '__pandas_priority__', '__pos__', '__pow__', '__radd__', '__rand__', '__rdivmod__', '__reduce__', '__reduce_ex__', '__repr__', '__rfloordiv__', '__rmatmul__', '__rmod__', '__rmul__', '__ror__', '__round__', '__rpow__', '__rsub__', '__rtruediv__', '__rxor__', '__setattr__', '__setitem__', '__setstate__', '__sizeof__', '__str__', '__sub__', '__subclasshook__', '__truediv__', '__weakref__', '__xor__', '_accessors', '_accum_func', '_agg_examples_doc', '_agg_see_also_doc', '_align_for_op', '_align_frame', '_align_series', '_append', '_arith_method', '_as_manager', '_binop', '_can_hold_na', '_check_inplace_and_allows_duplicate_labels', '_check_is_chained_assignment_possible', '_check_label_or_level_ambiguity', '_check_setitem_copy', '_clear_item_cache', '_clip_with_one_bound', '_clip_with_scalar', '_cmp_method', '_consolidate', '_consolidate_inplace', '_construct_axes_dict', '_construct_result', '_constructor', '_constructor_expanddim', '_constructor_expanddim_from_mgr', '_constructor_from_mgr', '_data', '_deprecate_downcast', '_dir_additions', '_dir_deletions', '_drop_axis', '_drop_labels_or_levels', '_duplicated', '_find_valid_index', '_flex_method', '_from_mgr', '_get_axis', '_get_axis_name', '_get_axis_number', '_get_axis_resolvers', '_get_block_manager_axis', '_get_bool_data', '_get_cacher', '_get_cleaned_column_resolvers', '_get_index_resolvers', '_get_label_or_level_values', '_get_numeric_data', '_get_rows_with_mask', '_get_value', '_get_values_tuple', '_get_with', '_getitem_slice', '_gotitem', '_hidden_attrs', '_indexed_same', '_info_axis', '_info_axis_name', '_info_axis_number', '_init_dict', '_init_mgr', '_inplace_method', '_internal_names', '_internal_names_set', '_is_cached', '_is_copy', '_is_label_or_level_reference', '_is_label_reference', '_is_level_reference', '_is_mixed_type', '_is_view', '_is_view_after_cow_rules', '_ixs', '_logical_func', '_logical_method', '_map_values', '_maybe_update_cacher', '_memory_usage', '_metadata', '_min_count_stat_function', '_needs_reindex_multi', '_pad_or_backfill', '_protect_consolidate', '_reduce', '_references', '_reindex_axes', '_reindex_indexer', '_reindex_multi', '_reindex_with_indexers', '_rename', '_replace_single', '_repr_data_resource_', '_repr_latex_', '_reset_cache', '_reset_cacher', '_set_as_cached', '_set_axis', '_set_axis_name', '_set_axis_nocheck', '_set_is_copy', '_set_labels', '_set_name', '_set_value', '_set_values', '_set_with', '_set_with_engine', '_shift_with_freq', '_slice', '_stat_function', '_stat_function_ddof', '_take_with_is_copy', '_to_latex_via_styler', '_typ', '_update_inplace', '_validate_dtype', '_values', '_where', 'abs', 'add', 'add_prefix', 'add_suffix', 'agg', 'aggregate', 'align', 'all', 'any', 'apply', 'argmax', 'argmin', 'argsort', 'array', 'asfreq', 'asof', 'astype', 'at', 'at_time', 'attrs', 'autocorr', 'axes', 'backfill', 'between', 'between_time', 'bfill', 'bool', 'case_when', 'cat', 'clip', 'combine', 'combine_first', 'compare', 'convert_dtypes', 'copy', 'corr', 'count', 'cov', 'cummax', 'cummin', 'cumprod', 'cumsum', 'describe', 'diff', 'div', 'divide', 'divmod', 'dot', 'drop', 'drop_duplicates', 'droplevel', 'dropna', 'dt', 'dtype', 'dtypes', 'duplicated', 'empty', 'eq', 'equals', 'ewm', 'expanding', 'explode', 'factorize', 'ffill', 'fillna', 'filter', 'first', 'first_valid_index', 'flags', 'floordiv', 'ge', 'get', 'groupby', 'gt', 'hasnans', 'head', 'hist', 'iat', 'idxmax', 'idxmin', 'iloc', 'index', 'infer_objects', 'info', 'interpolate', 'is_monotonic_decreasing', 'is_monotonic_increasing', 'is_unique', 'isin', 'isna', 'isnull', 'item', 'items', 'keys', 'kurt', 'kurtosis', 'last', 'last_valid_index', 'le', 'list', 'loc', 'lt', 'map', 'mask', 'max', 'mean', 'median', 'memory_usage', 'min', 'mod', 'mode', 'mul', 'multiply', 'name', 'nbytes', 'ndim', 'ne', 'nlargest', 'notna', 'notnull', 'nsmallest', 'nunique', 'pad', 'pct_change', 'pipe', 'plot', 'pop', 'pow', 'prod', 'product', 'quantile', 'radd', 'rank', 'ravel', 'rdiv', 'rdivmod', 'reindex', 'reindex_like', 'rename', 'rename_axis', 'reorder_levels', 'repeat', 'replace', 'resample', 'reset_index', 'rfloordiv', 'rmod', 'rmul', 'rolling', 'round', 'rpow', 'rsub', 'rtruediv', 'sample', 'searchsorted', 'sem', 'set_axis', 'set_flags', 'shape', 'shift', 'size', 'skew', 'sort_index', 'sort_values', 'sparse', 'squeeze', 'std', 'str', 'struct', 'sub', 'subtract', 'sum', 'swapaxes', 'swaplevel', 'tail', 'take', 'to_clipboard', 'to_csv', 'to_dict', 'to_excel', 'to_frame', 'to_hdf', 'to_json', 'to_latex', 'to_list', 'to_markdown', 'to_numpy', 'to_period', 'to_pickle', 'to_sql', 'to_string', 'to_timestamp', 'to_xarray', 'tolist', 'transform', 'transpose', 'truediv', 'truncate', 'tz_convert', 'tz_localize', 'unique', 'unstack', 'update', 'value_counts', 'values', 'var', 'view', 'where', 'xs']\n"
     ]
    }
   ],
   "source": [
    "print(dir(pd.Series))"
   ]
  },
  {
   "cell_type": "code",
   "execution_count": 46,
   "id": "5ce80cea",
   "metadata": {},
   "outputs": [
    {
     "data": {
      "text/html": [
       "<div>\n",
       "<style scoped>\n",
       "    .dataframe tbody tr th:only-of-type {\n",
       "        vertical-align: middle;\n",
       "    }\n",
       "\n",
       "    .dataframe tbody tr th {\n",
       "        vertical-align: top;\n",
       "    }\n",
       "\n",
       "    .dataframe thead th {\n",
       "        text-align: right;\n",
       "    }\n",
       "</style>\n",
       "<table border=\"1\" class=\"dataframe\">\n",
       "  <thead>\n",
       "    <tr style=\"text-align: right;\">\n",
       "      <th></th>\n",
       "      <th>open</th>\n",
       "      <th>high</th>\n",
       "      <th>low</th>\n",
       "      <th>close</th>\n",
       "    </tr>\n",
       "  </thead>\n",
       "  <tbody>\n",
       "    <tr>\n",
       "      <th>min</th>\n",
       "      <td>-1.100000e-02</td>\n",
       "      <td>-1.100000e-02</td>\n",
       "      <td>-1.100000e-02</td>\n",
       "      <td>-1.100000e-02</td>\n",
       "    </tr>\n",
       "    <tr>\n",
       "      <th>max</th>\n",
       "      <td>4.170828e+03</td>\n",
       "      <td>4.236750e+03</td>\n",
       "      <td>4.062336e+03</td>\n",
       "      <td>4.161137e+03</td>\n",
       "    </tr>\n",
       "    <tr>\n",
       "      <th>mean</th>\n",
       "      <td>4.203220e+02</td>\n",
       "      <td>4.277546e+02</td>\n",
       "      <td>4.122036e+02</td>\n",
       "      <td>4.199007e+02</td>\n",
       "    </tr>\n",
       "    <tr>\n",
       "      <th>std</th>\n",
       "      <td>6.275783e+02</td>\n",
       "      <td>6.382872e+02</td>\n",
       "      <td>6.151532e+02</td>\n",
       "      <td>6.267934e+02</td>\n",
       "    </tr>\n",
       "    <tr>\n",
       "      <th>var</th>\n",
       "      <td>3.938545e+05</td>\n",
       "      <td>4.074106e+05</td>\n",
       "      <td>3.784134e+05</td>\n",
       "      <td>3.928700e+05</td>\n",
       "    </tr>\n",
       "    <tr>\n",
       "      <th>count</th>\n",
       "      <td>3.280600e+04</td>\n",
       "      <td>3.280600e+04</td>\n",
       "      <td>3.280600e+04</td>\n",
       "      <td>3.280600e+04</td>\n",
       "    </tr>\n",
       "    <tr>\n",
       "      <th>sum</th>\n",
       "      <td>1.378908e+07</td>\n",
       "      <td>1.403292e+07</td>\n",
       "      <td>1.352275e+07</td>\n",
       "      <td>1.377526e+07</td>\n",
       "    </tr>\n",
       "  </tbody>\n",
       "</table>\n",
       "</div>"
      ],
      "text/plain": [
       "               open          high           low         close\n",
       "min   -1.100000e-02 -1.100000e-02 -1.100000e-02 -1.100000e-02\n",
       "max    4.170828e+03  4.236750e+03  4.062336e+03  4.161137e+03\n",
       "mean   4.203220e+02  4.277546e+02  4.122036e+02  4.199007e+02\n",
       "std    6.275783e+02  6.382872e+02  6.151532e+02  6.267934e+02\n",
       "var    3.938545e+05  4.074106e+05  3.784134e+05  3.928700e+05\n",
       "count  3.280600e+04  3.280600e+04  3.280600e+04  3.280600e+04\n",
       "sum    1.378908e+07  1.403292e+07  1.352275e+07  1.377526e+07"
      ]
     },
     "execution_count": 46,
     "metadata": {},
     "output_type": "execute_result"
    }
   ],
   "source": [
    "data[['open','high','low','close']].agg(['min','max','mean','std','var','count','sum'])"
   ]
  },
  {
   "cell_type": "code",
   "execution_count": 47,
   "id": "ae0a7ade",
   "metadata": {},
   "outputs": [
    {
     "data": {
      "text/html": [
       "<div>\n",
       "<style scoped>\n",
       "    .dataframe tbody tr th:only-of-type {\n",
       "        vertical-align: middle;\n",
       "    }\n",
       "\n",
       "    .dataframe tbody tr th {\n",
       "        vertical-align: top;\n",
       "    }\n",
       "\n",
       "    .dataframe thead th {\n",
       "        text-align: right;\n",
       "    }\n",
       "</style>\n",
       "<table border=\"1\" class=\"dataframe\">\n",
       "  <thead>\n",
       "    <tr style=\"text-align: right;\">\n",
       "      <th></th>\n",
       "      <th>open</th>\n",
       "      <th>high</th>\n",
       "      <th>low</th>\n",
       "      <th>close</th>\n",
       "    </tr>\n",
       "  </thead>\n",
       "  <tbody>\n",
       "    <tr>\n",
       "      <th>min</th>\n",
       "      <td>-1.100000e-02</td>\n",
       "      <td>-1.100000e-02</td>\n",
       "      <td>-1.100000e-02</td>\n",
       "      <td>-1.100000e-02</td>\n",
       "    </tr>\n",
       "    <tr>\n",
       "      <th>max</th>\n",
       "      <td>4.170828e+03</td>\n",
       "      <td>4.236750e+03</td>\n",
       "      <td>4.062336e+03</td>\n",
       "      <td>4.161137e+03</td>\n",
       "    </tr>\n",
       "    <tr>\n",
       "      <th>mean</th>\n",
       "      <td>4.203220e+02</td>\n",
       "      <td>4.277546e+02</td>\n",
       "      <td>4.122036e+02</td>\n",
       "      <td>4.199007e+02</td>\n",
       "    </tr>\n",
       "    <tr>\n",
       "      <th>std</th>\n",
       "      <td>6.275783e+02</td>\n",
       "      <td>6.382872e+02</td>\n",
       "      <td>6.151532e+02</td>\n",
       "      <td>6.267934e+02</td>\n",
       "    </tr>\n",
       "    <tr>\n",
       "      <th>var</th>\n",
       "      <td>3.938545e+05</td>\n",
       "      <td>4.074106e+05</td>\n",
       "      <td>3.784134e+05</td>\n",
       "      <td>3.928700e+05</td>\n",
       "    </tr>\n",
       "    <tr>\n",
       "      <th>count</th>\n",
       "      <td>3.280600e+04</td>\n",
       "      <td>3.280600e+04</td>\n",
       "      <td>3.280600e+04</td>\n",
       "      <td>3.280600e+04</td>\n",
       "    </tr>\n",
       "    <tr>\n",
       "      <th>sum</th>\n",
       "      <td>1.378908e+07</td>\n",
       "      <td>1.403292e+07</td>\n",
       "      <td>1.352275e+07</td>\n",
       "      <td>1.377526e+07</td>\n",
       "    </tr>\n",
       "  </tbody>\n",
       "</table>\n",
       "</div>"
      ],
      "text/plain": [
       "               open          high           low         close\n",
       "min   -1.100000e-02 -1.100000e-02 -1.100000e-02 -1.100000e-02\n",
       "max    4.170828e+03  4.236750e+03  4.062336e+03  4.161137e+03\n",
       "mean   4.203220e+02  4.277546e+02  4.122036e+02  4.199007e+02\n",
       "std    6.275783e+02  6.382872e+02  6.151532e+02  6.267934e+02\n",
       "var    3.938545e+05  4.074106e+05  3.784134e+05  3.928700e+05\n",
       "count  3.280600e+04  3.280600e+04  3.280600e+04  3.280600e+04\n",
       "sum    1.378908e+07  1.403292e+07  1.352275e+07  1.377526e+07"
      ]
     },
     "execution_count": 47,
     "metadata": {},
     "output_type": "execute_result"
    }
   ],
   "source": [
    "data[['open','high','low','close']].aggregate(['min','max','mean','std','var','count','sum'])"
   ]
  },
  {
   "cell_type": "code",
   "execution_count": 63,
   "id": "8f6ca63e",
   "metadata": {},
   "outputs": [],
   "source": [
    "generator_data = data.items()"
   ]
  },
  {
   "cell_type": "code",
   "execution_count": 64,
   "id": "b845ede4",
   "metadata": {},
   "outputs": [
    {
     "data": {
      "text/plain": [
       "[('timestamp',),\n",
       " (0        1025461800000000000\n",
       "  1        1025461800000000000\n",
       "  2        1025461800000000000\n",
       "  3        1025548200000000000\n",
       "  4        1025548200000000000\n",
       "                  ...         \n",
       "  32801    1693938600000000000\n",
       "  32802    1693938600000000000\n",
       "  32803    1693938600000000000\n",
       "  32804    1693938600000000000\n",
       "  32805    1693938600000000000\n",
       "  Name: timestamp, Length: 32806, dtype: int64,)]"
      ]
     },
     "execution_count": 64,
     "metadata": {},
     "output_type": "execute_result"
    }
   ],
   "source": [
    "list(zip(next(generator_data)))"
   ]
  },
  {
   "cell_type": "code",
   "execution_count": 73,
   "id": "8827e936",
   "metadata": {},
   "outputs": [],
   "source": [
    "one_data = {}"
   ]
  },
  {
   "cell_type": "code",
   "execution_count": 66,
   "id": "35679436",
   "metadata": {},
   "outputs": [
    {
     "ename": "ValueError",
     "evalue": "dictionary update sequence element #0 has length 6; 2 is required",
     "output_type": "error",
     "traceback": [
      "\u001b[1;31m---------------------------------------------------------------------------\u001b[0m",
      "\u001b[1;31mValueError\u001b[0m                                Traceback (most recent call last)",
      "Cell \u001b[1;32mIn[66], line 1\u001b[0m\n\u001b[1;32m----> 1\u001b[0m one_data\u001b[38;5;241m.\u001b[39mupdate(\u001b[38;5;28mnext\u001b[39m(generator_data))\n",
      "\u001b[1;31mValueError\u001b[0m: dictionary update sequence element #0 has length 6; 2 is required"
     ]
    }
   ],
   "source": [
    "one_data.update(next(generator_data))"
   ]
  },
  {
   "cell_type": "code",
   "execution_count": 68,
   "id": "dfc819b0",
   "metadata": {},
   "outputs": [
    {
     "data": {
      "text/plain": [
       "2"
      ]
     },
     "execution_count": 68,
     "metadata": {},
     "output_type": "execute_result"
    }
   ],
   "source": [
    "len([next(generator_data)])"
   ]
  },
  {
   "cell_type": "code",
   "execution_count": 69,
   "id": "527d5df4",
   "metadata": {},
   "outputs": [],
   "source": [
    "one_data.update([('k',1)])"
   ]
  },
  {
   "cell_type": "code",
   "execution_count": 70,
   "id": "1a6e2a41",
   "metadata": {},
   "outputs": [
    {
     "data": {
      "text/plain": [
       "{'k': 1}"
      ]
     },
     "execution_count": 70,
     "metadata": {},
     "output_type": "execute_result"
    }
   ],
   "source": [
    "one_data"
   ]
  },
  {
   "cell_type": "code",
   "execution_count": 74,
   "id": "00aad552",
   "metadata": {},
   "outputs": [],
   "source": [
    "one_data.update([next(generator_data)])"
   ]
  },
  {
   "cell_type": "code",
   "execution_count": 76,
   "id": "a513610d",
   "metadata": {},
   "outputs": [
    {
     "data": {
      "text/html": [
       "<div>\n",
       "<style scoped>\n",
       "    .dataframe tbody tr th:only-of-type {\n",
       "        vertical-align: middle;\n",
       "    }\n",
       "\n",
       "    .dataframe tbody tr th {\n",
       "        vertical-align: top;\n",
       "    }\n",
       "\n",
       "    .dataframe thead th {\n",
       "        text-align: right;\n",
       "    }\n",
       "</style>\n",
       "<table border=\"1\" class=\"dataframe\">\n",
       "  <thead>\n",
       "    <tr style=\"text-align: right;\">\n",
       "      <th></th>\n",
       "      <th>low</th>\n",
       "    </tr>\n",
       "  </thead>\n",
       "  <tbody>\n",
       "    <tr>\n",
       "      <th>0</th>\n",
       "      <td>106.030</td>\n",
       "    </tr>\n",
       "    <tr>\n",
       "      <th>1</th>\n",
       "      <td>17.004</td>\n",
       "    </tr>\n",
       "    <tr>\n",
       "      <th>2</th>\n",
       "      <td>-0.010</td>\n",
       "    </tr>\n",
       "    <tr>\n",
       "      <th>3</th>\n",
       "      <td>17.208</td>\n",
       "    </tr>\n",
       "    <tr>\n",
       "      <th>4</th>\n",
       "      <td>106.697</td>\n",
       "    </tr>\n",
       "    <tr>\n",
       "      <th>...</th>\n",
       "      <td>...</td>\n",
       "    </tr>\n",
       "    <tr>\n",
       "      <th>32801</th>\n",
       "      <td>435.000</td>\n",
       "    </tr>\n",
       "    <tr>\n",
       "      <th>32802</th>\n",
       "      <td>800.450</td>\n",
       "    </tr>\n",
       "    <tr>\n",
       "      <th>32803</th>\n",
       "      <td>2471.000</td>\n",
       "    </tr>\n",
       "    <tr>\n",
       "      <th>32804</th>\n",
       "      <td>633.000</td>\n",
       "    </tr>\n",
       "    <tr>\n",
       "      <th>32805</th>\n",
       "      <td>213.500</td>\n",
       "    </tr>\n",
       "  </tbody>\n",
       "</table>\n",
       "<p>32806 rows × 1 columns</p>\n",
       "</div>"
      ],
      "text/plain": [
       "            low\n",
       "0       106.030\n",
       "1        17.004\n",
       "2        -0.010\n",
       "3        17.208\n",
       "4       106.697\n",
       "...         ...\n",
       "32801   435.000\n",
       "32802   800.450\n",
       "32803  2471.000\n",
       "32804   633.000\n",
       "32805   213.500\n",
       "\n",
       "[32806 rows x 1 columns]"
      ]
     },
     "execution_count": 76,
     "metadata": {},
     "output_type": "execute_result"
    }
   ],
   "source": [
    "pd.DataFrame(one_data)"
   ]
  },
  {
   "cell_type": "code",
   "execution_count": 78,
   "id": "0ffac51a",
   "metadata": {},
   "outputs": [
    {
     "data": {
      "text/plain": [
       "('timestamp',\n",
       " 0        1025461800000000000\n",
       " 1        1025461800000000000\n",
       " 2        1025461800000000000\n",
       " 3        1025548200000000000\n",
       " 4        1025548200000000000\n",
       "                 ...         \n",
       " 32801    1693938600000000000\n",
       " 32802    1693938600000000000\n",
       " 32803    1693938600000000000\n",
       " 32804    1693938600000000000\n",
       " 32805    1693938600000000000\n",
       " Name: timestamp, Length: 32806, dtype: int64)"
      ]
     },
     "execution_count": 78,
     "metadata": {},
     "output_type": "execute_result"
    }
   ],
   "source": [
    "next(data.items())"
   ]
  },
  {
   "cell_type": "code",
   "execution_count": 83,
   "id": "dbc9643e",
   "metadata": {},
   "outputs": [
    {
     "ename": "TypeError",
     "evalue": "'DataFrame' object is not callable",
     "output_type": "error",
     "traceback": [
      "\u001b[1;31m---------------------------------------------------------------------------\u001b[0m",
      "\u001b[1;31mTypeError\u001b[0m                                 Traceback (most recent call last)",
      "Cell \u001b[1;32mIn[83], line 1\u001b[0m\n\u001b[1;32m----> 1\u001b[0m data\u001b[38;5;241m.\u001b[39mT()\n",
      "\u001b[1;31mTypeError\u001b[0m: 'DataFrame' object is not callable"
     ]
    }
   ],
   "source": [
    "data.T()"
   ]
  },
  {
   "cell_type": "code",
   "execution_count": 86,
   "id": "e996b0c6",
   "metadata": {},
   "outputs": [],
   "source": [
    "all_rows = data.iterrows()"
   ]
  },
  {
   "cell_type": "code",
   "execution_count": 89,
   "id": "ec3ab7ad",
   "metadata": {},
   "outputs": [
    {
     "data": {
      "text/plain": [
       "(2,\n",
       " timestamp             1025461800000000000\n",
       " symbol                           ADANIENT\n",
       " company         Adani Enterprises Limited\n",
       " open                                -0.01\n",
       " high                               -0.011\n",
       " low                                 -0.01\n",
       " close                               -0.01\n",
       " volume                            1080397\n",
       " dividends                             0.0\n",
       " stock_splits                          0.0\n",
       " Name: 2, dtype: object)"
      ]
     },
     "execution_count": 89,
     "metadata": {},
     "output_type": "execute_result"
    }
   ],
   "source": [
    "next(all_rows)"
   ]
  },
  {
   "cell_type": "code",
   "execution_count": 96,
   "id": "cbd27313",
   "metadata": {},
   "outputs": [
    {
     "name": "stdout",
     "output_type": "stream",
     "text": [
      "(1025461800000000000, 'ACC', 'ACC Limited', 106.697, 108.697, 106.03, 107.864, 659631, 0.0, 0.0)\n",
      "(1025461800000000000, 'AMBUJACEM', 'Ambuja Cements Limited', 17.078, 17.457, 17.004, 17.37, 630442, 0.0, 0.0)\n",
      "(1025461800000000000, 'ADANIENT', 'Adani Enterprises Limited', -0.01, -0.011, -0.01, -0.01, 1080397, 0.0, 0.0)\n",
      "(1025548200000000000, 'AMBUJACEM', 'Ambuja Cements Limited', 17.37, 17.544, 17.208, 17.357, 1007265, 0.0, 0.0)\n",
      "(1025548200000000000, 'ACC', 'ACC Limited', 107.397, 108.931, 106.697, 106.963, 282660, 0.0, 0.0)\n"
     ]
    }
   ],
   "source": [
    "for i,j in data.iterrows():\n",
    "    if i<=4:\n",
    "        print(tuple(j))"
   ]
  },
  {
   "cell_type": "code",
   "execution_count": 102,
   "id": "77dc4e8f",
   "metadata": {},
   "outputs": [],
   "source": [
    "all_data = data.itertuples()"
   ]
  },
  {
   "cell_type": "code",
   "execution_count": 104,
   "id": "0b48119b",
   "metadata": {},
   "outputs": [
    {
     "data": {
      "text/plain": [
       "pandas.core.frame.Pandas"
      ]
     },
     "execution_count": 104,
     "metadata": {},
     "output_type": "execute_result"
    }
   ],
   "source": [
    "type(next(all_data))"
   ]
  },
  {
   "cell_type": "code",
   "execution_count": 106,
   "id": "aa787eb3",
   "metadata": {},
   "outputs": [
    {
     "data": {
      "text/plain": [
       "[3,\n",
       " 1025548200000000000,\n",
       " 'AMBUJACEM',\n",
       " 'Ambuja Cements Limited',\n",
       " 17.37,\n",
       " 17.544,\n",
       " 17.208,\n",
       " 17.357,\n",
       " 1007265,\n",
       " 0.0,\n",
       " 0.0]"
      ]
     },
     "execution_count": 106,
     "metadata": {},
     "output_type": "execute_result"
    }
   ],
   "source": [
    "list(next(all_data))"
   ]
  },
  {
   "cell_type": "code",
   "execution_count": 109,
   "id": "ae95c95a",
   "metadata": {},
   "outputs": [
    {
     "data": {
      "text/html": [
       "<div>\n",
       "<style scoped>\n",
       "    .dataframe tbody tr th:only-of-type {\n",
       "        vertical-align: middle;\n",
       "    }\n",
       "\n",
       "    .dataframe tbody tr th {\n",
       "        vertical-align: top;\n",
       "    }\n",
       "\n",
       "    .dataframe thead th {\n",
       "        text-align: right;\n",
       "    }\n",
       "</style>\n",
       "<table border=\"1\" class=\"dataframe\">\n",
       "  <thead>\n",
       "    <tr style=\"text-align: right;\">\n",
       "      <th></th>\n",
       "      <th>0</th>\n",
       "    </tr>\n",
       "  </thead>\n",
       "  <tbody>\n",
       "    <tr>\n",
       "      <th>0</th>\n",
       "      <td>6</td>\n",
       "    </tr>\n",
       "    <tr>\n",
       "      <th>1</th>\n",
       "      <td>1025634600000000000</td>\n",
       "    </tr>\n",
       "    <tr>\n",
       "      <th>2</th>\n",
       "      <td>ACC</td>\n",
       "    </tr>\n",
       "    <tr>\n",
       "      <th>3</th>\n",
       "      <td>ACC Limited</td>\n",
       "    </tr>\n",
       "    <tr>\n",
       "      <th>4</th>\n",
       "      <td>107.363</td>\n",
       "    </tr>\n",
       "    <tr>\n",
       "      <th>5</th>\n",
       "      <td>108.03</td>\n",
       "    </tr>\n",
       "    <tr>\n",
       "      <th>6</th>\n",
       "      <td>105.93</td>\n",
       "    </tr>\n",
       "    <tr>\n",
       "      <th>7</th>\n",
       "      <td>106.563</td>\n",
       "    </tr>\n",
       "    <tr>\n",
       "      <th>8</th>\n",
       "      <td>500553</td>\n",
       "    </tr>\n",
       "    <tr>\n",
       "      <th>9</th>\n",
       "      <td>0.0</td>\n",
       "    </tr>\n",
       "    <tr>\n",
       "      <th>10</th>\n",
       "      <td>0.0</td>\n",
       "    </tr>\n",
       "  </tbody>\n",
       "</table>\n",
       "</div>"
      ],
      "text/plain": [
       "                      0\n",
       "0                     6\n",
       "1   1025634600000000000\n",
       "2                   ACC\n",
       "3           ACC Limited\n",
       "4               107.363\n",
       "5                108.03\n",
       "6                105.93\n",
       "7               106.563\n",
       "8                500553\n",
       "9                   0.0\n",
       "10                  0.0"
      ]
     },
     "execution_count": 109,
     "metadata": {},
     "output_type": "execute_result"
    }
   ],
   "source": [
    "pd.DataFrame(next(all_data))"
   ]
  },
  {
   "cell_type": "code",
   "execution_count": 110,
   "id": "a2c679ec",
   "metadata": {},
   "outputs": [
    {
     "data": {
      "text/plain": [
       "(7,\n",
       " 1025634600000000000,\n",
       " 'AMBUJACEM',\n",
       " 'Ambuja Cements Limited',\n",
       " 17.233,\n",
       " 17.364,\n",
       " 17.004,\n",
       " 17.103,\n",
       " 178065,\n",
       " 0.0,\n",
       " 0.0)"
      ]
     },
     "execution_count": 110,
     "metadata": {},
     "output_type": "execute_result"
    }
   ],
   "source": [
    "tuple(next(all_data))"
   ]
  },
  {
   "cell_type": "code",
   "execution_count": 112,
   "id": "85e80a0a",
   "metadata": {},
   "outputs": [
    {
     "data": {
      "text/plain": [
       "()"
      ]
     },
     "execution_count": 112,
     "metadata": {},
     "output_type": "execute_result"
    }
   ],
   "source": [
    "tuple((all_data))"
   ]
  },
  {
   "cell_type": "code",
   "execution_count": 113,
   "id": "c68a1a7c",
   "metadata": {},
   "outputs": [],
   "source": [
    "# 'corr'\n",
    "# # map\n",
    "# # 'insert\n",
    "# # apply\n",
    "# # 'to_csv', 'to_dict', 'to_excel',  'to_html', 'to_json'"
   ]
  },
  {
   "cell_type": "code",
   "execution_count": 132,
   "id": "34b7ce4a",
   "metadata": {},
   "outputs": [],
   "source": [
    "students_data = {'Study_hours':list(range(1,11)),\n",
    "                'Marks':list(range(10,101,10)),\n",
    "                'Sleeping_Hours':list(range(15,5,-1))}\n",
    "\n",
    "\n",
    "# for i in students_data.values():\n",
    "#     print(len(i))"
   ]
  },
  {
   "cell_type": "code",
   "execution_count": 133,
   "id": "8f73bc82",
   "metadata": {},
   "outputs": [],
   "source": [
    "study_df = pd.DataFrame(students_data)"
   ]
  },
  {
   "cell_type": "code",
   "execution_count": 134,
   "id": "6ba76f77",
   "metadata": {},
   "outputs": [
    {
     "data": {
      "text/html": [
       "<div>\n",
       "<style scoped>\n",
       "    .dataframe tbody tr th:only-of-type {\n",
       "        vertical-align: middle;\n",
       "    }\n",
       "\n",
       "    .dataframe tbody tr th {\n",
       "        vertical-align: top;\n",
       "    }\n",
       "\n",
       "    .dataframe thead th {\n",
       "        text-align: right;\n",
       "    }\n",
       "</style>\n",
       "<table border=\"1\" class=\"dataframe\">\n",
       "  <thead>\n",
       "    <tr style=\"text-align: right;\">\n",
       "      <th></th>\n",
       "      <th>Study_hours</th>\n",
       "      <th>Marks</th>\n",
       "      <th>Sleeping_Hours</th>\n",
       "    </tr>\n",
       "  </thead>\n",
       "  <tbody>\n",
       "    <tr>\n",
       "      <th>0</th>\n",
       "      <td>1</td>\n",
       "      <td>10</td>\n",
       "      <td>15</td>\n",
       "    </tr>\n",
       "    <tr>\n",
       "      <th>1</th>\n",
       "      <td>2</td>\n",
       "      <td>20</td>\n",
       "      <td>14</td>\n",
       "    </tr>\n",
       "    <tr>\n",
       "      <th>2</th>\n",
       "      <td>3</td>\n",
       "      <td>30</td>\n",
       "      <td>13</td>\n",
       "    </tr>\n",
       "    <tr>\n",
       "      <th>3</th>\n",
       "      <td>4</td>\n",
       "      <td>40</td>\n",
       "      <td>12</td>\n",
       "    </tr>\n",
       "    <tr>\n",
       "      <th>4</th>\n",
       "      <td>5</td>\n",
       "      <td>50</td>\n",
       "      <td>11</td>\n",
       "    </tr>\n",
       "    <tr>\n",
       "      <th>5</th>\n",
       "      <td>6</td>\n",
       "      <td>60</td>\n",
       "      <td>10</td>\n",
       "    </tr>\n",
       "    <tr>\n",
       "      <th>6</th>\n",
       "      <td>7</td>\n",
       "      <td>70</td>\n",
       "      <td>9</td>\n",
       "    </tr>\n",
       "    <tr>\n",
       "      <th>7</th>\n",
       "      <td>8</td>\n",
       "      <td>80</td>\n",
       "      <td>8</td>\n",
       "    </tr>\n",
       "    <tr>\n",
       "      <th>8</th>\n",
       "      <td>9</td>\n",
       "      <td>90</td>\n",
       "      <td>7</td>\n",
       "    </tr>\n",
       "    <tr>\n",
       "      <th>9</th>\n",
       "      <td>10</td>\n",
       "      <td>100</td>\n",
       "      <td>6</td>\n",
       "    </tr>\n",
       "  </tbody>\n",
       "</table>\n",
       "</div>"
      ],
      "text/plain": [
       "   Study_hours  Marks  Sleeping_Hours\n",
       "0            1     10              15\n",
       "1            2     20              14\n",
       "2            3     30              13\n",
       "3            4     40              12\n",
       "4            5     50              11\n",
       "5            6     60              10\n",
       "6            7     70               9\n",
       "7            8     80               8\n",
       "8            9     90               7\n",
       "9           10    100               6"
      ]
     },
     "execution_count": 134,
     "metadata": {},
     "output_type": "execute_result"
    }
   ],
   "source": [
    "study_df"
   ]
  },
  {
   "cell_type": "code",
   "execution_count": 135,
   "id": "2e62918c",
   "metadata": {},
   "outputs": [
    {
     "data": {
      "text/html": [
       "<div>\n",
       "<style scoped>\n",
       "    .dataframe tbody tr th:only-of-type {\n",
       "        vertical-align: middle;\n",
       "    }\n",
       "\n",
       "    .dataframe tbody tr th {\n",
       "        vertical-align: top;\n",
       "    }\n",
       "\n",
       "    .dataframe thead th {\n",
       "        text-align: right;\n",
       "    }\n",
       "</style>\n",
       "<table border=\"1\" class=\"dataframe\">\n",
       "  <thead>\n",
       "    <tr style=\"text-align: right;\">\n",
       "      <th></th>\n",
       "      <th>Study_hours</th>\n",
       "      <th>Marks</th>\n",
       "      <th>Sleeping_Hours</th>\n",
       "    </tr>\n",
       "  </thead>\n",
       "  <tbody>\n",
       "    <tr>\n",
       "      <th>Study_hours</th>\n",
       "      <td>1.0</td>\n",
       "      <td>1.0</td>\n",
       "      <td>-1.0</td>\n",
       "    </tr>\n",
       "    <tr>\n",
       "      <th>Marks</th>\n",
       "      <td>1.0</td>\n",
       "      <td>1.0</td>\n",
       "      <td>-1.0</td>\n",
       "    </tr>\n",
       "    <tr>\n",
       "      <th>Sleeping_Hours</th>\n",
       "      <td>-1.0</td>\n",
       "      <td>-1.0</td>\n",
       "      <td>1.0</td>\n",
       "    </tr>\n",
       "  </tbody>\n",
       "</table>\n",
       "</div>"
      ],
      "text/plain": [
       "                Study_hours  Marks  Sleeping_Hours\n",
       "Study_hours             1.0    1.0            -1.0\n",
       "Marks                   1.0    1.0            -1.0\n",
       "Sleeping_Hours         -1.0   -1.0             1.0"
      ]
     },
     "execution_count": 135,
     "metadata": {},
     "output_type": "execute_result"
    }
   ],
   "source": [
    "study_df.corr()"
   ]
  },
  {
   "cell_type": "code",
   "execution_count": 139,
   "id": "ec3ccfa8",
   "metadata": {},
   "outputs": [
    {
     "data": {
      "text/html": [
       "<div>\n",
       "<style scoped>\n",
       "    .dataframe tbody tr th:only-of-type {\n",
       "        vertical-align: middle;\n",
       "    }\n",
       "\n",
       "    .dataframe tbody tr th {\n",
       "        vertical-align: top;\n",
       "    }\n",
       "\n",
       "    .dataframe thead th {\n",
       "        text-align: right;\n",
       "    }\n",
       "</style>\n",
       "<table border=\"1\" class=\"dataframe\">\n",
       "  <thead>\n",
       "    <tr style=\"text-align: right;\">\n",
       "      <th></th>\n",
       "      <th>timestamp</th>\n",
       "      <th>open</th>\n",
       "      <th>high</th>\n",
       "      <th>low</th>\n",
       "      <th>close</th>\n",
       "      <th>volume</th>\n",
       "      <th>dividends</th>\n",
       "      <th>stock_splits</th>\n",
       "    </tr>\n",
       "  </thead>\n",
       "  <tbody>\n",
       "    <tr>\n",
       "      <th>timestamp</th>\n",
       "      <td>1.000000</td>\n",
       "      <td>0.423897</td>\n",
       "      <td>0.424254</td>\n",
       "      <td>0.423607</td>\n",
       "      <td>0.423937</td>\n",
       "      <td>0.104592</td>\n",
       "      <td>0.002885</td>\n",
       "      <td>-0.010118</td>\n",
       "    </tr>\n",
       "    <tr>\n",
       "      <th>open</th>\n",
       "      <td>0.423897</td>\n",
       "      <td>1.000000</td>\n",
       "      <td>0.999752</td>\n",
       "      <td>0.999598</td>\n",
       "      <td>0.999473</td>\n",
       "      <td>-0.123465</td>\n",
       "      <td>0.031432</td>\n",
       "      <td>-0.004725</td>\n",
       "    </tr>\n",
       "    <tr>\n",
       "      <th>high</th>\n",
       "      <td>0.424254</td>\n",
       "      <td>0.999752</td>\n",
       "      <td>1.000000</td>\n",
       "      <td>0.999450</td>\n",
       "      <td>0.999699</td>\n",
       "      <td>-0.121453</td>\n",
       "      <td>0.031227</td>\n",
       "      <td>-0.004722</td>\n",
       "    </tr>\n",
       "    <tr>\n",
       "      <th>low</th>\n",
       "      <td>0.423607</td>\n",
       "      <td>0.999598</td>\n",
       "      <td>0.999450</td>\n",
       "      <td>1.000000</td>\n",
       "      <td>0.999742</td>\n",
       "      <td>-0.125516</td>\n",
       "      <td>0.031872</td>\n",
       "      <td>-0.004745</td>\n",
       "    </tr>\n",
       "    <tr>\n",
       "      <th>close</th>\n",
       "      <td>0.423937</td>\n",
       "      <td>0.999473</td>\n",
       "      <td>0.999699</td>\n",
       "      <td>0.999742</td>\n",
       "      <td>1.000000</td>\n",
       "      <td>-0.123193</td>\n",
       "      <td>0.031542</td>\n",
       "      <td>-0.004748</td>\n",
       "    </tr>\n",
       "    <tr>\n",
       "      <th>volume</th>\n",
       "      <td>0.104592</td>\n",
       "      <td>-0.123465</td>\n",
       "      <td>-0.121453</td>\n",
       "      <td>-0.125516</td>\n",
       "      <td>-0.123193</td>\n",
       "      <td>1.000000</td>\n",
       "      <td>-0.008178</td>\n",
       "      <td>-0.002269</td>\n",
       "    </tr>\n",
       "    <tr>\n",
       "      <th>dividends</th>\n",
       "      <td>0.002885</td>\n",
       "      <td>0.031432</td>\n",
       "      <td>0.031227</td>\n",
       "      <td>0.031872</td>\n",
       "      <td>0.031542</td>\n",
       "      <td>-0.008178</td>\n",
       "      <td>1.000000</td>\n",
       "      <td>-0.000310</td>\n",
       "    </tr>\n",
       "    <tr>\n",
       "      <th>stock_splits</th>\n",
       "      <td>-0.010118</td>\n",
       "      <td>-0.004725</td>\n",
       "      <td>-0.004722</td>\n",
       "      <td>-0.004745</td>\n",
       "      <td>-0.004748</td>\n",
       "      <td>-0.002269</td>\n",
       "      <td>-0.000310</td>\n",
       "      <td>1.000000</td>\n",
       "    </tr>\n",
       "  </tbody>\n",
       "</table>\n",
       "</div>"
      ],
      "text/plain": [
       "              timestamp      open      high       low     close    volume  \\\n",
       "timestamp      1.000000  0.423897  0.424254  0.423607  0.423937  0.104592   \n",
       "open           0.423897  1.000000  0.999752  0.999598  0.999473 -0.123465   \n",
       "high           0.424254  0.999752  1.000000  0.999450  0.999699 -0.121453   \n",
       "low            0.423607  0.999598  0.999450  1.000000  0.999742 -0.125516   \n",
       "close          0.423937  0.999473  0.999699  0.999742  1.000000 -0.123193   \n",
       "volume         0.104592 -0.123465 -0.121453 -0.125516 -0.123193  1.000000   \n",
       "dividends      0.002885  0.031432  0.031227  0.031872  0.031542 -0.008178   \n",
       "stock_splits  -0.010118 -0.004725 -0.004722 -0.004745 -0.004748 -0.002269   \n",
       "\n",
       "              dividends  stock_splits  \n",
       "timestamp      0.002885     -0.010118  \n",
       "open           0.031432     -0.004725  \n",
       "high           0.031227     -0.004722  \n",
       "low            0.031872     -0.004745  \n",
       "close          0.031542     -0.004748  \n",
       "volume        -0.008178     -0.002269  \n",
       "dividends      1.000000     -0.000310  \n",
       "stock_splits  -0.000310      1.000000  "
      ]
     },
     "execution_count": 139,
     "metadata": {},
     "output_type": "execute_result"
    }
   ],
   "source": [
    "data.corr(numeric_only = True)"
   ]
  },
  {
   "cell_type": "code",
   "execution_count": 143,
   "id": "eb6f68c5",
   "metadata": {},
   "outputs": [],
   "source": [
    "import seaborn as sns\n",
    "import matplotlib.pyplot as plt"
   ]
  },
  {
   "cell_type": "code",
   "execution_count": 145,
   "id": "c3265d90",
   "metadata": {},
   "outputs": [
    {
     "data": {
      "image/png": "[encoded data removed]",
      "text/plain": [
       "<Figure size 640x480 with 2 Axes>"
      ]
     },
     "metadata": {},
     "output_type": "display_data"
    }
   ],
   "source": [
    "sns.heatmap(data.corr(numeric_only = True),annot=True)\n",
    "plt.show()"
   ]
  },
  {
   "cell_type": "code",
   "execution_count": null,
   "id": "681fea4c",
   "metadata": {},
   "outputs": [],
   "source": []
  }
 ],
 "metadata": {
  "kernelspec": {
   "display_name": "Python 3 (ipykernel)",
   "language": "python",
   "name": "python3"
  },
  "language_info": {
   "codemirror_mode": {
    "name": "ipython",
    "version": 3
   },
   "file_extension": ".py",
   "mimetype": "text/x-python",
   "name": "python",
   "nbconvert_exporter": "python",
   "pygments_lexer": "ipython3",
   "version": "3.11.3"
  }
 },
 "nbformat": 4,
 "nbformat_minor": 5
}
