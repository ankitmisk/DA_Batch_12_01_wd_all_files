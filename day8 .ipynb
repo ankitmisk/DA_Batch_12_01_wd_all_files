{
 "cells": [
  {
   "cell_type": "code",
   "execution_count": 1,
   "id": "019cecdd",
   "metadata": {},
   "outputs": [],
   "source": [
    "# where\n",
    "# np.tile\n",
    "# masking"
   ]
  },
  {
   "cell_type": "code",
   "execution_count": 2,
   "id": "843eebc1",
   "metadata": {},
   "outputs": [],
   "source": [
    "import numpy as np"
   ]
  },
  {
   "cell_type": "code",
   "execution_count": 3,
   "id": "700e98e6",
   "metadata": {},
   "outputs": [],
   "source": [
    "a = np.random.randint(1,50,(5,5))"
   ]
  },
  {
   "cell_type": "code",
   "execution_count": 4,
   "id": "e285507e",
   "metadata": {},
   "outputs": [
    {
     "data": {
      "text/plain": [
       "array([[34, 18, 19, 25, 16],\n",
       "       [23, 39, 49, 11, 19],\n",
       "       [ 5, 43, 35, 46, 28],\n",
       "       [16, 19, 26, 40, 48],\n",
       "       [13, 41, 33,  3, 38]])"
      ]
     },
     "execution_count": 4,
     "metadata": {},
     "output_type": "execute_result"
    }
   ],
   "source": [
    "a"
   ]
  },
  {
   "cell_type": "code",
   "execution_count": 5,
   "id": "b1c6e6c8",
   "metadata": {},
   "outputs": [
    {
     "data": {
      "text/plain": [
       "array([[ True, False, False, False, False],\n",
       "       [False,  True,  True, False, False],\n",
       "       [False,  True,  True,  True, False],\n",
       "       [False, False, False,  True,  True],\n",
       "       [False,  True,  True, False,  True]])"
      ]
     },
     "execution_count": 5,
     "metadata": {},
     "output_type": "execute_result"
    }
   ],
   "source": [
    "# masking\n",
    "# sparse matrix:- 0,1\n",
    "\n",
    "a>30"
   ]
  },
  {
   "cell_type": "code",
   "execution_count": 7,
   "id": "a5c4e8f5",
   "metadata": {},
   "outputs": [],
   "source": [
    "# 1d:- arr:- series,sequence, vector:- numpy\n",
    "# 2d:- arr:- dataframe,table,matrix  # numpy\n",
    "# 3d:- arr:- tensors  # AI\n",
    "        \n",
    "# 4d:- array, tensors  # AI"
   ]
  },
  {
   "cell_type": "code",
   "execution_count": 14,
   "id": "979577db",
   "metadata": {},
   "outputs": [
    {
     "data": {
      "text/plain": [
       "array([[34, 18, 19, 25, 16],\n",
       "       [23, 39, 49, 11, 19],\n",
       "       [ 5, 43, 35, 46, 28],\n",
       "       [16, 19, 26, 40, 48],\n",
       "       [13, 41, 33,  3, 38]])"
      ]
     },
     "execution_count": 14,
     "metadata": {},
     "output_type": "execute_result"
    }
   ],
   "source": [
    "a"
   ]
  },
  {
   "cell_type": "code",
   "execution_count": 15,
   "id": "51a5af80",
   "metadata": {},
   "outputs": [
    {
     "data": {
      "text/plain": [
       "array([[34, 18, 19, 25, 16],\n",
       "       [23, 39, 49, 11, 19]])"
      ]
     },
     "execution_count": 15,
     "metadata": {},
     "output_type": "execute_result"
    }
   ],
   "source": [
    "a[[True,True,False,False,False]]"
   ]
  },
  {
   "cell_type": "code",
   "execution_count": 17,
   "id": "8e2fab0e",
   "metadata": {},
   "outputs": [
    {
     "data": {
      "text/plain": [
       "array([34, 39, 49, 43, 35, 46, 40, 48, 41, 33, 38])"
      ]
     },
     "execution_count": 17,
     "metadata": {},
     "output_type": "execute_result"
    }
   ],
   "source": [
    "a[a>30]"
   ]
  },
  {
   "cell_type": "code",
   "execution_count": 22,
   "id": "411e5cc4",
   "metadata": {},
   "outputs": [
    {
     "data": {
      "text/plain": [
       "array([40])"
      ]
     },
     "execution_count": 22,
     "metadata": {},
     "output_type": "execute_result"
    }
   ],
   "source": [
    "a[a==40]"
   ]
  },
  {
   "cell_type": "code",
   "execution_count": 26,
   "id": "540ed53a",
   "metadata": {},
   "outputs": [
    {
     "data": {
      "text/plain": [
       "array([43, 40])"
      ]
     },
     "execution_count": 26,
     "metadata": {},
     "output_type": "execute_result"
    }
   ],
   "source": [
    "a[(a == 40) | (a == 43)]"
   ]
  },
  {
   "cell_type": "code",
   "execution_count": 29,
   "id": "d5c7709b",
   "metadata": {},
   "outputs": [
    {
     "data": {
      "text/plain": [
       "array([34, 18, 16, 46, 28, 16, 26, 40, 48, 38])"
      ]
     },
     "execution_count": 29,
     "metadata": {},
     "output_type": "execute_result"
    }
   ],
   "source": [
    "a[a%2==0]"
   ]
  },
  {
   "cell_type": "code",
   "execution_count": 30,
   "id": "50e2bfff",
   "metadata": {},
   "outputs": [
    {
     "data": {
      "text/plain": [
       "array([19, 25, 23, 39, 49, 11, 19,  5, 43, 35, 19, 13, 41, 33,  3])"
      ]
     },
     "execution_count": 30,
     "metadata": {},
     "output_type": "execute_result"
    }
   ],
   "source": [
    "a[a%2!=0]"
   ]
  },
  {
   "cell_type": "code",
   "execution_count": 31,
   "id": "f13e5856",
   "metadata": {},
   "outputs": [],
   "source": [
    "a = np.random.randint(1,100,(3,3,3))"
   ]
  },
  {
   "cell_type": "code",
   "execution_count": 32,
   "id": "d23b8702",
   "metadata": {},
   "outputs": [
    {
     "data": {
      "text/plain": [
       "array([[[95, 61,  1],\n",
       "        [80, 19, 15],\n",
       "        [90, 18, 77]],\n",
       "\n",
       "       [[29, 31, 23],\n",
       "        [23, 92, 85],\n",
       "        [56, 51, 58]],\n",
       "\n",
       "       [[94, 99, 78],\n",
       "        [32, 80, 64],\n",
       "        [29, 13, 49]]])"
      ]
     },
     "execution_count": 32,
     "metadata": {},
     "output_type": "execute_result"
    }
   ],
   "source": [
    "a"
   ]
  },
  {
   "cell_type": "code",
   "execution_count": 34,
   "id": "07b27ec4",
   "metadata": {},
   "outputs": [
    {
     "data": {
      "text/plain": [
       "array([77, 56, 49])"
      ]
     },
     "execution_count": 34,
     "metadata": {},
     "output_type": "execute_result"
    }
   ],
   "source": [
    "a[a % 7 == 0]"
   ]
  },
  {
   "cell_type": "code",
   "execution_count": 35,
   "id": "972e37ff",
   "metadata": {},
   "outputs": [
    {
     "data": {
      "text/plain": [
       "array([95, 61,  1, 80, 19, 15, 90, 18, 29, 31, 23, 23, 92, 85, 51, 58, 94,\n",
       "       99, 78, 32, 80, 64, 29, 13])"
      ]
     },
     "execution_count": 35,
     "metadata": {},
     "output_type": "execute_result"
    }
   ],
   "source": [
    "a[a % 7 != 0]"
   ]
  },
  {
   "cell_type": "code",
   "execution_count": 36,
   "id": "d6fb4d67",
   "metadata": {},
   "outputs": [
    {
     "ename": "ValueError",
     "evalue": "The truth value of an array with more than one element is ambiguous. Use a.any() or a.all()",
     "output_type": "error",
     "traceback": [
      "\u001b[1;31m---------------------------------------------------------------------------\u001b[0m",
      "\u001b[1;31mValueError\u001b[0m                                Traceback (most recent call last)",
      "Cell \u001b[1;32mIn[36], line 1\u001b[0m\n\u001b[1;32m----> 1\u001b[0m a[\u001b[38;5;129;01mnot\u001b[39;00m(a \u001b[38;5;241m%\u001b[39m \u001b[38;5;241m7\u001b[39m \u001b[38;5;241m==\u001b[39m \u001b[38;5;241m0\u001b[39m)]\n",
      "\u001b[1;31mValueError\u001b[0m: The truth value of an array with more than one element is ambiguous. Use a.any() or a.all()"
     ]
    }
   ],
   "source": [
    "a[not(a % 7 == 0)]"
   ]
  },
  {
   "cell_type": "code",
   "execution_count": 45,
   "id": "3f4aaf2d",
   "metadata": {},
   "outputs": [
    {
     "data": {
      "text/plain": [
       "array([95, 61,  1, 80, 19, 15, 90, 18, 29, 31, 23, 23, 92, 85, 51, 58, 94,\n",
       "       99, 78, 32, 80, 64, 29, 13])"
      ]
     },
     "execution_count": 45,
     "metadata": {},
     "output_type": "execute_result"
    }
   ],
   "source": [
    "a[~(a % 7 == 0)]"
   ]
  },
  {
   "cell_type": "code",
   "execution_count": 46,
   "id": "48e8ed1f",
   "metadata": {},
   "outputs": [],
   "source": [
    "# np.where()"
   ]
  },
  {
   "cell_type": "code",
   "execution_count": 49,
   "id": "f7087be0",
   "metadata": {},
   "outputs": [
    {
     "data": {
      "text/plain": [
       "array([95, 92, 94, 99])"
      ]
     },
     "execution_count": 49,
     "metadata": {},
     "output_type": "execute_result"
    }
   ],
   "source": [
    "a[a>90]"
   ]
  },
  {
   "cell_type": "code",
   "execution_count": 53,
   "id": "c2ec792c",
   "metadata": {},
   "outputs": [
    {
     "data": {
      "text/plain": [
       "array([[[100,  61,   1],\n",
       "        [ 80,  19,  15],\n",
       "        [ 90,  18,  77]],\n",
       "\n",
       "       [[ 29,  31,  23],\n",
       "        [ 23, 100,  85],\n",
       "        [ 56,  51,  58]],\n",
       "\n",
       "       [[100, 100,  78],\n",
       "        [ 32,  80,  64],\n",
       "        [ 29,  13,  49]]])"
      ]
     },
     "execution_count": 53,
     "metadata": {},
     "output_type": "execute_result"
    }
   ],
   "source": [
    "np.where(a>90,100,a)"
   ]
  },
  {
   "cell_type": "code",
   "execution_count": 56,
   "id": "ca8782b5",
   "metadata": {},
   "outputs": [
    {
     "data": {
      "text/plain": [
       "array([[[100,  61,   1],\n",
       "        [ 80,  19,  15],\n",
       "        [ 90,  18,  77]],\n",
       "\n",
       "       [[ 29,  31,  23],\n",
       "        [ 23, 100,  85],\n",
       "        [ 56,  51,  58]],\n",
       "\n",
       "       [[100, 100,  78],\n",
       "        [ 32,  80,  64],\n",
       "        [ 29,  13,  49]]])"
      ]
     },
     "execution_count": 56,
     "metadata": {},
     "output_type": "execute_result"
    }
   ],
   "source": [
    "np.where(a>90,100,a)"
   ]
  },
  {
   "cell_type": "code",
   "execution_count": 57,
   "id": "85451147",
   "metadata": {},
   "outputs": [
    {
     "data": {
      "text/plain": [
       "array([[[95, 61,  1],\n",
       "        [80, 19, 15],\n",
       "        [90, 18, 77]],\n",
       "\n",
       "       [[29, 31, 23],\n",
       "        [23, 92, 85],\n",
       "        [56, 51, 58]],\n",
       "\n",
       "       [[94, 99, 78],\n",
       "        [32, 80, 64],\n",
       "        [29, 13, 49]]])"
      ]
     },
     "execution_count": 57,
     "metadata": {},
     "output_type": "execute_result"
    }
   ],
   "source": [
    "a"
   ]
  },
  {
   "cell_type": "code",
   "execution_count": 58,
   "id": "855d34fd",
   "metadata": {},
   "outputs": [],
   "source": [
    "# h/w virat"
   ]
  },
  {
   "cell_type": "code",
   "execution_count": 61,
   "id": "20237fe9",
   "metadata": {},
   "outputs": [
    {
     "data": {
      "text/plain": [
       "array([[[95, 61,  1],\n",
       "        [80, 19, 15],\n",
       "        [90, 18, 77]],\n",
       "\n",
       "       [[29, 31, 23],\n",
       "        [23, 92, 85],\n",
       "        [56, 51, 58]],\n",
       "\n",
       "       [[94, 99, 78],\n",
       "        [32, 80, 64],\n",
       "        [29, 13, 49]]])"
      ]
     },
     "execution_count": 61,
     "metadata": {},
     "output_type": "execute_result"
    }
   ],
   "source": [
    "a"
   ]
  },
  {
   "cell_type": "code",
   "execution_count": 60,
   "id": "98c63083",
   "metadata": {},
   "outputs": [
    {
     "data": {
      "text/plain": [
       "(array([0, 1, 2], dtype=int64),\n",
       " array([2, 2, 2], dtype=int64),\n",
       " array([2, 0, 2], dtype=int64))"
      ]
     },
     "execution_count": 60,
     "metadata": {},
     "output_type": "execute_result"
    }
   ],
   "source": [
    "np.where(a%7==0)"
   ]
  },
  {
   "cell_type": "code",
   "execution_count": 62,
   "id": "f3071820",
   "metadata": {},
   "outputs": [
    {
     "data": {
      "text/plain": [
       "(array([0, 0, 0, 1, 1, 1, 2, 2, 2, 2, 2], dtype=int64),\n",
       " array([1, 2, 2, 1, 2, 2, 0, 0, 1, 1, 1], dtype=int64),\n",
       " array([0, 0, 1, 1, 0, 2, 0, 2, 0, 1, 2], dtype=int64))"
      ]
     },
     "execution_count": 62,
     "metadata": {},
     "output_type": "execute_result"
    }
   ],
   "source": [
    "np.where(a%2==0)"
   ]
  },
  {
   "cell_type": "code",
   "execution_count": 63,
   "id": "f2c00c07",
   "metadata": {},
   "outputs": [
    {
     "data": {
      "text/plain": [
       "array([[[95, 61,  1],\n",
       "        [80, 19, 15],\n",
       "        [90, 18, 77]],\n",
       "\n",
       "       [[29, 31, 23],\n",
       "        [23, 92, 85],\n",
       "        [56, 51, 58]],\n",
       "\n",
       "       [[94, 99, 78],\n",
       "        [32, 80, 64],\n",
       "        [29, 13, 49]]])"
      ]
     },
     "execution_count": 63,
     "metadata": {},
     "output_type": "execute_result"
    }
   ],
   "source": [
    "a"
   ]
  },
  {
   "cell_type": "code",
   "execution_count": 64,
   "id": "2f8fb542",
   "metadata": {},
   "outputs": [
    {
     "data": {
      "text/plain": [
       "78"
      ]
     },
     "execution_count": 64,
     "metadata": {},
     "output_type": "execute_result"
    }
   ],
   "source": [
    "a[2][0][2]"
   ]
  },
  {
   "cell_type": "code",
   "execution_count": 65,
   "id": "2b5de409",
   "metadata": {},
   "outputs": [
    {
     "data": {
      "text/plain": [
       "64"
      ]
     },
     "execution_count": 65,
     "metadata": {},
     "output_type": "execute_result"
    }
   ],
   "source": [
    "a[2][1][2]"
   ]
  },
  {
   "cell_type": "code",
   "execution_count": 67,
   "id": "c4284609",
   "metadata": {},
   "outputs": [],
   "source": [
    "# # np.argmax\n",
    "# # np.ndim\n",
    "# # np.arange\n",
    "# # np.shape\n",
    "# # arr.shape\n",
    "# # arr.ndim\n",
    "# # arr.dtype\n",
    "# # arr.astype\n",
    "# # np.zeros\n",
    "# # np.full\n",
    "# # np.ones\n",
    "# # np.linspace\n",
    "# # np.max\n",
    "# # np.min\n",
    "# # np.sum\n",
    "# # np.median\n",
    "# # np.random.randint\n",
    "# # np.random.seed\n",
    "# # np.mod\n",
    "# # np.mean\n",
    "# # np.abs\n",
    "# # np.all\n",
    "# # np.any\n",
    "# # np.rot90\n",
    "# np.vstack\n",
    "# np.hstack\n",
    "# np.dstack\n",
    "# np.hsplit\n",
    "# np.vsplit\n",
    "# np.dsplit\n",
    "# np.concatenate\n",
    "# np.append\n",
    "# np.argsort\n",
    "# np.where\n",
    "# np.sort\n",
    "# np.array2string\n",
    "# np.fromiter\n",
    "# np.fromstring\n",
    "# np.clip\n",
    "# np.nan\n",
    "# np.isin\n",
    "# np.isnan\n",
    "# np.copy\n",
    "# np.equal\n",
    "# np.T\n",
    "# np.transpose\n",
    "# np.math\n",
    "# np.who\n",
    "# np.var\n",
    "# np.tile\n",
    "# np.reshape\n",
    "# np.polynomial\n",
    "# np.array\n"
   ]
  },
  {
   "cell_type": "markdown",
   "id": "922d0628",
   "metadata": {},
   "source": [
    "# https://numpy.org/doc/stable/reference/generated/numpy.clip.html"
   ]
  },
  {
   "cell_type": "code",
   "execution_count": 68,
   "id": "be76fae9",
   "metadata": {},
   "outputs": [
    {
     "name": "stdout",
     "output_type": "stream",
     "text": [
      "Name            Shape            Bytes            Type\n",
      "===========================================================\n",
      "\n",
      "___             3 x 3 x 3        108              int32\n",
      "a (___)         3 x 3 x 3        108              int32\n",
      "_4              5 x 5            100              int32\n",
      "_5              5 x 5            25               bool\n",
      "_8              5 x 5            25               bool\n",
      "_9 (_4)         5 x 5            100              int32\n",
      "_10             1 x 5 x 5        100              int32\n",
      "_11             1 x 5 x 5        100              int32\n",
      "_13             3 x 5            60               int32\n",
      "_14 (_4)        5 x 5            100              int32\n",
      "_15             2 x 5            40               int32\n",
      "_16             5 x 5            25               bool\n",
      "_17             11               44               int32\n",
      "_18             5 x 5            25               bool\n",
      "_19             5 x 5            25               bool\n",
      "_20             5 x 5            25               bool\n",
      "_21             5 x 5            25               bool\n",
      "_22             1                4                int32\n",
      "_24             5 x 5            25               bool\n",
      "_25             5 x 5            25               bool\n",
      "_26             2                8                int32\n",
      "_27 (_4)        5 x 5            100              int32\n",
      "_28             5 x 5            25               bool\n",
      "_29             10               40               int32\n",
      "_30             15               60               int32\n",
      "_32 (___)       3 x 3 x 3        108              int32\n",
      "_33             3 x 3 x 3        27               bool\n",
      "_34             3                12               int32\n",
      "_35             24               96               int32\n",
      "_37             24               96               int32\n",
      "_38             3                12               int32\n",
      "_39             3                12               int32\n",
      "_40             24               96               int32\n",
      "_41             3                12               int32\n",
      "_43             24               96               int32\n",
      "_44             24               96               int32\n",
      "_45             24               96               int32\n",
      "_47 (___)       3 x 3 x 3        108              int32\n",
      "_48             3 x 3 x 3        27               bool\n",
      "_49             4                16               int32\n",
      "_50             3 x 3 x 3        27               bool\n",
      "_51             3 x 3 x 3        108              int32\n",
      "_53             3 x 3 x 3        108              int32\n",
      "_54             3 x 3 x 3        216              object\n",
      "_55             3 x 3 x 3        108              int32\n",
      "_56             3 x 3 x 3        108              int32\n",
      "_57 (___)       3 x 3 x 3        108              int32\n",
      "_61 (___)       3 x 3 x 3        108              int32\n",
      "_63 (___)       3 x 3 x 3        108              int32\n",
      "\n",
      "Upper bound on total bytes  =       2283\n"
     ]
    }
   ],
   "source": [
    "np.who()"
   ]
  },
  {
   "cell_type": "code",
   "execution_count": 71,
   "id": "20d37a32",
   "metadata": {},
   "outputs": [
    {
     "name": "stdout",
     "output_type": "stream",
     "text": [
      "Name            Shape            Bytes            Type\n",
      "===========================================================\n",
      "\n",
      "___             3 x 3 x 3        108              int32\n",
      "a               2                8                int32\n",
      "_4              5 x 5            100              int32\n",
      "_5              5 x 5            25               bool\n",
      "_8              5 x 5            25               bool\n",
      "_9 (_4)         5 x 5            100              int32\n",
      "_10             1 x 5 x 5        100              int32\n",
      "_11             1 x 5 x 5        100              int32\n",
      "_13             3 x 5            60               int32\n",
      "_14 (_4)        5 x 5            100              int32\n",
      "_15             2 x 5            40               int32\n",
      "_16             5 x 5            25               bool\n",
      "_17             11               44               int32\n",
      "_18             5 x 5            25               bool\n",
      "_19             5 x 5            25               bool\n",
      "_20             5 x 5            25               bool\n",
      "_21             5 x 5            25               bool\n",
      "_22             1                4                int32\n",
      "_24             5 x 5            25               bool\n",
      "_25             5 x 5            25               bool\n",
      "_26             2                8                int32\n",
      "_27 (_4)        5 x 5            100              int32\n",
      "_28             5 x 5            25               bool\n",
      "_29             10               40               int32\n",
      "_30             15               60               int32\n",
      "_32 (___)       3 x 3 x 3        108              int32\n",
      "_33             3 x 3 x 3        27               bool\n",
      "_34             3                12               int32\n",
      "_35             24               96               int32\n",
      "_37             24               96               int32\n",
      "_38             3                12               int32\n",
      "_39             3                12               int32\n",
      "_40             24               96               int32\n",
      "_41             3                12               int32\n",
      "_43             24               96               int32\n",
      "_44             24               96               int32\n",
      "_45             24               96               int32\n",
      "_47 (___)       3 x 3 x 3        108              int32\n",
      "_48             3 x 3 x 3        27               bool\n",
      "_49             4                16               int32\n",
      "_50             3 x 3 x 3        27               bool\n",
      "_51             3 x 3 x 3        108              int32\n",
      "_53             3 x 3 x 3        108              int32\n",
      "_54             3 x 3 x 3        216              object\n",
      "_55             3 x 3 x 3        108              int32\n",
      "_56             3 x 3 x 3        108              int32\n",
      "_57 (___)       3 x 3 x 3        108              int32\n",
      "_61 (___)       3 x 3 x 3        108              int32\n",
      "_63 (___)       3 x 3 x 3        108              int32\n",
      "\n",
      "Upper bound on total bytes  =       2291\n"
     ]
    }
   ],
   "source": [
    "a = np.array([12,35])\n",
    "np.who()"
   ]
  },
  {
   "cell_type": "code",
   "execution_count": 73,
   "id": "4008c475",
   "metadata": {},
   "outputs": [
    {
     "data": {
      "text/plain": [
       "array([12, 35])"
      ]
     },
     "execution_count": 73,
     "metadata": {},
     "output_type": "execute_result"
    }
   ],
   "source": [
    "a"
   ]
  },
  {
   "cell_type": "code",
   "execution_count": 72,
   "id": "5e73bd5c",
   "metadata": {},
   "outputs": [
    {
     "data": {
      "text/plain": [
       "array([12, 35, 12, 35, 12, 35])"
      ]
     },
     "execution_count": 72,
     "metadata": {},
     "output_type": "execute_result"
    }
   ],
   "source": [
    "np.tile(a,3)"
   ]
  },
  {
   "cell_type": "code",
   "execution_count": 74,
   "id": "e7f1f823",
   "metadata": {},
   "outputs": [
    {
     "data": {
      "text/plain": [
       "[12, 25, 12, 25, 12, 25]"
      ]
     },
     "execution_count": 74,
     "metadata": {},
     "output_type": "execute_result"
    }
   ],
   "source": [
    "a = [12,25]\n",
    "\n",
    "a*3"
   ]
  },
  {
   "cell_type": "code",
   "execution_count": 75,
   "id": "9f591e81",
   "metadata": {},
   "outputs": [
    {
     "data": {
      "text/plain": [
       "array([36, 39])"
      ]
     },
     "execution_count": 75,
     "metadata": {},
     "output_type": "execute_result"
    }
   ],
   "source": [
    "a = np.array([12,13])\n",
    "\n",
    "a*3"
   ]
  },
  {
   "cell_type": "code",
   "execution_count": 76,
   "id": "0941e0c5",
   "metadata": {},
   "outputs": [
    {
     "data": {
      "text/plain": [
       "array([12, 13, 12, 13, 12, 13, 12, 13, 12, 13])"
      ]
     },
     "execution_count": 76,
     "metadata": {},
     "output_type": "execute_result"
    }
   ],
   "source": [
    "np.tile(a,5)"
   ]
  },
  {
   "cell_type": "code",
   "execution_count": 77,
   "id": "2244faaf",
   "metadata": {},
   "outputs": [],
   "source": [
    "# np.polynomial\n",
    "# np.clip"
   ]
  },
  {
   "cell_type": "code",
   "execution_count": 90,
   "id": "332c197a",
   "metadata": {},
   "outputs": [
    {
     "data": {
      "text/plain": [
       "array([[875,  81, 964,  65, 452],\n",
       "       [ 36, 221, 411, 445, 349],\n",
       "       [172, 882, 436, 788, 120],\n",
       "       [177, 810, 710, 611, 367],\n",
       "       [268,  98, 930,  27, 162]])"
      ]
     },
     "execution_count": 90,
     "metadata": {},
     "output_type": "execute_result"
    }
   ],
   "source": [
    "a = np.random.randint(1,1000,(5,5))\n",
    "a"
   ]
  },
  {
   "cell_type": "code",
   "execution_count": 91,
   "id": "d9b24688",
   "metadata": {},
   "outputs": [
    {
     "data": {
      "text/plain": [
       "array([[80, 80, 80, 65, 80],\n",
       "       [50, 80, 80, 80, 80],\n",
       "       [80, 80, 80, 80, 80],\n",
       "       [80, 80, 80, 80, 80],\n",
       "       [80, 80, 80, 50, 80]])"
      ]
     },
     "execution_count": 91,
     "metadata": {},
     "output_type": "execute_result"
    }
   ],
   "source": [
    "np.clip(a,50,80)"
   ]
  },
  {
   "cell_type": "code",
   "execution_count": 100,
   "id": "3c488dbe",
   "metadata": {},
   "outputs": [],
   "source": [
    "equation = np.polynomial.Polynomial((-0.8765,6,9),symbol='a')"
   ]
  },
  {
   "cell_type": "code",
   "execution_count": 101,
   "id": "96a4f8ec",
   "metadata": {},
   "outputs": [
    {
     "data": {
      "text/latex": [
       "$a \\mapsto \\text{-0.8765} + \\text{6.0}\\,a + \\text{9.0}\\,a^{2}$"
      ],
      "text/plain": [
       "Polynomial([-0.8765,  6.    ,  9.    ], domain=[-1,  1], window=[-1,  1], symbol='a')"
      ]
     },
     "execution_count": 101,
     "metadata": {},
     "output_type": "execute_result"
    }
   ],
   "source": [
    "equation"
   ]
  },
  {
   "cell_type": "code",
   "execution_count": 102,
   "id": "ba9017b7",
   "metadata": {},
   "outputs": [
    {
     "data": {
      "text/plain": [
       "array([-0.8765,  6.    ,  9.    ])"
      ]
     },
     "execution_count": 102,
     "metadata": {},
     "output_type": "execute_result"
    }
   ],
   "source": [
    "equation.coef"
   ]
  },
  {
   "cell_type": "code",
   "execution_count": 104,
   "id": "fd38444e",
   "metadata": {},
   "outputs": [
    {
     "data": {
      "text/plain": [
       "array([-0.78995134,  0.12328467])"
      ]
     },
     "execution_count": 104,
     "metadata": {},
     "output_type": "execute_result"
    }
   ],
   "source": [
    "equation.roots()"
   ]
  },
  {
   "cell_type": "code",
   "execution_count": 107,
   "id": "e4f5b083",
   "metadata": {},
   "outputs": [],
   "source": [
    "equation = np.polynomial.Polynomial((-8,-4,4),symbol='x')"
   ]
  },
  {
   "cell_type": "code",
   "execution_count": 108,
   "id": "597740f9",
   "metadata": {},
   "outputs": [
    {
     "data": {
      "text/latex": [
       "$x \\mapsto \\text{-8.0} - \\text{4.0}\\,x + \\text{4.0}\\,x^{2}$"
      ],
      "text/plain": [
       "Polynomial([-8., -4.,  4.], domain=[-1,  1], window=[-1,  1], symbol='x')"
      ]
     },
     "execution_count": 108,
     "metadata": {},
     "output_type": "execute_result"
    }
   ],
   "source": [
    "equation"
   ]
  },
  {
   "cell_type": "code",
   "execution_count": 110,
   "id": "bb181119",
   "metadata": {},
   "outputs": [
    {
     "data": {
      "text/plain": [
       "array([-1.,  2.])"
      ]
     },
     "execution_count": 110,
     "metadata": {},
     "output_type": "execute_result"
    }
   ],
   "source": [
    "equation.roots()"
   ]
  },
  {
   "cell_type": "code",
   "execution_count": null,
   "id": "a4e714bb",
   "metadata": {},
   "outputs": [],
   "source": []
  },
  {
   "cell_type": "code",
   "execution_count": 111,
   "id": "120dd084",
   "metadata": {},
   "outputs": [
    {
     "data": {
      "text/plain": [
       "2.0"
      ]
     },
     "execution_count": 111,
     "metadata": {},
     "output_type": "execute_result"
    }
   ],
   "source": [
    "(-(-4) + ((-4)**2 - (4*4*(-8)))**0.5)/(2*4)"
   ]
  },
  {
   "cell_type": "code",
   "execution_count": 112,
   "id": "c044141b",
   "metadata": {},
   "outputs": [
    {
     "data": {
      "text/plain": [
       "-1.0"
      ]
     },
     "execution_count": 112,
     "metadata": {},
     "output_type": "execute_result"
    }
   ],
   "source": [
    "(-(-4) - ((-4)**2 - (4*4*(-8)))**0.5)/(2*4)"
   ]
  },
  {
   "cell_type": "code",
   "execution_count": 113,
   "id": "852e29b9",
   "metadata": {},
   "outputs": [],
   "source": [
    "import string\n",
    "def give_roots(equation):\n",
    "    equation = equation.lower()\n",
    "    all_chars = string.ascii_lowercase\n",
    "    for i in equation:\n",
    "        if i in all_chars:\n",
    "            print(i)\n",
    "            break"
   ]
  },
  {
   "cell_type": "code",
   "execution_count": 116,
   "id": "b3dff279",
   "metadata": {},
   "outputs": [
    {
     "name": "stdout",
     "output_type": "stream",
     "text": [
      "q\n"
     ]
    }
   ],
   "source": [
    "give_roots('5q2-9q-5')"
   ]
  },
  {
   "cell_type": "code",
   "execution_count": 122,
   "id": "bf30e1b9",
   "metadata": {},
   "outputs": [
    {
     "data": {
      "text/plain": [
       "[' -5', '  -5 -9q']"
      ]
     },
     "execution_count": 122,
     "metadata": {},
     "output_type": "execute_result"
    }
   ],
   "source": [
    "# '5q2-9q-5'\n",
    "' -5q2  -5 -9q'.split('q2')"
   ]
  },
  {
   "cell_type": "code",
   "execution_count": 143,
   "id": "f102f224",
   "metadata": {},
   "outputs": [],
   "source": [
    "data = ' -5 -5q2 -9q  '"
   ]
  },
  {
   "cell_type": "code",
   "execution_count": 144,
   "id": "9e1d2513",
   "metadata": {},
   "outputs": [
    {
     "data": {
      "text/plain": [
       "'5'"
      ]
     },
     "execution_count": 144,
     "metadata": {},
     "output_type": "execute_result"
    }
   ],
   "source": [
    "import re\n",
    "pt  = r'([-+]\\d)q2'\n",
    "\n",
    "a_sign,a = re.findall(pt,data)[0]\n",
    "a"
   ]
  },
  {
   "cell_type": "code",
   "execution_count": 145,
   "id": "3fc5cb24",
   "metadata": {},
   "outputs": [
    {
     "data": {
      "text/plain": [
       "'-'"
      ]
     },
     "execution_count": 145,
     "metadata": {},
     "output_type": "execute_result"
    }
   ],
   "source": [
    "sign"
   ]
  },
  {
   "cell_type": "code",
   "execution_count": 148,
   "id": "9499b1d7",
   "metadata": {},
   "outputs": [
    {
     "data": {
      "text/plain": [
       "' -5 -5q2 -9q  '"
      ]
     },
     "execution_count": 148,
     "metadata": {},
     "output_type": "execute_result"
    }
   ],
   "source": [
    "data"
   ]
  },
  {
   "cell_type": "code",
   "execution_count": 163,
   "id": "5691b8bc",
   "metadata": {},
   "outputs": [],
   "source": [
    "data = ' -5q -5q2 -9  '"
   ]
  },
  {
   "cell_type": "code",
   "execution_count": 164,
   "id": "e5b66ac0",
   "metadata": {},
   "outputs": [
    {
     "data": {
      "text/plain": [
       "'5'"
      ]
     },
     "execution_count": 164,
     "metadata": {},
     "output_type": "execute_result"
    }
   ],
   "source": [
    "pt = '([-+]\\d)q\\D'\n",
    "\n",
    "b_sign,b = re.findall(pt,data)[0]\n",
    "b"
   ]
  },
  {
   "cell_type": "code",
   "execution_count": 165,
   "id": "307ad2e1",
   "metadata": {},
   "outputs": [
    {
     "data": {
      "text/plain": [
       "'-'"
      ]
     },
     "execution_count": 165,
     "metadata": {},
     "output_type": "execute_result"
    }
   ],
   "source": [
    "b_sign"
   ]
  },
  {
   "cell_type": "code",
   "execution_count": null,
   "id": "354a7595",
   "metadata": {},
   "outputs": [],
   "source": []
  },
  {
   "cell_type": "code",
   "execution_count": 170,
   "id": "044554c7",
   "metadata": {},
   "outputs": [
    {
     "data": {
      "text/plain": [
       "' -5q -5q2 -9  '"
      ]
     },
     "execution_count": 170,
     "metadata": {},
     "output_type": "execute_result"
    }
   ],
   "source": [
    "data"
   ]
  },
  {
   "cell_type": "code",
   "execution_count": 175,
   "id": "3785137a",
   "metadata": {},
   "outputs": [],
   "source": [
    "pt = '([-+]\\d)\\W'\n",
    "\n",
    "c_sign,c = re.findall(pt,data)[0]\n"
   ]
  },
  {
   "cell_type": "code",
   "execution_count": 176,
   "id": "c334a9df",
   "metadata": {},
   "outputs": [
    {
     "data": {
      "text/plain": [
       "'9'"
      ]
     },
     "execution_count": 176,
     "metadata": {},
     "output_type": "execute_result"
    }
   ],
   "source": [
    "c"
   ]
  },
  {
   "cell_type": "code",
   "execution_count": 177,
   "id": "5f6e3eef",
   "metadata": {},
   "outputs": [
    {
     "data": {
      "text/plain": [
       "'-'"
      ]
     },
     "execution_count": 177,
     "metadata": {},
     "output_type": "execute_result"
    }
   ],
   "source": [
    "c_sign"
   ]
  },
  {
   "cell_type": "code",
   "execution_count": 250,
   "id": "22184e15",
   "metadata": {},
   "outputs": [],
   "source": [
    "# sym_dict = {'sym':symbol}\n",
    "# r'([-+]\\d{1,}){sym}2'.format_map(sym_dict)"
   ]
  },
  {
   "cell_type": "code",
   "execution_count": 251,
   "id": "74efa269",
   "metadata": {},
   "outputs": [
    {
     "data": {
      "text/plain": [
       "'([-+]\\\\d{1,})y2'"
      ]
     },
     "execution_count": 251,
     "metadata": {},
     "output_type": "execute_result"
    }
   ],
   "source": [
    "r'([-+]\\d{1,})q2'.replace('q','y')"
   ]
  },
  {
   "cell_type": "code",
   "execution_count": 360,
   "id": "c5970d4d",
   "metadata": {},
   "outputs": [],
   "source": [
    "def give_root(equation):\n",
    "\n",
    "    data = ' '+equation+' '\n",
    "\n",
    "    data = data.lower()\n",
    "\n",
    "    symbol = ''\n",
    "    all_chars = string.ascii_lowercase\n",
    "    for i in data:\n",
    "        if i in all_chars:\n",
    "            symbol = i\n",
    "            break\n",
    "\n",
    "    data = data.replace(symbol,'q')\n",
    "\n",
    "    print(data)\n",
    "\n",
    "    pt = r'([-+]?\\d{1,})q2'\n",
    "\n",
    "    res = re.findall(pt,data)[0]\n",
    "\n",
    "    if not(res.startswith('+') or res.startswith('-')):\n",
    "        a_sign = '+'\n",
    "        a = res\n",
    "    else:\n",
    "        a_sign = res[0]\n",
    "        a = res[1:]\n",
    "\n",
    "\n",
    "\n",
    "    # pt = '([-+]\\d{1,})q\\D'\n",
    "\n",
    "    pt = '([-+]\\d{1,})q\\D?'\n",
    "\n",
    "    res = re.findall(pt,data)[0]\n",
    "\n",
    "    if not(res.startswith('+') or res.startswith('-')):\n",
    "        b_sign = '+'\n",
    "        b = res\n",
    "    else:\n",
    "        b_sign = res[0]\n",
    "        b = res[1:]\n",
    "\n",
    "    # print(res)\n",
    "\n",
    "\n",
    "\n",
    "    pt = '([-+]\\d{1,})\\W'\n",
    "\n",
    "    res = re.findall(pt,data)[0]\n",
    "\n",
    "    if not(res.startswith('+') or res.startswith('-')):\n",
    "        c_sign = '+'\n",
    "        c = res\n",
    "    else:\n",
    "        c_sign = res[0]\n",
    "        c = res[1:]\n",
    "\n",
    "\n",
    "#     print((a_sign,a),(b_sign,b),(c_sign,c))\n",
    "\n",
    "    \n",
    "    a = eval(a_sign+a)\n",
    "    b = eval(b_sign+b)\n",
    "    c = eval(c_sign+c)\n",
    "    \n",
    "    \n",
    "    r1 = (-b + ((b**2) - (4*a*c))**0.5)/(2*a)\n",
    "    r2 = (-b - ((b**2) - (4*a*c))**0.5)/(2*a)\n",
    "    \n",
    "    return [r1,r2]\n"
   ]
  },
  {
   "cell_type": "code",
   "execution_count": null,
   "id": "39ce91d4",
   "metadata": {},
   "outputs": [],
   "source": []
  },
  {
   "cell_type": "code",
   "execution_count": 361,
   "id": "fe6f8091",
   "metadata": {},
   "outputs": [
    {
     "data": {
      "text/latex": [
       "$x \\mapsto \\text{-24.0} - \\text{10.0}\\,x + \\text{3.0}\\,x^{2}$"
      ],
      "text/plain": [
       "Polynomial([-24., -10.,   3.], domain=[-1,  1], window=[-1,  1], symbol='x')"
      ]
     },
     "execution_count": 361,
     "metadata": {},
     "output_type": "execute_result"
    }
   ],
   "source": [
    "np.polynomial.Polynomial((-24,-10,3))"
   ]
  },
  {
   "cell_type": "code",
   "execution_count": 362,
   "id": "d39763ff",
   "metadata": {},
   "outputs": [
    {
     "data": {
      "text/plain": [
       "array([0.07142857-0.43448304j, 0.07142857+0.43448304j])"
      ]
     },
     "execution_count": 362,
     "metadata": {},
     "output_type": "execute_result"
    }
   ],
   "source": [
    "np.polynomial.Polynomial((19,-14,98)).roots()"
   ]
  },
  {
   "cell_type": "code",
   "execution_count": null,
   "id": "51f45117",
   "metadata": {},
   "outputs": [],
   "source": []
  },
  {
   "cell_type": "code",
   "execution_count": 363,
   "id": "135d3cdb",
   "metadata": {},
   "outputs": [],
   "source": [
    "# del give_roots"
   ]
  },
  {
   "cell_type": "code",
   "execution_count": 364,
   "id": "1c3fa008",
   "metadata": {},
   "outputs": [
    {
     "name": "stdout",
     "output_type": "stream",
     "text": [
      " 4q2 -9q +8 \n"
     ]
    },
    {
     "data": {
      "text/plain": [
       "[(1.125+0.8569568250501305j), (1.125-0.8569568250501305j)]"
      ]
     },
     "execution_count": 364,
     "metadata": {},
     "output_type": "execute_result"
    }
   ],
   "source": [
    "give_root('4y2 -9y +8')"
   ]
  },
  {
   "cell_type": "code",
   "execution_count": 365,
   "id": "4157196e",
   "metadata": {},
   "outputs": [
    {
     "data": {
      "text/latex": [
       "$x \\mapsto \\text{8.0} - \\text{9.0}\\,x + \\text{4.0}\\,x^{2}$"
      ],
      "text/plain": [
       "Polynomial([ 8., -9.,  4.], domain=[-1,  1], window=[-1,  1], symbol='x')"
      ]
     },
     "execution_count": 365,
     "metadata": {},
     "output_type": "execute_result"
    }
   ],
   "source": [
    "np.polynomial.Polynomial((8,-9,4))"
   ]
  },
  {
   "cell_type": "code",
   "execution_count": 366,
   "id": "4d75134d",
   "metadata": {},
   "outputs": [
    {
     "data": {
      "text/plain": [
       "array([1.125-0.85695683j, 1.125+0.85695683j])"
      ]
     },
     "execution_count": 366,
     "metadata": {},
     "output_type": "execute_result"
    }
   ],
   "source": [
    "np.polynomial.Polynomial((8,-9,4)).roots()"
   ]
  },
  {
   "cell_type": "code",
   "execution_count": null,
   "id": "2ed7f599",
   "metadata": {},
   "outputs": [],
   "source": []
  },
  {
   "cell_type": "markdown",
   "id": "20e84ed5",
   "metadata": {},
   "source": [
    "# New Day"
   ]
  },
  {
   "cell_type": "markdown",
   "id": "d5335180",
   "metadata": {},
   "source": [
    "# Broadcasting"
   ]
  },
  {
   "cell_type": "code",
   "execution_count": 1,
   "id": "015223a5",
   "metadata": {},
   "outputs": [],
   "source": [
    "import numpy as np"
   ]
  },
  {
   "cell_type": "code",
   "execution_count": 2,
   "id": "38b5f325",
   "metadata": {},
   "outputs": [],
   "source": [
    "a = np.array([[1,2,3],[2,3,4]])\n",
    "\n",
    "b = np.array([1,2,3,4,5])"
   ]
  },
  {
   "cell_type": "code",
   "execution_count": 3,
   "id": "99c48622",
   "metadata": {},
   "outputs": [
    {
     "data": {
      "text/plain": [
       "array([[1, 2, 3],\n",
       "       [2, 3, 4]])"
      ]
     },
     "execution_count": 3,
     "metadata": {},
     "output_type": "execute_result"
    }
   ],
   "source": [
    "a"
   ]
  },
  {
   "cell_type": "code",
   "execution_count": 4,
   "id": "d0604f86",
   "metadata": {},
   "outputs": [
    {
     "data": {
      "text/plain": [
       "array([1, 2, 3, 4, 5])"
      ]
     },
     "execution_count": 4,
     "metadata": {},
     "output_type": "execute_result"
    }
   ],
   "source": [
    "b"
   ]
  },
  {
   "cell_type": "code",
   "execution_count": 5,
   "id": "882d60a6",
   "metadata": {},
   "outputs": [
    {
     "ename": "ValueError",
     "evalue": "operands could not be broadcast together with shapes (2,3) (5,) ",
     "output_type": "error",
     "traceback": [
      "\u001b[1;31m---------------------------------------------------------------------------\u001b[0m",
      "\u001b[1;31mValueError\u001b[0m                                Traceback (most recent call last)",
      "Cell \u001b[1;32mIn[5], line 1\u001b[0m\n\u001b[1;32m----> 1\u001b[0m a\u001b[38;5;241m+\u001b[39mb\n",
      "\u001b[1;31mValueError\u001b[0m: operands could not be broadcast together with shapes (2,3) (5,) "
     ]
    }
   ],
   "source": [
    "a+b"
   ]
  },
  {
   "cell_type": "code",
   "execution_count": 23,
   "id": "299e03bb",
   "metadata": {},
   "outputs": [],
   "source": [
    "a = np.random.randint(1,50,(1,1,5))\n",
    "b = np.random.randint(1,50,5)"
   ]
  },
  {
   "cell_type": "code",
   "execution_count": 24,
   "id": "ef33ce6b",
   "metadata": {},
   "outputs": [
    {
     "data": {
      "text/plain": [
       "array([[[ 5, 44, 34,  7,  5]]])"
      ]
     },
     "execution_count": 24,
     "metadata": {},
     "output_type": "execute_result"
    }
   ],
   "source": [
    "a"
   ]
  },
  {
   "cell_type": "code",
   "execution_count": 25,
   "id": "57e890e8",
   "metadata": {},
   "outputs": [
    {
     "data": {
      "text/plain": [
       "array([ 6, 33, 23, 12,  6])"
      ]
     },
     "execution_count": 25,
     "metadata": {},
     "output_type": "execute_result"
    }
   ],
   "source": [
    "b"
   ]
  },
  {
   "cell_type": "code",
   "execution_count": 26,
   "id": "f4791395",
   "metadata": {},
   "outputs": [
    {
     "data": {
      "text/plain": [
       "array([[[11, 77, 57, 19, 11]]])"
      ]
     },
     "execution_count": 26,
     "metadata": {},
     "output_type": "execute_result"
    }
   ],
   "source": [
    "a+b"
   ]
  },
  {
   "cell_type": "code",
   "execution_count": 27,
   "id": "c8a63703",
   "metadata": {},
   "outputs": [
    {
     "data": {
      "text/plain": [
       "3"
      ]
     },
     "execution_count": 27,
     "metadata": {},
     "output_type": "execute_result"
    }
   ],
   "source": [
    "a.ndim"
   ]
  },
  {
   "cell_type": "code",
   "execution_count": 28,
   "id": "1df3a8f2",
   "metadata": {},
   "outputs": [
    {
     "data": {
      "text/plain": [
       "1"
      ]
     },
     "execution_count": 28,
     "metadata": {},
     "output_type": "execute_result"
    }
   ],
   "source": [
    "b.ndim"
   ]
  },
  {
   "cell_type": "code",
   "execution_count": 29,
   "id": "c6e481eb",
   "metadata": {},
   "outputs": [
    {
     "data": {
      "text/plain": [
       "(1, 1, 5)"
      ]
     },
     "execution_count": 29,
     "metadata": {},
     "output_type": "execute_result"
    }
   ],
   "source": [
    "a.shape"
   ]
  },
  {
   "cell_type": "code",
   "execution_count": 22,
   "id": "3ca18fa0",
   "metadata": {},
   "outputs": [
    {
     "data": {
      "text/plain": [
       "(5,)"
      ]
     },
     "execution_count": 22,
     "metadata": {},
     "output_type": "execute_result"
    }
   ],
   "source": [
    "b.shape"
   ]
  },
  {
   "cell_type": "code",
   "execution_count": 45,
   "id": "0907eeb3",
   "metadata": {},
   "outputs": [
    {
     "data": {
      "text/plain": [
       "array([[ 7, 36, 26, 34, 32],\n",
       "       [ 8,  1, 16, 40,  1]])"
      ]
     },
     "execution_count": 45,
     "metadata": {},
     "output_type": "execute_result"
    }
   ],
   "source": [
    "a = np.random.randint(1,50,(2,5))\n",
    "b = np.random.randint(1,50,(5,2))\n",
    "\n",
    "a"
   ]
  },
  {
   "cell_type": "code",
   "execution_count": 46,
   "id": "66278cd3",
   "metadata": {},
   "outputs": [
    {
     "data": {
      "text/plain": [
       "array([[19, 22],\n",
       "       [48, 19],\n",
       "       [32, 26],\n",
       "       [33, 48],\n",
       "       [41, 36]])"
      ]
     },
     "execution_count": 46,
     "metadata": {},
     "output_type": "execute_result"
    }
   ],
   "source": [
    "b"
   ]
  },
  {
   "cell_type": "code",
   "execution_count": 47,
   "id": "09b997dc",
   "metadata": {},
   "outputs": [
    {
     "ename": "ValueError",
     "evalue": "operands could not be broadcast together with shapes (2,5) (5,2) ",
     "output_type": "error",
     "traceback": [
      "\u001b[1;31m---------------------------------------------------------------------------\u001b[0m",
      "\u001b[1;31mValueError\u001b[0m                                Traceback (most recent call last)",
      "Cell \u001b[1;32mIn[47], line 1\u001b[0m\n\u001b[1;32m----> 1\u001b[0m a\u001b[38;5;241m+\u001b[39mb\n",
      "\u001b[1;31mValueError\u001b[0m: operands could not be broadcast together with shapes (2,5) (5,2) "
     ]
    }
   ],
   "source": [
    "a+b"
   ]
  },
  {
   "cell_type": "code",
   "execution_count": null,
   "id": "a02544b2",
   "metadata": {},
   "outputs": [],
   "source": []
  },
  {
   "cell_type": "code",
   "execution_count": 52,
   "id": "d1c1755c",
   "metadata": {},
   "outputs": [],
   "source": [
    "a = np.random.randint(1,50,(1,5))\n",
    "b = np.random.randint(1,50,(5,5))"
   ]
  },
  {
   "cell_type": "code",
   "execution_count": 53,
   "id": "7efc461c",
   "metadata": {},
   "outputs": [
    {
     "data": {
      "text/plain": [
       "array([[42,  8, 31, 38, 11]])"
      ]
     },
     "execution_count": 53,
     "metadata": {},
     "output_type": "execute_result"
    }
   ],
   "source": [
    "a"
   ]
  },
  {
   "cell_type": "code",
   "execution_count": 54,
   "id": "86aaa39a",
   "metadata": {},
   "outputs": [
    {
     "data": {
      "text/plain": [
       "array([[10, 47, 39, 15, 16],\n",
       "       [ 1, 38, 41, 33, 29],\n",
       "       [47, 14,  8, 11, 47],\n",
       "       [17, 22, 41, 16, 27],\n",
       "       [ 1, 31,  9, 45, 42]])"
      ]
     },
     "execution_count": 54,
     "metadata": {},
     "output_type": "execute_result"
    }
   ],
   "source": [
    "b"
   ]
  },
  {
   "cell_type": "code",
   "execution_count": 55,
   "id": "7f6605ad",
   "metadata": {},
   "outputs": [
    {
     "data": {
      "text/plain": [
       "array([[52, 55, 70, 53, 27],\n",
       "       [43, 46, 72, 71, 40],\n",
       "       [89, 22, 39, 49, 58],\n",
       "       [59, 30, 72, 54, 38],\n",
       "       [43, 39, 40, 83, 53]])"
      ]
     },
     "execution_count": 55,
     "metadata": {},
     "output_type": "execute_result"
    }
   ],
   "source": [
    "a+b"
   ]
  },
  {
   "cell_type": "code",
   "execution_count": 56,
   "id": "193bcb37",
   "metadata": {},
   "outputs": [
    {
     "data": {
      "text/plain": [
       "(1, 5)"
      ]
     },
     "execution_count": 56,
     "metadata": {},
     "output_type": "execute_result"
    }
   ],
   "source": [
    "a.shape"
   ]
  },
  {
   "cell_type": "code",
   "execution_count": 57,
   "id": "43cbbe0a",
   "metadata": {},
   "outputs": [
    {
     "data": {
      "text/plain": [
       "(5, 5)"
      ]
     },
     "execution_count": 57,
     "metadata": {},
     "output_type": "execute_result"
    }
   ],
   "source": [
    "b.shape"
   ]
  },
  {
   "cell_type": "code",
   "execution_count": 58,
   "id": "4b6bdc4a",
   "metadata": {},
   "outputs": [],
   "source": [
    "# (1,5),(5,5)"
   ]
  },
  {
   "cell_type": "code",
   "execution_count": 66,
   "id": "6642d814",
   "metadata": {},
   "outputs": [],
   "source": [
    "a = np.random.randint(1,50,(1,5))\n",
    "b = np.random.randint(1,50,(3,5))"
   ]
  },
  {
   "cell_type": "code",
   "execution_count": 67,
   "id": "9f3ac064",
   "metadata": {},
   "outputs": [
    {
     "data": {
      "text/plain": [
       "array([[ 3, 19,  1, 31, 19]])"
      ]
     },
     "execution_count": 67,
     "metadata": {},
     "output_type": "execute_result"
    }
   ],
   "source": [
    "a"
   ]
  },
  {
   "cell_type": "code",
   "execution_count": 68,
   "id": "76123073",
   "metadata": {},
   "outputs": [
    {
     "data": {
      "text/plain": [
       "array([[41, 41, 27, 36, 26],\n",
       "       [ 7,  9, 27, 17, 23],\n",
       "       [45, 13,  4, 48,  4]])"
      ]
     },
     "execution_count": 68,
     "metadata": {},
     "output_type": "execute_result"
    }
   ],
   "source": [
    "b"
   ]
  },
  {
   "cell_type": "code",
   "execution_count": 69,
   "id": "f1f5f7fd",
   "metadata": {},
   "outputs": [
    {
     "data": {
      "text/plain": [
       "array([[44, 60, 28, 67, 45],\n",
       "       [10, 28, 28, 48, 42],\n",
       "       [48, 32,  5, 79, 23]])"
      ]
     },
     "execution_count": 69,
     "metadata": {},
     "output_type": "execute_result"
    }
   ],
   "source": [
    "a+b"
   ]
  },
  {
   "cell_type": "code",
   "execution_count": 63,
   "id": "933d3de8",
   "metadata": {},
   "outputs": [
    {
     "data": {
      "text/plain": [
       "(1, 3)"
      ]
     },
     "execution_count": 63,
     "metadata": {},
     "output_type": "execute_result"
    }
   ],
   "source": [
    "a.shape"
   ]
  },
  {
   "cell_type": "code",
   "execution_count": 64,
   "id": "db16cca9",
   "metadata": {},
   "outputs": [
    {
     "data": {
      "text/plain": [
       "(3, 5)"
      ]
     },
     "execution_count": 64,
     "metadata": {},
     "output_type": "execute_result"
    }
   ],
   "source": [
    "b.shape"
   ]
  },
  {
   "cell_type": "code",
   "execution_count": 65,
   "id": "8e458eea",
   "metadata": {},
   "outputs": [
    {
     "data": {
      "text/plain": [
       "((1, 3), (3, 5))"
      ]
     },
     "execution_count": 65,
     "metadata": {},
     "output_type": "execute_result"
    }
   ],
   "source": [
    "(1,5),(3,5)"
   ]
  },
  {
   "cell_type": "code",
   "execution_count": 72,
   "id": "77fc78ff",
   "metadata": {},
   "outputs": [],
   "source": [
    "a = np.random.randint(1,50,(5,5))\n",
    "b = np.random.randint(1,50,(2,5))"
   ]
  },
  {
   "cell_type": "code",
   "execution_count": 73,
   "id": "ef034f98",
   "metadata": {},
   "outputs": [
    {
     "data": {
      "text/plain": [
       "array([[14, 12,  6,  5, 31],\n",
       "       [10, 46, 30,  8, 41],\n",
       "       [17, 39, 17, 48, 34],\n",
       "       [ 2, 16, 19, 42,  5],\n",
       "       [31, 38,  6,  4, 22]])"
      ]
     },
     "execution_count": 73,
     "metadata": {},
     "output_type": "execute_result"
    }
   ],
   "source": [
    "a"
   ]
  },
  {
   "cell_type": "code",
   "execution_count": 74,
   "id": "73576e3d",
   "metadata": {},
   "outputs": [
    {
     "data": {
      "text/plain": [
       "array([[17, 47, 41, 45, 23],\n",
       "       [46, 30, 25, 37,  4]])"
      ]
     },
     "execution_count": 74,
     "metadata": {},
     "output_type": "execute_result"
    }
   ],
   "source": [
    "b"
   ]
  },
  {
   "cell_type": "code",
   "execution_count": 75,
   "id": "0950eee7",
   "metadata": {},
   "outputs": [
    {
     "ename": "ValueError",
     "evalue": "operands could not be broadcast together with shapes (5,5) (2,5) ",
     "output_type": "error",
     "traceback": [
      "\u001b[1;31m---------------------------------------------------------------------------\u001b[0m",
      "\u001b[1;31mValueError\u001b[0m                                Traceback (most recent call last)",
      "Cell \u001b[1;32mIn[75], line 1\u001b[0m\n\u001b[1;32m----> 1\u001b[0m a\u001b[38;5;241m+\u001b[39mb\n",
      "\u001b[1;31mValueError\u001b[0m: operands could not be broadcast together with shapes (5,5) (2,5) "
     ]
    }
   ],
   "source": [
    "a+b"
   ]
  },
  {
   "cell_type": "code",
   "execution_count": 76,
   "id": "56f5fab3",
   "metadata": {},
   "outputs": [],
   "source": [
    "a = np.random.randint(1,50,(6,5))\n",
    "b = np.random.randint(1,50,(2,5))"
   ]
  },
  {
   "cell_type": "code",
   "execution_count": 77,
   "id": "fd7e2a64",
   "metadata": {},
   "outputs": [
    {
     "data": {
      "text/plain": [
       "array([[26,  6, 35, 38, 34],\n",
       "       [35, 23,  2, 17, 27],\n",
       "       [33, 22, 46, 33, 35],\n",
       "       [16, 30, 11, 17, 28],\n",
       "       [40, 14, 16, 34, 28],\n",
       "       [29,  1, 47, 45, 30]])"
      ]
     },
     "execution_count": 77,
     "metadata": {},
     "output_type": "execute_result"
    }
   ],
   "source": [
    "a"
   ]
  },
  {
   "cell_type": "code",
   "execution_count": 78,
   "id": "7861444e",
   "metadata": {},
   "outputs": [
    {
     "data": {
      "text/plain": [
       "array([[13, 11, 36, 10, 36],\n",
       "       [ 9, 15, 39, 17, 33]])"
      ]
     },
     "execution_count": 78,
     "metadata": {},
     "output_type": "execute_result"
    }
   ],
   "source": [
    "b"
   ]
  },
  {
   "cell_type": "code",
   "execution_count": 79,
   "id": "c8a1c584",
   "metadata": {},
   "outputs": [
    {
     "ename": "ValueError",
     "evalue": "operands could not be broadcast together with shapes (6,5) (2,5) ",
     "output_type": "error",
     "traceback": [
      "\u001b[1;31m---------------------------------------------------------------------------\u001b[0m",
      "\u001b[1;31mValueError\u001b[0m                                Traceback (most recent call last)",
      "Cell \u001b[1;32mIn[79], line 1\u001b[0m\n\u001b[1;32m----> 1\u001b[0m a\u001b[38;5;241m+\u001b[39mb\n",
      "\u001b[1;31mValueError\u001b[0m: operands could not be broadcast together with shapes (6,5) (2,5) "
     ]
    }
   ],
   "source": [
    "a+b"
   ]
  },
  {
   "cell_type": "code",
   "execution_count": 80,
   "id": "6b4976e5",
   "metadata": {},
   "outputs": [],
   "source": [
    "a = np.random.randint(1,50,(5,5))\n",
    "b = np.random.randint(1,50,(5,5))"
   ]
  },
  {
   "cell_type": "code",
   "execution_count": 81,
   "id": "7d71d21a",
   "metadata": {},
   "outputs": [
    {
     "data": {
      "text/plain": [
       "array([[42, 14,  7, 31,  8],\n",
       "       [13, 31, 27, 24,  9],\n",
       "       [44, 38, 24,  3, 32],\n",
       "       [19,  3, 29, 11, 36],\n",
       "       [24,  5, 13, 34, 43]])"
      ]
     },
     "execution_count": 81,
     "metadata": {},
     "output_type": "execute_result"
    }
   ],
   "source": [
    "a"
   ]
  },
  {
   "cell_type": "code",
   "execution_count": 82,
   "id": "87143f0f",
   "metadata": {},
   "outputs": [
    {
     "data": {
      "text/plain": [
       "array([[24, 25, 49, 47, 42],\n",
       "       [39, 46, 17, 20, 10],\n",
       "       [22, 37,  7, 47,  4],\n",
       "       [16, 12, 17, 39, 16],\n",
       "       [13, 35, 49,  8, 45]])"
      ]
     },
     "execution_count": 82,
     "metadata": {},
     "output_type": "execute_result"
    }
   ],
   "source": [
    "b"
   ]
  },
  {
   "cell_type": "code",
   "execution_count": 83,
   "id": "fa2d543b",
   "metadata": {},
   "outputs": [
    {
     "data": {
      "text/plain": [
       "array([[66, 39, 56, 78, 50],\n",
       "       [52, 77, 44, 44, 19],\n",
       "       [66, 75, 31, 50, 36],\n",
       "       [35, 15, 46, 50, 52],\n",
       "       [37, 40, 62, 42, 88]])"
      ]
     },
     "execution_count": 83,
     "metadata": {},
     "output_type": "execute_result"
    }
   ],
   "source": [
    "a+b"
   ]
  },
  {
   "cell_type": "code",
   "execution_count": null,
   "id": "6c78b0d5",
   "metadata": {},
   "outputs": [],
   "source": []
  },
  {
   "cell_type": "code",
   "execution_count": 84,
   "id": "b649046e",
   "metadata": {},
   "outputs": [],
   "source": [
    "a = np.random.randint(1,50,(2,5,5))\n",
    "b = np.random.randint(1,50,(1,5,5))"
   ]
  },
  {
   "cell_type": "code",
   "execution_count": 85,
   "id": "5ae1db27",
   "metadata": {},
   "outputs": [
    {
     "data": {
      "text/plain": [
       "array([[[29,  6, 33, 30, 12],\n",
       "        [35,  4,  4, 14, 29],\n",
       "        [10, 36,  3, 25, 35],\n",
       "        [ 5,  7, 23, 33, 17],\n",
       "        [25, 45, 30, 13,  5]],\n",
       "\n",
       "       [[32, 18, 27, 20, 30],\n",
       "        [19, 43, 37, 34,  4],\n",
       "        [30, 14, 39, 46,  5],\n",
       "        [21, 33,  3, 23, 14],\n",
       "        [30, 25, 36, 32, 29]]])"
      ]
     },
     "execution_count": 85,
     "metadata": {},
     "output_type": "execute_result"
    }
   ],
   "source": [
    "a"
   ]
  },
  {
   "cell_type": "code",
   "execution_count": 86,
   "id": "a9b68a51",
   "metadata": {},
   "outputs": [
    {
     "data": {
      "text/plain": [
       "array([[[36, 20,  4, 45,  4],\n",
       "        [37, 47,  9, 48, 20],\n",
       "        [11, 46, 14,  3, 12],\n",
       "        [22,  5, 24, 43, 34],\n",
       "        [45, 31,  3, 29, 49]]])"
      ]
     },
     "execution_count": 86,
     "metadata": {},
     "output_type": "execute_result"
    }
   ],
   "source": [
    "b"
   ]
  },
  {
   "cell_type": "code",
   "execution_count": 87,
   "id": "6b77677f",
   "metadata": {},
   "outputs": [
    {
     "data": {
      "text/plain": [
       "array([[[65, 26, 37, 75, 16],\n",
       "        [72, 51, 13, 62, 49],\n",
       "        [21, 82, 17, 28, 47],\n",
       "        [27, 12, 47, 76, 51],\n",
       "        [70, 76, 33, 42, 54]],\n",
       "\n",
       "       [[68, 38, 31, 65, 34],\n",
       "        [56, 90, 46, 82, 24],\n",
       "        [41, 60, 53, 49, 17],\n",
       "        [43, 38, 27, 66, 48],\n",
       "        [75, 56, 39, 61, 78]]])"
      ]
     },
     "execution_count": 87,
     "metadata": {},
     "output_type": "execute_result"
    }
   ],
   "source": [
    "a+b"
   ]
  },
  {
   "cell_type": "code",
   "execution_count": 88,
   "id": "682759b5",
   "metadata": {},
   "outputs": [],
   "source": [
    "a = np.random.randint(1,50,(3,3))\n",
    "b = np.random.randint(1,50,(3,1))"
   ]
  },
  {
   "cell_type": "code",
   "execution_count": 89,
   "id": "83e29c9a",
   "metadata": {},
   "outputs": [
    {
     "data": {
      "text/plain": [
       "array([[275, 165, 308],\n",
       "       [451, 418, 462],\n",
       "       [ 65,  13, 130]])"
      ]
     },
     "execution_count": 89,
     "metadata": {},
     "output_type": "execute_result"
    }
   ],
   "source": [
    "a*b"
   ]
  },
  {
   "cell_type": "code",
   "execution_count": 90,
   "id": "74eb9710",
   "metadata": {},
   "outputs": [
    {
     "data": {
      "text/plain": [
       "array([[25, 15, 28],\n",
       "       [41, 38, 42],\n",
       "       [ 5,  1, 10]])"
      ]
     },
     "execution_count": 90,
     "metadata": {},
     "output_type": "execute_result"
    }
   ],
   "source": [
    "a"
   ]
  },
  {
   "cell_type": "code",
   "execution_count": 91,
   "id": "14765595",
   "metadata": {},
   "outputs": [
    {
     "data": {
      "text/plain": [
       "array([[11],\n",
       "       [11],\n",
       "       [13]])"
      ]
     },
     "execution_count": 91,
     "metadata": {},
     "output_type": "execute_result"
    }
   ],
   "source": [
    "b"
   ]
  },
  {
   "cell_type": "code",
   "execution_count": null,
   "id": "6ac499aa",
   "metadata": {},
   "outputs": [],
   "source": []
  },
  {
   "cell_type": "code",
   "execution_count": null,
   "id": "9693bf29",
   "metadata": {},
   "outputs": [],
   "source": []
  },
  {
   "cell_type": "code",
   "execution_count": 109,
   "id": "993a6591",
   "metadata": {},
   "outputs": [],
   "source": [
    "a = np.array([0.0, 10.0, 20.0, 30.0])\n",
    "b = np.array([1.0, 2.0, 3.0])\n",
    "# a[:, np.newaxis] + b"
   ]
  },
  {
   "cell_type": "code",
   "execution_count": 93,
   "id": "789b3aeb",
   "metadata": {},
   "outputs": [
    {
     "data": {
      "text/plain": [
       "array([ 0., 10., 20., 30.])"
      ]
     },
     "execution_count": 93,
     "metadata": {},
     "output_type": "execute_result"
    }
   ],
   "source": [
    "a"
   ]
  },
  {
   "cell_type": "code",
   "execution_count": 94,
   "id": "e3c212e1",
   "metadata": {},
   "outputs": [
    {
     "data": {
      "text/plain": [
       "array([1., 2., 3.])"
      ]
     },
     "execution_count": 94,
     "metadata": {},
     "output_type": "execute_result"
    }
   ],
   "source": [
    "b"
   ]
  },
  {
   "cell_type": "code",
   "execution_count": 99,
   "id": "d75c5a51",
   "metadata": {},
   "outputs": [
    {
     "data": {
      "text/plain": [
       "array([[ 0.],\n",
       "       [10.],\n",
       "       [20.],\n",
       "       [30.]])"
      ]
     },
     "execution_count": 99,
     "metadata": {},
     "output_type": "execute_result"
    }
   ],
   "source": [
    "a[:,np.newaxis]"
   ]
  },
  {
   "cell_type": "code",
   "execution_count": 104,
   "id": "04912d86",
   "metadata": {},
   "outputs": [],
   "source": [
    "# np.rot90(a,axes=1,k=1)"
   ]
  },
  {
   "cell_type": "code",
   "execution_count": 112,
   "id": "201d7354",
   "metadata": {},
   "outputs": [
    {
     "data": {
      "text/plain": [
       "array([[[ 0., 10., 20., 30.]]])"
      ]
     },
     "execution_count": 112,
     "metadata": {},
     "output_type": "execute_result"
    }
   ],
   "source": [
    "a[np.newaxis,np.newaxis]"
   ]
  },
  {
   "cell_type": "code",
   "execution_count": 114,
   "id": "c6e8e5cf",
   "metadata": {},
   "outputs": [
    {
     "data": {
      "text/plain": [
       "array([[ 0.],\n",
       "       [10.],\n",
       "       [20.],\n",
       "       [30.]])"
      ]
     },
     "execution_count": 114,
     "metadata": {},
     "output_type": "execute_result"
    }
   ],
   "source": [
    "np.expand_dims(a,axis=1)"
   ]
  },
  {
   "cell_type": "code",
   "execution_count": 115,
   "id": "f3686d6b",
   "metadata": {},
   "outputs": [
    {
     "data": {
      "text/plain": [
       "array([[ 0.],\n",
       "       [10.],\n",
       "       [20.],\n",
       "       [30.]])"
      ]
     },
     "execution_count": 115,
     "metadata": {},
     "output_type": "execute_result"
    }
   ],
   "source": [
    "a[:,np.newaxis]"
   ]
  },
  {
   "cell_type": "code",
   "execution_count": 118,
   "id": "038a0206",
   "metadata": {},
   "outputs": [
    {
     "data": {
      "text/plain": [
       "array([[ 1.,  2.,  3.],\n",
       "       [11., 12., 13.],\n",
       "       [21., 22., 23.],\n",
       "       [31., 32., 33.]])"
      ]
     },
     "execution_count": 118,
     "metadata": {},
     "output_type": "execute_result"
    }
   ],
   "source": [
    "a[:,np.newaxis]+b"
   ]
  },
  {
   "cell_type": "code",
   "execution_count": 119,
   "id": "a03108a3",
   "metadata": {},
   "outputs": [
    {
     "data": {
      "text/plain": [
       "array([1., 2., 3.])"
      ]
     },
     "execution_count": 119,
     "metadata": {},
     "output_type": "execute_result"
    }
   ],
   "source": [
    "b"
   ]
  },
  {
   "cell_type": "code",
   "execution_count": null,
   "id": "f337de46",
   "metadata": {},
   "outputs": [],
   "source": []
  },
  {
   "cell_type": "code",
   "execution_count": 122,
   "id": "22755704",
   "metadata": {},
   "outputs": [
    {
     "data": {
      "text/plain": [
       "array([[1., 0., 0., 0., 0.],\n",
       "       [0., 1., 0., 0., 0.],\n",
       "       [0., 0., 1., 0., 0.],\n",
       "       [0., 0., 0., 1., 0.],\n",
       "       [0., 0., 0., 0., 1.]])"
      ]
     },
     "execution_count": 122,
     "metadata": {},
     "output_type": "execute_result"
    }
   ],
   "source": [
    "np.identity(5)"
   ]
  },
  {
   "cell_type": "code",
   "execution_count": 124,
   "id": "bff420a7",
   "metadata": {},
   "outputs": [
    {
     "data": {
      "text/plain": [
       "(5, 5)"
      ]
     },
     "execution_count": 124,
     "metadata": {},
     "output_type": "execute_result"
    }
   ],
   "source": [
    "np.identity(5).shape"
   ]
  },
  {
   "cell_type": "code",
   "execution_count": 128,
   "id": "5602ce13",
   "metadata": {},
   "outputs": [
    {
     "data": {
      "text/plain": [
       "array([[5., 0., 0., 0., 0.],\n",
       "       [0., 5., 0., 0., 0.],\n",
       "       [0., 0., 5., 0., 0.],\n",
       "       [0., 0., 0., 5., 0.],\n",
       "       [0., 0., 0., 0., 5.]])"
      ]
     },
     "execution_count": 128,
     "metadata": {},
     "output_type": "execute_result"
    }
   ],
   "source": [
    "np.identity(5)*5"
   ]
  },
  {
   "cell_type": "code",
   "execution_count": 129,
   "id": "55eddd21",
   "metadata": {},
   "outputs": [],
   "source": [
    "arr = np.identity(5)"
   ]
  },
  {
   "cell_type": "code",
   "execution_count": 130,
   "id": "0e86b9d6",
   "metadata": {},
   "outputs": [
    {
     "data": {
      "text/plain": [
       "array([[1., 0., 0., 0., 0.],\n",
       "       [0., 1., 0., 0., 0.],\n",
       "       [0., 0., 1., 0., 0.],\n",
       "       [0., 0., 0., 1., 0.],\n",
       "       [0., 0., 0., 0., 1.]])"
      ]
     },
     "execution_count": 130,
     "metadata": {},
     "output_type": "execute_result"
    }
   ],
   "source": [
    "arr"
   ]
  },
  {
   "cell_type": "code",
   "execution_count": 132,
   "id": "e5c2488a",
   "metadata": {},
   "outputs": [
    {
     "data": {
      "text/plain": [
       "array([[100.,   0.,   0.,   0.,   0.],\n",
       "       [  0., 100.,   0.,   0.,   0.],\n",
       "       [  0.,   0., 100.,   0.,   0.],\n",
       "       [  0.,   0.,   0., 100.,   0.],\n",
       "       [  0.,   0.,   0.,   0., 100.]])"
      ]
     },
     "execution_count": 132,
     "metadata": {},
     "output_type": "execute_result"
    }
   ],
   "source": [
    "np.where(arr==1,100,arr)"
   ]
  },
  {
   "cell_type": "code",
   "execution_count": 134,
   "id": "35396147",
   "metadata": {},
   "outputs": [],
   "source": [
    "arr = np.random.randint(1,500,(5,5))"
   ]
  },
  {
   "cell_type": "code",
   "execution_count": 135,
   "id": "70f3a44e",
   "metadata": {},
   "outputs": [
    {
     "data": {
      "text/plain": [
       "array([[ 72, 293, 359, 129,  59],\n",
       "       [482, 292, 208, 127, 405],\n",
       "       [ 61, 485, 386, 485,  38],\n",
       "       [ 29, 400, 110, 417,  36],\n",
       "       [ 63,  58, 114, 184, 129]])"
      ]
     },
     "execution_count": 135,
     "metadata": {},
     "output_type": "execute_result"
    }
   ],
   "source": [
    "arr"
   ]
  },
  {
   "cell_type": "code",
   "execution_count": 136,
   "id": "9171f46c",
   "metadata": {},
   "outputs": [
    {
     "data": {
      "text/plain": [
       "array([[ 72, 482,  61,  29,  63],\n",
       "       [293, 292, 485, 400,  58],\n",
       "       [359, 208, 386, 110, 114],\n",
       "       [129, 127, 485, 417, 184],\n",
       "       [ 59, 405,  38,  36, 129]])"
      ]
     },
     "execution_count": 136,
     "metadata": {},
     "output_type": "execute_result"
    }
   ],
   "source": [
    "arr.T"
   ]
  },
  {
   "cell_type": "code",
   "execution_count": 137,
   "id": "fc29ed83",
   "metadata": {},
   "outputs": [
    {
     "data": {
      "text/plain": [
       "array([[ 72, 482,  61,  29,  63],\n",
       "       [293, 292, 485, 400,  58],\n",
       "       [359, 208, 386, 110, 114],\n",
       "       [129, 127, 485, 417, 184],\n",
       "       [ 59, 405,  38,  36, 129]])"
      ]
     },
     "execution_count": 137,
     "metadata": {},
     "output_type": "execute_result"
    }
   ],
   "source": [
    "np.transpose(arr)"
   ]
  },
  {
   "cell_type": "code",
   "execution_count": 152,
   "id": "23cf6e68",
   "metadata": {},
   "outputs": [],
   "source": [
    "arr = np.random.normal(size = 10000)\n",
    "# arr"
   ]
  },
  {
   "cell_type": "code",
   "execution_count": 153,
   "id": "a577d97a",
   "metadata": {},
   "outputs": [],
   "source": [
    "import matplotlib.pyplot as plt"
   ]
  },
  {
   "cell_type": "code",
   "execution_count": 154,
   "id": "699574b5",
   "metadata": {},
   "outputs": [
    {
     "data": {
      "image/png": "[encoded data removed]",
      "text/plain": [
       "<Figure size 640x480 with 1 Axes>"
      ]
     },
     "metadata": {},
     "output_type": "display_data"
    }
   ],
   "source": [
    "plt.hist(arr)\n",
    "plt.show()"
   ]
  },
  {
   "cell_type": "code",
   "execution_count": 155,
   "id": "283481ed",
   "metadata": {},
   "outputs": [],
   "source": [
    "import seaborn as sns"
   ]
  },
  {
   "cell_type": "code",
   "execution_count": 156,
   "id": "198a896d",
   "metadata": {},
   "outputs": [
    {
     "data": {
      "text/plain": [
       "<Axes: ylabel='Count'>"
      ]
     },
     "execution_count": 156,
     "metadata": {},
     "output_type": "execute_result"
    },
    {
     "data": {
      "image/png": "[encoded data removed]",
      "text/plain": [
       "<Figure size 640x480 with 1 Axes>"
      ]
     },
     "metadata": {},
     "output_type": "display_data"
    }
   ],
   "source": [
    "sns.histplot(arr,kde=True)"
   ]
  },
  {
   "cell_type": "code",
   "execution_count": 168,
   "id": "42ccfe77",
   "metadata": {},
   "outputs": [
    {
     "data": {
      "image/png": "[encoded data removed]",
      "text/plain": [
       "<Figure size 640x480 with 1 Axes>"
      ]
     },
     "metadata": {},
     "output_type": "display_data"
    }
   ],
   "source": [
    "data = np.linspace(-1000,1000,10000)\n",
    "\n",
    "sine_curve = np.sin(data)\n",
    "\n",
    "\n",
    "plt.plot(sine_curve)\n",
    "plt.show()"
   ]
  },
  {
   "cell_type": "code",
   "execution_count": 179,
   "id": "98fce32b",
   "metadata": {},
   "outputs": [
    {
     "data": {
      "image/png": "[encoded data removed]",
      "text/plain": [
       "<Figure size 640x480 with 1 Axes>"
      ]
     },
     "metadata": {},
     "output_type": "display_data"
    }
   ],
   "source": [
    "data = np.linspace(-10,10,1000)\n",
    "\n",
    "sine_curve = np.sin(data)\n",
    "cos_curve = np.cos(data)\n",
    "tan_curve = np.tan(data)\n",
    "plt.plot(sine_curve,label = 'sin')\n",
    "plt.plot(cos_curve,label = 'cos')\n",
    "# plt.plot(tan_curve,label = 'tan')\n",
    "plt.legend()\n",
    "plt.savefig('amit_curve.jpg',dpi = 2000)\n",
    "plt.show()"
   ]
  },
  {
   "cell_type": "code",
   "execution_count": null,
   "id": "620489b9",
   "metadata": {},
   "outputs": [],
   "source": []
  },
  {
   "cell_type": "code",
   "execution_count": null,
   "id": "91dda90f",
   "metadata": {},
   "outputs": [],
   "source": []
  },
  {
   "cell_type": "code",
   "execution_count": 180,
   "id": "6fc5e4d0",
   "metadata": {},
   "outputs": [
    {
     "name": "stderr",
     "output_type": "stream",
     "text": [
      "\n",
      "KeyboardInterrupt\n",
      "\n"
     ]
    }
   ],
   "source": [
    "import  random\n",
    "\n",
    "while True:\n",
    "\n",
    "    l = random.randint(1,50)\n",
    "    \n",
    "    data = np.linspace(-l,l,1000)\n",
    "\n",
    "    sine_curve = np.sin(data)\n",
    "    cos_curve = np.cos(data)\n",
    "    tan_curve = np.tan(data)\n",
    "    plt.plot(sine_curve,label = 'sin')\n",
    "    plt.plot(cos_curve,label = 'cos')\n",
    "    # plt.plot(tan_curve,label = 'tan')\n",
    "    plt.legend()\n",
    "#     plt.savefig('amit_curve.jpg',dpi = 2000)\n",
    "    plt.show()\n",
    "    display(clear=True)"
   ]
  },
  {
   "cell_type": "code",
   "execution_count": 182,
   "id": "d1c2a5d9",
   "metadata": {},
   "outputs": [
    {
     "data": {
      "image/png": "[encoded data removed]",
      "text/plain": [
       "<Figure size 640x480 with 1 Axes>"
      ]
     },
     "metadata": {},
     "output_type": "display_data"
    }
   ],
   "source": [
    "import  random\n",
    "\n",
    "for i in range(-100,100):\n",
    "    \n",
    "    data = np.linspace(i,-i,1000)\n",
    "\n",
    "    sine_curve = np.sin(data)\n",
    "    cos_curve = np.cos(data)\n",
    "    tan_curve = np.tan(data)\n",
    "    plt.plot(sine_curve,label = 'sin')\n",
    "    plt.plot(cos_curve,label = 'cos')\n",
    "    # plt.plot(tan_curve,label = 'tan')\n",
    "    plt.legend()\n",
    "#     plt.savefig('amit_curve.jpg',dpi = 2000)\n",
    "    plt.show()\n",
    "    display(clear=True)"
   ]
  },
  {
   "cell_type": "code",
   "execution_count": null,
   "id": "888c7885",
   "metadata": {},
   "outputs": [],
   "source": []
  }
 ],
 "metadata": {
  "kernelspec": {
   "display_name": "Python 3 (ipykernel)",
   "language": "python",
   "name": "python3"
  },
  "language_info": {
   "codemirror_mode": {
    "name": "ipython",
    "version": 3
   },
   "file_extension": ".py",
   "mimetype": "text/x-python",
   "name": "python",
   "nbconvert_exporter": "python",
   "pygments_lexer": "ipython3",
   "version": "3.11.3"
  }
 },
 "nbformat": 4,
 "nbformat_minor": 5
}
