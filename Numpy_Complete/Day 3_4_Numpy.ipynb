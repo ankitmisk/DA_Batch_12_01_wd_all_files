{
 "cells": [
  {
   "cell_type": "code",
   "execution_count": 3,
   "id": "8663d1be",
   "metadata": {},
   "outputs": [],
   "source": [
    "# np.add()\n",
    "# np.subtract()\n",
    "# np.multiply()\n",
    "# np.divide()\n",
    "# np.mod()\n",
    "# np.power()\n",
    "# np.reciprocal()\n",
    "# np.min()\n",
    "# np.max()\n",
    "# np.argmax()\n",
    "# np.argmin()\n",
    "# Iteration Array\n",
    "# np.nditer()\n",
    "# np.ndenumerate()\n",
    "# np.concatenate\n",
    "# np.stack\n",
    "# slicing and assignment"
   ]
  },
  {
   "cell_type": "code",
   "execution_count": 4,
   "id": "fb9e1723",
   "metadata": {},
   "outputs": [],
   "source": [
    "import numpy as np"
   ]
  },
  {
   "cell_type": "code",
   "execution_count": 5,
   "id": "9920d0a8",
   "metadata": {},
   "outputs": [],
   "source": [
    "# 1d, 2d, 3d, 4d, \n",
    "# reshape,shape, size, ndim, type, astype, dtype, "
   ]
  },
  {
   "cell_type": "code",
   "execution_count": 38,
   "id": "960b0848",
   "metadata": {},
   "outputs": [
    {
     "data": {
      "text/plain": [
       "array([  13,  277, 1030,  402])"
      ]
     },
     "execution_count": 38,
     "metadata": {},
     "output_type": "execute_result"
    }
   ],
   "source": [
    "a = np.array([1,234,456,346])\n",
    "b = np.array([12,43,574,56])\n",
    "\n",
    "a + b"
   ]
  },
  {
   "cell_type": "code",
   "execution_count": 40,
   "id": "1b81c740",
   "metadata": {},
   "outputs": [
    {
     "data": {
      "text/plain": [
       "array([  13,  277, 1030,  402])"
      ]
     },
     "execution_count": 40,
     "metadata": {},
     "output_type": "execute_result"
    }
   ],
   "source": [
    "np.add(a,b)"
   ]
  },
  {
   "cell_type": "code",
   "execution_count": 43,
   "id": "bb8321f6",
   "metadata": {},
   "outputs": [
    {
     "data": {
      "text/plain": [
       "array([  13,  277, 1030,  402])"
      ]
     },
     "execution_count": 43,
     "metadata": {},
     "output_type": "execute_result"
    }
   ],
   "source": [
    "c = np.array([1,243,46,78])\n",
    "\n",
    "\n",
    "np.add(a,b,c)"
   ]
  },
  {
   "cell_type": "code",
   "execution_count": null,
   "id": "0f655acf",
   "metadata": {},
   "outputs": [],
   "source": []
  },
  {
   "cell_type": "code",
   "execution_count": null,
   "id": "3e1fd61e",
   "metadata": {},
   "outputs": [],
   "source": [
    "# np.add()\n",
    "# np.subtract()\n",
    "# np.multiply()\n",
    "# np.divide()\n",
    "# np.mod()\n",
    "# np.power()\n",
    "# np.reciprocal()"
   ]
  },
  {
   "cell_type": "code",
   "execution_count": 47,
   "id": "3c428ced",
   "metadata": {},
   "outputs": [
    {
     "data": {
      "text/plain": [
       "array([  1, 234, 456, 346])"
      ]
     },
     "execution_count": 47,
     "metadata": {},
     "output_type": "execute_result"
    }
   ],
   "source": [
    "a"
   ]
  },
  {
   "cell_type": "code",
   "execution_count": 48,
   "id": "f6cbf97e",
   "metadata": {},
   "outputs": [
    {
     "data": {
      "text/plain": [
       "array([ 12,  43, 574,  56])"
      ]
     },
     "execution_count": 48,
     "metadata": {},
     "output_type": "execute_result"
    }
   ],
   "source": [
    "b"
   ]
  },
  {
   "cell_type": "code",
   "execution_count": 49,
   "id": "54ad0400",
   "metadata": {},
   "outputs": [
    {
     "data": {
      "text/plain": [
       "array([1, 0, 0, 0])"
      ]
     },
     "execution_count": 49,
     "metadata": {},
     "output_type": "execute_result"
    }
   ],
   "source": [
    "\n",
    "np.power(a,b)"
   ]
  },
  {
   "cell_type": "code",
   "execution_count": 53,
   "id": "fb7433e2",
   "metadata": {},
   "outputs": [],
   "source": [
    "c = a**b"
   ]
  },
  {
   "cell_type": "code",
   "execution_count": 56,
   "id": "cd2049c8",
   "metadata": {},
   "outputs": [],
   "source": [
    "# c.astype('int64')"
   ]
  },
  {
   "cell_type": "code",
   "execution_count": 57,
   "id": "48584173",
   "metadata": {},
   "outputs": [
    {
     "data": {
      "text/plain": [
       "array([ 1,  4,  9, 16])"
      ]
     },
     "execution_count": 57,
     "metadata": {},
     "output_type": "execute_result"
    }
   ],
   "source": [
    "a = np.array([1,2,3,4])\n",
    "\n",
    "b = np.array([2,2,2,2])\n",
    "\n",
    "a**b"
   ]
  },
  {
   "cell_type": "code",
   "execution_count": 58,
   "id": "67461596",
   "metadata": {},
   "outputs": [
    {
     "data": {
      "text/plain": [
       "array([ 1,  4,  9, 16])"
      ]
     },
     "execution_count": 58,
     "metadata": {},
     "output_type": "execute_result"
    }
   ],
   "source": [
    "np.power(a,b)"
   ]
  },
  {
   "cell_type": "code",
   "execution_count": 59,
   "id": "1d591cbe",
   "metadata": {},
   "outputs": [
    {
     "data": {
      "text/plain": [
       "array([  1, 234, 456, 346])"
      ]
     },
     "execution_count": 59,
     "metadata": {},
     "output_type": "execute_result"
    }
   ],
   "source": [
    "a = np.array([1,234,456,346])\n",
    "b = np.array([12,43,574,56])\n",
    "a"
   ]
  },
  {
   "cell_type": "code",
   "execution_count": 60,
   "id": "8f99e462",
   "metadata": {},
   "outputs": [
    {
     "data": {
      "text/plain": [
       "array([ 12,  43, 574,  56])"
      ]
     },
     "execution_count": 60,
     "metadata": {},
     "output_type": "execute_result"
    }
   ],
   "source": [
    "b"
   ]
  },
  {
   "cell_type": "code",
   "execution_count": 62,
   "id": "cecfa99c",
   "metadata": {},
   "outputs": [],
   "source": [
    "# 234**43"
   ]
  },
  {
   "cell_type": "code",
   "execution_count": 66,
   "id": "d31f2b3e",
   "metadata": {},
   "outputs": [],
   "source": [
    "a = a.astype('int64')\n",
    "b = b.astype('int64')"
   ]
  },
  {
   "cell_type": "code",
   "execution_count": 67,
   "id": "e2f7a4d1",
   "metadata": {},
   "outputs": [
    {
     "data": {
      "text/plain": [
       "array([                   1,  4664999138234990592,                    0,\n",
       "       -2233785415175766016], dtype=int64)"
      ]
     },
     "execution_count": 67,
     "metadata": {},
     "output_type": "execute_result"
    }
   ],
   "source": [
    "a**b"
   ]
  },
  {
   "cell_type": "code",
   "execution_count": 69,
   "id": "1ed78b6a",
   "metadata": {},
   "outputs": [],
   "source": [
    "d = 456**574"
   ]
  },
  {
   "cell_type": "code",
   "execution_count": 70,
   "id": "46f00ff0",
   "metadata": {},
   "outputs": [],
   "source": [
    "import os"
   ]
  },
  {
   "cell_type": "code",
   "execution_count": 71,
   "id": "51aa1f6d",
   "metadata": {},
   "outputs": [],
   "source": [
    "import sys"
   ]
  },
  {
   "cell_type": "code",
   "execution_count": 73,
   "id": "5b5265d6",
   "metadata": {},
   "outputs": [
    {
     "data": {
      "text/plain": [
       "704"
      ]
     },
     "execution_count": 73,
     "metadata": {},
     "output_type": "execute_result"
    }
   ],
   "source": [
    "sys.getsizeof(d)"
   ]
  },
  {
   "cell_type": "code",
   "execution_count": 74,
   "id": "3337ad7d",
   "metadata": {},
   "outputs": [],
   "source": [
    "# np.reciprocal()"
   ]
  },
  {
   "cell_type": "code",
   "execution_count": 78,
   "id": "a4c421a5",
   "metadata": {},
   "outputs": [
    {
     "data": {
      "text/plain": [
       "array([1, 0, 0, 0, 0, 0, 0])"
      ]
     },
     "execution_count": 78,
     "metadata": {},
     "output_type": "execute_result"
    }
   ],
   "source": [
    "a = np.array([1,2,4,3,2,5,67])\n",
    "b = np.array([24,3,5,6,7])\n",
    "\n",
    "\n",
    "np.reciprocal(a)"
   ]
  },
  {
   "cell_type": "code",
   "execution_count": 79,
   "id": "f4c5e910",
   "metadata": {},
   "outputs": [
    {
     "data": {
      "text/plain": [
       "array([1.       , 0.5      , 0.3003003])"
      ]
     },
     "execution_count": 79,
     "metadata": {},
     "output_type": "execute_result"
    }
   ],
   "source": [
    "np.reciprocal([1, 2., 3.33])"
   ]
  },
  {
   "cell_type": "code",
   "execution_count": null,
   "id": "bbf60d14",
   "metadata": {},
   "outputs": [],
   "source": []
  },
  {
   "cell_type": "code",
   "execution_count": 87,
   "id": "cd01c734",
   "metadata": {},
   "outputs": [
    {
     "data": {
      "text/plain": [
       "array([1.     , 0.5    , 0.25   , 0.3333 , 0.5    , 0.2    , 0.01492],\n",
       "      dtype=float16)"
      ]
     },
     "execution_count": 87,
     "metadata": {},
     "output_type": "execute_result"
    }
   ],
   "source": [
    "a = np.array([1,2,4,3,2,5,67],dtype = 'float16')\n",
    "b = np.array([24,3,5,6,7],dtype = 'float16')\n",
    "\n",
    "\n",
    "1/a"
   ]
  },
  {
   "cell_type": "code",
   "execution_count": 88,
   "id": "10695094",
   "metadata": {},
   "outputs": [
    {
     "data": {
      "text/plain": [
       "array([1.     , 0.5    , 0.25   , 0.3333 , 0.5    , 0.2    , 0.01492],\n",
       "      dtype=float16)"
      ]
     },
     "execution_count": 88,
     "metadata": {},
     "output_type": "execute_result"
    }
   ],
   "source": [
    "np.reciprocal(a)"
   ]
  },
  {
   "cell_type": "code",
   "execution_count": 89,
   "id": "ddca038b",
   "metadata": {},
   "outputs": [],
   "source": [
    "# np.min()\n",
    "# np.max()\n",
    "# np.argmax()\n",
    "# np.argmin()\n",
    "# Iteration Array\n",
    "# np.nditer()\n",
    "# np.ndenumerate()\n",
    "# np.concatenate\n",
    "# np.stack"
   ]
  },
  {
   "cell_type": "code",
   "execution_count": 91,
   "id": "53b0afa2",
   "metadata": {},
   "outputs": [
    {
     "data": {
      "text/plain": [
       "array([ 1,  2,  3,  4,  5,  6,  7,  8,  9, 10, 11, 12, 13, 14, 15, 16, 17,\n",
       "       18, 19, 20, 21, 22, 23, 24, 25])"
      ]
     },
     "execution_count": 91,
     "metadata": {},
     "output_type": "execute_result"
    }
   ],
   "source": [
    "a = np.arange(1,26,1)\n",
    "a"
   ]
  },
  {
   "cell_type": "code",
   "execution_count": 92,
   "id": "cda9561a",
   "metadata": {},
   "outputs": [
    {
     "data": {
      "text/plain": [
       "1"
      ]
     },
     "execution_count": 92,
     "metadata": {},
     "output_type": "execute_result"
    }
   ],
   "source": [
    "a.ndim"
   ]
  },
  {
   "cell_type": "code",
   "execution_count": 97,
   "id": "629ba961",
   "metadata": {},
   "outputs": [
    {
     "data": {
      "text/plain": [
       "array([[ 1,  2,  3,  4,  5],\n",
       "       [ 6,  7,  8,  9, 10],\n",
       "       [11, 12, 13, 14, 15],\n",
       "       [16, 17, 18, 19, 20],\n",
       "       [21, 22, 23, 24, 25]])"
      ]
     },
     "execution_count": 97,
     "metadata": {},
     "output_type": "execute_result"
    }
   ],
   "source": [
    "a.reshape(5,5)"
   ]
  },
  {
   "cell_type": "code",
   "execution_count": 98,
   "id": "33722367",
   "metadata": {},
   "outputs": [
    {
     "data": {
      "text/plain": [
       "array([[ 1,  2,  3,  4,  5],\n",
       "       [ 6,  7,  8,  9, 10],\n",
       "       [11, 12, 13, 14, 15],\n",
       "       [16, 17, 18, 19, 20],\n",
       "       [21, 22, 23, 24, 25]])"
      ]
     },
     "execution_count": 98,
     "metadata": {},
     "output_type": "execute_result"
    }
   ],
   "source": [
    "a = np.arange(1,26).reshape(5,5)\n",
    "a"
   ]
  },
  {
   "cell_type": "code",
   "execution_count": 99,
   "id": "5c0ac170",
   "metadata": {},
   "outputs": [
    {
     "data": {
      "text/plain": [
       "array([[97, 43, 43, 51, 26],\n",
       "       [13, 88, 23,  7, 40],\n",
       "       [49, 73, 33, 78, 45],\n",
       "       [52, 79, 60, 52, 70],\n",
       "       [ 8, 23, 65, 58, 16]])"
      ]
     },
     "execution_count": 99,
     "metadata": {},
     "output_type": "execute_result"
    }
   ],
   "source": [
    "a = np.random.randint(1,100,(5,5))\n",
    "a"
   ]
  },
  {
   "cell_type": "code",
   "execution_count": 100,
   "id": "2a4780bb",
   "metadata": {},
   "outputs": [
    {
     "data": {
      "text/plain": [
       "7"
      ]
     },
     "execution_count": 100,
     "metadata": {},
     "output_type": "execute_result"
    }
   ],
   "source": [
    "np.min(a)"
   ]
  },
  {
   "cell_type": "code",
   "execution_count": 101,
   "id": "7066fc66",
   "metadata": {},
   "outputs": [
    {
     "data": {
      "text/plain": [
       "97"
      ]
     },
     "execution_count": 101,
     "metadata": {},
     "output_type": "execute_result"
    }
   ],
   "source": [
    "np.max(a)"
   ]
  },
  {
   "cell_type": "code",
   "execution_count": 103,
   "id": "153e1729",
   "metadata": {},
   "outputs": [
    {
     "data": {
      "text/plain": [
       "7"
      ]
     },
     "execution_count": 103,
     "metadata": {},
     "output_type": "execute_result"
    }
   ],
   "source": [
    "a.min()"
   ]
  },
  {
   "cell_type": "code",
   "execution_count": 104,
   "id": "0f060f89",
   "metadata": {},
   "outputs": [
    {
     "data": {
      "text/plain": [
       "97"
      ]
     },
     "execution_count": 104,
     "metadata": {},
     "output_type": "execute_result"
    }
   ],
   "source": [
    "a.max()"
   ]
  },
  {
   "cell_type": "code",
   "execution_count": 112,
   "id": "b2b26c50",
   "metadata": {},
   "outputs": [
    {
     "data": {
      "text/plain": [
       "97"
      ]
     },
     "execution_count": 112,
     "metadata": {},
     "output_type": "execute_result"
    }
   ],
   "source": [
    "max(a.flatten())"
   ]
  },
  {
   "cell_type": "code",
   "execution_count": 113,
   "id": "700e4313",
   "metadata": {},
   "outputs": [
    {
     "data": {
      "text/plain": [
       "7"
      ]
     },
     "execution_count": 113,
     "metadata": {},
     "output_type": "execute_result"
    }
   ],
   "source": [
    "min(a.flatten())"
   ]
  },
  {
   "cell_type": "code",
   "execution_count": 114,
   "id": "c7daaf9c",
   "metadata": {},
   "outputs": [
    {
     "data": {
      "text/plain": [
       "array([[97, 43, 43, 51, 26],\n",
       "       [13, 88, 23,  7, 40],\n",
       "       [49, 73, 33, 78, 45],\n",
       "       [52, 79, 60, 52, 70],\n",
       "       [ 8, 23, 65, 58, 16]])"
      ]
     },
     "execution_count": 114,
     "metadata": {},
     "output_type": "execute_result"
    }
   ],
   "source": [
    "a"
   ]
  },
  {
   "cell_type": "code",
   "execution_count": 117,
   "id": "403d2ab6",
   "metadata": {},
   "outputs": [
    {
     "data": {
      "text/plain": [
       "array([97, 88, 65, 78, 70])"
      ]
     },
     "execution_count": 117,
     "metadata": {},
     "output_type": "execute_result"
    }
   ],
   "source": [
    "np.max(a,axis=0)   # column along"
   ]
  },
  {
   "cell_type": "code",
   "execution_count": 118,
   "id": "a4cc9c77",
   "metadata": {},
   "outputs": [
    {
     "data": {
      "text/plain": [
       "array([97, 88, 78, 79, 65])"
      ]
     },
     "execution_count": 118,
     "metadata": {},
     "output_type": "execute_result"
    }
   ],
   "source": [
    "np.max(a,axis=1)   # row along"
   ]
  },
  {
   "cell_type": "code",
   "execution_count": 119,
   "id": "8a6a9ded",
   "metadata": {},
   "outputs": [
    {
     "data": {
      "text/plain": [
       "array([ 8, 23, 23,  7, 16])"
      ]
     },
     "execution_count": 119,
     "metadata": {},
     "output_type": "execute_result"
    }
   ],
   "source": [
    "np.min(a,axis=0)"
   ]
  },
  {
   "cell_type": "code",
   "execution_count": 122,
   "id": "578b2f99",
   "metadata": {},
   "outputs": [
    {
     "data": {
      "text/plain": [
       "array([ 8, 23, 23,  7, 16])"
      ]
     },
     "execution_count": 122,
     "metadata": {},
     "output_type": "execute_result"
    }
   ],
   "source": [
    "np.min(a,axis=0)"
   ]
  },
  {
   "cell_type": "code",
   "execution_count": 123,
   "id": "ca9dea3f",
   "metadata": {},
   "outputs": [],
   "source": [
    "# np.sum()"
   ]
  },
  {
   "cell_type": "code",
   "execution_count": 126,
   "id": "3e2fd986",
   "metadata": {},
   "outputs": [
    {
     "data": {
      "text/plain": [
       "array([[97, 43, 43, 51, 26],\n",
       "       [13, 88, 23,  7, 40],\n",
       "       [49, 73, 33, 78, 45],\n",
       "       [52, 79, 60, 52, 70],\n",
       "       [ 8, 23, 65, 58, 16]])"
      ]
     },
     "execution_count": 126,
     "metadata": {},
     "output_type": "execute_result"
    }
   ],
   "source": [
    "a"
   ]
  },
  {
   "cell_type": "code",
   "execution_count": 124,
   "id": "e43993d1",
   "metadata": {},
   "outputs": [
    {
     "data": {
      "text/plain": [
       "1192"
      ]
     },
     "execution_count": 124,
     "metadata": {},
     "output_type": "execute_result"
    }
   ],
   "source": [
    "np.sum(a)"
   ]
  },
  {
   "cell_type": "code",
   "execution_count": 127,
   "id": "b3ff6085",
   "metadata": {},
   "outputs": [
    {
     "data": {
      "text/plain": [
       "array([219, 306, 224, 246, 197])"
      ]
     },
     "execution_count": 127,
     "metadata": {},
     "output_type": "execute_result"
    }
   ],
   "source": [
    "np.sum(a,axis=0)"
   ]
  },
  {
   "cell_type": "code",
   "execution_count": 128,
   "id": "12a55533",
   "metadata": {},
   "outputs": [
    {
     "data": {
      "text/plain": [
       "array([260, 171, 278, 313, 170])"
      ]
     },
     "execution_count": 128,
     "metadata": {},
     "output_type": "execute_result"
    }
   ],
   "source": [
    "np.sum(a,axis=1)"
   ]
  },
  {
   "cell_type": "code",
   "execution_count": 129,
   "id": "1ea10c67",
   "metadata": {},
   "outputs": [
    {
     "data": {
      "text/plain": [
       "array([[97, 43, 43, 51, 26],\n",
       "       [13, 88, 23,  7, 40],\n",
       "       [49, 73, 33, 78, 45],\n",
       "       [52, 79, 60, 52, 70],\n",
       "       [ 8, 23, 65, 58, 16]])"
      ]
     },
     "execution_count": 129,
     "metadata": {},
     "output_type": "execute_result"
    }
   ],
   "source": [
    "a"
   ]
  },
  {
   "cell_type": "code",
   "execution_count": 131,
   "id": "3ffa8231",
   "metadata": {},
   "outputs": [
    {
     "data": {
      "text/plain": [
       "array([ 8, 23, 23,  7, 16])"
      ]
     },
     "execution_count": 131,
     "metadata": {},
     "output_type": "execute_result"
    }
   ],
   "source": [
    "a.min(axis = 0)"
   ]
  },
  {
   "cell_type": "code",
   "execution_count": 133,
   "id": "2af69fa3",
   "metadata": {},
   "outputs": [
    {
     "data": {
      "text/plain": [
       "array([219, 306, 224, 246, 197])"
      ]
     },
     "execution_count": 133,
     "metadata": {},
     "output_type": "execute_result"
    }
   ],
   "source": [
    "a.sum(axis=0)"
   ]
  },
  {
   "cell_type": "code",
   "execution_count": null,
   "id": "20578e1a",
   "metadata": {},
   "outputs": [],
   "source": []
  },
  {
   "cell_type": "code",
   "execution_count": 134,
   "id": "ddc0499d",
   "metadata": {},
   "outputs": [
    {
     "data": {
      "text/plain": [
       "array([[[ 1,  2,  3],\n",
       "        [ 4,  5,  6],\n",
       "        [ 7,  8,  9]],\n",
       "\n",
       "       [[10, 11, 12],\n",
       "        [13, 14, 15],\n",
       "        [16, 17, 18]],\n",
       "\n",
       "       [[19, 20, 21],\n",
       "        [22, 23, 24],\n",
       "        [25, 26, 27]]])"
      ]
     },
     "execution_count": 134,
     "metadata": {},
     "output_type": "execute_result"
    }
   ],
   "source": [
    "a = np.arange(1,28).reshape(3,3,3)\n",
    "a"
   ]
  },
  {
   "cell_type": "code",
   "execution_count": 135,
   "id": "cf2cc63b",
   "metadata": {},
   "outputs": [
    {
     "data": {
      "text/plain": [
       "1"
      ]
     },
     "execution_count": 135,
     "metadata": {},
     "output_type": "execute_result"
    }
   ],
   "source": [
    "np.min(a)"
   ]
  },
  {
   "cell_type": "code",
   "execution_count": 136,
   "id": "0b3b21a6",
   "metadata": {},
   "outputs": [
    {
     "data": {
      "text/plain": [
       "27"
      ]
     },
     "execution_count": 136,
     "metadata": {},
     "output_type": "execute_result"
    }
   ],
   "source": [
    "np.max(a)"
   ]
  },
  {
   "cell_type": "code",
   "execution_count": 151,
   "id": "ba2e0f96",
   "metadata": {},
   "outputs": [
    {
     "data": {
      "text/plain": [
       "array([[[259, 104,  21],\n",
       "        [462, 324,  59],\n",
       "        [252, 434,  97]],\n",
       "\n",
       "       [[ 14, 256, 198],\n",
       "        [249, 474, 242],\n",
       "        [413, 475, 188]],\n",
       "\n",
       "       [[487, 330, 479],\n",
       "        [317, 156, 219],\n",
       "        [414, 186, 243]]])"
      ]
     },
     "execution_count": 151,
     "metadata": {},
     "output_type": "execute_result"
    }
   ],
   "source": [
    "a = np.random.randint(1,500,(3,3,3))\n",
    "a"
   ]
  },
  {
   "cell_type": "code",
   "execution_count": 153,
   "id": "bee22c76",
   "metadata": {},
   "outputs": [],
   "source": [
    "# [[487,330,479],\n",
    "#  [462,474,242],\n",
    "# [414,475,243]]"
   ]
  },
  {
   "cell_type": "code",
   "execution_count": 142,
   "id": "42a0151a",
   "metadata": {},
   "outputs": [
    {
     "data": {
      "text/plain": [
       "1"
      ]
     },
     "execution_count": 142,
     "metadata": {},
     "output_type": "execute_result"
    }
   ],
   "source": [
    "np.min(a)"
   ]
  },
  {
   "cell_type": "code",
   "execution_count": 143,
   "id": "1044ceb9",
   "metadata": {},
   "outputs": [
    {
     "data": {
      "text/plain": [
       "498"
      ]
     },
     "execution_count": 143,
     "metadata": {},
     "output_type": "execute_result"
    }
   ],
   "source": [
    "np.max(a)"
   ]
  },
  {
   "cell_type": "code",
   "execution_count": 147,
   "id": "72e36d0c",
   "metadata": {},
   "outputs": [
    {
     "data": {
      "text/plain": [
       "array([[155, 148, 251],\n",
       "       [ 33, 316, 321],\n",
       "       [  8,  22,   1]])"
      ]
     },
     "execution_count": 147,
     "metadata": {},
     "output_type": "execute_result"
    }
   ],
   "source": [
    "np.min(a,axis=2)"
   ]
  },
  {
   "cell_type": "code",
   "execution_count": 148,
   "id": "f1453e58",
   "metadata": {},
   "outputs": [],
   "source": [
    "# 0,1  :- col,row\n",
    "# 0,1,2:- col,row"
   ]
  },
  {
   "cell_type": "code",
   "execution_count": 149,
   "id": "9c21a129",
   "metadata": {},
   "outputs": [
    {
     "data": {
      "text/plain": [
       "array([[251, 148, 155],\n",
       "       [311,  33, 310],\n",
       "       [ 71,   1,   8]])"
      ]
     },
     "execution_count": 149,
     "metadata": {},
     "output_type": "execute_result"
    }
   ],
   "source": [
    "np.min(a,axis=1)"
   ]
  },
  {
   "cell_type": "code",
   "execution_count": 152,
   "id": "b45b605e",
   "metadata": {},
   "outputs": [
    {
     "data": {
      "text/plain": [
       "array([[ 14, 104,  21],\n",
       "       [249, 156,  59],\n",
       "       [252, 186,  97]])"
      ]
     },
     "execution_count": 152,
     "metadata": {},
     "output_type": "execute_result"
    }
   ],
   "source": [
    "np.min(a,axis=0)"
   ]
  },
  {
   "cell_type": "code",
   "execution_count": 154,
   "id": "81c2579a",
   "metadata": {},
   "outputs": [
    {
     "data": {
      "text/plain": [
       "array([[487, 330, 479],\n",
       "       [462, 474, 242],\n",
       "       [414, 475, 243]])"
      ]
     },
     "execution_count": 154,
     "metadata": {},
     "output_type": "execute_result"
    }
   ],
   "source": [
    "np.max(a,axis=0)"
   ]
  },
  {
   "cell_type": "code",
   "execution_count": 1,
   "id": "c65185c7",
   "metadata": {},
   "outputs": [],
   "source": [
    "# np.argmax()\n",
    "# np.argmin()\n",
    "# Iteration Array\n",
    "# np.nditer()\n",
    "# np.ndenumerate()\n",
    "# np.concatenate\n",
    "# np.stack\n",
    "# slicing and assignment"
   ]
  },
  {
   "cell_type": "markdown",
   "id": "0500ac24",
   "metadata": {},
   "source": [
    "# New day"
   ]
  },
  {
   "cell_type": "code",
   "execution_count": 2,
   "id": "558d5ca8",
   "metadata": {},
   "outputs": [],
   "source": [
    "import numpy as np"
   ]
  },
  {
   "cell_type": "code",
   "execution_count": 21,
   "id": "27ebad70",
   "metadata": {},
   "outputs": [
    {
     "data": {
      "text/plain": [
       "array([[ 9, 25, 68, 88, 80],\n",
       "       [49, 11, 95, 53, 99],\n",
       "       [54, 67, 99, 15, 35],\n",
       "       [25, 16, 61, 59, 17],\n",
       "       [10, 94, 87,  3, 28]])"
      ]
     },
     "execution_count": 21,
     "metadata": {},
     "output_type": "execute_result"
    }
   ],
   "source": [
    "np.random.seed(100)\n",
    "a = np.random.randint(1,100,(5,5))\n",
    "a"
   ]
  },
  {
   "cell_type": "code",
   "execution_count": 7,
   "id": "8e19a36c",
   "metadata": {},
   "outputs": [],
   "source": [
    "import random\n",
    "# random.randint(1,100,(5,5))|"
   ]
  },
  {
   "cell_type": "code",
   "execution_count": 22,
   "id": "89a3f285",
   "metadata": {},
   "outputs": [
    {
     "data": {
      "text/plain": [
       "99"
      ]
     },
     "execution_count": 22,
     "metadata": {},
     "output_type": "execute_result"
    }
   ],
   "source": [
    "np.max(a)"
   ]
  },
  {
   "cell_type": "code",
   "execution_count": 23,
   "id": "bdc53af4",
   "metadata": {},
   "outputs": [
    {
     "data": {
      "text/plain": [
       "9"
      ]
     },
     "execution_count": 23,
     "metadata": {},
     "output_type": "execute_result"
    }
   ],
   "source": [
    "np.argmax(a)"
   ]
  },
  {
   "cell_type": "code",
   "execution_count": 24,
   "id": "89b601bd",
   "metadata": {},
   "outputs": [
    {
     "data": {
      "text/plain": [
       "3"
      ]
     },
     "execution_count": 24,
     "metadata": {},
     "output_type": "execute_result"
    }
   ],
   "source": [
    "np.min(a)"
   ]
  },
  {
   "cell_type": "code",
   "execution_count": 25,
   "id": "6e7f76bf",
   "metadata": {},
   "outputs": [
    {
     "data": {
      "text/plain": [
       "23"
      ]
     },
     "execution_count": 25,
     "metadata": {},
     "output_type": "execute_result"
    }
   ],
   "source": [
    "np.argmin(a)"
   ]
  },
  {
   "cell_type": "code",
   "execution_count": 26,
   "id": "d669d572",
   "metadata": {},
   "outputs": [
    {
     "data": {
      "text/plain": [
       "array([ 9, 11, 61,  3, 17])"
      ]
     },
     "execution_count": 26,
     "metadata": {},
     "output_type": "execute_result"
    }
   ],
   "source": [
    "np.min(a,axis = 0)"
   ]
  },
  {
   "cell_type": "code",
   "execution_count": 27,
   "id": "07c01783",
   "metadata": {},
   "outputs": [
    {
     "data": {
      "text/plain": [
       "array([0, 1, 3, 4, 3], dtype=int64)"
      ]
     },
     "execution_count": 27,
     "metadata": {},
     "output_type": "execute_result"
    }
   ],
   "source": [
    "np.argmin(a,axis=0)"
   ]
  },
  {
   "cell_type": "code",
   "execution_count": 28,
   "id": "16144bc8",
   "metadata": {},
   "outputs": [
    {
     "data": {
      "text/plain": [
       "array([[ 9, 25, 68, 88, 80],\n",
       "       [49, 11, 95, 53, 99],\n",
       "       [54, 67, 99, 15, 35],\n",
       "       [25, 16, 61, 59, 17],\n",
       "       [10, 94, 87,  3, 28]])"
      ]
     },
     "execution_count": 28,
     "metadata": {},
     "output_type": "execute_result"
    }
   ],
   "source": [
    "a"
   ]
  },
  {
   "cell_type": "code",
   "execution_count": 29,
   "id": "816a1a3e",
   "metadata": {},
   "outputs": [
    {
     "data": {
      "text/plain": [
       "array([ 9, 11, 15, 16,  3])"
      ]
     },
     "execution_count": 29,
     "metadata": {},
     "output_type": "execute_result"
    }
   ],
   "source": [
    "np.min(a,axis=1)"
   ]
  },
  {
   "cell_type": "code",
   "execution_count": 30,
   "id": "9d4a881e",
   "metadata": {},
   "outputs": [
    {
     "data": {
      "text/plain": [
       "array([0, 1, 3, 1, 3], dtype=int64)"
      ]
     },
     "execution_count": 30,
     "metadata": {},
     "output_type": "execute_result"
    }
   ],
   "source": [
    "np.argmin(a,axis=1)"
   ]
  },
  {
   "cell_type": "code",
   "execution_count": 38,
   "id": "02168b7b",
   "metadata": {},
   "outputs": [
    {
     "data": {
      "text/plain": [
       "array([[[75, 73, 28, 23, 20],\n",
       "        [79, 37, 59, 32, 93],\n",
       "        [75,  8, 46, 67, 78],\n",
       "        [38,  1, 68, 38, 58],\n",
       "        [96, 17, 45, 48, 98]],\n",
       "\n",
       "       [[14, 78, 49, 11, 25],\n",
       "        [42, 18,  5, 70, 56],\n",
       "        [ 6, 72, 85, 76, 37],\n",
       "        [73, 42, 65,  4, 99],\n",
       "        [41, 25, 32,  4, 30]],\n",
       "\n",
       "       [[41, 15, 94, 32, 77],\n",
       "        [11, 51, 31,  5, 64],\n",
       "        [33,  1, 11, 66, 31],\n",
       "        [ 2, 30, 31, 89, 51],\n",
       "        [ 8, 65, 22, 57, 24]]])"
      ]
     },
     "execution_count": 38,
     "metadata": {},
     "output_type": "execute_result"
    }
   ],
   "source": [
    "a = np.random.randint(1,100,(3,5,5))\n",
    "# a.ndim\n",
    "a"
   ]
  },
  {
   "cell_type": "code",
   "execution_count": 39,
   "id": "9e040fdd",
   "metadata": {},
   "outputs": [
    {
     "data": {
      "text/plain": [
       "array([[14, 15, 28, 11, 20],\n",
       "       [11, 18,  5,  5, 56],\n",
       "       [ 6,  1, 11, 66, 31],\n",
       "       [ 2,  1, 31,  4, 51],\n",
       "       [ 8, 17, 22,  4, 24]])"
      ]
     },
     "execution_count": 39,
     "metadata": {},
     "output_type": "execute_result"
    }
   ],
   "source": [
    "np.min(a,axis=0)"
   ]
  },
  {
   "cell_type": "code",
   "execution_count": 40,
   "id": "693df110",
   "metadata": {},
   "outputs": [
    {
     "data": {
      "text/plain": [
       "array([[1, 2, 0, 1, 0],\n",
       "       [2, 1, 1, 2, 1],\n",
       "       [1, 2, 2, 2, 2],\n",
       "       [2, 0, 2, 1, 2],\n",
       "       [2, 0, 2, 1, 2]], dtype=int64)"
      ]
     },
     "execution_count": 40,
     "metadata": {},
     "output_type": "execute_result"
    }
   ],
   "source": [
    "np.argmin(a,axis=0)"
   ]
  },
  {
   "cell_type": "code",
   "execution_count": 41,
   "id": "4e9180a7",
   "metadata": {},
   "outputs": [],
   "source": [
    "#  Iteration Array"
   ]
  },
  {
   "cell_type": "code",
   "execution_count": 42,
   "id": "4ebd3c60",
   "metadata": {},
   "outputs": [],
   "source": [
    "# np.nditer()\n",
    "# np.ndenumerate()"
   ]
  },
  {
   "cell_type": "code",
   "execution_count": 45,
   "id": "ace5fabe",
   "metadata": {},
   "outputs": [
    {
     "name": "stdout",
     "output_type": "stream",
     "text": [
      "[87 33 41 15  5 19 24 78 22 47]\n"
     ]
    }
   ],
   "source": [
    "a = np.random.randint(1,100,10)\n",
    "print(a)"
   ]
  },
  {
   "cell_type": "code",
   "execution_count": 46,
   "id": "4c2163dd",
   "metadata": {},
   "outputs": [
    {
     "name": "stdout",
     "output_type": "stream",
     "text": [
      "87\n",
      "33\n",
      "41\n",
      "15\n",
      "5\n",
      "19\n",
      "24\n",
      "78\n",
      "22\n",
      "47\n"
     ]
    }
   ],
   "source": [
    "for i in a:\n",
    "    print(i)"
   ]
  },
  {
   "cell_type": "code",
   "execution_count": 49,
   "id": "0fce599e",
   "metadata": {},
   "outputs": [
    {
     "name": "stdout",
     "output_type": "stream",
     "text": [
      "[19 51]\n",
      "[48 41]\n"
     ]
    }
   ],
   "source": [
    "a = np.random.randint(1,100,(2,2))\n",
    "# print(a)\n",
    "\n",
    "\n",
    "\n",
    "for i in a:\n",
    "    print(i)"
   ]
  },
  {
   "cell_type": "code",
   "execution_count": 50,
   "id": "c819d07c",
   "metadata": {},
   "outputs": [
    {
     "name": "stdout",
     "output_type": "stream",
     "text": [
      "[[[98 26 93]\n",
      "  [19 78 80]\n",
      "  [43 10 81]]\n",
      "\n",
      " [[63 54 93]\n",
      "  [56 15 11]\n",
      "  [69 92 84]]\n",
      "\n",
      " [[21 88 23]\n",
      "  [ 2  9 59]\n",
      "  [69 98 53]]]\n"
     ]
    }
   ],
   "source": [
    "a = np.random.randint(1,100,(3,3,3))\n",
    "print(a)\n",
    "\n",
    "\n"
   ]
  },
  {
   "cell_type": "code",
   "execution_count": 52,
   "id": "35c7cd7f",
   "metadata": {},
   "outputs": [
    {
     "name": "stdout",
     "output_type": "stream",
     "text": [
      "[[98 26 93]\n",
      " [19 78 80]\n",
      " [43 10 81]]\n",
      "---------\n",
      "[[63 54 93]\n",
      " [56 15 11]\n",
      " [69 92 84]]\n",
      "---------\n",
      "[[21 88 23]\n",
      " [ 2  9 59]\n",
      " [69 98 53]]\n",
      "---------\n"
     ]
    }
   ],
   "source": [
    "for i in a:\n",
    "    print(i)\n",
    "    print('---------')"
   ]
  },
  {
   "cell_type": "code",
   "execution_count": 55,
   "id": "bc648cb2",
   "metadata": {},
   "outputs": [
    {
     "name": "stdout",
     "output_type": "stream",
     "text": [
      "98\n",
      "26\n",
      "93\n",
      "19\n",
      "78\n",
      "80\n",
      "43\n",
      "10\n",
      "81\n",
      "63\n",
      "54\n",
      "93\n",
      "56\n",
      "15\n",
      "11\n",
      "69\n",
      "92\n",
      "84\n",
      "21\n",
      "88\n",
      "23\n",
      "2\n",
      "9\n",
      "59\n",
      "69\n",
      "98\n",
      "53\n"
     ]
    }
   ],
   "source": [
    "for i in a:\n",
    "    for j in i:\n",
    "        for k in j:\n",
    "            print(k)"
   ]
  },
  {
   "cell_type": "code",
   "execution_count": 56,
   "id": "a84923f3",
   "metadata": {},
   "outputs": [],
   "source": [
    "# np.nditer()"
   ]
  },
  {
   "cell_type": "code",
   "execution_count": 57,
   "id": "f0f69e58",
   "metadata": {},
   "outputs": [
    {
     "data": {
      "text/plain": [
       "array([[[98, 26, 93],\n",
       "        [19, 78, 80],\n",
       "        [43, 10, 81]],\n",
       "\n",
       "       [[63, 54, 93],\n",
       "        [56, 15, 11],\n",
       "        [69, 92, 84]],\n",
       "\n",
       "       [[21, 88, 23],\n",
       "        [ 2,  9, 59],\n",
       "        [69, 98, 53]]])"
      ]
     },
     "execution_count": 57,
     "metadata": {},
     "output_type": "execute_result"
    }
   ],
   "source": [
    "a"
   ]
  },
  {
   "cell_type": "code",
   "execution_count": 62,
   "id": "0ddd24dc",
   "metadata": {},
   "outputs": [
    {
     "name": "stdout",
     "output_type": "stream",
     "text": [
      "98\n",
      "26\n",
      "93\n",
      "19\n",
      "78\n",
      "80\n",
      "43\n",
      "10\n",
      "81\n",
      "63\n",
      "54\n",
      "93\n",
      "56\n",
      "15\n",
      "11\n",
      "69\n",
      "92\n",
      "84\n",
      "21\n",
      "88\n",
      "23\n",
      "2\n",
      "9\n",
      "59\n",
      "69\n",
      "98\n",
      "53\n"
     ]
    }
   ],
   "source": [
    "for i in np.array(np.nditer(a)):\n",
    "    print(i)"
   ]
  },
  {
   "cell_type": "code",
   "execution_count": 63,
   "id": "a9a8f995",
   "metadata": {},
   "outputs": [
    {
     "name": "stdout",
     "output_type": "stream",
     "text": [
      "98\n",
      "26\n",
      "93\n",
      "19\n",
      "78\n",
      "80\n",
      "43\n",
      "10\n",
      "81\n",
      "63\n",
      "54\n",
      "93\n",
      "56\n",
      "15\n",
      "11\n",
      "69\n",
      "92\n",
      "84\n",
      "21\n",
      "88\n",
      "23\n",
      "2\n",
      "9\n",
      "59\n",
      "69\n",
      "98\n",
      "53\n"
     ]
    }
   ],
   "source": [
    "for i in np.nditer(a):\n",
    "    print(i)"
   ]
  },
  {
   "cell_type": "code",
   "execution_count": 68,
   "id": "adf2eac8",
   "metadata": {},
   "outputs": [],
   "source": [
    "data = np.nditer(a)"
   ]
  },
  {
   "cell_type": "code",
   "execution_count": 74,
   "id": "e69ad4bb",
   "metadata": {},
   "outputs": [
    {
     "data": {
      "text/plain": [
       "array(78)"
      ]
     },
     "execution_count": 74,
     "metadata": {},
     "output_type": "execute_result"
    }
   ],
   "source": [
    "next(data)"
   ]
  },
  {
   "cell_type": "code",
   "execution_count": 77,
   "id": "086e5079",
   "metadata": {},
   "outputs": [
    {
     "name": "stdout",
     "output_type": "stream",
     "text": [
      "0 [[98 26 93]\n",
      " [19 78 80]\n",
      " [43 10 81]]\n",
      "------------\n",
      "1 [[63 54 93]\n",
      " [56 15 11]\n",
      " [69 92 84]]\n",
      "------------\n",
      "2 [[21 88 23]\n",
      " [ 2  9 59]\n",
      " [69 98 53]]\n",
      "------------\n"
     ]
    }
   ],
   "source": [
    "for index,array in enumerate(a):\n",
    "    print(index,array)\n",
    "    \n",
    "    print('------------')"
   ]
  },
  {
   "cell_type": "code",
   "execution_count": 79,
   "id": "194eb3a7",
   "metadata": {},
   "outputs": [
    {
     "data": {
      "text/plain": [
       "array([[[98, 26, 93],\n",
       "        [19, 78, 80],\n",
       "        [43, 10, 81]],\n",
       "\n",
       "       [[63, 54, 93],\n",
       "        [56, 15, 11],\n",
       "        [69, 92, 84]],\n",
       "\n",
       "       [[21, 88, 23],\n",
       "        [ 2,  9, 59],\n",
       "        [69, 98, 53]]])"
      ]
     },
     "execution_count": 79,
     "metadata": {},
     "output_type": "execute_result"
    }
   ],
   "source": [
    "a"
   ]
  },
  {
   "cell_type": "code",
   "execution_count": 78,
   "id": "2acfc318",
   "metadata": {},
   "outputs": [
    {
     "name": "stdout",
     "output_type": "stream",
     "text": [
      "(0, 0, 0) 98\n",
      "(0, 0, 1) 26\n",
      "(0, 0, 2) 93\n",
      "(0, 1, 0) 19\n",
      "(0, 1, 1) 78\n",
      "(0, 1, 2) 80\n",
      "(0, 2, 0) 43\n",
      "(0, 2, 1) 10\n",
      "(0, 2, 2) 81\n",
      "(1, 0, 0) 63\n",
      "(1, 0, 1) 54\n",
      "(1, 0, 2) 93\n",
      "(1, 1, 0) 56\n",
      "(1, 1, 1) 15\n",
      "(1, 1, 2) 11\n",
      "(1, 2, 0) 69\n",
      "(1, 2, 1) 92\n",
      "(1, 2, 2) 84\n",
      "(2, 0, 0) 21\n",
      "(2, 0, 1) 88\n",
      "(2, 0, 2) 23\n",
      "(2, 1, 0) 2\n",
      "(2, 1, 1) 9\n",
      "(2, 1, 2) 59\n",
      "(2, 2, 0) 69\n",
      "(2, 2, 1) 98\n",
      "(2, 2, 2) 53\n"
     ]
    }
   ],
   "source": [
    "for index,value in np.ndenumerate(a):\n",
    "    print(index,value)"
   ]
  },
  {
   "cell_type": "code",
   "execution_count": 80,
   "id": "4f6f624b",
   "metadata": {},
   "outputs": [
    {
     "name": "stdout",
     "output_type": "stream",
     "text": [
      "98\n",
      "26\n",
      "93\n",
      "19\n",
      "78\n",
      "80\n",
      "43\n",
      "10\n",
      "81\n",
      "63\n",
      "54\n",
      "93\n",
      "56\n",
      "15\n",
      "11\n",
      "69\n",
      "92\n",
      "84\n",
      "21\n",
      "88\n",
      "23\n",
      "2\n",
      "9\n",
      "59\n",
      "69\n",
      "98\n",
      "53\n"
     ]
    }
   ],
   "source": [
    "for index,value in np.ndenumerate(a):\n",
    "    print(value)"
   ]
  },
  {
   "cell_type": "code",
   "execution_count": 81,
   "id": "ae64deb0",
   "metadata": {},
   "outputs": [
    {
     "data": {
      "text/plain": [
       "5"
      ]
     },
     "execution_count": 81,
     "metadata": {},
     "output_type": "execute_result"
    }
   ],
   "source": [
    "a = np.random.randint(1,1000,(3,3,3,3,3))\n",
    "a.ndim"
   ]
  },
  {
   "cell_type": "code",
   "execution_count": 83,
   "id": "0c0ead60",
   "metadata": {},
   "outputs": [
    {
     "name": "stdout",
     "output_type": "stream",
     "text": [
      "(0, 0, 0, 0, 0) 970\n",
      "(0, 0, 0, 0, 1) 32\n",
      "(0, 0, 0, 0, 2) 4\n",
      "(0, 0, 0, 1, 0) 108\n",
      "(0, 0, 0, 1, 1) 779\n",
      "(0, 0, 0, 1, 2) 386\n",
      "(0, 0, 0, 2, 0) 978\n",
      "(0, 0, 0, 2, 1) 134\n",
      "(0, 0, 0, 2, 2) 143\n",
      "(0, 0, 1, 0, 0) 913\n",
      "(0, 0, 1, 0, 1) 575\n",
      "(0, 0, 1, 0, 2) 358\n",
      "(0, 0, 1, 1, 0) 939\n",
      "(0, 0, 1, 1, 1) 152\n",
      "(0, 0, 1, 1, 2) 384\n",
      "(0, 0, 1, 2, 0) 164\n",
      "(0, 0, 1, 2, 1) 812\n",
      "(0, 0, 1, 2, 2) 880\n",
      "(0, 0, 2, 0, 0) 998\n",
      "(0, 0, 2, 0, 1) 52\n",
      "(0, 0, 2, 0, 2) 788\n",
      "(0, 0, 2, 1, 0) 724\n",
      "(0, 0, 2, 1, 1) 992\n",
      "(0, 0, 2, 1, 2) 512\n",
      "(0, 0, 2, 2, 0) 702\n",
      "(0, 0, 2, 2, 1) 216\n",
      "(0, 0, 2, 2, 2) 478\n",
      "(0, 1, 0, 0, 0) 496\n",
      "(0, 1, 0, 0, 1) 437\n",
      "(0, 1, 0, 0, 2) 653\n",
      "(0, 1, 0, 1, 0) 12\n",
      "(0, 1, 0, 1, 1) 748\n",
      "(0, 1, 0, 1, 2) 21\n",
      "(0, 1, 0, 2, 0) 104\n",
      "(0, 1, 0, 2, 1) 398\n",
      "(0, 1, 0, 2, 2) 513\n",
      "(0, 1, 1, 0, 0) 235\n",
      "(0, 1, 1, 0, 1) 200\n",
      "(0, 1, 1, 0, 2) 364\n",
      "(0, 1, 1, 1, 0) 27\n",
      "(0, 1, 1, 1, 1) 611\n",
      "(0, 1, 1, 1, 2) 803\n",
      "(0, 1, 1, 2, 0) 459\n",
      "(0, 1, 1, 2, 1) 4\n",
      "(0, 1, 1, 2, 2) 225\n",
      "(0, 1, 2, 0, 0) 314\n",
      "(0, 1, 2, 0, 1) 61\n",
      "(0, 1, 2, 0, 2) 605\n",
      "(0, 1, 2, 1, 0) 507\n",
      "(0, 1, 2, 1, 1) 374\n",
      "(0, 1, 2, 1, 2) 737\n",
      "(0, 1, 2, 2, 0) 541\n",
      "(0, 1, 2, 2, 1) 718\n",
      "(0, 1, 2, 2, 2) 178\n",
      "(0, 2, 0, 0, 0) 330\n",
      "(0, 2, 0, 0, 1) 116\n",
      "(0, 2, 0, 0, 2) 36\n",
      "(0, 2, 0, 1, 0) 999\n",
      "(0, 2, 0, 1, 1) 665\n",
      "(0, 2, 0, 1, 2) 992\n",
      "(0, 2, 0, 2, 0) 840\n",
      "(0, 2, 0, 2, 1) 940\n",
      "(0, 2, 0, 2, 2) 528\n",
      "(0, 2, 1, 0, 0) 945\n",
      "(0, 2, 1, 0, 1) 273\n",
      "(0, 2, 1, 0, 2) 150\n",
      "(0, 2, 1, 1, 0) 402\n",
      "(0, 2, 1, 1, 1) 517\n",
      "(0, 2, 1, 1, 2) 865\n",
      "(0, 2, 1, 2, 0) 645\n",
      "(0, 2, 1, 2, 1) 539\n",
      "(0, 2, 1, 2, 2) 177\n",
      "(0, 2, 2, 0, 0) 993\n",
      "(0, 2, 2, 0, 1) 25\n",
      "(0, 2, 2, 0, 2) 568\n",
      "(0, 2, 2, 1, 0) 390\n",
      "(0, 2, 2, 1, 1) 819\n",
      "(0, 2, 2, 1, 2) 149\n",
      "(0, 2, 2, 2, 0) 58\n",
      "(0, 2, 2, 2, 1) 508\n",
      "(0, 2, 2, 2, 2) 169\n",
      "(1, 0, 0, 0, 0) 268\n",
      "(1, 0, 0, 0, 1) 867\n",
      "(1, 0, 0, 0, 2) 272\n",
      "(1, 0, 0, 1, 0) 569\n",
      "(1, 0, 0, 1, 1) 150\n",
      "(1, 0, 0, 1, 2) 626\n",
      "(1, 0, 0, 2, 0) 389\n",
      "(1, 0, 0, 2, 1) 837\n",
      "(1, 0, 0, 2, 2) 406\n",
      "(1, 0, 1, 0, 0) 530\n",
      "(1, 0, 1, 0, 1) 64\n",
      "(1, 0, 1, 0, 2) 608\n",
      "(1, 0, 1, 1, 0) 609\n",
      "(1, 0, 1, 1, 1) 649\n",
      "(1, 0, 1, 1, 2) 743\n",
      "(1, 0, 1, 2, 0) 263\n",
      "(1, 0, 1, 2, 1) 155\n",
      "(1, 0, 1, 2, 2) 751\n",
      "(1, 0, 2, 0, 0) 23\n",
      "(1, 0, 2, 0, 1) 670\n",
      "(1, 0, 2, 0, 2) 79\n",
      "(1, 0, 2, 1, 0) 761\n",
      "(1, 0, 2, 1, 1) 503\n",
      "(1, 0, 2, 1, 2) 259\n",
      "(1, 0, 2, 2, 0) 992\n",
      "(1, 0, 2, 2, 1) 845\n",
      "(1, 0, 2, 2, 2) 207\n",
      "(1, 1, 0, 0, 0) 451\n",
      "(1, 1, 0, 0, 1) 514\n",
      "(1, 1, 0, 0, 2) 411\n",
      "(1, 1, 0, 1, 0) 509\n",
      "(1, 1, 0, 1, 1) 768\n",
      "(1, 1, 0, 1, 2) 794\n",
      "(1, 1, 0, 2, 0) 719\n",
      "(1, 1, 0, 2, 1) 712\n",
      "(1, 1, 0, 2, 2) 142\n",
      "(1, 1, 1, 0, 0) 870\n",
      "(1, 1, 1, 0, 1) 436\n",
      "(1, 1, 1, 0, 2) 497\n",
      "(1, 1, 1, 1, 0) 173\n",
      "(1, 1, 1, 1, 1) 984\n",
      "(1, 1, 1, 1, 2) 169\n",
      "(1, 1, 1, 2, 0) 106\n",
      "(1, 1, 1, 2, 1) 482\n",
      "(1, 1, 1, 2, 2) 225\n",
      "(1, 1, 2, 0, 0) 390\n",
      "(1, 1, 2, 0, 1) 477\n",
      "(1, 1, 2, 0, 2) 86\n",
      "(1, 1, 2, 1, 0) 922\n",
      "(1, 1, 2, 1, 1) 279\n",
      "(1, 1, 2, 1, 2) 347\n",
      "(1, 1, 2, 2, 0) 463\n",
      "(1, 1, 2, 2, 1) 715\n",
      "(1, 1, 2, 2, 2) 269\n",
      "(1, 2, 0, 0, 0) 784\n",
      "(1, 2, 0, 0, 1) 213\n",
      "(1, 2, 0, 0, 2) 913\n",
      "(1, 2, 0, 1, 0) 304\n",
      "(1, 2, 0, 1, 1) 241\n",
      "(1, 2, 0, 1, 2) 925\n",
      "(1, 2, 0, 2, 0) 751\n",
      "(1, 2, 0, 2, 1) 241\n",
      "(1, 2, 0, 2, 2) 510\n",
      "(1, 2, 1, 0, 0) 27\n",
      "(1, 2, 1, 0, 1) 360\n",
      "(1, 2, 1, 0, 2) 470\n",
      "(1, 2, 1, 1, 0) 30\n",
      "(1, 2, 1, 1, 1) 251\n",
      "(1, 2, 1, 1, 2) 405\n",
      "(1, 2, 1, 2, 0) 443\n",
      "(1, 2, 1, 2, 1) 919\n",
      "(1, 2, 1, 2, 2) 356\n",
      "(1, 2, 2, 0, 0) 827\n",
      "(1, 2, 2, 0, 1) 325\n",
      "(1, 2, 2, 0, 2) 369\n",
      "(1, 2, 2, 1, 0) 834\n",
      "(1, 2, 2, 1, 1) 729\n",
      "(1, 2, 2, 1, 2) 454\n",
      "(1, 2, 2, 2, 0) 560\n",
      "(1, 2, 2, 2, 1) 239\n",
      "(1, 2, 2, 2, 2) 7\n",
      "(2, 0, 0, 0, 0) 111\n",
      "(2, 0, 0, 0, 1) 747\n",
      "(2, 0, 0, 0, 2) 79\n",
      "(2, 0, 0, 1, 0) 40\n",
      "(2, 0, 0, 1, 1) 468\n",
      "(2, 0, 0, 1, 2) 50\n",
      "(2, 0, 0, 2, 0) 138\n",
      "(2, 0, 0, 2, 1) 368\n",
      "(2, 0, 0, 2, 2) 366\n",
      "(2, 0, 1, 0, 0) 84\n",
      "(2, 0, 1, 0, 1) 377\n",
      "(2, 0, 1, 0, 2) 592\n",
      "(2, 0, 1, 1, 0) 92\n",
      "(2, 0, 1, 1, 1) 863\n",
      "(2, 0, 1, 1, 2) 658\n",
      "(2, 0, 1, 2, 0) 997\n",
      "(2, 0, 1, 2, 1) 852\n",
      "(2, 0, 1, 2, 2) 407\n",
      "(2, 0, 2, 0, 0) 340\n",
      "(2, 0, 2, 0, 1) 922\n",
      "(2, 0, 2, 0, 2) 125\n",
      "(2, 0, 2, 1, 0) 344\n",
      "(2, 0, 2, 1, 1) 455\n",
      "(2, 0, 2, 1, 2) 952\n",
      "(2, 0, 2, 2, 0) 319\n",
      "(2, 0, 2, 2, 1) 243\n",
      "(2, 0, 2, 2, 2) 393\n",
      "(2, 1, 0, 0, 0) 92\n",
      "(2, 1, 0, 0, 1) 238\n",
      "(2, 1, 0, 0, 2) 595\n",
      "(2, 1, 0, 1, 0) 481\n",
      "(2, 1, 0, 1, 1) 413\n",
      "(2, 1, 0, 1, 2) 36\n",
      "(2, 1, 0, 2, 0) 757\n",
      "(2, 1, 0, 2, 1) 859\n",
      "(2, 1, 0, 2, 2) 774\n",
      "(2, 1, 1, 0, 0) 745\n",
      "(2, 1, 1, 0, 1) 349\n",
      "(2, 1, 1, 0, 2) 124\n",
      "(2, 1, 1, 1, 0) 361\n",
      "(2, 1, 1, 1, 1) 86\n",
      "(2, 1, 1, 1, 2) 491\n",
      "(2, 1, 1, 2, 0) 181\n",
      "(2, 1, 1, 2, 1) 207\n",
      "(2, 1, 1, 2, 2) 761\n",
      "(2, 1, 2, 0, 0) 166\n",
      "(2, 1, 2, 0, 1) 513\n",
      "(2, 1, 2, 0, 2) 186\n",
      "(2, 1, 2, 1, 0) 935\n",
      "(2, 1, 2, 1, 1) 538\n",
      "(2, 1, 2, 1, 2) 405\n",
      "(2, 1, 2, 2, 0) 974\n",
      "(2, 1, 2, 2, 1) 258\n",
      "(2, 1, 2, 2, 2) 382\n",
      "(2, 2, 0, 0, 0) 349\n",
      "(2, 2, 0, 0, 1) 969\n",
      "(2, 2, 0, 0, 2) 291\n",
      "(2, 2, 0, 1, 0) 750\n",
      "(2, 2, 0, 1, 1) 819\n",
      "(2, 2, 0, 1, 2) 691\n",
      "(2, 2, 0, 2, 0) 589\n",
      "(2, 2, 0, 2, 1) 795\n",
      "(2, 2, 0, 2, 2) 453\n",
      "(2, 2, 1, 0, 0) 147\n",
      "(2, 2, 1, 0, 1) 365\n",
      "(2, 2, 1, 0, 2) 746\n",
      "(2, 2, 1, 1, 0) 519\n",
      "(2, 2, 1, 1, 1) 346\n",
      "(2, 2, 1, 1, 2) 305\n",
      "(2, 2, 1, 2, 0) 809\n",
      "(2, 2, 1, 2, 1) 591\n",
      "(2, 2, 1, 2, 2) 650\n",
      "(2, 2, 2, 0, 0) 483\n",
      "(2, 2, 2, 0, 1) 947\n",
      "(2, 2, 2, 0, 2) 942\n",
      "(2, 2, 2, 1, 0) 660\n",
      "(2, 2, 2, 1, 1) 173\n",
      "(2, 2, 2, 1, 2) 807\n",
      "(2, 2, 2, 2, 0) 798\n",
      "(2, 2, 2, 2, 1) 144\n",
      "(2, 2, 2, 2, 2) 811\n"
     ]
    }
   ],
   "source": [
    "for index,value in np.ndenumerate(a):\n",
    "    print(index,value)"
   ]
  },
  {
   "cell_type": "code",
   "execution_count": 84,
   "id": "1c4cfa07",
   "metadata": {},
   "outputs": [
    {
     "data": {
      "text/plain": [
       "array([[[[[970,  32,   4],\n",
       "          [108, 779, 386],\n",
       "          [978, 134, 143]],\n",
       "\n",
       "         [[913, 575, 358],\n",
       "          [939, 152, 384],\n",
       "          [164, 812, 880]],\n",
       "\n",
       "         [[998,  52, 788],\n",
       "          [724, 992, 512],\n",
       "          [702, 216, 478]]],\n",
       "\n",
       "\n",
       "        [[[496, 437, 653],\n",
       "          [ 12, 748,  21],\n",
       "          [104, 398, 513]],\n",
       "\n",
       "         [[235, 200, 364],\n",
       "          [ 27, 611, 803],\n",
       "          [459,   4, 225]],\n",
       "\n",
       "         [[314,  61, 605],\n",
       "          [507, 374, 737],\n",
       "          [541, 718, 178]]],\n",
       "\n",
       "\n",
       "        [[[330, 116,  36],\n",
       "          [999, 665, 992],\n",
       "          [840, 940, 528]],\n",
       "\n",
       "         [[945, 273, 150],\n",
       "          [402, 517, 865],\n",
       "          [645, 539, 177]],\n",
       "\n",
       "         [[993,  25, 568],\n",
       "          [390, 819, 149],\n",
       "          [ 58, 508, 169]]]],\n",
       "\n",
       "\n",
       "\n",
       "       [[[[268, 867, 272],\n",
       "          [569, 150, 626],\n",
       "          [389, 837, 406]],\n",
       "\n",
       "         [[530,  64, 608],\n",
       "          [609, 649, 743],\n",
       "          [263, 155, 751]],\n",
       "\n",
       "         [[ 23, 670,  79],\n",
       "          [761, 503, 259],\n",
       "          [992, 845, 207]]],\n",
       "\n",
       "\n",
       "        [[[451, 514, 411],\n",
       "          [509, 768, 794],\n",
       "          [719, 712, 142]],\n",
       "\n",
       "         [[870, 436, 497],\n",
       "          [173, 984, 169],\n",
       "          [106, 482, 225]],\n",
       "\n",
       "         [[390, 477,  86],\n",
       "          [922, 279, 347],\n",
       "          [463, 715, 269]]],\n",
       "\n",
       "\n",
       "        [[[784, 213, 913],\n",
       "          [304, 241, 925],\n",
       "          [751, 241, 510]],\n",
       "\n",
       "         [[ 27, 360, 470],\n",
       "          [ 30, 251, 405],\n",
       "          [443, 919, 356]],\n",
       "\n",
       "         [[827, 325, 369],\n",
       "          [834, 729, 454],\n",
       "          [560, 239,   7]]]],\n",
       "\n",
       "\n",
       "\n",
       "       [[[[111, 747,  79],\n",
       "          [ 40, 468,  50],\n",
       "          [138, 368, 366]],\n",
       "\n",
       "         [[ 84, 377, 592],\n",
       "          [ 92, 863, 658],\n",
       "          [997, 852, 407]],\n",
       "\n",
       "         [[340, 922, 125],\n",
       "          [344, 455, 952],\n",
       "          [319, 243, 393]]],\n",
       "\n",
       "\n",
       "        [[[ 92, 238, 595],\n",
       "          [481, 413,  36],\n",
       "          [757, 859, 774]],\n",
       "\n",
       "         [[745, 349, 124],\n",
       "          [361,  86, 491],\n",
       "          [181, 207, 761]],\n",
       "\n",
       "         [[166, 513, 186],\n",
       "          [935, 538, 405],\n",
       "          [974, 258, 382]]],\n",
       "\n",
       "\n",
       "        [[[349, 969, 291],\n",
       "          [750, 819, 691],\n",
       "          [589, 795, 453]],\n",
       "\n",
       "         [[147, 365, 746],\n",
       "          [519, 346, 305],\n",
       "          [809, 591, 650]],\n",
       "\n",
       "         [[483, 947, 942],\n",
       "          [660, 173, 807],\n",
       "          [798, 144, 811]]]]])"
      ]
     },
     "execution_count": 84,
     "metadata": {},
     "output_type": "execute_result"
    }
   ],
   "source": [
    "a"
   ]
  },
  {
   "cell_type": "code",
   "execution_count": 86,
   "id": "3c4aae11",
   "metadata": {},
   "outputs": [],
   "source": [
    "a[0][0][1][0][0] = 9000"
   ]
  },
  {
   "cell_type": "code",
   "execution_count": 87,
   "id": "50957dd8",
   "metadata": {},
   "outputs": [
    {
     "data": {
      "text/plain": [
       "array([[[[[ 970,   32,    4],\n",
       "          [ 108,  779,  386],\n",
       "          [ 978,  134,  143]],\n",
       "\n",
       "         [[9000,  575,  358],\n",
       "          [ 939,  152,  384],\n",
       "          [ 164,  812,  880]],\n",
       "\n",
       "         [[ 998,   52,  788],\n",
       "          [ 724,  992,  512],\n",
       "          [ 702,  216,  478]]],\n",
       "\n",
       "\n",
       "        [[[ 496,  437,  653],\n",
       "          [  12,  748,   21],\n",
       "          [ 104,  398,  513]],\n",
       "\n",
       "         [[ 235,  200,  364],\n",
       "          [  27,  611,  803],\n",
       "          [ 459,    4,  225]],\n",
       "\n",
       "         [[ 314,   61,  605],\n",
       "          [ 507,  374,  737],\n",
       "          [ 541,  718,  178]]],\n",
       "\n",
       "\n",
       "        [[[ 330,  116,   36],\n",
       "          [ 999,  665,  992],\n",
       "          [ 840,  940,  528]],\n",
       "\n",
       "         [[ 945,  273,  150],\n",
       "          [ 402,  517,  865],\n",
       "          [ 645,  539,  177]],\n",
       "\n",
       "         [[ 993,   25,  568],\n",
       "          [ 390,  819,  149],\n",
       "          [  58,  508,  169]]]],\n",
       "\n",
       "\n",
       "\n",
       "       [[[[ 268,  867,  272],\n",
       "          [ 569,  150,  626],\n",
       "          [ 389,  837,  406]],\n",
       "\n",
       "         [[ 530,   64,  608],\n",
       "          [ 609,  649,  743],\n",
       "          [ 263,  155,  751]],\n",
       "\n",
       "         [[  23,  670,   79],\n",
       "          [ 761,  503,  259],\n",
       "          [ 992,  845,  207]]],\n",
       "\n",
       "\n",
       "        [[[ 451,  514,  411],\n",
       "          [ 509,  768,  794],\n",
       "          [ 719,  712,  142]],\n",
       "\n",
       "         [[ 870,  436,  497],\n",
       "          [ 173,  984,  169],\n",
       "          [ 106,  482,  225]],\n",
       "\n",
       "         [[ 390,  477,   86],\n",
       "          [ 922,  279,  347],\n",
       "          [ 463,  715,  269]]],\n",
       "\n",
       "\n",
       "        [[[ 784,  213,  913],\n",
       "          [ 304,  241,  925],\n",
       "          [ 751,  241,  510]],\n",
       "\n",
       "         [[  27,  360,  470],\n",
       "          [  30,  251,  405],\n",
       "          [ 443,  919,  356]],\n",
       "\n",
       "         [[ 827,  325,  369],\n",
       "          [ 834,  729,  454],\n",
       "          [ 560,  239,    7]]]],\n",
       "\n",
       "\n",
       "\n",
       "       [[[[ 111,  747,   79],\n",
       "          [  40,  468,   50],\n",
       "          [ 138,  368,  366]],\n",
       "\n",
       "         [[  84,  377,  592],\n",
       "          [  92,  863,  658],\n",
       "          [ 997,  852,  407]],\n",
       "\n",
       "         [[ 340,  922,  125],\n",
       "          [ 344,  455,  952],\n",
       "          [ 319,  243,  393]]],\n",
       "\n",
       "\n",
       "        [[[  92,  238,  595],\n",
       "          [ 481,  413,   36],\n",
       "          [ 757,  859,  774]],\n",
       "\n",
       "         [[ 745,  349,  124],\n",
       "          [ 361,   86,  491],\n",
       "          [ 181,  207,  761]],\n",
       "\n",
       "         [[ 166,  513,  186],\n",
       "          [ 935,  538,  405],\n",
       "          [ 974,  258,  382]]],\n",
       "\n",
       "\n",
       "        [[[ 349,  969,  291],\n",
       "          [ 750,  819,  691],\n",
       "          [ 589,  795,  453]],\n",
       "\n",
       "         [[ 147,  365,  746],\n",
       "          [ 519,  346,  305],\n",
       "          [ 809,  591,  650]],\n",
       "\n",
       "         [[ 483,  947,  942],\n",
       "          [ 660,  173,  807],\n",
       "          [ 798,  144,  811]]]]])"
      ]
     },
     "execution_count": 87,
     "metadata": {},
     "output_type": "execute_result"
    }
   ],
   "source": [
    "a"
   ]
  },
  {
   "cell_type": "code",
   "execution_count": 88,
   "id": "932fadd7",
   "metadata": {},
   "outputs": [
    {
     "data": {
      "text/plain": [
       "array([[95, 18, 46],\n",
       "       [57, 43, 57],\n",
       "       [ 2, 70, 22]])"
      ]
     },
     "execution_count": 88,
     "metadata": {},
     "output_type": "execute_result"
    }
   ],
   "source": [
    "a = np.random.randint(1,100,(3,3))\n",
    "a"
   ]
  },
  {
   "cell_type": "code",
   "execution_count": 90,
   "id": "1528f0a7",
   "metadata": {},
   "outputs": [],
   "source": [
    "a[1][2] = 600"
   ]
  },
  {
   "cell_type": "code",
   "execution_count": 91,
   "id": "cf8b6445",
   "metadata": {},
   "outputs": [
    {
     "name": "stdout",
     "output_type": "stream",
     "text": [
      "[[ 95  18  46]\n",
      " [ 57  43 600]\n",
      " [  2  70  22]]\n"
     ]
    }
   ],
   "source": [
    "print(a)"
   ]
  },
  {
   "cell_type": "code",
   "execution_count": 94,
   "id": "a6d7d19f",
   "metadata": {},
   "outputs": [],
   "source": [
    "a[-1][1] = 900"
   ]
  },
  {
   "cell_type": "code",
   "execution_count": 95,
   "id": "72845fc7",
   "metadata": {},
   "outputs": [
    {
     "data": {
      "text/plain": [
       "array([[ 95,  18,  46],\n",
       "       [ 57,  43, 600],\n",
       "       [  2, 900,  22]])"
      ]
     },
     "execution_count": 95,
     "metadata": {},
     "output_type": "execute_result"
    }
   ],
   "source": [
    "a"
   ]
  },
  {
   "cell_type": "code",
   "execution_count": 98,
   "id": "1e4450b2",
   "metadata": {},
   "outputs": [
    {
     "data": {
      "text/plain": [
       "900"
      ]
     },
     "execution_count": 98,
     "metadata": {},
     "output_type": "execute_result"
    }
   ],
   "source": [
    "a[2][1]"
   ]
  },
  {
   "cell_type": "code",
   "execution_count": 99,
   "id": "c2193cda",
   "metadata": {},
   "outputs": [
    {
     "data": {
      "text/plain": [
       "array([[[76, 32, 57],\n",
       "        [77, 83, 36],\n",
       "        [ 5, 98, 72]],\n",
       "\n",
       "       [[47, 85, 15],\n",
       "        [44, 91, 39],\n",
       "        [16, 25, 57]],\n",
       "\n",
       "       [[54, 97, 82],\n",
       "        [65, 13, 66],\n",
       "        [23, 51, 17]]])"
      ]
     },
     "execution_count": 99,
     "metadata": {},
     "output_type": "execute_result"
    }
   ],
   "source": [
    "a = np.random.randint(1,100,(3,3,3))\n",
    "a"
   ]
  },
  {
   "cell_type": "code",
   "execution_count": 101,
   "id": "1799fdd0",
   "metadata": {},
   "outputs": [],
   "source": [
    "a[1][1][1] = 9000"
   ]
  },
  {
   "cell_type": "code",
   "execution_count": 102,
   "id": "d83d43c7",
   "metadata": {},
   "outputs": [
    {
     "data": {
      "text/plain": [
       "array([[[  76,   32,   57],\n",
       "        [  77,   83,   36],\n",
       "        [   5,   98,   72]],\n",
       "\n",
       "       [[  47,   85,   15],\n",
       "        [  44, 9000,   39],\n",
       "        [  16,   25,   57]],\n",
       "\n",
       "       [[  54,   97,   82],\n",
       "        [  65,   13,   66],\n",
       "        [  23,   51,   17]]])"
      ]
     },
     "execution_count": 102,
     "metadata": {},
     "output_type": "execute_result"
    }
   ],
   "source": [
    "a"
   ]
  },
  {
   "cell_type": "code",
   "execution_count": 104,
   "id": "a5e01dca",
   "metadata": {},
   "outputs": [],
   "source": [
    "a[2][2][2]+= 10"
   ]
  },
  {
   "cell_type": "code",
   "execution_count": 105,
   "id": "dece4dd3",
   "metadata": {},
   "outputs": [
    {
     "data": {
      "text/plain": [
       "array([[[  76,   32,   57],\n",
       "        [  77,   83,   36],\n",
       "        [   5,   98,   72]],\n",
       "\n",
       "       [[  47,   85,   15],\n",
       "        [  44, 9000,   39],\n",
       "        [  16,   25,   57]],\n",
       "\n",
       "       [[  54,   97,   82],\n",
       "        [  65,   13,   66],\n",
       "        [  23,   51,   27]]])"
      ]
     },
     "execution_count": 105,
     "metadata": {},
     "output_type": "execute_result"
    }
   ],
   "source": [
    "a"
   ]
  },
  {
   "cell_type": "code",
   "execution_count": 107,
   "id": "b6223c1a",
   "metadata": {},
   "outputs": [],
   "source": [
    "a[0][1][0] = 700"
   ]
  },
  {
   "cell_type": "code",
   "execution_count": 108,
   "id": "00a6b4a2",
   "metadata": {},
   "outputs": [
    {
     "data": {
      "text/plain": [
       "array([[[  76,   32,   57],\n",
       "        [ 700,   83,   36],\n",
       "        [   5,   98,   72]],\n",
       "\n",
       "       [[  47,   85,   15],\n",
       "        [  44, 9000,   39],\n",
       "        [  16,   25,   57]],\n",
       "\n",
       "       [[  54,   97,   82],\n",
       "        [  65,   13,   66],\n",
       "        [  23,   51,   27]]])"
      ]
     },
     "execution_count": 108,
     "metadata": {},
     "output_type": "execute_result"
    }
   ],
   "source": [
    "a"
   ]
  },
  {
   "cell_type": "code",
   "execution_count": 109,
   "id": "63e8adca",
   "metadata": {},
   "outputs": [],
   "source": [
    "# a[0][1][0]\n",
    "\n",
    "# a[arr,row,col]"
   ]
  },
  {
   "cell_type": "code",
   "execution_count": 111,
   "id": "c392d9ee",
   "metadata": {},
   "outputs": [],
   "source": [
    "a[0,1,0] = 800"
   ]
  },
  {
   "cell_type": "code",
   "execution_count": 112,
   "id": "aad49223",
   "metadata": {},
   "outputs": [
    {
     "data": {
      "text/plain": [
       "array([[[  76,   32,   57],\n",
       "        [ 800,   83,   36],\n",
       "        [   5,   98,   72]],\n",
       "\n",
       "       [[  47,   85,   15],\n",
       "        [  44, 9000,   39],\n",
       "        [  16,   25,   57]],\n",
       "\n",
       "       [[  54,   97,   82],\n",
       "        [  65,   13,   66],\n",
       "        [  23,   51,   27]]])"
      ]
     },
     "execution_count": 112,
     "metadata": {},
     "output_type": "execute_result"
    }
   ],
   "source": [
    "a"
   ]
  },
  {
   "cell_type": "code",
   "execution_count": 114,
   "id": "54e99542",
   "metadata": {},
   "outputs": [],
   "source": [
    "a[1,1,2] = 200"
   ]
  },
  {
   "cell_type": "code",
   "execution_count": 115,
   "id": "3ebd5dde",
   "metadata": {},
   "outputs": [
    {
     "data": {
      "text/plain": [
       "array([[[  76,   32,   57],\n",
       "        [ 800,   83,   36],\n",
       "        [   5,   98,   72]],\n",
       "\n",
       "       [[  47,   85,   15],\n",
       "        [  44, 9000,  200],\n",
       "        [  16,   25,   57]],\n",
       "\n",
       "       [[  54,   97,   82],\n",
       "        [  65,   13,   66],\n",
       "        [  23,   51,   27]]])"
      ]
     },
     "execution_count": 115,
     "metadata": {},
     "output_type": "execute_result"
    }
   ],
   "source": [
    "a"
   ]
  },
  {
   "cell_type": "code",
   "execution_count": 116,
   "id": "7755c914",
   "metadata": {},
   "outputs": [
    {
     "data": {
      "text/plain": [
       "array([[[[89,  3, 58],\n",
       "         [ 8, 82, 95],\n",
       "         [89, 24, 13]],\n",
       "\n",
       "        [[29,  2, 91],\n",
       "         [83, 62, 19],\n",
       "         [93,  4, 48]]],\n",
       "\n",
       "\n",
       "       [[[27, 29, 82],\n",
       "         [32, 84, 97],\n",
       "         [39, 29, 86]],\n",
       "\n",
       "        [[58,  4,  9],\n",
       "         [18, 61, 52],\n",
       "         [59, 75, 68]]]])"
      ]
     },
     "execution_count": 116,
     "metadata": {},
     "output_type": "execute_result"
    }
   ],
   "source": [
    "a = np.random.randint(1,100,(2,2,3,3))\n",
    "a"
   ]
  },
  {
   "cell_type": "code",
   "execution_count": 118,
   "id": "cf649ab8",
   "metadata": {},
   "outputs": [],
   "source": [
    "# a[arr2,arr1,row,col]\n",
    "\n",
    "a[0][1][1][2] = 100"
   ]
  },
  {
   "cell_type": "code",
   "execution_count": 119,
   "id": "b31574e6",
   "metadata": {},
   "outputs": [
    {
     "data": {
      "text/plain": [
       "array([[[[ 89,   3,  58],\n",
       "         [  8,  82,  95],\n",
       "         [ 89,  24,  13]],\n",
       "\n",
       "        [[ 29,   2,  91],\n",
       "         [ 83,  62, 100],\n",
       "         [ 93,   4,  48]]],\n",
       "\n",
       "\n",
       "       [[[ 27,  29,  82],\n",
       "         [ 32,  84,  97],\n",
       "         [ 39,  29,  86]],\n",
       "\n",
       "        [[ 58,   4,   9],\n",
       "         [ 18,  61,  52],\n",
       "         [ 59,  75,  68]]]])"
      ]
     },
     "execution_count": 119,
     "metadata": {},
     "output_type": "execute_result"
    }
   ],
   "source": [
    "a"
   ]
  },
  {
   "cell_type": "code",
   "execution_count": 121,
   "id": "be7aeedf",
   "metadata": {},
   "outputs": [],
   "source": [
    "a[1,1,1,0] = 100"
   ]
  },
  {
   "cell_type": "code",
   "execution_count": 122,
   "id": "dfd22bc2",
   "metadata": {},
   "outputs": [
    {
     "data": {
      "text/plain": [
       "array([[[[ 89,   3,  58],\n",
       "         [  8,  82,  95],\n",
       "         [ 89,  24,  13]],\n",
       "\n",
       "        [[ 29,   2,  91],\n",
       "         [ 83,  62, 100],\n",
       "         [ 93,   4,  48]]],\n",
       "\n",
       "\n",
       "       [[[ 27,  29,  82],\n",
       "         [ 32,  84,  97],\n",
       "         [ 39,  29,  86]],\n",
       "\n",
       "        [[ 58,   4,   9],\n",
       "         [100,  61,  52],\n",
       "         [ 59,  75,  68]]]])"
      ]
     },
     "execution_count": 122,
     "metadata": {},
     "output_type": "execute_result"
    }
   ],
   "source": [
    "a"
   ]
  },
  {
   "cell_type": "code",
   "execution_count": 124,
   "id": "5e67af7c",
   "metadata": {},
   "outputs": [
    {
     "data": {
      "text/plain": [
       "array([[83, 26,  1, 31, 38],\n",
       "       [99, 68,  7, 97, 24],\n",
       "       [73, 74, 47, 81, 47],\n",
       "       [29, 98,  9,  2, 48],\n",
       "       [29, 16,  6, 79, 89]])"
      ]
     },
     "execution_count": 124,
     "metadata": {},
     "output_type": "execute_result"
    }
   ],
   "source": [
    "a = np.random.randint(1,100,(5,5))\n",
    "a"
   ]
  },
  {
   "cell_type": "code",
   "execution_count": 125,
   "id": "108c5e3c",
   "metadata": {},
   "outputs": [],
   "source": [
    "# slicing\n",
    "\n",
    "# a[r,c]\n",
    "\n",
    "# a[s:s:s,s:s:s]\n",
    "\n",
    "# a[arr,r,c]\n",
    "\n",
    "# a[s:s:s,s:s:s,s:s:s]"
   ]
  },
  {
   "cell_type": "code",
   "execution_count": 129,
   "id": "38c3af36",
   "metadata": {},
   "outputs": [
    {
     "data": {
      "text/plain": [
       "array([68,  7, 97])"
      ]
     },
     "execution_count": 129,
     "metadata": {},
     "output_type": "execute_result"
    }
   ],
   "source": [
    "a[1,1:4]"
   ]
  },
  {
   "cell_type": "code",
   "execution_count": 130,
   "id": "1241064c",
   "metadata": {},
   "outputs": [],
   "source": [
    "a[1,1:4] = [1,1,1]"
   ]
  },
  {
   "cell_type": "code",
   "execution_count": 131,
   "id": "75a3df25",
   "metadata": {},
   "outputs": [
    {
     "data": {
      "text/plain": [
       "array([[83, 26,  1, 31, 38],\n",
       "       [99,  1,  1,  1, 24],\n",
       "       [73, 74, 47, 81, 47],\n",
       "       [29, 98,  9,  2, 48],\n",
       "       [29, 16,  6, 79, 89]])"
      ]
     },
     "execution_count": 131,
     "metadata": {},
     "output_type": "execute_result"
    }
   ],
   "source": [
    "a"
   ]
  },
  {
   "cell_type": "code",
   "execution_count": 132,
   "id": "9881fbdc",
   "metadata": {},
   "outputs": [
    {
     "data": {
      "text/plain": [
       "array([ 1, 47,  9])"
      ]
     },
     "execution_count": 132,
     "metadata": {},
     "output_type": "execute_result"
    }
   ],
   "source": [
    "a[1:4,2]"
   ]
  },
  {
   "cell_type": "code",
   "execution_count": 133,
   "id": "cf80b4a8",
   "metadata": {},
   "outputs": [],
   "source": [
    "a[1:4,2] = [0]*3"
   ]
  },
  {
   "cell_type": "code",
   "execution_count": 134,
   "id": "4e4b9f01",
   "metadata": {},
   "outputs": [
    {
     "data": {
      "text/plain": [
       "array([[83, 26,  1, 31, 38],\n",
       "       [99,  1,  0,  1, 24],\n",
       "       [73, 74,  0, 81, 47],\n",
       "       [29, 98,  0,  2, 48],\n",
       "       [29, 16,  6, 79, 89]])"
      ]
     },
     "execution_count": 134,
     "metadata": {},
     "output_type": "execute_result"
    }
   ],
   "source": [
    "a"
   ]
  },
  {
   "cell_type": "code",
   "execution_count": 137,
   "id": "3cd2a8bd",
   "metadata": {},
   "outputs": [],
   "source": [
    "a[1:4,1:4] = 0"
   ]
  },
  {
   "cell_type": "code",
   "execution_count": 138,
   "id": "3eb1f606",
   "metadata": {},
   "outputs": [
    {
     "data": {
      "text/plain": [
       "array([[0, 0, 0],\n",
       "       [0, 0, 0],\n",
       "       [0, 0, 0]])"
      ]
     },
     "execution_count": 138,
     "metadata": {},
     "output_type": "execute_result"
    }
   ],
   "source": [
    "a[1:4,1:4] "
   ]
  },
  {
   "cell_type": "code",
   "execution_count": 139,
   "id": "5faca9a5",
   "metadata": {},
   "outputs": [
    {
     "data": {
      "text/plain": [
       "array([[83, 26,  1, 31, 38],\n",
       "       [99,  0,  0,  0, 24],\n",
       "       [73,  0,  0,  0, 47],\n",
       "       [29,  0,  0,  0, 48],\n",
       "       [29, 16,  6, 79, 89]])"
      ]
     },
     "execution_count": 139,
     "metadata": {},
     "output_type": "execute_result"
    }
   ],
   "source": [
    "a"
   ]
  },
  {
   "cell_type": "code",
   "execution_count": 141,
   "id": "a69e55d6",
   "metadata": {},
   "outputs": [
    {
     "data": {
      "text/plain": [
       "array([[83, 38],\n",
       "       [29, 89]])"
      ]
     },
     "execution_count": 141,
     "metadata": {},
     "output_type": "execute_result"
    }
   ],
   "source": [
    "a[::4,::4]"
   ]
  },
  {
   "cell_type": "code",
   "execution_count": 144,
   "id": "88c3c6cd",
   "metadata": {},
   "outputs": [],
   "source": [
    "a = a.astype(str)"
   ]
  },
  {
   "cell_type": "code",
   "execution_count": 145,
   "id": "629931b3",
   "metadata": {},
   "outputs": [],
   "source": [
    "a[::4,::4] = 'Majid'"
   ]
  },
  {
   "cell_type": "code",
   "execution_count": 147,
   "id": "484e710d",
   "metadata": {},
   "outputs": [
    {
     "name": "stdout",
     "output_type": "stream",
     "text": [
      "[['Majid' '26' '1' '31' 'Majid']\n",
      " ['99' '0' '0' '0' '24']\n",
      " ['73' '0' '0' '0' '47']\n",
      " ['29' '0' '0' '0' '48']\n",
      " ['Majid' '16' '6' '79' 'Majid']]\n"
     ]
    }
   ],
   "source": [
    "print(a)"
   ]
  },
  {
   "cell_type": "code",
   "execution_count": null,
   "id": "4d9007e0",
   "metadata": {},
   "outputs": [],
   "source": []
  },
  {
   "cell_type": "code",
   "execution_count": null,
   "id": "ac3e44d6",
   "metadata": {},
   "outputs": [],
   "source": []
  },
  {
   "cell_type": "code",
   "execution_count": 148,
   "id": "e53b782e",
   "metadata": {},
   "outputs": [
    {
     "data": {
      "text/plain": [
       "array([[[69, 62, 16],\n",
       "        [11, 90, 40],\n",
       "        [38, 86, 74]],\n",
       "\n",
       "       [[82, 11, 96],\n",
       "        [93, 38, 45],\n",
       "        [73, 54, 92]],\n",
       "\n",
       "       [[76, 12, 69],\n",
       "        [35, 28, 76],\n",
       "        [25, 47, 34]]])"
      ]
     },
     "execution_count": 148,
     "metadata": {},
     "output_type": "execute_result"
    }
   ],
   "source": [
    "a = np.random.randint(1,100,(3,3,3))\n",
    "a"
   ]
  },
  {
   "cell_type": "code",
   "execution_count": 151,
   "id": "ff047231",
   "metadata": {},
   "outputs": [
    {
     "data": {
      "text/plain": [
       "array([[82, 11, 96],\n",
       "       [93, 38, 45],\n",
       "       [73, 54, 92]])"
      ]
     },
     "execution_count": 151,
     "metadata": {},
     "output_type": "execute_result"
    }
   ],
   "source": [
    "a[1,:,:]"
   ]
  },
  {
   "cell_type": "code",
   "execution_count": 153,
   "id": "baf6e8a4",
   "metadata": {},
   "outputs": [],
   "source": [
    "a[1] = 0"
   ]
  },
  {
   "cell_type": "code",
   "execution_count": 154,
   "id": "d0c02812",
   "metadata": {},
   "outputs": [
    {
     "data": {
      "text/plain": [
       "array([[[69, 62, 16],\n",
       "        [11, 90, 40],\n",
       "        [38, 86, 74]],\n",
       "\n",
       "       [[ 0,  0,  0],\n",
       "        [ 0,  0,  0],\n",
       "        [ 0,  0,  0]],\n",
       "\n",
       "       [[76, 12, 69],\n",
       "        [35, 28, 76],\n",
       "        [25, 47, 34]]])"
      ]
     },
     "execution_count": 154,
     "metadata": {},
     "output_type": "execute_result"
    }
   ],
   "source": [
    "a"
   ]
  },
  {
   "cell_type": "code",
   "execution_count": 156,
   "id": "2dcd609c",
   "metadata": {},
   "outputs": [],
   "source": [
    "a[2,1:,1:] = 0"
   ]
  },
  {
   "cell_type": "code",
   "execution_count": 157,
   "id": "3771acd5",
   "metadata": {},
   "outputs": [
    {
     "data": {
      "text/plain": [
       "array([[[69, 62, 16],\n",
       "        [11, 90, 40],\n",
       "        [38, 86, 74]],\n",
       "\n",
       "       [[ 0,  0,  0],\n",
       "        [ 0,  0,  0],\n",
       "        [ 0,  0,  0]],\n",
       "\n",
       "       [[76, 12, 69],\n",
       "        [35,  0,  0],\n",
       "        [25,  0,  0]]])"
      ]
     },
     "execution_count": 157,
     "metadata": {},
     "output_type": "execute_result"
    }
   ],
   "source": [
    "a"
   ]
  },
  {
   "cell_type": "code",
   "execution_count": 161,
   "id": "f59139bd",
   "metadata": {},
   "outputs": [],
   "source": [
    "a[0,0,0:2] = 0"
   ]
  },
  {
   "cell_type": "code",
   "execution_count": 163,
   "id": "cea6a6a0",
   "metadata": {},
   "outputs": [],
   "source": [
    "a[0,2,1:] = 0"
   ]
  },
  {
   "cell_type": "code",
   "execution_count": 164,
   "id": "ebf13b76",
   "metadata": {},
   "outputs": [
    {
     "data": {
      "text/plain": [
       "array([[[ 0,  0, 16],\n",
       "        [11, 90, 40],\n",
       "        [38,  0,  0]],\n",
       "\n",
       "       [[ 0,  0,  0],\n",
       "        [ 0,  0,  0],\n",
       "        [ 0,  0,  0]],\n",
       "\n",
       "       [[76, 12, 69],\n",
       "        [35,  0,  0],\n",
       "        [25,  0,  0]]])"
      ]
     },
     "execution_count": 164,
     "metadata": {},
     "output_type": "execute_result"
    }
   ],
   "source": [
    "a"
   ]
  },
  {
   "cell_type": "code",
   "execution_count": 170,
   "id": "8749b3d7",
   "metadata": {},
   "outputs": [
    {
     "data": {
      "text/plain": [
       "array([0, 0])"
      ]
     },
     "execution_count": 170,
     "metadata": {},
     "output_type": "execute_result"
    }
   ],
   "source": [
    "a[0,[0,2],[1,2]]"
   ]
  },
  {
   "cell_type": "code",
   "execution_count": 171,
   "id": "0b367457",
   "metadata": {},
   "outputs": [
    {
     "data": {
      "text/plain": [
       "array([[[47, 44, 51],\n",
       "        [62, 43, 41],\n",
       "        [61,  5, 31]],\n",
       "\n",
       "       [[51, 52, 80],\n",
       "        [40, 75,  4],\n",
       "        [ 3, 88, 48]],\n",
       "\n",
       "       [[26, 19, 37],\n",
       "        [63, 19, 99],\n",
       "        [90, 88, 59]]])"
      ]
     },
     "execution_count": 171,
     "metadata": {},
     "output_type": "execute_result"
    }
   ],
   "source": [
    "a = np.random.randint(1,100,(3,3,3))\n",
    "a"
   ]
  },
  {
   "cell_type": "code",
   "execution_count": 172,
   "id": "8370fff6",
   "metadata": {},
   "outputs": [
    {
     "data": {
      "text/plain": [
       "array([[47, 51],\n",
       "       [51, 80],\n",
       "       [26, 37]])"
      ]
     },
     "execution_count": 172,
     "metadata": {},
     "output_type": "execute_result"
    }
   ],
   "source": [
    "a[:,0,0::2]"
   ]
  },
  {
   "cell_type": "code",
   "execution_count": 174,
   "id": "4ba5e7b2",
   "metadata": {},
   "outputs": [],
   "source": [
    "a[:,0,[0,2]] = 100"
   ]
  },
  {
   "cell_type": "code",
   "execution_count": 175,
   "id": "97c1fb9c",
   "metadata": {},
   "outputs": [
    {
     "data": {
      "text/plain": [
       "array([[[100,  44, 100],\n",
       "        [ 62,  43,  41],\n",
       "        [ 61,   5,  31]],\n",
       "\n",
       "       [[100,  52, 100],\n",
       "        [ 40,  75,   4],\n",
       "        [  3,  88,  48]],\n",
       "\n",
       "       [[100,  19, 100],\n",
       "        [ 63,  19,  99],\n",
       "        [ 90,  88,  59]]])"
      ]
     },
     "execution_count": 175,
     "metadata": {},
     "output_type": "execute_result"
    }
   ],
   "source": [
    "a"
   ]
  },
  {
   "cell_type": "code",
   "execution_count": null,
   "id": "cf5c420b",
   "metadata": {},
   "outputs": [],
   "source": []
  }
 ],
 "metadata": {
  "kernelspec": {
   "display_name": "Python 3 (ipykernel)",
   "language": "python",
   "name": "python3"
  },
  "language_info": {
   "codemirror_mode": {
    "name": "ipython",
    "version": 3
   },
   "file_extension": ".py",
   "mimetype": "text/x-python",
   "name": "python",
   "nbconvert_exporter": "python",
   "pygments_lexer": "ipython3",
   "version": "3.11.3"
  }
 },
 "nbformat": 4,
 "nbformat_minor": 5
}
